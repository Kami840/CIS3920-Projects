{
 "cells": [
  {
   "cell_type": "code",
   "execution_count": 1,
   "id": "d50efb74",
   "metadata": {},
   "outputs": [
    {
     "name": "stderr",
     "output_type": "stream",
     "text": [
      "\n",
      "Attaching package: 'lubridate'\n",
      "\n",
      "The following object is masked from 'package:base':\n",
      "\n",
      "    date\n",
      "\n"
     ]
    }
   ],
   "source": [
    "library(lubridate)"
   ]
  },
  {
   "cell_type": "code",
   "execution_count": 2,
   "id": "abd3ace2",
   "metadata": {},
   "outputs": [],
   "source": [
    "Sneaker = read.csv(\"StockX-Data-Contest\")"
   ]
  },
  {
   "cell_type": "code",
   "execution_count": 3,
   "id": "c3c0fc12",
   "metadata": {},
   "outputs": [
    {
     "data": {
      "text/html": [
       "<table>\n",
       "<thead><tr><th scope=col>ï..Order.Date</th><th scope=col>Brand</th><th scope=col>Sneaker.Name</th><th scope=col>Sale.Price</th><th scope=col>Retail.Price</th><th scope=col>Release.Date</th><th scope=col>Shoe.Size</th><th scope=col>Buyer.Region</th></tr></thead>\n",
       "<tbody>\n",
       "\t<tr><td>9/1/17                                       </td><td> Yeezy                                       </td><td>Adidas-Yeezy-Boost-350-Low-V2-Beluga         </td><td>$1,097                                       </td><td>$220                                         </td><td>9/24/16                                      </td><td>11.0                                         </td><td>California                                   </td></tr>\n",
       "\t<tr><td>9/1/17                                       </td><td> Yeezy                                       </td><td>Adidas-Yeezy-Boost-350-V2-Core-Black-Copper  </td><td>$685                                         </td><td>$220                                         </td><td>11/23/16                                     </td><td>11.0                                         </td><td>California                                   </td></tr>\n",
       "\t<tr><td>9/1/17                                       </td><td> Yeezy                                       </td><td>Adidas-Yeezy-Boost-350-V2-Core-Black-Green   </td><td>$690                                         </td><td>$220                                         </td><td>11/23/16                                     </td><td>11.0                                         </td><td>California                                   </td></tr>\n",
       "\t<tr><td>9/1/17                                       </td><td> Yeezy                                       </td><td>Adidas-Yeezy-Boost-350-V2-Core-Black-Red     </td><td>$1,075                                       </td><td>$220                                         </td><td>11/23/16                                     </td><td>11.5                                         </td><td>Kentucky                                     </td></tr>\n",
       "\t<tr><td>9/1/17                                       </td><td> Yeezy                                       </td><td>Adidas-Yeezy-Boost-350-V2-Core-Black-Red-2017</td><td>$828                                         </td><td>$220                                         </td><td>2/11/17                                      </td><td>11.0                                         </td><td>Rhode Island                                 </td></tr>\n",
       "\t<tr><td>9/1/17                                       </td><td> Yeezy                                       </td><td>Adidas-Yeezy-Boost-350-V2-Core-Black-Red-2017</td><td>$798                                         </td><td>$220                                         </td><td>2/11/17                                      </td><td> 8.5                                         </td><td>Michigan                                     </td></tr>\n",
       "</tbody>\n",
       "</table>\n"
      ],
      "text/latex": [
       "\\begin{tabular}{r|llllllll}\n",
       " ï..Order.Date & Brand & Sneaker.Name & Sale.Price & Retail.Price & Release.Date & Shoe.Size & Buyer.Region\\\\\n",
       "\\hline\n",
       "\t 9/1/17                                        &  Yeezy                                        & Adidas-Yeezy-Boost-350-Low-V2-Beluga          & \\$1,097                                      & \\$220                                        & 9/24/16                                       & 11.0                                          & California                                   \\\\\n",
       "\t 9/1/17                                        &  Yeezy                                        & Adidas-Yeezy-Boost-350-V2-Core-Black-Copper   & \\$685                                        & \\$220                                        & 11/23/16                                      & 11.0                                          & California                                   \\\\\n",
       "\t 9/1/17                                        &  Yeezy                                        & Adidas-Yeezy-Boost-350-V2-Core-Black-Green    & \\$690                                        & \\$220                                        & 11/23/16                                      & 11.0                                          & California                                   \\\\\n",
       "\t 9/1/17                                        &  Yeezy                                        & Adidas-Yeezy-Boost-350-V2-Core-Black-Red      & \\$1,075                                      & \\$220                                        & 11/23/16                                      & 11.5                                          & Kentucky                                     \\\\\n",
       "\t 9/1/17                                        &  Yeezy                                        & Adidas-Yeezy-Boost-350-V2-Core-Black-Red-2017 & \\$828                                        & \\$220                                        & 2/11/17                                       & 11.0                                          & Rhode Island                                 \\\\\n",
       "\t 9/1/17                                        &  Yeezy                                        & Adidas-Yeezy-Boost-350-V2-Core-Black-Red-2017 & \\$798                                        & \\$220                                        & 2/11/17                                       &  8.5                                          & Michigan                                     \\\\\n",
       "\\end{tabular}\n"
      ],
      "text/markdown": [
       "\n",
       "| ï..Order.Date | Brand | Sneaker.Name | Sale.Price | Retail.Price | Release.Date | Shoe.Size | Buyer.Region |\n",
       "|---|---|---|---|---|---|---|---|\n",
       "| 9/1/17                                        |  Yeezy                                        | Adidas-Yeezy-Boost-350-Low-V2-Beluga          | $1,097                                        | $220                                          | 9/24/16                                       | 11.0                                          | California                                    |\n",
       "| 9/1/17                                        |  Yeezy                                        | Adidas-Yeezy-Boost-350-V2-Core-Black-Copper   | $685                                          | $220                                          | 11/23/16                                      | 11.0                                          | California                                    |\n",
       "| 9/1/17                                        |  Yeezy                                        | Adidas-Yeezy-Boost-350-V2-Core-Black-Green    | $690                                          | $220                                          | 11/23/16                                      | 11.0                                          | California                                    |\n",
       "| 9/1/17                                        |  Yeezy                                        | Adidas-Yeezy-Boost-350-V2-Core-Black-Red      | $1,075                                        | $220                                          | 11/23/16                                      | 11.5                                          | Kentucky                                      |\n",
       "| 9/1/17                                        |  Yeezy                                        | Adidas-Yeezy-Boost-350-V2-Core-Black-Red-2017 | $828                                          | $220                                          | 2/11/17                                       | 11.0                                          | Rhode Island                                  |\n",
       "| 9/1/17                                        |  Yeezy                                        | Adidas-Yeezy-Boost-350-V2-Core-Black-Red-2017 | $798                                          | $220                                          | 2/11/17                                       |  8.5                                          | Michigan                                      |\n",
       "\n"
      ],
      "text/plain": [
       "  ï..Order.Date Brand  Sneaker.Name                                  Sale.Price\n",
       "1 9/1/17         Yeezy Adidas-Yeezy-Boost-350-Low-V2-Beluga          $1,097    \n",
       "2 9/1/17         Yeezy Adidas-Yeezy-Boost-350-V2-Core-Black-Copper   $685      \n",
       "3 9/1/17         Yeezy Adidas-Yeezy-Boost-350-V2-Core-Black-Green    $690      \n",
       "4 9/1/17         Yeezy Adidas-Yeezy-Boost-350-V2-Core-Black-Red      $1,075    \n",
       "5 9/1/17         Yeezy Adidas-Yeezy-Boost-350-V2-Core-Black-Red-2017 $828      \n",
       "6 9/1/17         Yeezy Adidas-Yeezy-Boost-350-V2-Core-Black-Red-2017 $798      \n",
       "  Retail.Price Release.Date Shoe.Size Buyer.Region\n",
       "1 $220         9/24/16      11.0      California  \n",
       "2 $220         11/23/16     11.0      California  \n",
       "3 $220         11/23/16     11.0      California  \n",
       "4 $220         11/23/16     11.5      Kentucky    \n",
       "5 $220         2/11/17      11.0      Rhode Island\n",
       "6 $220         2/11/17       8.5      Michigan    "
      ]
     },
     "metadata": {},
     "output_type": "display_data"
    }
   ],
   "source": [
    "head(Sneaker)"
   ]
  },
  {
   "cell_type": "code",
   "execution_count": 4,
   "id": "6d4359e3",
   "metadata": {},
   "outputs": [],
   "source": [
    "attach(Sneaker)"
   ]
  },
  {
   "cell_type": "code",
   "execution_count": 5,
   "id": "b5d4252b",
   "metadata": {},
   "outputs": [],
   "source": [
    "#clean the data set\n",
    "Sale_Price <- as.numeric(gsub('[$,]', '', Sale.Price))\n",
    "Retail_Price <- as.numeric(gsub('[$,]', '', Retail.Price))\n",
    "Release_Date = mdy(Release.Date)\n",
    "Order_Date= mdy(ï..Order.Date)\n",
    "Shoe_Size = Shoe.Size\n",
    "Sneaker_Name = unclass(Sneaker.Name)\n",
    "Buyer_Region = unclass(Buyer.Region)\n",
    "Bought_for_Less_Than_Retail = ifelse(Sale_Price < Retail_Price, 1, 0)\n",
    "Bought_more_Than_Retail = ifelse(Sale_Price > Retail_Price, 1, 0)\n",
    "Bought_at_Retail = ifelse(Sale_Price == Retail_Price, 1, 0)\n"
   ]
  },
  {
   "cell_type": "code",
   "execution_count": 6,
   "id": "bed70488",
   "metadata": {},
   "outputs": [],
   "source": [
    "#ref_date <- '2015-06-27'\n",
    "#new_date <- Release_Date\n",
    "#total_days_of_Release <- as.numeric(difftime(new_date, ref_date))\n",
    "\n",
    "#ref_date1 <- '2017-09-01'\n",
    "#new_date1 <- Order_Date\n",
    "#total_days_of_order <- as.numeric(difftime(new_date1, ref_date1))"
   ]
  },
  {
   "cell_type": "code",
   "execution_count": 7,
   "id": "705055f1",
   "metadata": {},
   "outputs": [],
   "source": [
    "#total_days_of_Release"
   ]
  },
  {
   "cell_type": "code",
   "execution_count": 8,
   "id": "d492a6ca",
   "metadata": {},
   "outputs": [
    {
     "data": {
      "text/html": [
       "<table>\n",
       "<thead><tr><th scope=col>Brand</th><th scope=col>Sneaker_Name</th><th scope=col>Shoe_Size</th><th scope=col>Release_Date</th><th scope=col>Retail_Price</th><th scope=col>Order_Date</th><th scope=col>Sale_Price</th><th scope=col>Buyer_Region</th><th scope=col>Bought_for_Less_Than_Retail</th><th scope=col>Bought_more_Than_Retail</th><th scope=col>Bought_at_Retail</th></tr></thead>\n",
       "<tbody>\n",
       "\t<tr><td> Yeezy    </td><td> 6        </td><td>11.0      </td><td>2016-09-24</td><td>220       </td><td>2017-09-01</td><td>1097      </td><td> 5        </td><td>0         </td><td>1         </td><td>0         </td></tr>\n",
       "\t<tr><td> Yeezy    </td><td>10        </td><td>11.0      </td><td>2016-11-23</td><td>220       </td><td>2017-09-01</td><td> 685      </td><td> 5        </td><td>0         </td><td>1         </td><td>0         </td></tr>\n",
       "\t<tr><td> Yeezy    </td><td>11        </td><td>11.0      </td><td>2016-11-23</td><td>220       </td><td>2017-09-01</td><td> 690      </td><td> 5        </td><td>0         </td><td>1         </td><td>0         </td></tr>\n",
       "\t<tr><td> Yeezy    </td><td>12        </td><td>11.5      </td><td>2016-11-23</td><td>220       </td><td>2017-09-01</td><td>1075      </td><td>18        </td><td>0         </td><td>1         </td><td>0         </td></tr>\n",
       "\t<tr><td> Yeezy    </td><td>13        </td><td>11.0      </td><td>2017-02-11</td><td>220       </td><td>2017-09-01</td><td> 828      </td><td>40        </td><td>0         </td><td>1         </td><td>0         </td></tr>\n",
       "\t<tr><td> Yeezy    </td><td>13        </td><td> 8.5      </td><td>2017-02-11</td><td>220       </td><td>2017-09-01</td><td> 798      </td><td>23        </td><td>0         </td><td>1         </td><td>0         </td></tr>\n",
       "\t<tr><td> Yeezy    </td><td>14        </td><td>11.0      </td><td>2016-12-17</td><td>220       </td><td>2017-09-01</td><td> 784      </td><td> 5        </td><td>0         </td><td>1         </td><td>0         </td></tr>\n",
       "\t<tr><td> Yeezy    </td><td>15        </td><td>10.0      </td><td>2017-04-29</td><td>220       </td><td>2017-09-01</td><td> 460      </td><td>33        </td><td>0         </td><td>1         </td><td>0         </td></tr>\n",
       "\t<tr><td> Yeezy    </td><td>15        </td><td>11.0      </td><td>2017-04-29</td><td>220       </td><td>2017-09-01</td><td> 465      </td><td>17        </td><td>0         </td><td>1         </td><td>0         </td></tr>\n",
       "\t<tr><td> Yeezy    </td><td>15        </td><td>11.0      </td><td>2017-04-29</td><td>220       </td><td>2017-09-01</td><td> 465      </td><td>10        </td><td>0         </td><td>1         </td><td>0         </td></tr>\n",
       "\t<tr><td> Yeezy    </td><td>15        </td><td>11.5      </td><td>2017-04-29</td><td>220       </td><td>2017-09-01</td><td> 515      </td><td>31        </td><td>0         </td><td>1         </td><td>0         </td></tr>\n",
       "\t<tr><td> Yeezy    </td><td>15        </td><td>10.0      </td><td>2017-04-29</td><td>220       </td><td>2017-09-01</td><td> 473      </td><td>44        </td><td>0         </td><td>1         </td><td>0         </td></tr>\n",
       "\t<tr><td> Yeezy    </td><td>15        </td><td> 9.0      </td><td>2017-04-29</td><td>220       </td><td>2017-09-01</td><td> 460      </td><td>10        </td><td>0         </td><td>1         </td><td>0         </td></tr>\n",
       "\t<tr><td> Yeezy    </td><td>20        </td><td>14.0      </td><td>2017-02-25</td><td>220       </td><td>2017-09-01</td><td> 570      </td><td>23        </td><td>0         </td><td>1         </td><td>0         </td></tr>\n",
       "\t<tr><td> Yeezy    </td><td>20        </td><td> 8.0      </td><td>2017-02-25</td><td>220       </td><td>2017-09-01</td><td> 525      </td><td>33        </td><td>0         </td><td>1         </td><td>0         </td></tr>\n",
       "\t<tr><td> Yeezy    </td><td>20        </td><td>11.0      </td><td>2017-02-25</td><td>220       </td><td>2017-09-01</td><td> 658      </td><td> 5        </td><td>0         </td><td>1         </td><td>0         </td></tr>\n",
       "\t<tr><td> Yeezy    </td><td>20        </td><td>11.0      </td><td>2017-02-25</td><td>220       </td><td>2017-09-01</td><td> 650      </td><td>34        </td><td>0         </td><td>1         </td><td>0         </td></tr>\n",
       "\t<tr><td> Yeezy    </td><td>20        </td><td>10.0      </td><td>2017-02-25</td><td>220       </td><td>2017-09-01</td><td> 610      </td><td>31        </td><td>0         </td><td>1         </td><td>0         </td></tr>\n",
       "\t<tr><td> Yeezy    </td><td>20        </td><td> 9.0      </td><td>2017-02-25</td><td>220       </td><td>2017-09-01</td><td> 589      </td><td>33        </td><td>0         </td><td>1         </td><td>0         </td></tr>\n",
       "\t<tr><td> Yeezy    </td><td>20        </td><td> 5.5      </td><td>2017-02-25</td><td>220       </td><td>2017-09-01</td><td> 850      </td><td>23        </td><td>0         </td><td>1         </td><td>0         </td></tr>\n",
       "\t<tr><td> Yeezy    </td><td>20        </td><td> 9.0      </td><td>2017-02-25</td><td>220       </td><td>2017-09-01</td><td> 546      </td><td>10        </td><td>0         </td><td>1         </td><td>0         </td></tr>\n",
       "\t<tr><td> Yeezy    </td><td>20        </td><td> 9.5      </td><td>2017-02-25</td><td>220       </td><td>2017-09-01</td><td> 586      </td><td>38        </td><td>0         </td><td>1         </td><td>0         </td></tr>\n",
       "\t<tr><td> Yeezy    </td><td>20        </td><td>14.0      </td><td>2017-02-25</td><td>220       </td><td>2017-09-01</td><td> 640      </td><td> 5        </td><td>0         </td><td>1         </td><td>0         </td></tr>\n",
       "\t<tr><td> Yeezy    </td><td> 6        </td><td> 8.0      </td><td>2016-09-24</td><td>220       </td><td>2017-09-02</td><td> 850      </td><td> 1        </td><td>0         </td><td>1         </td><td>0         </td></tr>\n",
       "\t<tr><td> Yeezy    </td><td>12        </td><td>11.0      </td><td>2016-11-23</td><td>220       </td><td>2017-09-02</td><td> 999      </td><td>18        </td><td>0         </td><td>1         </td><td>0         </td></tr>\n",
       "\t<tr><td> Yeezy    </td><td>13        </td><td> 9.0      </td><td>2017-02-11</td><td>220       </td><td>2017-09-02</td><td> 740      </td><td>33        </td><td>0         </td><td>1         </td><td>0         </td></tr>\n",
       "\t<tr><td> Yeezy    </td><td>13        </td><td> 8.0      </td><td>2017-02-11</td><td>220       </td><td>2017-09-02</td><td> 765      </td><td>33        </td><td>0         </td><td>1         </td><td>0         </td></tr>\n",
       "\t<tr><td> Yeezy    </td><td>14        </td><td>11.5      </td><td>2016-12-17</td><td>220       </td><td>2017-09-02</td><td> 800      </td><td>18        </td><td>0         </td><td>1         </td><td>0         </td></tr>\n",
       "\t<tr><td> Yeezy    </td><td>15        </td><td>10.5      </td><td>2017-04-29</td><td>220       </td><td>2017-09-02</td><td> 470      </td><td> 5        </td><td>0         </td><td>1         </td><td>0         </td></tr>\n",
       "\t<tr><td> Yeezy    </td><td>15        </td><td> 8.5      </td><td>2017-04-29</td><td>220       </td><td>2017-09-02</td><td> 455      </td><td>38        </td><td>0         </td><td>1         </td><td>0         </td></tr>\n",
       "\t<tr><td>...</td><td>...</td><td>...</td><td>...</td><td>...</td><td>...</td><td>...</td><td>...</td><td>...</td><td>...</td><td>...</td></tr>\n",
       "\t<tr><td> Yeezy    </td><td>18        </td><td>10.0      </td><td>2018-12-27</td><td>220       </td><td>2019-02-13</td><td>330       </td><td>38        </td><td>0         </td><td>1         </td><td>0         </td></tr>\n",
       "\t<tr><td> Yeezy    </td><td>18        </td><td> 5.0      </td><td>2018-12-27</td><td>220       </td><td>2019-02-13</td><td>354       </td><td>39        </td><td>0         </td><td>1         </td><td>0         </td></tr>\n",
       "\t<tr><td> Yeezy    </td><td>18        </td><td>11.5      </td><td>2018-12-27</td><td>220       </td><td>2019-02-13</td><td>300       </td><td>33        </td><td>0         </td><td>1         </td><td>0         </td></tr>\n",
       "\t<tr><td> Yeezy    </td><td>18        </td><td> 6.0      </td><td>2018-12-27</td><td>220       </td><td>2019-02-13</td><td>360       </td><td> 5        </td><td>0         </td><td>1         </td><td>0         </td></tr>\n",
       "\t<tr><td> Yeezy    </td><td>18        </td><td> 4.0      </td><td>2018-12-27</td><td>220       </td><td>2019-02-13</td><td>339       </td><td>38        </td><td>0         </td><td>1         </td><td>0         </td></tr>\n",
       "\t<tr><td> Yeezy    </td><td>18        </td><td> 8.5      </td><td>2018-12-27</td><td>220       </td><td>2019-02-13</td><td>344       </td><td>38        </td><td>0         </td><td>1         </td><td>0         </td></tr>\n",
       "\t<tr><td> Yeezy    </td><td>18        </td><td> 7.5      </td><td>2018-12-27</td><td>220       </td><td>2019-02-13</td><td>340       </td><td>38        </td><td>0         </td><td>1         </td><td>0         </td></tr>\n",
       "\t<tr><td> Yeezy    </td><td>18        </td><td>10.0      </td><td>2018-12-27</td><td>220       </td><td>2019-02-13</td><td>325       </td><td>38        </td><td>0         </td><td>1         </td><td>0         </td></tr>\n",
       "\t<tr><td> Yeezy    </td><td>18        </td><td> 9.5      </td><td>2018-12-27</td><td>220       </td><td>2019-02-13</td><td>350       </td><td> 5        </td><td>0         </td><td>1         </td><td>0         </td></tr>\n",
       "\t<tr><td> Yeezy    </td><td>18        </td><td>13.0      </td><td>2018-12-27</td><td>220       </td><td>2019-02-13</td><td>259       </td><td>14        </td><td>0         </td><td>1         </td><td>0         </td></tr>\n",
       "\t<tr><td> Yeezy    </td><td>18        </td><td>12.0      </td><td>2018-12-27</td><td>220       </td><td>2019-02-13</td><td>284       </td><td>33        </td><td>0         </td><td>1         </td><td>0         </td></tr>\n",
       "\t<tr><td> Yeezy    </td><td>18        </td><td> 9.0      </td><td>2018-12-27</td><td>220       </td><td>2019-02-13</td><td>345       </td><td>38        </td><td>0         </td><td>1         </td><td>0         </td></tr>\n",
       "\t<tr><td> Yeezy    </td><td>18        </td><td> 5.0      </td><td>2018-12-27</td><td>220       </td><td>2019-02-13</td><td>350       </td><td> 5        </td><td>0         </td><td>1         </td><td>0         </td></tr>\n",
       "\t<tr><td> Yeezy    </td><td>19        </td><td>11.0      </td><td>2018-12-26</td><td>220       </td><td>2019-02-13</td><td>700       </td><td> 5        </td><td>0         </td><td>1         </td><td>0         </td></tr>\n",
       "\t<tr><td> Yeezy    </td><td>19        </td><td> 6.5      </td><td>2018-12-26</td><td>220       </td><td>2019-02-13</td><td>676       </td><td> 5        </td><td>0         </td><td>1         </td><td>0         </td></tr>\n",
       "\t<tr><td> Yeezy    </td><td>19        </td><td> 8.5      </td><td>2018-12-26</td><td>220       </td><td>2019-02-13</td><td>573       </td><td>38        </td><td>0         </td><td>1         </td><td>0         </td></tr>\n",
       "\t<tr><td> Yeezy    </td><td>19        </td><td>12.0      </td><td>2018-12-26</td><td>220       </td><td>2019-02-13</td><td>480       </td><td> 1        </td><td>0         </td><td>1         </td><td>0         </td></tr>\n",
       "\t<tr><td> Yeezy    </td><td>19        </td><td> 5.5      </td><td>2018-12-26</td><td>220       </td><td>2019-02-13</td><td>600       </td><td>38        </td><td>0         </td><td>1         </td><td>0         </td></tr>\n",
       "\t<tr><td> Yeezy    </td><td>19        </td><td>14.0      </td><td>2018-12-26</td><td>220       </td><td>2019-02-13</td><td>335       </td><td> 5        </td><td>0         </td><td>1         </td><td>0         </td></tr>\n",
       "\t<tr><td> Yeezy    </td><td>19        </td><td>11.0      </td><td>2018-12-26</td><td>220       </td><td>2019-02-13</td><td>699       </td><td> 5        </td><td>0         </td><td>1         </td><td>0         </td></tr>\n",
       "\t<tr><td> Yeezy    </td><td>19        </td><td>11.0      </td><td>2018-12-26</td><td>220       </td><td>2019-02-13</td><td>699       </td><td>31        </td><td>0         </td><td>1         </td><td>0         </td></tr>\n",
       "\t<tr><td> Yeezy    </td><td>19        </td><td> 9.5      </td><td>2018-12-26</td><td>220       </td><td>2019-02-13</td><td>618       </td><td> 5        </td><td>0         </td><td>1         </td><td>0         </td></tr>\n",
       "\t<tr><td> Yeezy    </td><td>19        </td><td> 9.0      </td><td>2018-12-26</td><td>220       </td><td>2019-02-13</td><td>581       </td><td>38        </td><td>0         </td><td>1         </td><td>0         </td></tr>\n",
       "\t<tr><td> Yeezy    </td><td>19        </td><td> 8.5      </td><td>2018-12-26</td><td>220       </td><td>2019-02-13</td><td>594       </td><td>38        </td><td>0         </td><td>1         </td><td>0         </td></tr>\n",
       "\t<tr><td> Yeezy    </td><td>19        </td><td>10.0      </td><td>2018-12-26</td><td>220       </td><td>2019-02-13</td><td>582       </td><td>31        </td><td>0         </td><td>1         </td><td>0         </td></tr>\n",
       "\t<tr><td> Yeezy    </td><td>19        </td><td> 8.0      </td><td>2018-12-26</td><td>220       </td><td>2019-02-13</td><td>565       </td><td>38        </td><td>0         </td><td>1         </td><td>0         </td></tr>\n",
       "\t<tr><td> Yeezy    </td><td>19        </td><td> 8.5      </td><td>2018-12-26</td><td>220       </td><td>2019-02-13</td><td>598       </td><td> 5        </td><td>0         </td><td>1         </td><td>0         </td></tr>\n",
       "\t<tr><td> Yeezy    </td><td>19        </td><td> 5.5      </td><td>2018-12-26</td><td>220       </td><td>2019-02-13</td><td>605       </td><td>33        </td><td>0         </td><td>1         </td><td>0         </td></tr>\n",
       "\t<tr><td> Yeezy    </td><td>19        </td><td>11.0      </td><td>2018-12-26</td><td>220       </td><td>2019-02-13</td><td>650       </td><td> 5        </td><td>0         </td><td>1         </td><td>0         </td></tr>\n",
       "\t<tr><td> Yeezy    </td><td>19        </td><td>11.5      </td><td>2018-12-26</td><td>220       </td><td>2019-02-13</td><td>640       </td><td>44        </td><td>0         </td><td>1         </td><td>0         </td></tr>\n",
       "</tbody>\n",
       "</table>\n"
      ],
      "text/latex": [
       "\\begin{tabular}{r|lllllllllll}\n",
       " Brand & Sneaker\\_Name & Shoe\\_Size & Release\\_Date & Retail\\_Price & Order\\_Date & Sale\\_Price & Buyer\\_Region & Bought\\_for\\_Less\\_Than\\_Retail & Bought\\_more\\_Than\\_Retail & Bought\\_at\\_Retail\\\\\n",
       "\\hline\n",
       "\t  Yeezy     &  6         & 11.0       & 2016-09-24 & 220        & 2017-09-01 & 1097       &  5         & 0          & 1          & 0         \\\\\n",
       "\t  Yeezy     & 10         & 11.0       & 2016-11-23 & 220        & 2017-09-01 &  685       &  5         & 0          & 1          & 0         \\\\\n",
       "\t  Yeezy     & 11         & 11.0       & 2016-11-23 & 220        & 2017-09-01 &  690       &  5         & 0          & 1          & 0         \\\\\n",
       "\t  Yeezy     & 12         & 11.5       & 2016-11-23 & 220        & 2017-09-01 & 1075       & 18         & 0          & 1          & 0         \\\\\n",
       "\t  Yeezy     & 13         & 11.0       & 2017-02-11 & 220        & 2017-09-01 &  828       & 40         & 0          & 1          & 0         \\\\\n",
       "\t  Yeezy     & 13         &  8.5       & 2017-02-11 & 220        & 2017-09-01 &  798       & 23         & 0          & 1          & 0         \\\\\n",
       "\t  Yeezy     & 14         & 11.0       & 2016-12-17 & 220        & 2017-09-01 &  784       &  5         & 0          & 1          & 0         \\\\\n",
       "\t  Yeezy     & 15         & 10.0       & 2017-04-29 & 220        & 2017-09-01 &  460       & 33         & 0          & 1          & 0         \\\\\n",
       "\t  Yeezy     & 15         & 11.0       & 2017-04-29 & 220        & 2017-09-01 &  465       & 17         & 0          & 1          & 0         \\\\\n",
       "\t  Yeezy     & 15         & 11.0       & 2017-04-29 & 220        & 2017-09-01 &  465       & 10         & 0          & 1          & 0         \\\\\n",
       "\t  Yeezy     & 15         & 11.5       & 2017-04-29 & 220        & 2017-09-01 &  515       & 31         & 0          & 1          & 0         \\\\\n",
       "\t  Yeezy     & 15         & 10.0       & 2017-04-29 & 220        & 2017-09-01 &  473       & 44         & 0          & 1          & 0         \\\\\n",
       "\t  Yeezy     & 15         &  9.0       & 2017-04-29 & 220        & 2017-09-01 &  460       & 10         & 0          & 1          & 0         \\\\\n",
       "\t  Yeezy     & 20         & 14.0       & 2017-02-25 & 220        & 2017-09-01 &  570       & 23         & 0          & 1          & 0         \\\\\n",
       "\t  Yeezy     & 20         &  8.0       & 2017-02-25 & 220        & 2017-09-01 &  525       & 33         & 0          & 1          & 0         \\\\\n",
       "\t  Yeezy     & 20         & 11.0       & 2017-02-25 & 220        & 2017-09-01 &  658       &  5         & 0          & 1          & 0         \\\\\n",
       "\t  Yeezy     & 20         & 11.0       & 2017-02-25 & 220        & 2017-09-01 &  650       & 34         & 0          & 1          & 0         \\\\\n",
       "\t  Yeezy     & 20         & 10.0       & 2017-02-25 & 220        & 2017-09-01 &  610       & 31         & 0          & 1          & 0         \\\\\n",
       "\t  Yeezy     & 20         &  9.0       & 2017-02-25 & 220        & 2017-09-01 &  589       & 33         & 0          & 1          & 0         \\\\\n",
       "\t  Yeezy     & 20         &  5.5       & 2017-02-25 & 220        & 2017-09-01 &  850       & 23         & 0          & 1          & 0         \\\\\n",
       "\t  Yeezy     & 20         &  9.0       & 2017-02-25 & 220        & 2017-09-01 &  546       & 10         & 0          & 1          & 0         \\\\\n",
       "\t  Yeezy     & 20         &  9.5       & 2017-02-25 & 220        & 2017-09-01 &  586       & 38         & 0          & 1          & 0         \\\\\n",
       "\t  Yeezy     & 20         & 14.0       & 2017-02-25 & 220        & 2017-09-01 &  640       &  5         & 0          & 1          & 0         \\\\\n",
       "\t  Yeezy     &  6         &  8.0       & 2016-09-24 & 220        & 2017-09-02 &  850       &  1         & 0          & 1          & 0         \\\\\n",
       "\t  Yeezy     & 12         & 11.0       & 2016-11-23 & 220        & 2017-09-02 &  999       & 18         & 0          & 1          & 0         \\\\\n",
       "\t  Yeezy     & 13         &  9.0       & 2017-02-11 & 220        & 2017-09-02 &  740       & 33         & 0          & 1          & 0         \\\\\n",
       "\t  Yeezy     & 13         &  8.0       & 2017-02-11 & 220        & 2017-09-02 &  765       & 33         & 0          & 1          & 0         \\\\\n",
       "\t  Yeezy     & 14         & 11.5       & 2016-12-17 & 220        & 2017-09-02 &  800       & 18         & 0          & 1          & 0         \\\\\n",
       "\t  Yeezy     & 15         & 10.5       & 2017-04-29 & 220        & 2017-09-02 &  470       &  5         & 0          & 1          & 0         \\\\\n",
       "\t  Yeezy     & 15         &  8.5       & 2017-04-29 & 220        & 2017-09-02 &  455       & 38         & 0          & 1          & 0         \\\\\n",
       "\t ... & ... & ... & ... & ... & ... & ... & ... & ... & ... & ...\\\\\n",
       "\t  Yeezy     & 18         & 10.0       & 2018-12-27 & 220        & 2019-02-13 & 330        & 38         & 0          & 1          & 0         \\\\\n",
       "\t  Yeezy     & 18         &  5.0       & 2018-12-27 & 220        & 2019-02-13 & 354        & 39         & 0          & 1          & 0         \\\\\n",
       "\t  Yeezy     & 18         & 11.5       & 2018-12-27 & 220        & 2019-02-13 & 300        & 33         & 0          & 1          & 0         \\\\\n",
       "\t  Yeezy     & 18         &  6.0       & 2018-12-27 & 220        & 2019-02-13 & 360        &  5         & 0          & 1          & 0         \\\\\n",
       "\t  Yeezy     & 18         &  4.0       & 2018-12-27 & 220        & 2019-02-13 & 339        & 38         & 0          & 1          & 0         \\\\\n",
       "\t  Yeezy     & 18         &  8.5       & 2018-12-27 & 220        & 2019-02-13 & 344        & 38         & 0          & 1          & 0         \\\\\n",
       "\t  Yeezy     & 18         &  7.5       & 2018-12-27 & 220        & 2019-02-13 & 340        & 38         & 0          & 1          & 0         \\\\\n",
       "\t  Yeezy     & 18         & 10.0       & 2018-12-27 & 220        & 2019-02-13 & 325        & 38         & 0          & 1          & 0         \\\\\n",
       "\t  Yeezy     & 18         &  9.5       & 2018-12-27 & 220        & 2019-02-13 & 350        &  5         & 0          & 1          & 0         \\\\\n",
       "\t  Yeezy     & 18         & 13.0       & 2018-12-27 & 220        & 2019-02-13 & 259        & 14         & 0          & 1          & 0         \\\\\n",
       "\t  Yeezy     & 18         & 12.0       & 2018-12-27 & 220        & 2019-02-13 & 284        & 33         & 0          & 1          & 0         \\\\\n",
       "\t  Yeezy     & 18         &  9.0       & 2018-12-27 & 220        & 2019-02-13 & 345        & 38         & 0          & 1          & 0         \\\\\n",
       "\t  Yeezy     & 18         &  5.0       & 2018-12-27 & 220        & 2019-02-13 & 350        &  5         & 0          & 1          & 0         \\\\\n",
       "\t  Yeezy     & 19         & 11.0       & 2018-12-26 & 220        & 2019-02-13 & 700        &  5         & 0          & 1          & 0         \\\\\n",
       "\t  Yeezy     & 19         &  6.5       & 2018-12-26 & 220        & 2019-02-13 & 676        &  5         & 0          & 1          & 0         \\\\\n",
       "\t  Yeezy     & 19         &  8.5       & 2018-12-26 & 220        & 2019-02-13 & 573        & 38         & 0          & 1          & 0         \\\\\n",
       "\t  Yeezy     & 19         & 12.0       & 2018-12-26 & 220        & 2019-02-13 & 480        &  1         & 0          & 1          & 0         \\\\\n",
       "\t  Yeezy     & 19         &  5.5       & 2018-12-26 & 220        & 2019-02-13 & 600        & 38         & 0          & 1          & 0         \\\\\n",
       "\t  Yeezy     & 19         & 14.0       & 2018-12-26 & 220        & 2019-02-13 & 335        &  5         & 0          & 1          & 0         \\\\\n",
       "\t  Yeezy     & 19         & 11.0       & 2018-12-26 & 220        & 2019-02-13 & 699        &  5         & 0          & 1          & 0         \\\\\n",
       "\t  Yeezy     & 19         & 11.0       & 2018-12-26 & 220        & 2019-02-13 & 699        & 31         & 0          & 1          & 0         \\\\\n",
       "\t  Yeezy     & 19         &  9.5       & 2018-12-26 & 220        & 2019-02-13 & 618        &  5         & 0          & 1          & 0         \\\\\n",
       "\t  Yeezy     & 19         &  9.0       & 2018-12-26 & 220        & 2019-02-13 & 581        & 38         & 0          & 1          & 0         \\\\\n",
       "\t  Yeezy     & 19         &  8.5       & 2018-12-26 & 220        & 2019-02-13 & 594        & 38         & 0          & 1          & 0         \\\\\n",
       "\t  Yeezy     & 19         & 10.0       & 2018-12-26 & 220        & 2019-02-13 & 582        & 31         & 0          & 1          & 0         \\\\\n",
       "\t  Yeezy     & 19         &  8.0       & 2018-12-26 & 220        & 2019-02-13 & 565        & 38         & 0          & 1          & 0         \\\\\n",
       "\t  Yeezy     & 19         &  8.5       & 2018-12-26 & 220        & 2019-02-13 & 598        &  5         & 0          & 1          & 0         \\\\\n",
       "\t  Yeezy     & 19         &  5.5       & 2018-12-26 & 220        & 2019-02-13 & 605        & 33         & 0          & 1          & 0         \\\\\n",
       "\t  Yeezy     & 19         & 11.0       & 2018-12-26 & 220        & 2019-02-13 & 650        &  5         & 0          & 1          & 0         \\\\\n",
       "\t  Yeezy     & 19         & 11.5       & 2018-12-26 & 220        & 2019-02-13 & 640        & 44         & 0          & 1          & 0         \\\\\n",
       "\\end{tabular}\n"
      ],
      "text/markdown": [
       "\n",
       "| Brand | Sneaker_Name | Shoe_Size | Release_Date | Retail_Price | Order_Date | Sale_Price | Buyer_Region | Bought_for_Less_Than_Retail | Bought_more_Than_Retail | Bought_at_Retail |\n",
       "|---|---|---|---|---|---|---|---|---|---|---|\n",
       "|  Yeezy     |  6         | 11.0       | 2016-09-24 | 220        | 2017-09-01 | 1097       |  5         | 0          | 1          | 0          |\n",
       "|  Yeezy     | 10         | 11.0       | 2016-11-23 | 220        | 2017-09-01 |  685       |  5         | 0          | 1          | 0          |\n",
       "|  Yeezy     | 11         | 11.0       | 2016-11-23 | 220        | 2017-09-01 |  690       |  5         | 0          | 1          | 0          |\n",
       "|  Yeezy     | 12         | 11.5       | 2016-11-23 | 220        | 2017-09-01 | 1075       | 18         | 0          | 1          | 0          |\n",
       "|  Yeezy     | 13         | 11.0       | 2017-02-11 | 220        | 2017-09-01 |  828       | 40         | 0          | 1          | 0          |\n",
       "|  Yeezy     | 13         |  8.5       | 2017-02-11 | 220        | 2017-09-01 |  798       | 23         | 0          | 1          | 0          |\n",
       "|  Yeezy     | 14         | 11.0       | 2016-12-17 | 220        | 2017-09-01 |  784       |  5         | 0          | 1          | 0          |\n",
       "|  Yeezy     | 15         | 10.0       | 2017-04-29 | 220        | 2017-09-01 |  460       | 33         | 0          | 1          | 0          |\n",
       "|  Yeezy     | 15         | 11.0       | 2017-04-29 | 220        | 2017-09-01 |  465       | 17         | 0          | 1          | 0          |\n",
       "|  Yeezy     | 15         | 11.0       | 2017-04-29 | 220        | 2017-09-01 |  465       | 10         | 0          | 1          | 0          |\n",
       "|  Yeezy     | 15         | 11.5       | 2017-04-29 | 220        | 2017-09-01 |  515       | 31         | 0          | 1          | 0          |\n",
       "|  Yeezy     | 15         | 10.0       | 2017-04-29 | 220        | 2017-09-01 |  473       | 44         | 0          | 1          | 0          |\n",
       "|  Yeezy     | 15         |  9.0       | 2017-04-29 | 220        | 2017-09-01 |  460       | 10         | 0          | 1          | 0          |\n",
       "|  Yeezy     | 20         | 14.0       | 2017-02-25 | 220        | 2017-09-01 |  570       | 23         | 0          | 1          | 0          |\n",
       "|  Yeezy     | 20         |  8.0       | 2017-02-25 | 220        | 2017-09-01 |  525       | 33         | 0          | 1          | 0          |\n",
       "|  Yeezy     | 20         | 11.0       | 2017-02-25 | 220        | 2017-09-01 |  658       |  5         | 0          | 1          | 0          |\n",
       "|  Yeezy     | 20         | 11.0       | 2017-02-25 | 220        | 2017-09-01 |  650       | 34         | 0          | 1          | 0          |\n",
       "|  Yeezy     | 20         | 10.0       | 2017-02-25 | 220        | 2017-09-01 |  610       | 31         | 0          | 1          | 0          |\n",
       "|  Yeezy     | 20         |  9.0       | 2017-02-25 | 220        | 2017-09-01 |  589       | 33         | 0          | 1          | 0          |\n",
       "|  Yeezy     | 20         |  5.5       | 2017-02-25 | 220        | 2017-09-01 |  850       | 23         | 0          | 1          | 0          |\n",
       "|  Yeezy     | 20         |  9.0       | 2017-02-25 | 220        | 2017-09-01 |  546       | 10         | 0          | 1          | 0          |\n",
       "|  Yeezy     | 20         |  9.5       | 2017-02-25 | 220        | 2017-09-01 |  586       | 38         | 0          | 1          | 0          |\n",
       "|  Yeezy     | 20         | 14.0       | 2017-02-25 | 220        | 2017-09-01 |  640       |  5         | 0          | 1          | 0          |\n",
       "|  Yeezy     |  6         |  8.0       | 2016-09-24 | 220        | 2017-09-02 |  850       |  1         | 0          | 1          | 0          |\n",
       "|  Yeezy     | 12         | 11.0       | 2016-11-23 | 220        | 2017-09-02 |  999       | 18         | 0          | 1          | 0          |\n",
       "|  Yeezy     | 13         |  9.0       | 2017-02-11 | 220        | 2017-09-02 |  740       | 33         | 0          | 1          | 0          |\n",
       "|  Yeezy     | 13         |  8.0       | 2017-02-11 | 220        | 2017-09-02 |  765       | 33         | 0          | 1          | 0          |\n",
       "|  Yeezy     | 14         | 11.5       | 2016-12-17 | 220        | 2017-09-02 |  800       | 18         | 0          | 1          | 0          |\n",
       "|  Yeezy     | 15         | 10.5       | 2017-04-29 | 220        | 2017-09-02 |  470       |  5         | 0          | 1          | 0          |\n",
       "|  Yeezy     | 15         |  8.5       | 2017-04-29 | 220        | 2017-09-02 |  455       | 38         | 0          | 1          | 0          |\n",
       "| ... | ... | ... | ... | ... | ... | ... | ... | ... | ... | ... |\n",
       "|  Yeezy     | 18         | 10.0       | 2018-12-27 | 220        | 2019-02-13 | 330        | 38         | 0          | 1          | 0          |\n",
       "|  Yeezy     | 18         |  5.0       | 2018-12-27 | 220        | 2019-02-13 | 354        | 39         | 0          | 1          | 0          |\n",
       "|  Yeezy     | 18         | 11.5       | 2018-12-27 | 220        | 2019-02-13 | 300        | 33         | 0          | 1          | 0          |\n",
       "|  Yeezy     | 18         |  6.0       | 2018-12-27 | 220        | 2019-02-13 | 360        |  5         | 0          | 1          | 0          |\n",
       "|  Yeezy     | 18         |  4.0       | 2018-12-27 | 220        | 2019-02-13 | 339        | 38         | 0          | 1          | 0          |\n",
       "|  Yeezy     | 18         |  8.5       | 2018-12-27 | 220        | 2019-02-13 | 344        | 38         | 0          | 1          | 0          |\n",
       "|  Yeezy     | 18         |  7.5       | 2018-12-27 | 220        | 2019-02-13 | 340        | 38         | 0          | 1          | 0          |\n",
       "|  Yeezy     | 18         | 10.0       | 2018-12-27 | 220        | 2019-02-13 | 325        | 38         | 0          | 1          | 0          |\n",
       "|  Yeezy     | 18         |  9.5       | 2018-12-27 | 220        | 2019-02-13 | 350        |  5         | 0          | 1          | 0          |\n",
       "|  Yeezy     | 18         | 13.0       | 2018-12-27 | 220        | 2019-02-13 | 259        | 14         | 0          | 1          | 0          |\n",
       "|  Yeezy     | 18         | 12.0       | 2018-12-27 | 220        | 2019-02-13 | 284        | 33         | 0          | 1          | 0          |\n",
       "|  Yeezy     | 18         |  9.0       | 2018-12-27 | 220        | 2019-02-13 | 345        | 38         | 0          | 1          | 0          |\n",
       "|  Yeezy     | 18         |  5.0       | 2018-12-27 | 220        | 2019-02-13 | 350        |  5         | 0          | 1          | 0          |\n",
       "|  Yeezy     | 19         | 11.0       | 2018-12-26 | 220        | 2019-02-13 | 700        |  5         | 0          | 1          | 0          |\n",
       "|  Yeezy     | 19         |  6.5       | 2018-12-26 | 220        | 2019-02-13 | 676        |  5         | 0          | 1          | 0          |\n",
       "|  Yeezy     | 19         |  8.5       | 2018-12-26 | 220        | 2019-02-13 | 573        | 38         | 0          | 1          | 0          |\n",
       "|  Yeezy     | 19         | 12.0       | 2018-12-26 | 220        | 2019-02-13 | 480        |  1         | 0          | 1          | 0          |\n",
       "|  Yeezy     | 19         |  5.5       | 2018-12-26 | 220        | 2019-02-13 | 600        | 38         | 0          | 1          | 0          |\n",
       "|  Yeezy     | 19         | 14.0       | 2018-12-26 | 220        | 2019-02-13 | 335        |  5         | 0          | 1          | 0          |\n",
       "|  Yeezy     | 19         | 11.0       | 2018-12-26 | 220        | 2019-02-13 | 699        |  5         | 0          | 1          | 0          |\n",
       "|  Yeezy     | 19         | 11.0       | 2018-12-26 | 220        | 2019-02-13 | 699        | 31         | 0          | 1          | 0          |\n",
       "|  Yeezy     | 19         |  9.5       | 2018-12-26 | 220        | 2019-02-13 | 618        |  5         | 0          | 1          | 0          |\n",
       "|  Yeezy     | 19         |  9.0       | 2018-12-26 | 220        | 2019-02-13 | 581        | 38         | 0          | 1          | 0          |\n",
       "|  Yeezy     | 19         |  8.5       | 2018-12-26 | 220        | 2019-02-13 | 594        | 38         | 0          | 1          | 0          |\n",
       "|  Yeezy     | 19         | 10.0       | 2018-12-26 | 220        | 2019-02-13 | 582        | 31         | 0          | 1          | 0          |\n",
       "|  Yeezy     | 19         |  8.0       | 2018-12-26 | 220        | 2019-02-13 | 565        | 38         | 0          | 1          | 0          |\n",
       "|  Yeezy     | 19         |  8.5       | 2018-12-26 | 220        | 2019-02-13 | 598        |  5         | 0          | 1          | 0          |\n",
       "|  Yeezy     | 19         |  5.5       | 2018-12-26 | 220        | 2019-02-13 | 605        | 33         | 0          | 1          | 0          |\n",
       "|  Yeezy     | 19         | 11.0       | 2018-12-26 | 220        | 2019-02-13 | 650        |  5         | 0          | 1          | 0          |\n",
       "|  Yeezy     | 19         | 11.5       | 2018-12-26 | 220        | 2019-02-13 | 640        | 44         | 0          | 1          | 0          |\n",
       "\n"
      ],
      "text/plain": [
       "      Brand  Sneaker_Name Shoe_Size Release_Date Retail_Price Order_Date\n",
       "1      Yeezy  6           11.0      2016-09-24   220          2017-09-01\n",
       "2      Yeezy 10           11.0      2016-11-23   220          2017-09-01\n",
       "3      Yeezy 11           11.0      2016-11-23   220          2017-09-01\n",
       "4      Yeezy 12           11.5      2016-11-23   220          2017-09-01\n",
       "5      Yeezy 13           11.0      2017-02-11   220          2017-09-01\n",
       "6      Yeezy 13            8.5      2017-02-11   220          2017-09-01\n",
       "7      Yeezy 14           11.0      2016-12-17   220          2017-09-01\n",
       "8      Yeezy 15           10.0      2017-04-29   220          2017-09-01\n",
       "9      Yeezy 15           11.0      2017-04-29   220          2017-09-01\n",
       "10     Yeezy 15           11.0      2017-04-29   220          2017-09-01\n",
       "11     Yeezy 15           11.5      2017-04-29   220          2017-09-01\n",
       "12     Yeezy 15           10.0      2017-04-29   220          2017-09-01\n",
       "13     Yeezy 15            9.0      2017-04-29   220          2017-09-01\n",
       "14     Yeezy 20           14.0      2017-02-25   220          2017-09-01\n",
       "15     Yeezy 20            8.0      2017-02-25   220          2017-09-01\n",
       "16     Yeezy 20           11.0      2017-02-25   220          2017-09-01\n",
       "17     Yeezy 20           11.0      2017-02-25   220          2017-09-01\n",
       "18     Yeezy 20           10.0      2017-02-25   220          2017-09-01\n",
       "19     Yeezy 20            9.0      2017-02-25   220          2017-09-01\n",
       "20     Yeezy 20            5.5      2017-02-25   220          2017-09-01\n",
       "21     Yeezy 20            9.0      2017-02-25   220          2017-09-01\n",
       "22     Yeezy 20            9.5      2017-02-25   220          2017-09-01\n",
       "23     Yeezy 20           14.0      2017-02-25   220          2017-09-01\n",
       "24     Yeezy  6            8.0      2016-09-24   220          2017-09-02\n",
       "25     Yeezy 12           11.0      2016-11-23   220          2017-09-02\n",
       "26     Yeezy 13            9.0      2017-02-11   220          2017-09-02\n",
       "27     Yeezy 13            8.0      2017-02-11   220          2017-09-02\n",
       "28     Yeezy 14           11.5      2016-12-17   220          2017-09-02\n",
       "29     Yeezy 15           10.5      2017-04-29   220          2017-09-02\n",
       "30     Yeezy 15            8.5      2017-04-29   220          2017-09-02\n",
       "...   ...    ...          ...       ...          ...          ...       \n",
       "99927  Yeezy 18           10.0      2018-12-27   220          2019-02-13\n",
       "99928  Yeezy 18            5.0      2018-12-27   220          2019-02-13\n",
       "99929  Yeezy 18           11.5      2018-12-27   220          2019-02-13\n",
       "99930  Yeezy 18            6.0      2018-12-27   220          2019-02-13\n",
       "99931  Yeezy 18            4.0      2018-12-27   220          2019-02-13\n",
       "99932  Yeezy 18            8.5      2018-12-27   220          2019-02-13\n",
       "99933  Yeezy 18            7.5      2018-12-27   220          2019-02-13\n",
       "99934  Yeezy 18           10.0      2018-12-27   220          2019-02-13\n",
       "99935  Yeezy 18            9.5      2018-12-27   220          2019-02-13\n",
       "99936  Yeezy 18           13.0      2018-12-27   220          2019-02-13\n",
       "99937  Yeezy 18           12.0      2018-12-27   220          2019-02-13\n",
       "99938  Yeezy 18            9.0      2018-12-27   220          2019-02-13\n",
       "99939  Yeezy 18            5.0      2018-12-27   220          2019-02-13\n",
       "99940  Yeezy 19           11.0      2018-12-26   220          2019-02-13\n",
       "99941  Yeezy 19            6.5      2018-12-26   220          2019-02-13\n",
       "99942  Yeezy 19            8.5      2018-12-26   220          2019-02-13\n",
       "99943  Yeezy 19           12.0      2018-12-26   220          2019-02-13\n",
       "99944  Yeezy 19            5.5      2018-12-26   220          2019-02-13\n",
       "99945  Yeezy 19           14.0      2018-12-26   220          2019-02-13\n",
       "99946  Yeezy 19           11.0      2018-12-26   220          2019-02-13\n",
       "99947  Yeezy 19           11.0      2018-12-26   220          2019-02-13\n",
       "99948  Yeezy 19            9.5      2018-12-26   220          2019-02-13\n",
       "99949  Yeezy 19            9.0      2018-12-26   220          2019-02-13\n",
       "99950  Yeezy 19            8.5      2018-12-26   220          2019-02-13\n",
       "99951  Yeezy 19           10.0      2018-12-26   220          2019-02-13\n",
       "99952  Yeezy 19            8.0      2018-12-26   220          2019-02-13\n",
       "99953  Yeezy 19            8.5      2018-12-26   220          2019-02-13\n",
       "99954  Yeezy 19            5.5      2018-12-26   220          2019-02-13\n",
       "99955  Yeezy 19           11.0      2018-12-26   220          2019-02-13\n",
       "99956  Yeezy 19           11.5      2018-12-26   220          2019-02-13\n",
       "      Sale_Price Buyer_Region Bought_for_Less_Than_Retail\n",
       "1     1097        5           0                          \n",
       "2      685        5           0                          \n",
       "3      690        5           0                          \n",
       "4     1075       18           0                          \n",
       "5      828       40           0                          \n",
       "6      798       23           0                          \n",
       "7      784        5           0                          \n",
       "8      460       33           0                          \n",
       "9      465       17           0                          \n",
       "10     465       10           0                          \n",
       "11     515       31           0                          \n",
       "12     473       44           0                          \n",
       "13     460       10           0                          \n",
       "14     570       23           0                          \n",
       "15     525       33           0                          \n",
       "16     658        5           0                          \n",
       "17     650       34           0                          \n",
       "18     610       31           0                          \n",
       "19     589       33           0                          \n",
       "20     850       23           0                          \n",
       "21     546       10           0                          \n",
       "22     586       38           0                          \n",
       "23     640        5           0                          \n",
       "24     850        1           0                          \n",
       "25     999       18           0                          \n",
       "26     740       33           0                          \n",
       "27     765       33           0                          \n",
       "28     800       18           0                          \n",
       "29     470        5           0                          \n",
       "30     455       38           0                          \n",
       "...   ...        ...          ...                        \n",
       "99927 330        38           0                          \n",
       "99928 354        39           0                          \n",
       "99929 300        33           0                          \n",
       "99930 360         5           0                          \n",
       "99931 339        38           0                          \n",
       "99932 344        38           0                          \n",
       "99933 340        38           0                          \n",
       "99934 325        38           0                          \n",
       "99935 350         5           0                          \n",
       "99936 259        14           0                          \n",
       "99937 284        33           0                          \n",
       "99938 345        38           0                          \n",
       "99939 350         5           0                          \n",
       "99940 700         5           0                          \n",
       "99941 676         5           0                          \n",
       "99942 573        38           0                          \n",
       "99943 480         1           0                          \n",
       "99944 600        38           0                          \n",
       "99945 335         5           0                          \n",
       "99946 699         5           0                          \n",
       "99947 699        31           0                          \n",
       "99948 618         5           0                          \n",
       "99949 581        38           0                          \n",
       "99950 594        38           0                          \n",
       "99951 582        31           0                          \n",
       "99952 565        38           0                          \n",
       "99953 598         5           0                          \n",
       "99954 605        33           0                          \n",
       "99955 650         5           0                          \n",
       "99956 640        44           0                          \n",
       "      Bought_more_Than_Retail Bought_at_Retail\n",
       "1     1                       0               \n",
       "2     1                       0               \n",
       "3     1                       0               \n",
       "4     1                       0               \n",
       "5     1                       0               \n",
       "6     1                       0               \n",
       "7     1                       0               \n",
       "8     1                       0               \n",
       "9     1                       0               \n",
       "10    1                       0               \n",
       "11    1                       0               \n",
       "12    1                       0               \n",
       "13    1                       0               \n",
       "14    1                       0               \n",
       "15    1                       0               \n",
       "16    1                       0               \n",
       "17    1                       0               \n",
       "18    1                       0               \n",
       "19    1                       0               \n",
       "20    1                       0               \n",
       "21    1                       0               \n",
       "22    1                       0               \n",
       "23    1                       0               \n",
       "24    1                       0               \n",
       "25    1                       0               \n",
       "26    1                       0               \n",
       "27    1                       0               \n",
       "28    1                       0               \n",
       "29    1                       0               \n",
       "30    1                       0               \n",
       "...   ...                     ...             \n",
       "99927 1                       0               \n",
       "99928 1                       0               \n",
       "99929 1                       0               \n",
       "99930 1                       0               \n",
       "99931 1                       0               \n",
       "99932 1                       0               \n",
       "99933 1                       0               \n",
       "99934 1                       0               \n",
       "99935 1                       0               \n",
       "99936 1                       0               \n",
       "99937 1                       0               \n",
       "99938 1                       0               \n",
       "99939 1                       0               \n",
       "99940 1                       0               \n",
       "99941 1                       0               \n",
       "99942 1                       0               \n",
       "99943 1                       0               \n",
       "99944 1                       0               \n",
       "99945 1                       0               \n",
       "99946 1                       0               \n",
       "99947 1                       0               \n",
       "99948 1                       0               \n",
       "99949 1                       0               \n",
       "99950 1                       0               \n",
       "99951 1                       0               \n",
       "99952 1                       0               \n",
       "99953 1                       0               \n",
       "99954 1                       0               \n",
       "99955 1                       0               \n",
       "99956 1                       0               "
      ]
     },
     "metadata": {},
     "output_type": "display_data"
    }
   ],
   "source": [
    "#Make a new data set from old modified data set\n",
    "NewSneaker <- data.frame(Brand,Sneaker_Name, Shoe_Size, Release_Date, Retail_Price, Order_Date,  Sale_Price, Buyer_Region, Bought_for_Less_Than_Retail, Bought_more_Than_Retail, Bought_at_Retail)\n",
    "NewSneaker"
   ]
  },
  {
   "cell_type": "code",
   "execution_count": 9,
   "id": "2d31361e",
   "metadata": {},
   "outputs": [
    {
     "data": {
      "text/plain": [
       "       Brand        Sneaker_Name     Shoe_Size       Release_Date       \n",
       "  Yeezy   :72162   Min.   : 1.00   Min.   : 3.500   Min.   :2015-06-27  \n",
       " Off-White:27794   1st Qu.: 9.00   1st Qu.: 8.000   1st Qu.:2017-09-09  \n",
       "                   Median :17.00   Median : 9.500   Median :2017-12-16  \n",
       "                   Mean   :19.13   Mean   : 9.344   Mean   :2018-02-10  \n",
       "                   3rd Qu.:22.00   3rd Qu.:11.000   3rd Qu.:2018-08-03  \n",
       "                   Max.   :50.00   Max.   :17.000   Max.   :2019-02-07  \n",
       "  Retail_Price     Order_Date           Sale_Price      Buyer_Region  \n",
       " Min.   :130.0   Min.   :2017-09-01   Min.   : 186.0   Min.   : 1.00  \n",
       " 1st Qu.:220.0   1st Qu.:2018-05-02   1st Qu.: 275.0   1st Qu.: 9.00  \n",
       " Median :220.0   Median :2018-09-24   Median : 370.0   Median :29.00  \n",
       " Mean   :208.6   Mean   :2018-08-12   Mean   : 446.6   Mean   :24.01  \n",
       " 3rd Qu.:220.0   3rd Qu.:2018-12-15   3rd Qu.: 540.0   3rd Qu.:36.00  \n",
       " Max.   :250.0   Max.   :2019-02-13   Max.   :4050.0   Max.   :51.00  \n",
       " Bought_for_Less_Than_Retail Bought_more_Than_Retail Bought_at_Retail  \n",
       " Min.   :0.000000            Min.   :0.0000          Min.   :0.000000  \n",
       " 1st Qu.:0.000000            1st Qu.:1.0000          1st Qu.:0.000000  \n",
       " Median :0.000000            Median :1.0000          Median :0.000000  \n",
       " Mean   :0.005573            Mean   :0.9911          Mean   :0.003302  \n",
       " 3rd Qu.:0.000000            3rd Qu.:1.0000          3rd Qu.:0.000000  \n",
       " Max.   :1.000000            Max.   :1.0000          Max.   :1.000000  "
      ]
     },
     "metadata": {},
     "output_type": "display_data"
    }
   ],
   "source": [
    "summary(NewSneaker)"
   ]
  },
  {
   "cell_type": "markdown",
   "id": "ed0fac8d",
   "metadata": {},
   "source": [
    "## visualizing "
   ]
  },
  {
   "cell_type": "code",
   "execution_count": 10,
   "id": "b499275f",
   "metadata": {
    "scrolled": false
   },
   "outputs": [],
   "source": [
    "#pairs(NewSneaker)"
   ]
  },
  {
   "cell_type": "code",
   "execution_count": 11,
   "id": "039986f2",
   "metadata": {},
   "outputs": [
    {
     "data": {
      "image/png": "[encoded data removed]",
      "text/plain": [
       "plot without title"
      ]
     },
     "metadata": {},
     "output_type": "display_data"
    }
   ],
   "source": [
    "plot(Sneaker_Name, Sale_Price)"
   ]
  },
  {
   "cell_type": "code",
   "execution_count": 12,
   "id": "da924241",
   "metadata": {},
   "outputs": [
    {
     "data": {
      "image/png": "[encoded data removed]",
      "text/plain": [
       "plot without title"
      ]
     },
     "metadata": {},
     "output_type": "display_data"
    }
   ],
   "source": [
    "plot(Buyer_Region, Sale_Price)"
   ]
  },
  {
   "cell_type": "markdown",
   "id": "a940a9f5",
   "metadata": {},
   "source": [
    "## split the data set"
   ]
  },
  {
   "cell_type": "code",
   "execution_count": 13,
   "id": "d5b1b29d",
   "metadata": {},
   "outputs": [],
   "source": [
    "NewSneaker_02 <- data.frame(NewSneaker)\n",
    "smp_size <- floor(0.8 * nrow(NewSneaker_02))\n",
    "set.seed(123)\n",
    "train_ind <- sample(seq_len(nrow(NewSneaker_02)), size = smp_size)\n",
    "\n",
    "train <- NewSneaker_02[train_ind, ]\n",
    "test <- NewSneaker_02[-train_ind, ]"
   ]
  },
  {
   "cell_type": "code",
   "execution_count": 14,
   "id": "4076d17c",
   "metadata": {},
   "outputs": [],
   "source": [
    "library(rpart)\n",
    "library(rpart.plot)"
   ]
  },
  {
   "cell_type": "markdown",
   "id": "816415c0",
   "metadata": {},
   "source": [
    "## Run a Decision tree"
   ]
  },
  {
   "cell_type": "code",
   "execution_count": 15,
   "id": "28e54b3f",
   "metadata": {},
   "outputs": [
    {
     "data": {
      "text/html": [
       "<ol class=list-inline>\n",
       "\t<li>'Brand'</li>\n",
       "\t<li>'Sneaker_Name'</li>\n",
       "\t<li>'Shoe_Size'</li>\n",
       "\t<li>'Release_Date'</li>\n",
       "\t<li>'Retail_Price'</li>\n",
       "\t<li>'Order_Date'</li>\n",
       "\t<li>'Sale_Price'</li>\n",
       "\t<li>'Buyer_Region'</li>\n",
       "\t<li>'Bought_for_Less_Than_Retail'</li>\n",
       "\t<li>'Bought_more_Than_Retail'</li>\n",
       "\t<li>'Bought_at_Retail'</li>\n",
       "</ol>\n"
      ],
      "text/latex": [
       "\\begin{enumerate*}\n",
       "\\item 'Brand'\n",
       "\\item 'Sneaker\\_Name'\n",
       "\\item 'Shoe\\_Size'\n",
       "\\item 'Release\\_Date'\n",
       "\\item 'Retail\\_Price'\n",
       "\\item 'Order\\_Date'\n",
       "\\item 'Sale\\_Price'\n",
       "\\item 'Buyer\\_Region'\n",
       "\\item 'Bought\\_for\\_Less\\_Than\\_Retail'\n",
       "\\item 'Bought\\_more\\_Than\\_Retail'\n",
       "\\item 'Bought\\_at\\_Retail'\n",
       "\\end{enumerate*}\n"
      ],
      "text/markdown": [
       "1. 'Brand'\n",
       "2. 'Sneaker_Name'\n",
       "3. 'Shoe_Size'\n",
       "4. 'Release_Date'\n",
       "5. 'Retail_Price'\n",
       "6. 'Order_Date'\n",
       "7. 'Sale_Price'\n",
       "8. 'Buyer_Region'\n",
       "9. 'Bought_for_Less_Than_Retail'\n",
       "10. 'Bought_more_Than_Retail'\n",
       "11. 'Bought_at_Retail'\n",
       "\n",
       "\n"
      ],
      "text/plain": [
       " [1] \"Brand\"                       \"Sneaker_Name\"               \n",
       " [3] \"Shoe_Size\"                   \"Release_Date\"               \n",
       " [5] \"Retail_Price\"                \"Order_Date\"                 \n",
       " [7] \"Sale_Price\"                  \"Buyer_Region\"               \n",
       " [9] \"Bought_for_Less_Than_Retail\" \"Bought_more_Than_Retail\"    \n",
       "[11] \"Bought_at_Retail\"           "
      ]
     },
     "metadata": {},
     "output_type": "display_data"
    }
   ],
   "source": [
    "names(NewSneaker_02)"
   ]
  },
  {
   "cell_type": "code",
   "execution_count": 16,
   "id": "6495a219",
   "metadata": {
    "scrolled": false
   },
   "outputs": [
    {
     "data": {
      "text/plain": [
       "n= 79964 \n",
       "\n",
       "node), split, n, deviance, yval\n",
       "      * denotes terminal node\n",
       "\n",
       "  1) root 79964 5269570000  447.0399  \n",
       "    2) Sneaker_Name< 20.5 57677 1197254000  360.0260  \n",
       "      4) Sneaker_Name>=6.5 56903  903626700  352.4130  \n",
       "        8) Sneaker_Name>=8.5 41142  844510100  337.9599  \n",
       "         16) Sneaker_Name< 9.5 9118    7803576  269.8462 *\n",
       "         17) Sneaker_Name>=9.5 32024  782359200  357.3535  \n",
       "           34) Sneaker_Name>=14.5 30188  421040700  332.2476  \n",
       "             68) Sneaker_Name< 18.5 19561  234134900  302.7263  \n",
       "              136) Sneaker_Name>=16.5 8380    7559512  274.8785 *\n",
       "              137) Sneaker_Name< 16.5 11181  215206100  323.5978  \n",
       "                274) Sneaker_Name< 15.5 7300   47890330  289.0364 *\n",
       "                275) Sneaker_Name>=15.5 3881  142194500  388.6063 *\n",
       "             69) Sneaker_Name>=18.5 10627  138478900  386.5872  \n",
       "              138) Sneaker_Name>=19.5 8096   95562500  361.1709 *\n",
       "              139) Sneaker_Name< 19.5 2531   20957490  467.8870 *\n",
       "           35) Sneaker_Name< 14.5 1836   29432510  770.1514  \n",
       "             70) Sneaker_Name< 11.5 326    1969203  640.5951 *\n",
       "             71) Sneaker_Name>=11.5 1510   20810110  798.1219  \n",
       "              142) Sneaker_Name>=12.5 1271   12574370  771.9449 *\n",
       "              143) Sneaker_Name< 12.5 239    2733215  937.3305 *\n",
       "        9) Sneaker_Name< 8.5 15761   28088190  390.1410 *\n",
       "      5) Sneaker_Name< 6.5 774   47874460  919.7132  \n",
       "       10) Sneaker_Name>=5.5 401    6262686  788.5237 *\n",
       "       11) Sneaker_Name< 5.5 373   27290730 1060.7510  \n",
       "         22) Sneaker_Name< 4.5 316    8151573  975.6139 *\n",
       "         23) Sneaker_Name>=4.5 57    4150761 1532.7370 *\n",
       "    3) Sneaker_Name>=20.5 22287 2505481000  672.2251  \n",
       "      6) Sneaker_Name>=21.5 21682 1581291000  641.4828  \n",
       "       12) Sneaker_Name>=44.5 3823   49338400  343.7457  \n",
       "         24) Sneaker_Name>=48.5 2028    4109387  292.7628 *\n",
       "         25) Sneaker_Name< 48.5 1795   34002170  401.3465  \n",
       "           50) Sneaker_Name< 47.5 1440   17321690  369.1722  \n",
       "            100) Sneaker_Name>=45.5 1045    2688095  320.5263 *\n",
       "            101) Sneaker_Name< 45.5 395    5618413  497.8684 *\n",
       "           51) Sneaker_Name>=47.5 355    9143174  531.8563 *\n",
       "       13) Sneaker_Name< 44.5 17859 1120507000  705.2180  \n",
       "         26) Sneaker_Name>=23.5 13894  528996900  645.6516  \n",
       "           52) Sneaker_Name< 30.5 3597  100702700  547.8015  \n",
       "            104) Sneaker_Name>=24.5 3204   61887140  526.7743  \n",
       "              208) Sneaker_Name< 26.5 1578   11113480  450.3872  \n",
       "                416) Sneaker_Name>=25.5 796    1933274  390.9950 *\n",
       "                417) Sneaker_Name< 25.5 782    3514264  510.8427 *\n",
       "              209) Sneaker_Name>=26.5 1626   32630220  600.9065  \n",
       "                418) Sneaker_Name>=28.5 1090    2826928  542.4890 *\n",
       "                419) Sneaker_Name< 28.5 536   18519150  719.7034 *\n",
       "            105) Sneaker_Name< 24.5 393   25849650  719.2290 *\n",
       "           53) Sneaker_Name>=30.5 10297  381823500  679.8331  \n",
       "            106) Sneaker_Name>=35.5 8724  153533000  643.8637  \n",
       "              212) Sneaker_Name>=38.5 5259   67333830  605.7977  \n",
       "                424) Sneaker_Name< 43.5 5028   57306490  597.7691  \n",
       "                  848) Sneaker_Name>=42.5 1119    6386844  527.3021 *\n",
       "                  849) Sneaker_Name< 42.5 3909   43772520  617.9412 *\n",
       "                425) Sneaker_Name>=43.5 231    2648899  780.5498 *\n",
       "              213) Sneaker_Name< 38.5 3465   67012850  701.6384  \n",
       "                426) Sneaker_Name< 37.5 3048   40269150  681.9400  \n",
       "                  852) Sneaker_Name>=36.5 1535   20653310  633.7883 *\n",
       "                  853) Sneaker_Name< 36.5 1513   12446040  730.7918 *\n",
       "                427) Sneaker_Name>=37.5 417   16916150  845.6211 *\n",
       "            107) Sneaker_Name< 35.5 1573  154404400  879.3223  \n",
       "              214) Sneaker_Name< 34.5 1100   25306500  724.2627 *\n",
       "              215) Sneaker_Name>=34.5 473   41143540 1239.9260 *\n",
       "         27) Sneaker_Name< 23.5 3965  369463300  913.9485  \n",
       "           54) Sneaker_Name< 22.5 3713  129150000  852.3294 *\n",
       "           55) Sneaker_Name>=22.5 252   18493990 1821.8530 *\n",
       "      7) Sneaker_Name< 21.5 605  169326300 1773.9690 *"
      ]
     },
     "metadata": {},
     "output_type": "display_data"
    }
   ],
   "source": [
    "res <- rpart(Sale_Price~Sneaker_Name+Bought_for_Less_Than_Retail+\n",
    "             Bought_more_Than_Retail+Bought_at_Retail+Buyer_Region , data = train ,\n",
    "             control = rpart.control(minsplit = 1, minbucket = 1,cp = 0.001))\n",
    "res"
   ]
  },
  {
   "cell_type": "code",
   "execution_count": 17,
   "id": "c67de0f4",
   "metadata": {},
   "outputs": [
    {
     "data": {
      "image/png": "[encoded data removed]",
      "text/plain": [
       "plot without title"
      ]
     },
     "metadata": {},
     "output_type": "display_data"
    }
   ],
   "source": [
    "rpart.plot(res,type =2, fallen.leaves = T, cex =0.5)"
   ]
  },
  {
   "cell_type": "code",
   "execution_count": 18,
   "id": "66dc8113",
   "metadata": {},
   "outputs": [
    {
     "data": {
      "text/html": [
       "<table>\n",
       "<thead><tr><th scope=col>Sneaker_Name</th><th scope=col>Bought_for_Less_Than_Retail</th><th scope=col>Bought_more_Than_Retail</th><th scope=col>Bought_at_Retail</th><th scope=col>Buyer_Region</th></tr></thead>\n",
       "<tbody>\n",
       "\t<tr><td>2</td><td>1</td><td>0</td><td>0</td><td>6</td></tr>\n",
       "</tbody>\n",
       "</table>\n"
      ],
      "text/latex": [
       "\\begin{tabular}{r|lllll}\n",
       " Sneaker\\_Name & Bought\\_for\\_Less\\_Than\\_Retail & Bought\\_more\\_Than\\_Retail & Bought\\_at\\_Retail & Buyer\\_Region\\\\\n",
       "\\hline\n",
       "\t 2 & 1 & 0 & 0 & 6\\\\\n",
       "\\end{tabular}\n"
      ],
      "text/markdown": [
       "\n",
       "| Sneaker_Name | Bought_for_Less_Than_Retail | Bought_more_Than_Retail | Bought_at_Retail | Buyer_Region |\n",
       "|---|---|---|---|---|\n",
       "| 2 | 1 | 0 | 0 | 6 |\n",
       "\n"
      ],
      "text/plain": [
       "  Sneaker_Name Bought_for_Less_Than_Retail Bought_more_Than_Retail\n",
       "1 2            1                           0                      \n",
       "  Bought_at_Retail Buyer_Region\n",
       "1 0                6           "
      ]
     },
     "metadata": {},
     "output_type": "display_data"
    }
   ],
   "source": [
    "test_set = data.frame(Sneaker_Name=2, Bought_for_Less_Than_Retail=1,\n",
    "                      Bought_more_Than_Retail=0, Bought_at_Retail=0,Buyer_Region=6 )\n",
    "test_set"
   ]
  },
  {
   "cell_type": "code",
   "execution_count": 19,
   "id": "670365fb",
   "metadata": {},
   "outputs": [
    {
     "data": {
      "text/html": [
       "<strong>1:</strong> 975.613924050633"
      ],
      "text/latex": [
       "\\textbf{1:} 975.613924050633"
      ],
      "text/markdown": [
       "**1:** 975.613924050633"
      ],
      "text/plain": [
       "       1 \n",
       "975.6139 "
      ]
     },
     "metadata": {},
     "output_type": "display_data"
    }
   ],
   "source": [
    "prediction = predict(res, newdata = test_set, type = \"vector\")\n",
    "prediction"
   ]
  },
  {
   "cell_type": "code",
   "execution_count": null,
   "id": "cf301978",
   "metadata": {},
   "outputs": [],
   "source": []
  }
 ],
 "metadata": {
  "kernelspec": {
   "display_name": "R",
   "language": "R",
   "name": "ir"
  },
  "language_info": {
   "codemirror_mode": "r",
   "file_extension": ".r",
   "mimetype": "text/x-r-source",
   "name": "R",
   "pygments_lexer": "r",
   "version": "3.6.1"
  }
 },
 "nbformat": 4,
 "nbformat_minor": 5
}

{
  "nbformat": 4,
  "nbformat_minor": 0,
  "metadata": {
    "colab": {
      "name": "sneaker.ipynb",
      "provenance": [],
      "authorship_tag": "ABX9TyPJMrX3AYu9G6rP5+C5nzF/",
      "include_colab_link": true
    },
    "kernelspec": {
      "name": "ir",
      "display_name": "R"
    },
    "language_info": {
      "name": "R"
    }
  },
  "cells": [
    {
      "cell_type": "markdown",
      "metadata": {
        "id": "view-in-github",
        "colab_type": "text"
      },
      "source": [
        "<a href=\"https://colab.research.google.com/github/rabulhasan/CIS3920-Projects/blob/main/sneaker.ipynb\" target=\"_parent\"><img src=\"https://colab.research.google.com/assets/colab-badge.svg\" alt=\"Open In Colab\"/></a>"
      ]
    },
    {
      "cell_type": "code",
      "execution_count": 1,
      "metadata": {
        "id": "i8FNVa9OJW1w"
      },
      "outputs": [],
      "source": [
        "Sneaker = read.csv(\"/Sneaker.csv\")"
      ]
    },
    {
      "cell_type": "code",
      "source": [
        "Order.Date <- as.Date.character(Sneaker$Order.Date , \"%m/%d/%Y\")"
      ],
      "metadata": {
        "id": "V_nDFHiRLo59"
      },
      "execution_count": 3,
      "outputs": []
    },
    {
      "cell_type": "code",
      "source": [
        "Release.Date <- as.Date.character(Sneaker$Release.Date , \"%m/%d/%Y\")"
      ],
      "metadata": {
        "id": "xOQ_0g-xNMNj"
      },
      "execution_count": 4,
      "outputs": []
    },
    {
      "cell_type": "code",
      "source": [
        "head(Sneaker)"
      ],
      "metadata": {
        "colab": {
          "base_uri": "https://localhost:8080/",
          "height": 286
        },
        "id": "IuCK01NTM61M",
        "outputId": "681885a4-57d4-46de-cd62-778d56ffc7e1"
      },
      "execution_count": 5,
      "outputs": [
        {
          "output_type": "display_data",
          "data": {
            "text/plain": [
              "  Order.Date Brand  Sneaker.Name                                  Sale.Price\n",
              "1 9/1/2017    Yeezy Adidas-Yeezy-Boost-350-Low-V2-Beluga          $1,097    \n",
              "2 9/1/2017    Yeezy Adidas-Yeezy-Boost-350-V2-Core-Black-Copper   $685      \n",
              "3 9/1/2017    Yeezy Adidas-Yeezy-Boost-350-V2-Core-Black-Green    $690      \n",
              "4 9/1/2017    Yeezy Adidas-Yeezy-Boost-350-V2-Core-Black-Red      $1,075    \n",
              "5 9/1/2017    Yeezy Adidas-Yeezy-Boost-350-V2-Core-Black-Red-2017 $828      \n",
              "6 9/1/2017    Yeezy Adidas-Yeezy-Boost-350-V2-Core-Black-Red-2017 $798      \n",
              "  Retail.Price Release.Date Shoe.Size Buyer.Region\n",
              "1 $220         9/24/2016    11.0      California  \n",
              "2 $220         11/23/2016   11.0      California  \n",
              "3 $220         11/23/2016   11.0      California  \n",
              "4 $220         11/23/2016   11.5      Kentucky    \n",
              "5 $220         2/11/2017    11.0      Rhode Island\n",
              "6 $220         2/11/2017     8.5      Michigan    "
            ],
            "text/latex": "A data.frame: 6 × 8\n\\begin{tabular}{r|llllllll}\n  & Order.Date & Brand & Sneaker.Name & Sale.Price & Retail.Price & Release.Date & Shoe.Size & Buyer.Region\\\\\n  & <chr> & <chr> & <chr> & <chr> & <chr> & <chr> & <dbl> & <chr>\\\\\n\\hline\n\t1 & 9/1/2017 &  Yeezy & Adidas-Yeezy-Boost-350-Low-V2-Beluga          & \\$1,097 & \\$220 & 9/24/2016  & 11.0 & California  \\\\\n\t2 & 9/1/2017 &  Yeezy & Adidas-Yeezy-Boost-350-V2-Core-Black-Copper   & \\$685   & \\$220 & 11/23/2016 & 11.0 & California  \\\\\n\t3 & 9/1/2017 &  Yeezy & Adidas-Yeezy-Boost-350-V2-Core-Black-Green    & \\$690   & \\$220 & 11/23/2016 & 11.0 & California  \\\\\n\t4 & 9/1/2017 &  Yeezy & Adidas-Yeezy-Boost-350-V2-Core-Black-Red      & \\$1,075 & \\$220 & 11/23/2016 & 11.5 & Kentucky    \\\\\n\t5 & 9/1/2017 &  Yeezy & Adidas-Yeezy-Boost-350-V2-Core-Black-Red-2017 & \\$828   & \\$220 & 2/11/2017  & 11.0 & Rhode Island\\\\\n\t6 & 9/1/2017 &  Yeezy & Adidas-Yeezy-Boost-350-V2-Core-Black-Red-2017 & \\$798   & \\$220 & 2/11/2017  &  8.5 & Michigan    \\\\\n\\end{tabular}\n",
            "text/markdown": "\nA data.frame: 6 × 8\n\n| <!--/--> | Order.Date &lt;chr&gt; | Brand &lt;chr&gt; | Sneaker.Name &lt;chr&gt; | Sale.Price &lt;chr&gt; | Retail.Price &lt;chr&gt; | Release.Date &lt;chr&gt; | Shoe.Size &lt;dbl&gt; | Buyer.Region &lt;chr&gt; |\n|---|---|---|---|---|---|---|---|---|\n| 1 | 9/1/2017 |  Yeezy | Adidas-Yeezy-Boost-350-Low-V2-Beluga          | $1,097 | $220 | 9/24/2016  | 11.0 | California   |\n| 2 | 9/1/2017 |  Yeezy | Adidas-Yeezy-Boost-350-V2-Core-Black-Copper   | $685   | $220 | 11/23/2016 | 11.0 | California   |\n| 3 | 9/1/2017 |  Yeezy | Adidas-Yeezy-Boost-350-V2-Core-Black-Green    | $690   | $220 | 11/23/2016 | 11.0 | California   |\n| 4 | 9/1/2017 |  Yeezy | Adidas-Yeezy-Boost-350-V2-Core-Black-Red      | $1,075 | $220 | 11/23/2016 | 11.5 | Kentucky     |\n| 5 | 9/1/2017 |  Yeezy | Adidas-Yeezy-Boost-350-V2-Core-Black-Red-2017 | $828   | $220 | 2/11/2017  | 11.0 | Rhode Island |\n| 6 | 9/1/2017 |  Yeezy | Adidas-Yeezy-Boost-350-V2-Core-Black-Red-2017 | $798   | $220 | 2/11/2017  |  8.5 | Michigan     |\n\n",
            "text/html": [
              "<table class=\"dataframe\">\n",
              "<caption>A data.frame: 6 × 8</caption>\n",
              "<thead>\n",
              "\t<tr><th></th><th scope=col>Order.Date</th><th scope=col>Brand</th><th scope=col>Sneaker.Name</th><th scope=col>Sale.Price</th><th scope=col>Retail.Price</th><th scope=col>Release.Date</th><th scope=col>Shoe.Size</th><th scope=col>Buyer.Region</th></tr>\n",
              "\t<tr><th></th><th scope=col>&lt;chr&gt;</th><th scope=col>&lt;chr&gt;</th><th scope=col>&lt;chr&gt;</th><th scope=col>&lt;chr&gt;</th><th scope=col>&lt;chr&gt;</th><th scope=col>&lt;chr&gt;</th><th scope=col>&lt;dbl&gt;</th><th scope=col>&lt;chr&gt;</th></tr>\n",
              "</thead>\n",
              "<tbody>\n",
              "\t<tr><th scope=row>1</th><td>9/1/2017</td><td> Yeezy</td><td>Adidas-Yeezy-Boost-350-Low-V2-Beluga         </td><td>$1,097</td><td>$220</td><td>9/24/2016 </td><td>11.0</td><td>California  </td></tr>\n",
              "\t<tr><th scope=row>2</th><td>9/1/2017</td><td> Yeezy</td><td>Adidas-Yeezy-Boost-350-V2-Core-Black-Copper  </td><td>$685  </td><td>$220</td><td>11/23/2016</td><td>11.0</td><td>California  </td></tr>\n",
              "\t<tr><th scope=row>3</th><td>9/1/2017</td><td> Yeezy</td><td>Adidas-Yeezy-Boost-350-V2-Core-Black-Green   </td><td>$690  </td><td>$220</td><td>11/23/2016</td><td>11.0</td><td>California  </td></tr>\n",
              "\t<tr><th scope=row>4</th><td>9/1/2017</td><td> Yeezy</td><td>Adidas-Yeezy-Boost-350-V2-Core-Black-Red     </td><td>$1,075</td><td>$220</td><td>11/23/2016</td><td>11.5</td><td>Kentucky    </td></tr>\n",
              "\t<tr><th scope=row>5</th><td>9/1/2017</td><td> Yeezy</td><td>Adidas-Yeezy-Boost-350-V2-Core-Black-Red-2017</td><td>$828  </td><td>$220</td><td>2/11/2017 </td><td>11.0</td><td>Rhode Island</td></tr>\n",
              "\t<tr><th scope=row>6</th><td>9/1/2017</td><td> Yeezy</td><td>Adidas-Yeezy-Boost-350-V2-Core-Black-Red-2017</td><td>$798  </td><td>$220</td><td>2/11/2017 </td><td> 8.5</td><td>Michigan    </td></tr>\n",
              "</tbody>\n",
              "</table>\n"
            ]
          },
          "metadata": {}
        }
      ]
    },
    {
      "cell_type": "code",
      "source": [
        "Sale.Price\t <- as.data.frame.integer(Sneaker$Sale.Price)"
      ],
      "metadata": {
        "id": "rKioOcUQNAwq"
      },
      "execution_count": 10,
      "outputs": []
    },
    {
      "cell_type": "code",
      "source": [
        "head(Sneaker)"
      ],
      "metadata": {
        "colab": {
          "base_uri": "https://localhost:8080/",
          "height": 286
        },
        "id": "KXfjhvblOpqE",
        "outputId": "dc2ff091-fcfc-43a9-d200-13115ec4ff5a"
      },
      "execution_count": 11,
      "outputs": [
        {
          "output_type": "display_data",
          "data": {
            "text/plain": [
              "  Order.Date Brand  Sneaker.Name                                  Sale.Price\n",
              "1 9/1/2017    Yeezy Adidas-Yeezy-Boost-350-Low-V2-Beluga          $1,097    \n",
              "2 9/1/2017    Yeezy Adidas-Yeezy-Boost-350-V2-Core-Black-Copper   $685      \n",
              "3 9/1/2017    Yeezy Adidas-Yeezy-Boost-350-V2-Core-Black-Green    $690      \n",
              "4 9/1/2017    Yeezy Adidas-Yeezy-Boost-350-V2-Core-Black-Red      $1,075    \n",
              "5 9/1/2017    Yeezy Adidas-Yeezy-Boost-350-V2-Core-Black-Red-2017 $828      \n",
              "6 9/1/2017    Yeezy Adidas-Yeezy-Boost-350-V2-Core-Black-Red-2017 $798      \n",
              "  Retail.Price Release.Date Shoe.Size Buyer.Region\n",
              "1 $220         9/24/2016    11.0      California  \n",
              "2 $220         11/23/2016   11.0      California  \n",
              "3 $220         11/23/2016   11.0      California  \n",
              "4 $220         11/23/2016   11.5      Kentucky    \n",
              "5 $220         2/11/2017    11.0      Rhode Island\n",
              "6 $220         2/11/2017     8.5      Michigan    "
            ],
            "text/latex": "A data.frame: 6 × 8\n\\begin{tabular}{r|llllllll}\n  & Order.Date & Brand & Sneaker.Name & Sale.Price & Retail.Price & Release.Date & Shoe.Size & Buyer.Region\\\\\n  & <chr> & <chr> & <chr> & <chr> & <chr> & <chr> & <dbl> & <chr>\\\\\n\\hline\n\t1 & 9/1/2017 &  Yeezy & Adidas-Yeezy-Boost-350-Low-V2-Beluga          & \\$1,097 & \\$220 & 9/24/2016  & 11.0 & California  \\\\\n\t2 & 9/1/2017 &  Yeezy & Adidas-Yeezy-Boost-350-V2-Core-Black-Copper   & \\$685   & \\$220 & 11/23/2016 & 11.0 & California  \\\\\n\t3 & 9/1/2017 &  Yeezy & Adidas-Yeezy-Boost-350-V2-Core-Black-Green    & \\$690   & \\$220 & 11/23/2016 & 11.0 & California  \\\\\n\t4 & 9/1/2017 &  Yeezy & Adidas-Yeezy-Boost-350-V2-Core-Black-Red      & \\$1,075 & \\$220 & 11/23/2016 & 11.5 & Kentucky    \\\\\n\t5 & 9/1/2017 &  Yeezy & Adidas-Yeezy-Boost-350-V2-Core-Black-Red-2017 & \\$828   & \\$220 & 2/11/2017  & 11.0 & Rhode Island\\\\\n\t6 & 9/1/2017 &  Yeezy & Adidas-Yeezy-Boost-350-V2-Core-Black-Red-2017 & \\$798   & \\$220 & 2/11/2017  &  8.5 & Michigan    \\\\\n\\end{tabular}\n",
            "text/markdown": "\nA data.frame: 6 × 8\n\n| <!--/--> | Order.Date &lt;chr&gt; | Brand &lt;chr&gt; | Sneaker.Name &lt;chr&gt; | Sale.Price &lt;chr&gt; | Retail.Price &lt;chr&gt; | Release.Date &lt;chr&gt; | Shoe.Size &lt;dbl&gt; | Buyer.Region &lt;chr&gt; |\n|---|---|---|---|---|---|---|---|---|\n| 1 | 9/1/2017 |  Yeezy | Adidas-Yeezy-Boost-350-Low-V2-Beluga          | $1,097 | $220 | 9/24/2016  | 11.0 | California   |\n| 2 | 9/1/2017 |  Yeezy | Adidas-Yeezy-Boost-350-V2-Core-Black-Copper   | $685   | $220 | 11/23/2016 | 11.0 | California   |\n| 3 | 9/1/2017 |  Yeezy | Adidas-Yeezy-Boost-350-V2-Core-Black-Green    | $690   | $220 | 11/23/2016 | 11.0 | California   |\n| 4 | 9/1/2017 |  Yeezy | Adidas-Yeezy-Boost-350-V2-Core-Black-Red      | $1,075 | $220 | 11/23/2016 | 11.5 | Kentucky     |\n| 5 | 9/1/2017 |  Yeezy | Adidas-Yeezy-Boost-350-V2-Core-Black-Red-2017 | $828   | $220 | 2/11/2017  | 11.0 | Rhode Island |\n| 6 | 9/1/2017 |  Yeezy | Adidas-Yeezy-Boost-350-V2-Core-Black-Red-2017 | $798   | $220 | 2/11/2017  |  8.5 | Michigan     |\n\n",
            "text/html": [
              "<table class=\"dataframe\">\n",
              "<caption>A data.frame: 6 × 8</caption>\n",
              "<thead>\n",
              "\t<tr><th></th><th scope=col>Order.Date</th><th scope=col>Brand</th><th scope=col>Sneaker.Name</th><th scope=col>Sale.Price</th><th scope=col>Retail.Price</th><th scope=col>Release.Date</th><th scope=col>Shoe.Size</th><th scope=col>Buyer.Region</th></tr>\n",
              "\t<tr><th></th><th scope=col>&lt;chr&gt;</th><th scope=col>&lt;chr&gt;</th><th scope=col>&lt;chr&gt;</th><th scope=col>&lt;chr&gt;</th><th scope=col>&lt;chr&gt;</th><th scope=col>&lt;chr&gt;</th><th scope=col>&lt;dbl&gt;</th><th scope=col>&lt;chr&gt;</th></tr>\n",
              "</thead>\n",
              "<tbody>\n",
              "\t<tr><th scope=row>1</th><td>9/1/2017</td><td> Yeezy</td><td>Adidas-Yeezy-Boost-350-Low-V2-Beluga         </td><td>$1,097</td><td>$220</td><td>9/24/2016 </td><td>11.0</td><td>California  </td></tr>\n",
              "\t<tr><th scope=row>2</th><td>9/1/2017</td><td> Yeezy</td><td>Adidas-Yeezy-Boost-350-V2-Core-Black-Copper  </td><td>$685  </td><td>$220</td><td>11/23/2016</td><td>11.0</td><td>California  </td></tr>\n",
              "\t<tr><th scope=row>3</th><td>9/1/2017</td><td> Yeezy</td><td>Adidas-Yeezy-Boost-350-V2-Core-Black-Green   </td><td>$690  </td><td>$220</td><td>11/23/2016</td><td>11.0</td><td>California  </td></tr>\n",
              "\t<tr><th scope=row>4</th><td>9/1/2017</td><td> Yeezy</td><td>Adidas-Yeezy-Boost-350-V2-Core-Black-Red     </td><td>$1,075</td><td>$220</td><td>11/23/2016</td><td>11.5</td><td>Kentucky    </td></tr>\n",
              "\t<tr><th scope=row>5</th><td>9/1/2017</td><td> Yeezy</td><td>Adidas-Yeezy-Boost-350-V2-Core-Black-Red-2017</td><td>$828  </td><td>$220</td><td>2/11/2017 </td><td>11.0</td><td>Rhode Island</td></tr>\n",
              "\t<tr><th scope=row>6</th><td>9/1/2017</td><td> Yeezy</td><td>Adidas-Yeezy-Boost-350-V2-Core-Black-Red-2017</td><td>$798  </td><td>$220</td><td>2/11/2017 </td><td> 8.5</td><td>Michigan    </td></tr>\n",
              "</tbody>\n",
              "</table>\n"
            ]
          },
          "metadata": {}
        }
      ]
    },
    {
      "cell_type": "code",
      "source": [
        "typeof(Sale.Price)"
      ],
      "metadata": {
        "colab": {
          "base_uri": "https://localhost:8080/",
          "height": 34
        },
        "id": "5AlRKhzYO-jO",
        "outputId": "3c85a022-30a6-44c4-de0a-4f6807044028"
      },
      "execution_count": 12,
      "outputs": [
        {
          "output_type": "display_data",
          "data": {
            "text/plain": [
              "[1] \"list\""
            ],
            "text/latex": "'list'",
            "text/markdown": "'list'",
            "text/html": [
              "'list'"
            ]
          },
          "metadata": {}
        }
      ]
    },
    {
      "cell_type": "code",
      "source": [
        "typeof(Sneaker$Sale.Price)"
      ],
      "metadata": {
        "colab": {
          "base_uri": "https://localhost:8080/",
          "height": 34
        },
        "id": "i7-kfdCfPDYN",
        "outputId": "c32d9923-c814-4d0b-fa75-da4c87fe1328"
      },
      "execution_count": 14,
      "outputs": [
        {
          "output_type": "display_data",
          "data": {
            "text/plain": [
              "[1] \"character\""
            ],
            "text/latex": "'character'",
            "text/markdown": "'character'",
            "text/html": [
              "'character'"
            ]
          },
          "metadata": {}
        }
      ]
    },
    {
      "cell_type": "code",
      "source": [
        "??type.convert"
      ],
      "metadata": {
        "id": "9pqqPe_NPMPF"
      },
      "execution_count": 16,
      "outputs": []
    },
    {
      "cell_type": "code",
      "source": [
        "Sneaker <- type.convert(Sneaker)"
      ],
      "metadata": {
        "colab": {
          "base_uri": "https://localhost:8080/"
        },
        "id": "8-Nikc-aPPX0",
        "outputId": "50a074df-6fb5-4909-868b-8cc63da5aff6"
      },
      "execution_count": 17,
      "outputs": [
        {
          "output_type": "stream",
          "name": "stderr",
          "text": [
            "Warning message in type.convert.default(x[[i]], ...):\n",
            "“'as.is' should be specified by the caller; using TRUE”\n",
            "Warning message in type.convert.default(x[[i]], ...):\n",
            "“'as.is' should be specified by the caller; using TRUE”\n",
            "Warning message in type.convert.default(x[[i]], ...):\n",
            "“'as.is' should be specified by the caller; using TRUE”\n",
            "Warning message in type.convert.default(x[[i]], ...):\n",
            "“'as.is' should be specified by the caller; using TRUE”\n",
            "Warning message in type.convert.default(x[[i]], ...):\n",
            "“'as.is' should be specified by the caller; using TRUE”\n",
            "Warning message in type.convert.default(x[[i]], ...):\n",
            "“'as.is' should be specified by the caller; using TRUE”\n",
            "Warning message in type.convert.default(x[[i]], ...):\n",
            "“'as.is' should be specified by the caller; using TRUE”\n",
            "Warning message in type.convert.default(x[[i]], ...):\n",
            "“'as.is' should be specified by the caller; using TRUE”\n"
          ]
        }
      ]
    },
    {
      "cell_type": "code",
      "source": [
        "head(Sneaker)"
      ],
      "metadata": {
        "colab": {
          "base_uri": "https://localhost:8080/",
          "height": 286
        },
        "id": "CBA3k4ePP1t2",
        "outputId": "8df433ce-4610-45fc-c887-66b0e22e2521"
      },
      "execution_count": 18,
      "outputs": [
        {
          "output_type": "display_data",
          "data": {
            "text/plain": [
              "  Order.Date Brand  Sneaker.Name                                  Sale.Price\n",
              "1 9/1/2017    Yeezy Adidas-Yeezy-Boost-350-Low-V2-Beluga          $1,097    \n",
              "2 9/1/2017    Yeezy Adidas-Yeezy-Boost-350-V2-Core-Black-Copper   $685      \n",
              "3 9/1/2017    Yeezy Adidas-Yeezy-Boost-350-V2-Core-Black-Green    $690      \n",
              "4 9/1/2017    Yeezy Adidas-Yeezy-Boost-350-V2-Core-Black-Red      $1,075    \n",
              "5 9/1/2017    Yeezy Adidas-Yeezy-Boost-350-V2-Core-Black-Red-2017 $828      \n",
              "6 9/1/2017    Yeezy Adidas-Yeezy-Boost-350-V2-Core-Black-Red-2017 $798      \n",
              "  Retail.Price Release.Date Shoe.Size Buyer.Region\n",
              "1 $220         9/24/2016    11.0      California  \n",
              "2 $220         11/23/2016   11.0      California  \n",
              "3 $220         11/23/2016   11.0      California  \n",
              "4 $220         11/23/2016   11.5      Kentucky    \n",
              "5 $220         2/11/2017    11.0      Rhode Island\n",
              "6 $220         2/11/2017     8.5      Michigan    "
            ],
            "text/latex": "A data.frame: 6 × 8\n\\begin{tabular}{r|llllllll}\n  & Order.Date & Brand & Sneaker.Name & Sale.Price & Retail.Price & Release.Date & Shoe.Size & Buyer.Region\\\\\n  & <chr> & <chr> & <chr> & <chr> & <chr> & <chr> & <dbl> & <chr>\\\\\n\\hline\n\t1 & 9/1/2017 &  Yeezy & Adidas-Yeezy-Boost-350-Low-V2-Beluga          & \\$1,097 & \\$220 & 9/24/2016  & 11.0 & California  \\\\\n\t2 & 9/1/2017 &  Yeezy & Adidas-Yeezy-Boost-350-V2-Core-Black-Copper   & \\$685   & \\$220 & 11/23/2016 & 11.0 & California  \\\\\n\t3 & 9/1/2017 &  Yeezy & Adidas-Yeezy-Boost-350-V2-Core-Black-Green    & \\$690   & \\$220 & 11/23/2016 & 11.0 & California  \\\\\n\t4 & 9/1/2017 &  Yeezy & Adidas-Yeezy-Boost-350-V2-Core-Black-Red      & \\$1,075 & \\$220 & 11/23/2016 & 11.5 & Kentucky    \\\\\n\t5 & 9/1/2017 &  Yeezy & Adidas-Yeezy-Boost-350-V2-Core-Black-Red-2017 & \\$828   & \\$220 & 2/11/2017  & 11.0 & Rhode Island\\\\\n\t6 & 9/1/2017 &  Yeezy & Adidas-Yeezy-Boost-350-V2-Core-Black-Red-2017 & \\$798   & \\$220 & 2/11/2017  &  8.5 & Michigan    \\\\\n\\end{tabular}\n",
            "text/markdown": "\nA data.frame: 6 × 8\n\n| <!--/--> | Order.Date &lt;chr&gt; | Brand &lt;chr&gt; | Sneaker.Name &lt;chr&gt; | Sale.Price &lt;chr&gt; | Retail.Price &lt;chr&gt; | Release.Date &lt;chr&gt; | Shoe.Size &lt;dbl&gt; | Buyer.Region &lt;chr&gt; |\n|---|---|---|---|---|---|---|---|---|\n| 1 | 9/1/2017 |  Yeezy | Adidas-Yeezy-Boost-350-Low-V2-Beluga          | $1,097 | $220 | 9/24/2016  | 11.0 | California   |\n| 2 | 9/1/2017 |  Yeezy | Adidas-Yeezy-Boost-350-V2-Core-Black-Copper   | $685   | $220 | 11/23/2016 | 11.0 | California   |\n| 3 | 9/1/2017 |  Yeezy | Adidas-Yeezy-Boost-350-V2-Core-Black-Green    | $690   | $220 | 11/23/2016 | 11.0 | California   |\n| 4 | 9/1/2017 |  Yeezy | Adidas-Yeezy-Boost-350-V2-Core-Black-Red      | $1,075 | $220 | 11/23/2016 | 11.5 | Kentucky     |\n| 5 | 9/1/2017 |  Yeezy | Adidas-Yeezy-Boost-350-V2-Core-Black-Red-2017 | $828   | $220 | 2/11/2017  | 11.0 | Rhode Island |\n| 6 | 9/1/2017 |  Yeezy | Adidas-Yeezy-Boost-350-V2-Core-Black-Red-2017 | $798   | $220 | 2/11/2017  |  8.5 | Michigan     |\n\n",
            "text/html": [
              "<table class=\"dataframe\">\n",
              "<caption>A data.frame: 6 × 8</caption>\n",
              "<thead>\n",
              "\t<tr><th></th><th scope=col>Order.Date</th><th scope=col>Brand</th><th scope=col>Sneaker.Name</th><th scope=col>Sale.Price</th><th scope=col>Retail.Price</th><th scope=col>Release.Date</th><th scope=col>Shoe.Size</th><th scope=col>Buyer.Region</th></tr>\n",
              "\t<tr><th></th><th scope=col>&lt;chr&gt;</th><th scope=col>&lt;chr&gt;</th><th scope=col>&lt;chr&gt;</th><th scope=col>&lt;chr&gt;</th><th scope=col>&lt;chr&gt;</th><th scope=col>&lt;chr&gt;</th><th scope=col>&lt;dbl&gt;</th><th scope=col>&lt;chr&gt;</th></tr>\n",
              "</thead>\n",
              "<tbody>\n",
              "\t<tr><th scope=row>1</th><td>9/1/2017</td><td> Yeezy</td><td>Adidas-Yeezy-Boost-350-Low-V2-Beluga         </td><td>$1,097</td><td>$220</td><td>9/24/2016 </td><td>11.0</td><td>California  </td></tr>\n",
              "\t<tr><th scope=row>2</th><td>9/1/2017</td><td> Yeezy</td><td>Adidas-Yeezy-Boost-350-V2-Core-Black-Copper  </td><td>$685  </td><td>$220</td><td>11/23/2016</td><td>11.0</td><td>California  </td></tr>\n",
              "\t<tr><th scope=row>3</th><td>9/1/2017</td><td> Yeezy</td><td>Adidas-Yeezy-Boost-350-V2-Core-Black-Green   </td><td>$690  </td><td>$220</td><td>11/23/2016</td><td>11.0</td><td>California  </td></tr>\n",
              "\t<tr><th scope=row>4</th><td>9/1/2017</td><td> Yeezy</td><td>Adidas-Yeezy-Boost-350-V2-Core-Black-Red     </td><td>$1,075</td><td>$220</td><td>11/23/2016</td><td>11.5</td><td>Kentucky    </td></tr>\n",
              "\t<tr><th scope=row>5</th><td>9/1/2017</td><td> Yeezy</td><td>Adidas-Yeezy-Boost-350-V2-Core-Black-Red-2017</td><td>$828  </td><td>$220</td><td>2/11/2017 </td><td>11.0</td><td>Rhode Island</td></tr>\n",
              "\t<tr><th scope=row>6</th><td>9/1/2017</td><td> Yeezy</td><td>Adidas-Yeezy-Boost-350-V2-Core-Black-Red-2017</td><td>$798  </td><td>$220</td><td>2/11/2017 </td><td> 8.5</td><td>Michigan    </td></tr>\n",
              "</tbody>\n",
              "</table>\n"
            ]
          },
          "metadata": {}
        }
      ]
    },
    {
      "cell_type": "code",
      "source": [
        ""
      ],
      "metadata": {
        "id": "SKXe546yP98C"
      },
      "execution_count": null,
      "outputs": []
    }
  ]
}
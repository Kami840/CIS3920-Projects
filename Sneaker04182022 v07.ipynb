{
 "cells": [
  {
   "cell_type": "code",
   "execution_count": 1,
   "id": "d50efb74",
   "metadata": {},
   "outputs": [],
   "source": [
    "suppressPackageStartupMessages(library(lubridate)) #this library is usefull for cheanging date\n",
    "#SupressPackagestatupMessages will supress the warning message"
   ]
  },
  {
   "cell_type": "code",
   "execution_count": 2,
   "id": "abd3ace2",
   "metadata": {},
   "outputs": [],
   "source": [
    "Sneaker = read.csv(\"StockX-Data-Contest\") #load data into notbook"
   ]
  },
  {
   "cell_type": "code",
   "execution_count": 3,
   "id": "c3c0fc12",
   "metadata": {},
   "outputs": [
    {
     "data": {
      "text/html": [
       "<table>\n",
       "<thead><tr><th scope=col>ï..Order.Date</th><th scope=col>Brand</th><th scope=col>Sneaker.Name</th><th scope=col>Sale.Price</th><th scope=col>Retail.Price</th><th scope=col>Release.Date</th><th scope=col>Shoe.Size</th><th scope=col>Buyer.Region</th></tr></thead>\n",
       "<tbody>\n",
       "\t<tr><td>9/1/17                                       </td><td> Yeezy                                       </td><td>Adidas-Yeezy-Boost-350-Low-V2-Beluga         </td><td>$1,097                                       </td><td>$220                                         </td><td>9/24/16                                      </td><td>11.0                                         </td><td>California                                   </td></tr>\n",
       "\t<tr><td>9/1/17                                       </td><td> Yeezy                                       </td><td>Adidas-Yeezy-Boost-350-V2-Core-Black-Copper  </td><td>$685                                         </td><td>$220                                         </td><td>11/23/16                                     </td><td>11.0                                         </td><td>California                                   </td></tr>\n",
       "\t<tr><td>9/1/17                                       </td><td> Yeezy                                       </td><td>Adidas-Yeezy-Boost-350-V2-Core-Black-Green   </td><td>$690                                         </td><td>$220                                         </td><td>11/23/16                                     </td><td>11.0                                         </td><td>California                                   </td></tr>\n",
       "\t<tr><td>9/1/17                                       </td><td> Yeezy                                       </td><td>Adidas-Yeezy-Boost-350-V2-Core-Black-Red     </td><td>$1,075                                       </td><td>$220                                         </td><td>11/23/16                                     </td><td>11.5                                         </td><td>Kentucky                                     </td></tr>\n",
       "\t<tr><td>9/1/17                                       </td><td> Yeezy                                       </td><td>Adidas-Yeezy-Boost-350-V2-Core-Black-Red-2017</td><td>$828                                         </td><td>$220                                         </td><td>2/11/17                                      </td><td>11.0                                         </td><td>Rhode Island                                 </td></tr>\n",
       "\t<tr><td>9/1/17                                       </td><td> Yeezy                                       </td><td>Adidas-Yeezy-Boost-350-V2-Core-Black-Red-2017</td><td>$798                                         </td><td>$220                                         </td><td>2/11/17                                      </td><td> 8.5                                         </td><td>Michigan                                     </td></tr>\n",
       "</tbody>\n",
       "</table>\n"
      ],
      "text/latex": [
       "\\begin{tabular}{r|llllllll}\n",
       " ï..Order.Date & Brand & Sneaker.Name & Sale.Price & Retail.Price & Release.Date & Shoe.Size & Buyer.Region\\\\\n",
       "\\hline\n",
       "\t 9/1/17                                        &  Yeezy                                        & Adidas-Yeezy-Boost-350-Low-V2-Beluga          & \\$1,097                                      & \\$220                                        & 9/24/16                                       & 11.0                                          & California                                   \\\\\n",
       "\t 9/1/17                                        &  Yeezy                                        & Adidas-Yeezy-Boost-350-V2-Core-Black-Copper   & \\$685                                        & \\$220                                        & 11/23/16                                      & 11.0                                          & California                                   \\\\\n",
       "\t 9/1/17                                        &  Yeezy                                        & Adidas-Yeezy-Boost-350-V2-Core-Black-Green    & \\$690                                        & \\$220                                        & 11/23/16                                      & 11.0                                          & California                                   \\\\\n",
       "\t 9/1/17                                        &  Yeezy                                        & Adidas-Yeezy-Boost-350-V2-Core-Black-Red      & \\$1,075                                      & \\$220                                        & 11/23/16                                      & 11.5                                          & Kentucky                                     \\\\\n",
       "\t 9/1/17                                        &  Yeezy                                        & Adidas-Yeezy-Boost-350-V2-Core-Black-Red-2017 & \\$828                                        & \\$220                                        & 2/11/17                                       & 11.0                                          & Rhode Island                                 \\\\\n",
       "\t 9/1/17                                        &  Yeezy                                        & Adidas-Yeezy-Boost-350-V2-Core-Black-Red-2017 & \\$798                                        & \\$220                                        & 2/11/17                                       &  8.5                                          & Michigan                                     \\\\\n",
       "\\end{tabular}\n"
      ],
      "text/markdown": [
       "\n",
       "| ï..Order.Date | Brand | Sneaker.Name | Sale.Price | Retail.Price | Release.Date | Shoe.Size | Buyer.Region |\n",
       "|---|---|---|---|---|---|---|---|\n",
       "| 9/1/17                                        |  Yeezy                                        | Adidas-Yeezy-Boost-350-Low-V2-Beluga          | $1,097                                        | $220                                          | 9/24/16                                       | 11.0                                          | California                                    |\n",
       "| 9/1/17                                        |  Yeezy                                        | Adidas-Yeezy-Boost-350-V2-Core-Black-Copper   | $685                                          | $220                                          | 11/23/16                                      | 11.0                                          | California                                    |\n",
       "| 9/1/17                                        |  Yeezy                                        | Adidas-Yeezy-Boost-350-V2-Core-Black-Green    | $690                                          | $220                                          | 11/23/16                                      | 11.0                                          | California                                    |\n",
       "| 9/1/17                                        |  Yeezy                                        | Adidas-Yeezy-Boost-350-V2-Core-Black-Red      | $1,075                                        | $220                                          | 11/23/16                                      | 11.5                                          | Kentucky                                      |\n",
       "| 9/1/17                                        |  Yeezy                                        | Adidas-Yeezy-Boost-350-V2-Core-Black-Red-2017 | $828                                          | $220                                          | 2/11/17                                       | 11.0                                          | Rhode Island                                  |\n",
       "| 9/1/17                                        |  Yeezy                                        | Adidas-Yeezy-Boost-350-V2-Core-Black-Red-2017 | $798                                          | $220                                          | 2/11/17                                       |  8.5                                          | Michigan                                      |\n",
       "\n"
      ],
      "text/plain": [
       "  ï..Order.Date Brand  Sneaker.Name                                  Sale.Price\n",
       "1 9/1/17         Yeezy Adidas-Yeezy-Boost-350-Low-V2-Beluga          $1,097    \n",
       "2 9/1/17         Yeezy Adidas-Yeezy-Boost-350-V2-Core-Black-Copper   $685      \n",
       "3 9/1/17         Yeezy Adidas-Yeezy-Boost-350-V2-Core-Black-Green    $690      \n",
       "4 9/1/17         Yeezy Adidas-Yeezy-Boost-350-V2-Core-Black-Red      $1,075    \n",
       "5 9/1/17         Yeezy Adidas-Yeezy-Boost-350-V2-Core-Black-Red-2017 $828      \n",
       "6 9/1/17         Yeezy Adidas-Yeezy-Boost-350-V2-Core-Black-Red-2017 $798      \n",
       "  Retail.Price Release.Date Shoe.Size Buyer.Region\n",
       "1 $220         9/24/16      11.0      California  \n",
       "2 $220         11/23/16     11.0      California  \n",
       "3 $220         11/23/16     11.0      California  \n",
       "4 $220         11/23/16     11.5      Kentucky    \n",
       "5 $220         2/11/17      11.0      Rhode Island\n",
       "6 $220         2/11/17       8.5      Michigan    "
      ]
     },
     "metadata": {},
     "output_type": "display_data"
    }
   ],
   "source": [
    "head(Sneaker) #first few rows"
   ]
  },
  {
   "cell_type": "code",
   "execution_count": 4,
   "id": "6d4359e3",
   "metadata": {},
   "outputs": [],
   "source": [
    "attach(Sneaker) #attaching data set to notebook allow us to avoid repeating the dataset name with the column name"
   ]
  },
  {
   "cell_type": "code",
   "execution_count": 5,
   "id": "b5d4252b",
   "metadata": {},
   "outputs": [],
   "source": [
    "#clean the data set\n",
    "Sale_Price <- as.numeric(gsub('[$,]', '', Sale.Price)) #remove $ and comma from sale price value and convert it into nemuric value\n",
    "Retail_Price <- as.numeric(gsub('[$,]', '', Retail.Price)) #same as sales price\n",
    "Release_Date = mdy(Release.Date) #mdy is a function of lubridate library, which is use convert chr value to date value\n",
    "day_Release <- yday(Release_Date) - 1 #day count\n",
    "Order_Date= mdy(ï..Order.Date) #same as release date\n",
    "day_Order <- yday(Order_Date) - 1 #day count\n",
    "Shoe_Size = Shoe.Size\n",
    "Sneaker_Name = Sneaker.Name\n",
    "Buyer_Region = Buyer.Region\n",
    "Bought_for_Less_Than_Retail = ifelse(Sale_Price < Retail_Price, 1, 0) #make three new columns\n",
    "Bought_more_Than_Retail = ifelse(Sale_Price > Retail_Price, 1, 0)\n",
    "Bought_at_Retail = ifelse(Sale_Price == Retail_Price, 1, 0)"
   ]
  },
  {
   "cell_type": "code",
   "execution_count": 6,
   "id": "d492a6ca",
   "metadata": {},
   "outputs": [
    {
     "data": {
      "text/html": [
       "<table>\n",
       "<thead><tr><th scope=col>Brand</th><th scope=col>Sneaker_Name</th><th scope=col>Shoe_Size</th><th scope=col>Release_Date</th><th scope=col>day_Release</th><th scope=col>Retail_Price</th><th scope=col>Order_Date</th><th scope=col>day_Order</th><th scope=col>Sale_Price</th><th scope=col>Buyer_Region</th><th scope=col>Bought_for_Less_Than_Retail</th><th scope=col>Bought_more_Than_Retail</th><th scope=col>Bought_at_Retail</th></tr></thead>\n",
       "<tbody>\n",
       "\t<tr><td> Yeezy                                       </td><td>Adidas-Yeezy-Boost-350-Low-V2-Beluga         </td><td>11.0                                         </td><td>2016-09-24                                   </td><td>267                                          </td><td>220                                          </td><td>2017-09-01                                   </td><td>243                                          </td><td>1097                                         </td><td>California                                   </td><td>0                                            </td><td>1                                            </td><td>0                                            </td></tr>\n",
       "\t<tr><td> Yeezy                                       </td><td>Adidas-Yeezy-Boost-350-V2-Core-Black-Copper  </td><td>11.0                                         </td><td>2016-11-23                                   </td><td>327                                          </td><td>220                                          </td><td>2017-09-01                                   </td><td>243                                          </td><td> 685                                         </td><td>California                                   </td><td>0                                            </td><td>1                                            </td><td>0                                            </td></tr>\n",
       "\t<tr><td> Yeezy                                       </td><td>Adidas-Yeezy-Boost-350-V2-Core-Black-Green   </td><td>11.0                                         </td><td>2016-11-23                                   </td><td>327                                          </td><td>220                                          </td><td>2017-09-01                                   </td><td>243                                          </td><td> 690                                         </td><td>California                                   </td><td>0                                            </td><td>1                                            </td><td>0                                            </td></tr>\n",
       "\t<tr><td> Yeezy                                       </td><td>Adidas-Yeezy-Boost-350-V2-Core-Black-Red     </td><td>11.5                                         </td><td>2016-11-23                                   </td><td>327                                          </td><td>220                                          </td><td>2017-09-01                                   </td><td>243                                          </td><td>1075                                         </td><td>Kentucky                                     </td><td>0                                            </td><td>1                                            </td><td>0                                            </td></tr>\n",
       "\t<tr><td> Yeezy                                       </td><td>Adidas-Yeezy-Boost-350-V2-Core-Black-Red-2017</td><td>11.0                                         </td><td>2017-02-11                                   </td><td> 41                                          </td><td>220                                          </td><td>2017-09-01                                   </td><td>243                                          </td><td> 828                                         </td><td>Rhode Island                                 </td><td>0                                            </td><td>1                                            </td><td>0                                            </td></tr>\n",
       "\t<tr><td> Yeezy                                       </td><td>Adidas-Yeezy-Boost-350-V2-Core-Black-Red-2017</td><td> 8.5                                         </td><td>2017-02-11                                   </td><td> 41                                          </td><td>220                                          </td><td>2017-09-01                                   </td><td>243                                          </td><td> 798                                         </td><td>Michigan                                     </td><td>0                                            </td><td>1                                            </td><td>0                                            </td></tr>\n",
       "\t<tr><td> Yeezy                                       </td><td>Adidas-Yeezy-Boost-350-V2-Core-Black-White   </td><td>11.0                                         </td><td>2016-12-17                                   </td><td>351                                          </td><td>220                                          </td><td>2017-09-01                                   </td><td>243                                          </td><td> 784                                         </td><td>California                                   </td><td>0                                            </td><td>1                                            </td><td>0                                            </td></tr>\n",
       "\t<tr><td> Yeezy                                       </td><td>Adidas-Yeezy-Boost-350-V2-Cream-White        </td><td>10.0                                         </td><td>2017-04-29                                   </td><td>118                                          </td><td>220                                          </td><td>2017-09-01                                   </td><td>243                                          </td><td> 460                                         </td><td>New York                                     </td><td>0                                            </td><td>1                                            </td><td>0                                            </td></tr>\n",
       "\t<tr><td> Yeezy                                       </td><td>Adidas-Yeezy-Boost-350-V2-Cream-White        </td><td>11.0                                         </td><td>2017-04-29                                   </td><td>118                                          </td><td>220                                          </td><td>2017-09-01                                   </td><td>243                                          </td><td> 465                                         </td><td>Kansas                                       </td><td>0                                            </td><td>1                                            </td><td>0                                            </td></tr>\n",
       "\t<tr><td> Yeezy                                       </td><td>Adidas-Yeezy-Boost-350-V2-Cream-White        </td><td>11.0                                         </td><td>2017-04-29                                   </td><td>118                                          </td><td>220                                          </td><td>2017-09-01                                   </td><td>243                                          </td><td> 465                                         </td><td>Florida                                      </td><td>0                                            </td><td>1                                            </td><td>0                                            </td></tr>\n",
       "\t<tr><td> Yeezy                                       </td><td>Adidas-Yeezy-Boost-350-V2-Cream-White        </td><td>11.5                                         </td><td>2017-04-29                                   </td><td>118                                          </td><td>220                                          </td><td>2017-09-01                                   </td><td>243                                          </td><td> 515                                         </td><td>New Jersey                                   </td><td>0                                            </td><td>1                                            </td><td>0                                            </td></tr>\n",
       "\t<tr><td> Yeezy                                       </td><td>Adidas-Yeezy-Boost-350-V2-Cream-White        </td><td>10.0                                         </td><td>2017-04-29                                   </td><td>118                                          </td><td>220                                          </td><td>2017-09-01                                   </td><td>243                                          </td><td> 473                                         </td><td>Texas                                        </td><td>0                                            </td><td>1                                            </td><td>0                                            </td></tr>\n",
       "\t<tr><td> Yeezy                                       </td><td>Adidas-Yeezy-Boost-350-V2-Cream-White        </td><td> 9.0                                         </td><td>2017-04-29                                   </td><td>118                                          </td><td>220                                          </td><td>2017-09-01                                   </td><td>243                                          </td><td> 460                                         </td><td>Florida                                      </td><td>0                                            </td><td>1                                            </td><td>0                                            </td></tr>\n",
       "\t<tr><td> Yeezy                                       </td><td>Adidas-Yeezy-Boost-350-V2-Zebra              </td><td>14.0                                         </td><td>2017-02-25                                   </td><td> 55                                          </td><td>220                                          </td><td>2017-09-01                                   </td><td>243                                          </td><td> 570                                         </td><td>Michigan                                     </td><td>0                                            </td><td>1                                            </td><td>0                                            </td></tr>\n",
       "\t<tr><td> Yeezy                                       </td><td>Adidas-Yeezy-Boost-350-V2-Zebra              </td><td> 8.0                                         </td><td>2017-02-25                                   </td><td> 55                                          </td><td>220                                          </td><td>2017-09-01                                   </td><td>243                                          </td><td> 525                                         </td><td>New York                                     </td><td>0                                            </td><td>1                                            </td><td>0                                            </td></tr>\n",
       "\t<tr><td> Yeezy                                       </td><td>Adidas-Yeezy-Boost-350-V2-Zebra              </td><td>11.0                                         </td><td>2017-02-25                                   </td><td> 55                                          </td><td>220                                          </td><td>2017-09-01                                   </td><td>243                                          </td><td> 658                                         </td><td>California                                   </td><td>0                                            </td><td>1                                            </td><td>0                                            </td></tr>\n",
       "\t<tr><td> Yeezy                                       </td><td>Adidas-Yeezy-Boost-350-V2-Zebra              </td><td>11.0                                         </td><td>2017-02-25                                   </td><td> 55                                          </td><td>220                                          </td><td>2017-09-01                                   </td><td>243                                          </td><td> 650                                         </td><td>North Carolina                               </td><td>0                                            </td><td>1                                            </td><td>0                                            </td></tr>\n",
       "\t<tr><td> Yeezy                                       </td><td>Adidas-Yeezy-Boost-350-V2-Zebra              </td><td>10.0                                         </td><td>2017-02-25                                   </td><td> 55                                          </td><td>220                                          </td><td>2017-09-01                                   </td><td>243                                          </td><td> 610                                         </td><td>New Jersey                                   </td><td>0                                            </td><td>1                                            </td><td>0                                            </td></tr>\n",
       "\t<tr><td> Yeezy                                       </td><td>Adidas-Yeezy-Boost-350-V2-Zebra              </td><td> 9.0                                         </td><td>2017-02-25                                   </td><td> 55                                          </td><td>220                                          </td><td>2017-09-01                                   </td><td>243                                          </td><td> 589                                         </td><td>New York                                     </td><td>0                                            </td><td>1                                            </td><td>0                                            </td></tr>\n",
       "\t<tr><td> Yeezy                                       </td><td>Adidas-Yeezy-Boost-350-V2-Zebra              </td><td> 5.5                                         </td><td>2017-02-25                                   </td><td> 55                                          </td><td>220                                          </td><td>2017-09-01                                   </td><td>243                                          </td><td> 850                                         </td><td>Michigan                                     </td><td>0                                            </td><td>1                                            </td><td>0                                            </td></tr>\n",
       "\t<tr><td> Yeezy                                       </td><td>Adidas-Yeezy-Boost-350-V2-Zebra              </td><td> 9.0                                         </td><td>2017-02-25                                   </td><td> 55                                          </td><td>220                                          </td><td>2017-09-01                                   </td><td>243                                          </td><td> 546                                         </td><td>Florida                                      </td><td>0                                            </td><td>1                                            </td><td>0                                            </td></tr>\n",
       "\t<tr><td> Yeezy                                       </td><td>Adidas-Yeezy-Boost-350-V2-Zebra              </td><td> 9.5                                         </td><td>2017-02-25                                   </td><td> 55                                          </td><td>220                                          </td><td>2017-09-01                                   </td><td>243                                          </td><td> 586                                         </td><td>Oregon                                       </td><td>0                                            </td><td>1                                            </td><td>0                                            </td></tr>\n",
       "\t<tr><td> Yeezy                                       </td><td>Adidas-Yeezy-Boost-350-V2-Zebra              </td><td>14.0                                         </td><td>2017-02-25                                   </td><td> 55                                          </td><td>220                                          </td><td>2017-09-01                                   </td><td>243                                          </td><td> 640                                         </td><td>California                                   </td><td>0                                            </td><td>1                                            </td><td>0                                            </td></tr>\n",
       "\t<tr><td> Yeezy                                       </td><td>Adidas-Yeezy-Boost-350-Low-V2-Beluga         </td><td> 8.0                                         </td><td>2016-09-24                                   </td><td>267                                          </td><td>220                                          </td><td>2017-09-02                                   </td><td>244                                          </td><td> 850                                         </td><td>Alabama                                      </td><td>0                                            </td><td>1                                            </td><td>0                                            </td></tr>\n",
       "\t<tr><td> Yeezy                                       </td><td>Adidas-Yeezy-Boost-350-V2-Core-Black-Red     </td><td>11.0                                         </td><td>2016-11-23                                   </td><td>327                                          </td><td>220                                          </td><td>2017-09-02                                   </td><td>244                                          </td><td> 999                                         </td><td>Kentucky                                     </td><td>0                                            </td><td>1                                            </td><td>0                                            </td></tr>\n",
       "\t<tr><td> Yeezy                                       </td><td>Adidas-Yeezy-Boost-350-V2-Core-Black-Red-2017</td><td> 9.0                                         </td><td>2017-02-11                                   </td><td> 41                                          </td><td>220                                          </td><td>2017-09-02                                   </td><td>244                                          </td><td> 740                                         </td><td>New York                                     </td><td>0                                            </td><td>1                                            </td><td>0                                            </td></tr>\n",
       "\t<tr><td> Yeezy                                       </td><td>Adidas-Yeezy-Boost-350-V2-Core-Black-Red-2017</td><td> 8.0                                         </td><td>2017-02-11                                   </td><td> 41                                          </td><td>220                                          </td><td>2017-09-02                                   </td><td>244                                          </td><td> 765                                         </td><td>New York                                     </td><td>0                                            </td><td>1                                            </td><td>0                                            </td></tr>\n",
       "\t<tr><td> Yeezy                                       </td><td>Adidas-Yeezy-Boost-350-V2-Core-Black-White   </td><td>11.5                                         </td><td>2016-12-17                                   </td><td>351                                          </td><td>220                                          </td><td>2017-09-02                                   </td><td>244                                          </td><td> 800                                         </td><td>Kentucky                                     </td><td>0                                            </td><td>1                                            </td><td>0                                            </td></tr>\n",
       "\t<tr><td> Yeezy                                       </td><td>Adidas-Yeezy-Boost-350-V2-Cream-White        </td><td>10.5                                         </td><td>2017-04-29                                   </td><td>118                                          </td><td>220                                          </td><td>2017-09-02                                   </td><td>244                                          </td><td> 470                                         </td><td>California                                   </td><td>0                                            </td><td>1                                            </td><td>0                                            </td></tr>\n",
       "\t<tr><td> Yeezy                                       </td><td>Adidas-Yeezy-Boost-350-V2-Cream-White        </td><td> 8.5                                         </td><td>2017-04-29                                   </td><td>118                                          </td><td>220                                          </td><td>2017-09-02                                   </td><td>244                                          </td><td> 455                                         </td><td>Oregon                                       </td><td>0                                            </td><td>1                                            </td><td>0                                            </td></tr>\n",
       "\t<tr><td>...</td><td>...</td><td>...</td><td>...</td><td>...</td><td>...</td><td>...</td><td>...</td><td>...</td><td>...</td><td>...</td><td>...</td><td>...</td></tr>\n",
       "\t<tr><td> Yeezy                                     </td><td>adidas-Yeezy-Boost-350-V2-Static           </td><td>10.0                                       </td><td>2018-12-27                                 </td><td>360                                        </td><td>220                                        </td><td>2019-02-13                                 </td><td>43                                         </td><td>330                                        </td><td>Oregon                                     </td><td>0                                          </td><td>1                                          </td><td>0                                          </td></tr>\n",
       "\t<tr><td> Yeezy                                     </td><td>adidas-Yeezy-Boost-350-V2-Static           </td><td> 5.0                                       </td><td>2018-12-27                                 </td><td>360                                        </td><td>220                                        </td><td>2019-02-13                                 </td><td>43                                         </td><td>354                                        </td><td>Pennsylvania                               </td><td>0                                          </td><td>1                                          </td><td>0                                          </td></tr>\n",
       "\t<tr><td> Yeezy                                     </td><td>adidas-Yeezy-Boost-350-V2-Static           </td><td>11.5                                       </td><td>2018-12-27                                 </td><td>360                                        </td><td>220                                        </td><td>2019-02-13                                 </td><td>43                                         </td><td>300                                        </td><td>New York                                   </td><td>0                                          </td><td>1                                          </td><td>0                                          </td></tr>\n",
       "\t<tr><td> Yeezy                                     </td><td>adidas-Yeezy-Boost-350-V2-Static           </td><td> 6.0                                       </td><td>2018-12-27                                 </td><td>360                                        </td><td>220                                        </td><td>2019-02-13                                 </td><td>43                                         </td><td>360                                        </td><td>California                                 </td><td>0                                          </td><td>1                                          </td><td>0                                          </td></tr>\n",
       "\t<tr><td> Yeezy                                     </td><td>adidas-Yeezy-Boost-350-V2-Static           </td><td> 4.0                                       </td><td>2018-12-27                                 </td><td>360                                        </td><td>220                                        </td><td>2019-02-13                                 </td><td>43                                         </td><td>339                                        </td><td>Oregon                                     </td><td>0                                          </td><td>1                                          </td><td>0                                          </td></tr>\n",
       "\t<tr><td> Yeezy                                     </td><td>adidas-Yeezy-Boost-350-V2-Static           </td><td> 8.5                                       </td><td>2018-12-27                                 </td><td>360                                        </td><td>220                                        </td><td>2019-02-13                                 </td><td>43                                         </td><td>344                                        </td><td>Oregon                                     </td><td>0                                          </td><td>1                                          </td><td>0                                          </td></tr>\n",
       "\t<tr><td> Yeezy                                     </td><td>adidas-Yeezy-Boost-350-V2-Static           </td><td> 7.5                                       </td><td>2018-12-27                                 </td><td>360                                        </td><td>220                                        </td><td>2019-02-13                                 </td><td>43                                         </td><td>340                                        </td><td>Oregon                                     </td><td>0                                          </td><td>1                                          </td><td>0                                          </td></tr>\n",
       "\t<tr><td> Yeezy                                     </td><td>adidas-Yeezy-Boost-350-V2-Static           </td><td>10.0                                       </td><td>2018-12-27                                 </td><td>360                                        </td><td>220                                        </td><td>2019-02-13                                 </td><td>43                                         </td><td>325                                        </td><td>Oregon                                     </td><td>0                                          </td><td>1                                          </td><td>0                                          </td></tr>\n",
       "\t<tr><td> Yeezy                                     </td><td>adidas-Yeezy-Boost-350-V2-Static           </td><td> 9.5                                       </td><td>2018-12-27                                 </td><td>360                                        </td><td>220                                        </td><td>2019-02-13                                 </td><td>43                                         </td><td>350                                        </td><td>California                                 </td><td>0                                          </td><td>1                                          </td><td>0                                          </td></tr>\n",
       "\t<tr><td> Yeezy                                     </td><td>adidas-Yeezy-Boost-350-V2-Static           </td><td>13.0                                       </td><td>2018-12-27                                 </td><td>360                                        </td><td>220                                        </td><td>2019-02-13                                 </td><td>43                                         </td><td>259                                        </td><td>Illinois                                   </td><td>0                                          </td><td>1                                          </td><td>0                                          </td></tr>\n",
       "\t<tr><td> Yeezy                                     </td><td>adidas-Yeezy-Boost-350-V2-Static           </td><td>12.0                                       </td><td>2018-12-27                                 </td><td>360                                        </td><td>220                                        </td><td>2019-02-13                                 </td><td>43                                         </td><td>284                                        </td><td>New York                                   </td><td>0                                          </td><td>1                                          </td><td>0                                          </td></tr>\n",
       "\t<tr><td> Yeezy                                     </td><td>adidas-Yeezy-Boost-350-V2-Static           </td><td> 9.0                                       </td><td>2018-12-27                                 </td><td>360                                        </td><td>220                                        </td><td>2019-02-13                                 </td><td>43                                         </td><td>345                                        </td><td>Oregon                                     </td><td>0                                          </td><td>1                                          </td><td>0                                          </td></tr>\n",
       "\t<tr><td> Yeezy                                     </td><td>adidas-Yeezy-Boost-350-V2-Static           </td><td> 5.0                                       </td><td>2018-12-27                                 </td><td>360                                        </td><td>220                                        </td><td>2019-02-13                                 </td><td>43                                         </td><td>350                                        </td><td>California                                 </td><td>0                                          </td><td>1                                          </td><td>0                                          </td></tr>\n",
       "\t<tr><td> Yeezy                                     </td><td>adidas-Yeezy-Boost-350-V2-Static-Reflective</td><td>11.0                                       </td><td>2018-12-26                                 </td><td>359                                        </td><td>220                                        </td><td>2019-02-13                                 </td><td>43                                         </td><td>700                                        </td><td>California                                 </td><td>0                                          </td><td>1                                          </td><td>0                                          </td></tr>\n",
       "\t<tr><td> Yeezy                                     </td><td>adidas-Yeezy-Boost-350-V2-Static-Reflective</td><td> 6.5                                       </td><td>2018-12-26                                 </td><td>359                                        </td><td>220                                        </td><td>2019-02-13                                 </td><td>43                                         </td><td>676                                        </td><td>California                                 </td><td>0                                          </td><td>1                                          </td><td>0                                          </td></tr>\n",
       "\t<tr><td> Yeezy                                     </td><td>adidas-Yeezy-Boost-350-V2-Static-Reflective</td><td> 8.5                                       </td><td>2018-12-26                                 </td><td>359                                        </td><td>220                                        </td><td>2019-02-13                                 </td><td>43                                         </td><td>573                                        </td><td>Oregon                                     </td><td>0                                          </td><td>1                                          </td><td>0                                          </td></tr>\n",
       "\t<tr><td> Yeezy                                     </td><td>adidas-Yeezy-Boost-350-V2-Static-Reflective</td><td>12.0                                       </td><td>2018-12-26                                 </td><td>359                                        </td><td>220                                        </td><td>2019-02-13                                 </td><td>43                                         </td><td>480                                        </td><td>Alabama                                    </td><td>0                                          </td><td>1                                          </td><td>0                                          </td></tr>\n",
       "\t<tr><td> Yeezy                                     </td><td>adidas-Yeezy-Boost-350-V2-Static-Reflective</td><td> 5.5                                       </td><td>2018-12-26                                 </td><td>359                                        </td><td>220                                        </td><td>2019-02-13                                 </td><td>43                                         </td><td>600                                        </td><td>Oregon                                     </td><td>0                                          </td><td>1                                          </td><td>0                                          </td></tr>\n",
       "\t<tr><td> Yeezy                                     </td><td>adidas-Yeezy-Boost-350-V2-Static-Reflective</td><td>14.0                                       </td><td>2018-12-26                                 </td><td>359                                        </td><td>220                                        </td><td>2019-02-13                                 </td><td>43                                         </td><td>335                                        </td><td>California                                 </td><td>0                                          </td><td>1                                          </td><td>0                                          </td></tr>\n",
       "\t<tr><td> Yeezy                                     </td><td>adidas-Yeezy-Boost-350-V2-Static-Reflective</td><td>11.0                                       </td><td>2018-12-26                                 </td><td>359                                        </td><td>220                                        </td><td>2019-02-13                                 </td><td>43                                         </td><td>699                                        </td><td>California                                 </td><td>0                                          </td><td>1                                          </td><td>0                                          </td></tr>\n",
       "\t<tr><td> Yeezy                                     </td><td>adidas-Yeezy-Boost-350-V2-Static-Reflective</td><td>11.0                                       </td><td>2018-12-26                                 </td><td>359                                        </td><td>220                                        </td><td>2019-02-13                                 </td><td>43                                         </td><td>699                                        </td><td>New Jersey                                 </td><td>0                                          </td><td>1                                          </td><td>0                                          </td></tr>\n",
       "\t<tr><td> Yeezy                                     </td><td>adidas-Yeezy-Boost-350-V2-Static-Reflective</td><td> 9.5                                       </td><td>2018-12-26                                 </td><td>359                                        </td><td>220                                        </td><td>2019-02-13                                 </td><td>43                                         </td><td>618                                        </td><td>California                                 </td><td>0                                          </td><td>1                                          </td><td>0                                          </td></tr>\n",
       "\t<tr><td> Yeezy                                     </td><td>adidas-Yeezy-Boost-350-V2-Static-Reflective</td><td> 9.0                                       </td><td>2018-12-26                                 </td><td>359                                        </td><td>220                                        </td><td>2019-02-13                                 </td><td>43                                         </td><td>581                                        </td><td>Oregon                                     </td><td>0                                          </td><td>1                                          </td><td>0                                          </td></tr>\n",
       "\t<tr><td> Yeezy                                     </td><td>adidas-Yeezy-Boost-350-V2-Static-Reflective</td><td> 8.5                                       </td><td>2018-12-26                                 </td><td>359                                        </td><td>220                                        </td><td>2019-02-13                                 </td><td>43                                         </td><td>594                                        </td><td>Oregon                                     </td><td>0                                          </td><td>1                                          </td><td>0                                          </td></tr>\n",
       "\t<tr><td> Yeezy                                     </td><td>adidas-Yeezy-Boost-350-V2-Static-Reflective</td><td>10.0                                       </td><td>2018-12-26                                 </td><td>359                                        </td><td>220                                        </td><td>2019-02-13                                 </td><td>43                                         </td><td>582                                        </td><td>New Jersey                                 </td><td>0                                          </td><td>1                                          </td><td>0                                          </td></tr>\n",
       "\t<tr><td> Yeezy                                     </td><td>adidas-Yeezy-Boost-350-V2-Static-Reflective</td><td> 8.0                                       </td><td>2018-12-26                                 </td><td>359                                        </td><td>220                                        </td><td>2019-02-13                                 </td><td>43                                         </td><td>565                                        </td><td>Oregon                                     </td><td>0                                          </td><td>1                                          </td><td>0                                          </td></tr>\n",
       "\t<tr><td> Yeezy                                     </td><td>adidas-Yeezy-Boost-350-V2-Static-Reflective</td><td> 8.5                                       </td><td>2018-12-26                                 </td><td>359                                        </td><td>220                                        </td><td>2019-02-13                                 </td><td>43                                         </td><td>598                                        </td><td>California                                 </td><td>0                                          </td><td>1                                          </td><td>0                                          </td></tr>\n",
       "\t<tr><td> Yeezy                                     </td><td>adidas-Yeezy-Boost-350-V2-Static-Reflective</td><td> 5.5                                       </td><td>2018-12-26                                 </td><td>359                                        </td><td>220                                        </td><td>2019-02-13                                 </td><td>43                                         </td><td>605                                        </td><td>New York                                   </td><td>0                                          </td><td>1                                          </td><td>0                                          </td></tr>\n",
       "\t<tr><td> Yeezy                                     </td><td>adidas-Yeezy-Boost-350-V2-Static-Reflective</td><td>11.0                                       </td><td>2018-12-26                                 </td><td>359                                        </td><td>220                                        </td><td>2019-02-13                                 </td><td>43                                         </td><td>650                                        </td><td>California                                 </td><td>0                                          </td><td>1                                          </td><td>0                                          </td></tr>\n",
       "\t<tr><td> Yeezy                                     </td><td>adidas-Yeezy-Boost-350-V2-Static-Reflective</td><td>11.5                                       </td><td>2018-12-26                                 </td><td>359                                        </td><td>220                                        </td><td>2019-02-13                                 </td><td>43                                         </td><td>640                                        </td><td>Texas                                      </td><td>0                                          </td><td>1                                          </td><td>0                                          </td></tr>\n",
       "</tbody>\n",
       "</table>\n"
      ],
      "text/latex": [
       "\\begin{tabular}{r|lllllllllllll}\n",
       " Brand & Sneaker\\_Name & Shoe\\_Size & Release\\_Date & day\\_Release & Retail\\_Price & Order\\_Date & day\\_Order & Sale\\_Price & Buyer\\_Region & Bought\\_for\\_Less\\_Than\\_Retail & Bought\\_more\\_Than\\_Retail & Bought\\_at\\_Retail\\\\\n",
       "\\hline\n",
       "\t  Yeezy                                        & Adidas-Yeezy-Boost-350-Low-V2-Beluga          & 11.0                                          & 2016-09-24                                    & 267                                           & 220                                           & 2017-09-01                                    & 243                                           & 1097                                          & California                                    & 0                                             & 1                                             & 0                                            \\\\\n",
       "\t  Yeezy                                        & Adidas-Yeezy-Boost-350-V2-Core-Black-Copper   & 11.0                                          & 2016-11-23                                    & 327                                           & 220                                           & 2017-09-01                                    & 243                                           &  685                                          & California                                    & 0                                             & 1                                             & 0                                            \\\\\n",
       "\t  Yeezy                                        & Adidas-Yeezy-Boost-350-V2-Core-Black-Green    & 11.0                                          & 2016-11-23                                    & 327                                           & 220                                           & 2017-09-01                                    & 243                                           &  690                                          & California                                    & 0                                             & 1                                             & 0                                            \\\\\n",
       "\t  Yeezy                                        & Adidas-Yeezy-Boost-350-V2-Core-Black-Red      & 11.5                                          & 2016-11-23                                    & 327                                           & 220                                           & 2017-09-01                                    & 243                                           & 1075                                          & Kentucky                                      & 0                                             & 1                                             & 0                                            \\\\\n",
       "\t  Yeezy                                        & Adidas-Yeezy-Boost-350-V2-Core-Black-Red-2017 & 11.0                                          & 2017-02-11                                    &  41                                           & 220                                           & 2017-09-01                                    & 243                                           &  828                                          & Rhode Island                                  & 0                                             & 1                                             & 0                                            \\\\\n",
       "\t  Yeezy                                        & Adidas-Yeezy-Boost-350-V2-Core-Black-Red-2017 &  8.5                                          & 2017-02-11                                    &  41                                           & 220                                           & 2017-09-01                                    & 243                                           &  798                                          & Michigan                                      & 0                                             & 1                                             & 0                                            \\\\\n",
       "\t  Yeezy                                        & Adidas-Yeezy-Boost-350-V2-Core-Black-White    & 11.0                                          & 2016-12-17                                    & 351                                           & 220                                           & 2017-09-01                                    & 243                                           &  784                                          & California                                    & 0                                             & 1                                             & 0                                            \\\\\n",
       "\t  Yeezy                                        & Adidas-Yeezy-Boost-350-V2-Cream-White         & 10.0                                          & 2017-04-29                                    & 118                                           & 220                                           & 2017-09-01                                    & 243                                           &  460                                          & New York                                      & 0                                             & 1                                             & 0                                            \\\\\n",
       "\t  Yeezy                                        & Adidas-Yeezy-Boost-350-V2-Cream-White         & 11.0                                          & 2017-04-29                                    & 118                                           & 220                                           & 2017-09-01                                    & 243                                           &  465                                          & Kansas                                        & 0                                             & 1                                             & 0                                            \\\\\n",
       "\t  Yeezy                                        & Adidas-Yeezy-Boost-350-V2-Cream-White         & 11.0                                          & 2017-04-29                                    & 118                                           & 220                                           & 2017-09-01                                    & 243                                           &  465                                          & Florida                                       & 0                                             & 1                                             & 0                                            \\\\\n",
       "\t  Yeezy                                        & Adidas-Yeezy-Boost-350-V2-Cream-White         & 11.5                                          & 2017-04-29                                    & 118                                           & 220                                           & 2017-09-01                                    & 243                                           &  515                                          & New Jersey                                    & 0                                             & 1                                             & 0                                            \\\\\n",
       "\t  Yeezy                                        & Adidas-Yeezy-Boost-350-V2-Cream-White         & 10.0                                          & 2017-04-29                                    & 118                                           & 220                                           & 2017-09-01                                    & 243                                           &  473                                          & Texas                                         & 0                                             & 1                                             & 0                                            \\\\\n",
       "\t  Yeezy                                        & Adidas-Yeezy-Boost-350-V2-Cream-White         &  9.0                                          & 2017-04-29                                    & 118                                           & 220                                           & 2017-09-01                                    & 243                                           &  460                                          & Florida                                       & 0                                             & 1                                             & 0                                            \\\\\n",
       "\t  Yeezy                                        & Adidas-Yeezy-Boost-350-V2-Zebra               & 14.0                                          & 2017-02-25                                    &  55                                           & 220                                           & 2017-09-01                                    & 243                                           &  570                                          & Michigan                                      & 0                                             & 1                                             & 0                                            \\\\\n",
       "\t  Yeezy                                        & Adidas-Yeezy-Boost-350-V2-Zebra               &  8.0                                          & 2017-02-25                                    &  55                                           & 220                                           & 2017-09-01                                    & 243                                           &  525                                          & New York                                      & 0                                             & 1                                             & 0                                            \\\\\n",
       "\t  Yeezy                                        & Adidas-Yeezy-Boost-350-V2-Zebra               & 11.0                                          & 2017-02-25                                    &  55                                           & 220                                           & 2017-09-01                                    & 243                                           &  658                                          & California                                    & 0                                             & 1                                             & 0                                            \\\\\n",
       "\t  Yeezy                                        & Adidas-Yeezy-Boost-350-V2-Zebra               & 11.0                                          & 2017-02-25                                    &  55                                           & 220                                           & 2017-09-01                                    & 243                                           &  650                                          & North Carolina                                & 0                                             & 1                                             & 0                                            \\\\\n",
       "\t  Yeezy                                        & Adidas-Yeezy-Boost-350-V2-Zebra               & 10.0                                          & 2017-02-25                                    &  55                                           & 220                                           & 2017-09-01                                    & 243                                           &  610                                          & New Jersey                                    & 0                                             & 1                                             & 0                                            \\\\\n",
       "\t  Yeezy                                        & Adidas-Yeezy-Boost-350-V2-Zebra               &  9.0                                          & 2017-02-25                                    &  55                                           & 220                                           & 2017-09-01                                    & 243                                           &  589                                          & New York                                      & 0                                             & 1                                             & 0                                            \\\\\n",
       "\t  Yeezy                                        & Adidas-Yeezy-Boost-350-V2-Zebra               &  5.5                                          & 2017-02-25                                    &  55                                           & 220                                           & 2017-09-01                                    & 243                                           &  850                                          & Michigan                                      & 0                                             & 1                                             & 0                                            \\\\\n",
       "\t  Yeezy                                        & Adidas-Yeezy-Boost-350-V2-Zebra               &  9.0                                          & 2017-02-25                                    &  55                                           & 220                                           & 2017-09-01                                    & 243                                           &  546                                          & Florida                                       & 0                                             & 1                                             & 0                                            \\\\\n",
       "\t  Yeezy                                        & Adidas-Yeezy-Boost-350-V2-Zebra               &  9.5                                          & 2017-02-25                                    &  55                                           & 220                                           & 2017-09-01                                    & 243                                           &  586                                          & Oregon                                        & 0                                             & 1                                             & 0                                            \\\\\n",
       "\t  Yeezy                                        & Adidas-Yeezy-Boost-350-V2-Zebra               & 14.0                                          & 2017-02-25                                    &  55                                           & 220                                           & 2017-09-01                                    & 243                                           &  640                                          & California                                    & 0                                             & 1                                             & 0                                            \\\\\n",
       "\t  Yeezy                                        & Adidas-Yeezy-Boost-350-Low-V2-Beluga          &  8.0                                          & 2016-09-24                                    & 267                                           & 220                                           & 2017-09-02                                    & 244                                           &  850                                          & Alabama                                       & 0                                             & 1                                             & 0                                            \\\\\n",
       "\t  Yeezy                                        & Adidas-Yeezy-Boost-350-V2-Core-Black-Red      & 11.0                                          & 2016-11-23                                    & 327                                           & 220                                           & 2017-09-02                                    & 244                                           &  999                                          & Kentucky                                      & 0                                             & 1                                             & 0                                            \\\\\n",
       "\t  Yeezy                                        & Adidas-Yeezy-Boost-350-V2-Core-Black-Red-2017 &  9.0                                          & 2017-02-11                                    &  41                                           & 220                                           & 2017-09-02                                    & 244                                           &  740                                          & New York                                      & 0                                             & 1                                             & 0                                            \\\\\n",
       "\t  Yeezy                                        & Adidas-Yeezy-Boost-350-V2-Core-Black-Red-2017 &  8.0                                          & 2017-02-11                                    &  41                                           & 220                                           & 2017-09-02                                    & 244                                           &  765                                          & New York                                      & 0                                             & 1                                             & 0                                            \\\\\n",
       "\t  Yeezy                                        & Adidas-Yeezy-Boost-350-V2-Core-Black-White    & 11.5                                          & 2016-12-17                                    & 351                                           & 220                                           & 2017-09-02                                    & 244                                           &  800                                          & Kentucky                                      & 0                                             & 1                                             & 0                                            \\\\\n",
       "\t  Yeezy                                        & Adidas-Yeezy-Boost-350-V2-Cream-White         & 10.5                                          & 2017-04-29                                    & 118                                           & 220                                           & 2017-09-02                                    & 244                                           &  470                                          & California                                    & 0                                             & 1                                             & 0                                            \\\\\n",
       "\t  Yeezy                                        & Adidas-Yeezy-Boost-350-V2-Cream-White         &  8.5                                          & 2017-04-29                                    & 118                                           & 220                                           & 2017-09-02                                    & 244                                           &  455                                          & Oregon                                        & 0                                             & 1                                             & 0                                            \\\\\n",
       "\t ... & ... & ... & ... & ... & ... & ... & ... & ... & ... & ... & ... & ...\\\\\n",
       "\t  Yeezy                                      & adidas-Yeezy-Boost-350-V2-Static            & 10.0                                        & 2018-12-27                                  & 360                                         & 220                                         & 2019-02-13                                  & 43                                          & 330                                         & Oregon                                      & 0                                           & 1                                           & 0                                          \\\\\n",
       "\t  Yeezy                                      & adidas-Yeezy-Boost-350-V2-Static            &  5.0                                        & 2018-12-27                                  & 360                                         & 220                                         & 2019-02-13                                  & 43                                          & 354                                         & Pennsylvania                                & 0                                           & 1                                           & 0                                          \\\\\n",
       "\t  Yeezy                                      & adidas-Yeezy-Boost-350-V2-Static            & 11.5                                        & 2018-12-27                                  & 360                                         & 220                                         & 2019-02-13                                  & 43                                          & 300                                         & New York                                    & 0                                           & 1                                           & 0                                          \\\\\n",
       "\t  Yeezy                                      & adidas-Yeezy-Boost-350-V2-Static            &  6.0                                        & 2018-12-27                                  & 360                                         & 220                                         & 2019-02-13                                  & 43                                          & 360                                         & California                                  & 0                                           & 1                                           & 0                                          \\\\\n",
       "\t  Yeezy                                      & adidas-Yeezy-Boost-350-V2-Static            &  4.0                                        & 2018-12-27                                  & 360                                         & 220                                         & 2019-02-13                                  & 43                                          & 339                                         & Oregon                                      & 0                                           & 1                                           & 0                                          \\\\\n",
       "\t  Yeezy                                      & adidas-Yeezy-Boost-350-V2-Static            &  8.5                                        & 2018-12-27                                  & 360                                         & 220                                         & 2019-02-13                                  & 43                                          & 344                                         & Oregon                                      & 0                                           & 1                                           & 0                                          \\\\\n",
       "\t  Yeezy                                      & adidas-Yeezy-Boost-350-V2-Static            &  7.5                                        & 2018-12-27                                  & 360                                         & 220                                         & 2019-02-13                                  & 43                                          & 340                                         & Oregon                                      & 0                                           & 1                                           & 0                                          \\\\\n",
       "\t  Yeezy                                      & adidas-Yeezy-Boost-350-V2-Static            & 10.0                                        & 2018-12-27                                  & 360                                         & 220                                         & 2019-02-13                                  & 43                                          & 325                                         & Oregon                                      & 0                                           & 1                                           & 0                                          \\\\\n",
       "\t  Yeezy                                      & adidas-Yeezy-Boost-350-V2-Static            &  9.5                                        & 2018-12-27                                  & 360                                         & 220                                         & 2019-02-13                                  & 43                                          & 350                                         & California                                  & 0                                           & 1                                           & 0                                          \\\\\n",
       "\t  Yeezy                                      & adidas-Yeezy-Boost-350-V2-Static            & 13.0                                        & 2018-12-27                                  & 360                                         & 220                                         & 2019-02-13                                  & 43                                          & 259                                         & Illinois                                    & 0                                           & 1                                           & 0                                          \\\\\n",
       "\t  Yeezy                                      & adidas-Yeezy-Boost-350-V2-Static            & 12.0                                        & 2018-12-27                                  & 360                                         & 220                                         & 2019-02-13                                  & 43                                          & 284                                         & New York                                    & 0                                           & 1                                           & 0                                          \\\\\n",
       "\t  Yeezy                                      & adidas-Yeezy-Boost-350-V2-Static            &  9.0                                        & 2018-12-27                                  & 360                                         & 220                                         & 2019-02-13                                  & 43                                          & 345                                         & Oregon                                      & 0                                           & 1                                           & 0                                          \\\\\n",
       "\t  Yeezy                                      & adidas-Yeezy-Boost-350-V2-Static            &  5.0                                        & 2018-12-27                                  & 360                                         & 220                                         & 2019-02-13                                  & 43                                          & 350                                         & California                                  & 0                                           & 1                                           & 0                                          \\\\\n",
       "\t  Yeezy                                      & adidas-Yeezy-Boost-350-V2-Static-Reflective & 11.0                                        & 2018-12-26                                  & 359                                         & 220                                         & 2019-02-13                                  & 43                                          & 700                                         & California                                  & 0                                           & 1                                           & 0                                          \\\\\n",
       "\t  Yeezy                                      & adidas-Yeezy-Boost-350-V2-Static-Reflective &  6.5                                        & 2018-12-26                                  & 359                                         & 220                                         & 2019-02-13                                  & 43                                          & 676                                         & California                                  & 0                                           & 1                                           & 0                                          \\\\\n",
       "\t  Yeezy                                      & adidas-Yeezy-Boost-350-V2-Static-Reflective &  8.5                                        & 2018-12-26                                  & 359                                         & 220                                         & 2019-02-13                                  & 43                                          & 573                                         & Oregon                                      & 0                                           & 1                                           & 0                                          \\\\\n",
       "\t  Yeezy                                      & adidas-Yeezy-Boost-350-V2-Static-Reflective & 12.0                                        & 2018-12-26                                  & 359                                         & 220                                         & 2019-02-13                                  & 43                                          & 480                                         & Alabama                                     & 0                                           & 1                                           & 0                                          \\\\\n",
       "\t  Yeezy                                      & adidas-Yeezy-Boost-350-V2-Static-Reflective &  5.5                                        & 2018-12-26                                  & 359                                         & 220                                         & 2019-02-13                                  & 43                                          & 600                                         & Oregon                                      & 0                                           & 1                                           & 0                                          \\\\\n",
       "\t  Yeezy                                      & adidas-Yeezy-Boost-350-V2-Static-Reflective & 14.0                                        & 2018-12-26                                  & 359                                         & 220                                         & 2019-02-13                                  & 43                                          & 335                                         & California                                  & 0                                           & 1                                           & 0                                          \\\\\n",
       "\t  Yeezy                                      & adidas-Yeezy-Boost-350-V2-Static-Reflective & 11.0                                        & 2018-12-26                                  & 359                                         & 220                                         & 2019-02-13                                  & 43                                          & 699                                         & California                                  & 0                                           & 1                                           & 0                                          \\\\\n",
       "\t  Yeezy                                      & adidas-Yeezy-Boost-350-V2-Static-Reflective & 11.0                                        & 2018-12-26                                  & 359                                         & 220                                         & 2019-02-13                                  & 43                                          & 699                                         & New Jersey                                  & 0                                           & 1                                           & 0                                          \\\\\n",
       "\t  Yeezy                                      & adidas-Yeezy-Boost-350-V2-Static-Reflective &  9.5                                        & 2018-12-26                                  & 359                                         & 220                                         & 2019-02-13                                  & 43                                          & 618                                         & California                                  & 0                                           & 1                                           & 0                                          \\\\\n",
       "\t  Yeezy                                      & adidas-Yeezy-Boost-350-V2-Static-Reflective &  9.0                                        & 2018-12-26                                  & 359                                         & 220                                         & 2019-02-13                                  & 43                                          & 581                                         & Oregon                                      & 0                                           & 1                                           & 0                                          \\\\\n",
       "\t  Yeezy                                      & adidas-Yeezy-Boost-350-V2-Static-Reflective &  8.5                                        & 2018-12-26                                  & 359                                         & 220                                         & 2019-02-13                                  & 43                                          & 594                                         & Oregon                                      & 0                                           & 1                                           & 0                                          \\\\\n",
       "\t  Yeezy                                      & adidas-Yeezy-Boost-350-V2-Static-Reflective & 10.0                                        & 2018-12-26                                  & 359                                         & 220                                         & 2019-02-13                                  & 43                                          & 582                                         & New Jersey                                  & 0                                           & 1                                           & 0                                          \\\\\n",
       "\t  Yeezy                                      & adidas-Yeezy-Boost-350-V2-Static-Reflective &  8.0                                        & 2018-12-26                                  & 359                                         & 220                                         & 2019-02-13                                  & 43                                          & 565                                         & Oregon                                      & 0                                           & 1                                           & 0                                          \\\\\n",
       "\t  Yeezy                                      & adidas-Yeezy-Boost-350-V2-Static-Reflective &  8.5                                        & 2018-12-26                                  & 359                                         & 220                                         & 2019-02-13                                  & 43                                          & 598                                         & California                                  & 0                                           & 1                                           & 0                                          \\\\\n",
       "\t  Yeezy                                      & adidas-Yeezy-Boost-350-V2-Static-Reflective &  5.5                                        & 2018-12-26                                  & 359                                         & 220                                         & 2019-02-13                                  & 43                                          & 605                                         & New York                                    & 0                                           & 1                                           & 0                                          \\\\\n",
       "\t  Yeezy                                      & adidas-Yeezy-Boost-350-V2-Static-Reflective & 11.0                                        & 2018-12-26                                  & 359                                         & 220                                         & 2019-02-13                                  & 43                                          & 650                                         & California                                  & 0                                           & 1                                           & 0                                          \\\\\n",
       "\t  Yeezy                                      & adidas-Yeezy-Boost-350-V2-Static-Reflective & 11.5                                        & 2018-12-26                                  & 359                                         & 220                                         & 2019-02-13                                  & 43                                          & 640                                         & Texas                                       & 0                                           & 1                                           & 0                                          \\\\\n",
       "\\end{tabular}\n"
      ],
      "text/markdown": [
       "\n",
       "| Brand | Sneaker_Name | Shoe_Size | Release_Date | day_Release | Retail_Price | Order_Date | day_Order | Sale_Price | Buyer_Region | Bought_for_Less_Than_Retail | Bought_more_Than_Retail | Bought_at_Retail |\n",
       "|---|---|---|---|---|---|---|---|---|---|---|---|---|\n",
       "|  Yeezy                                        | Adidas-Yeezy-Boost-350-Low-V2-Beluga          | 11.0                                          | 2016-09-24                                    | 267                                           | 220                                           | 2017-09-01                                    | 243                                           | 1097                                          | California                                    | 0                                             | 1                                             | 0                                             |\n",
       "|  Yeezy                                        | Adidas-Yeezy-Boost-350-V2-Core-Black-Copper   | 11.0                                          | 2016-11-23                                    | 327                                           | 220                                           | 2017-09-01                                    | 243                                           |  685                                          | California                                    | 0                                             | 1                                             | 0                                             |\n",
       "|  Yeezy                                        | Adidas-Yeezy-Boost-350-V2-Core-Black-Green    | 11.0                                          | 2016-11-23                                    | 327                                           | 220                                           | 2017-09-01                                    | 243                                           |  690                                          | California                                    | 0                                             | 1                                             | 0                                             |\n",
       "|  Yeezy                                        | Adidas-Yeezy-Boost-350-V2-Core-Black-Red      | 11.5                                          | 2016-11-23                                    | 327                                           | 220                                           | 2017-09-01                                    | 243                                           | 1075                                          | Kentucky                                      | 0                                             | 1                                             | 0                                             |\n",
       "|  Yeezy                                        | Adidas-Yeezy-Boost-350-V2-Core-Black-Red-2017 | 11.0                                          | 2017-02-11                                    |  41                                           | 220                                           | 2017-09-01                                    | 243                                           |  828                                          | Rhode Island                                  | 0                                             | 1                                             | 0                                             |\n",
       "|  Yeezy                                        | Adidas-Yeezy-Boost-350-V2-Core-Black-Red-2017 |  8.5                                          | 2017-02-11                                    |  41                                           | 220                                           | 2017-09-01                                    | 243                                           |  798                                          | Michigan                                      | 0                                             | 1                                             | 0                                             |\n",
       "|  Yeezy                                        | Adidas-Yeezy-Boost-350-V2-Core-Black-White    | 11.0                                          | 2016-12-17                                    | 351                                           | 220                                           | 2017-09-01                                    | 243                                           |  784                                          | California                                    | 0                                             | 1                                             | 0                                             |\n",
       "|  Yeezy                                        | Adidas-Yeezy-Boost-350-V2-Cream-White         | 10.0                                          | 2017-04-29                                    | 118                                           | 220                                           | 2017-09-01                                    | 243                                           |  460                                          | New York                                      | 0                                             | 1                                             | 0                                             |\n",
       "|  Yeezy                                        | Adidas-Yeezy-Boost-350-V2-Cream-White         | 11.0                                          | 2017-04-29                                    | 118                                           | 220                                           | 2017-09-01                                    | 243                                           |  465                                          | Kansas                                        | 0                                             | 1                                             | 0                                             |\n",
       "|  Yeezy                                        | Adidas-Yeezy-Boost-350-V2-Cream-White         | 11.0                                          | 2017-04-29                                    | 118                                           | 220                                           | 2017-09-01                                    | 243                                           |  465                                          | Florida                                       | 0                                             | 1                                             | 0                                             |\n",
       "|  Yeezy                                        | Adidas-Yeezy-Boost-350-V2-Cream-White         | 11.5                                          | 2017-04-29                                    | 118                                           | 220                                           | 2017-09-01                                    | 243                                           |  515                                          | New Jersey                                    | 0                                             | 1                                             | 0                                             |\n",
       "|  Yeezy                                        | Adidas-Yeezy-Boost-350-V2-Cream-White         | 10.0                                          | 2017-04-29                                    | 118                                           | 220                                           | 2017-09-01                                    | 243                                           |  473                                          | Texas                                         | 0                                             | 1                                             | 0                                             |\n",
       "|  Yeezy                                        | Adidas-Yeezy-Boost-350-V2-Cream-White         |  9.0                                          | 2017-04-29                                    | 118                                           | 220                                           | 2017-09-01                                    | 243                                           |  460                                          | Florida                                       | 0                                             | 1                                             | 0                                             |\n",
       "|  Yeezy                                        | Adidas-Yeezy-Boost-350-V2-Zebra               | 14.0                                          | 2017-02-25                                    |  55                                           | 220                                           | 2017-09-01                                    | 243                                           |  570                                          | Michigan                                      | 0                                             | 1                                             | 0                                             |\n",
       "|  Yeezy                                        | Adidas-Yeezy-Boost-350-V2-Zebra               |  8.0                                          | 2017-02-25                                    |  55                                           | 220                                           | 2017-09-01                                    | 243                                           |  525                                          | New York                                      | 0                                             | 1                                             | 0                                             |\n",
       "|  Yeezy                                        | Adidas-Yeezy-Boost-350-V2-Zebra               | 11.0                                          | 2017-02-25                                    |  55                                           | 220                                           | 2017-09-01                                    | 243                                           |  658                                          | California                                    | 0                                             | 1                                             | 0                                             |\n",
       "|  Yeezy                                        | Adidas-Yeezy-Boost-350-V2-Zebra               | 11.0                                          | 2017-02-25                                    |  55                                           | 220                                           | 2017-09-01                                    | 243                                           |  650                                          | North Carolina                                | 0                                             | 1                                             | 0                                             |\n",
       "|  Yeezy                                        | Adidas-Yeezy-Boost-350-V2-Zebra               | 10.0                                          | 2017-02-25                                    |  55                                           | 220                                           | 2017-09-01                                    | 243                                           |  610                                          | New Jersey                                    | 0                                             | 1                                             | 0                                             |\n",
       "|  Yeezy                                        | Adidas-Yeezy-Boost-350-V2-Zebra               |  9.0                                          | 2017-02-25                                    |  55                                           | 220                                           | 2017-09-01                                    | 243                                           |  589                                          | New York                                      | 0                                             | 1                                             | 0                                             |\n",
       "|  Yeezy                                        | Adidas-Yeezy-Boost-350-V2-Zebra               |  5.5                                          | 2017-02-25                                    |  55                                           | 220                                           | 2017-09-01                                    | 243                                           |  850                                          | Michigan                                      | 0                                             | 1                                             | 0                                             |\n",
       "|  Yeezy                                        | Adidas-Yeezy-Boost-350-V2-Zebra               |  9.0                                          | 2017-02-25                                    |  55                                           | 220                                           | 2017-09-01                                    | 243                                           |  546                                          | Florida                                       | 0                                             | 1                                             | 0                                             |\n",
       "|  Yeezy                                        | Adidas-Yeezy-Boost-350-V2-Zebra               |  9.5                                          | 2017-02-25                                    |  55                                           | 220                                           | 2017-09-01                                    | 243                                           |  586                                          | Oregon                                        | 0                                             | 1                                             | 0                                             |\n",
       "|  Yeezy                                        | Adidas-Yeezy-Boost-350-V2-Zebra               | 14.0                                          | 2017-02-25                                    |  55                                           | 220                                           | 2017-09-01                                    | 243                                           |  640                                          | California                                    | 0                                             | 1                                             | 0                                             |\n",
       "|  Yeezy                                        | Adidas-Yeezy-Boost-350-Low-V2-Beluga          |  8.0                                          | 2016-09-24                                    | 267                                           | 220                                           | 2017-09-02                                    | 244                                           |  850                                          | Alabama                                       | 0                                             | 1                                             | 0                                             |\n",
       "|  Yeezy                                        | Adidas-Yeezy-Boost-350-V2-Core-Black-Red      | 11.0                                          | 2016-11-23                                    | 327                                           | 220                                           | 2017-09-02                                    | 244                                           |  999                                          | Kentucky                                      | 0                                             | 1                                             | 0                                             |\n",
       "|  Yeezy                                        | Adidas-Yeezy-Boost-350-V2-Core-Black-Red-2017 |  9.0                                          | 2017-02-11                                    |  41                                           | 220                                           | 2017-09-02                                    | 244                                           |  740                                          | New York                                      | 0                                             | 1                                             | 0                                             |\n",
       "|  Yeezy                                        | Adidas-Yeezy-Boost-350-V2-Core-Black-Red-2017 |  8.0                                          | 2017-02-11                                    |  41                                           | 220                                           | 2017-09-02                                    | 244                                           |  765                                          | New York                                      | 0                                             | 1                                             | 0                                             |\n",
       "|  Yeezy                                        | Adidas-Yeezy-Boost-350-V2-Core-Black-White    | 11.5                                          | 2016-12-17                                    | 351                                           | 220                                           | 2017-09-02                                    | 244                                           |  800                                          | Kentucky                                      | 0                                             | 1                                             | 0                                             |\n",
       "|  Yeezy                                        | Adidas-Yeezy-Boost-350-V2-Cream-White         | 10.5                                          | 2017-04-29                                    | 118                                           | 220                                           | 2017-09-02                                    | 244                                           |  470                                          | California                                    | 0                                             | 1                                             | 0                                             |\n",
       "|  Yeezy                                        | Adidas-Yeezy-Boost-350-V2-Cream-White         |  8.5                                          | 2017-04-29                                    | 118                                           | 220                                           | 2017-09-02                                    | 244                                           |  455                                          | Oregon                                        | 0                                             | 1                                             | 0                                             |\n",
       "| ... | ... | ... | ... | ... | ... | ... | ... | ... | ... | ... | ... | ... |\n",
       "|  Yeezy                                      | adidas-Yeezy-Boost-350-V2-Static            | 10.0                                        | 2018-12-27                                  | 360                                         | 220                                         | 2019-02-13                                  | 43                                          | 330                                         | Oregon                                      | 0                                           | 1                                           | 0                                           |\n",
       "|  Yeezy                                      | adidas-Yeezy-Boost-350-V2-Static            |  5.0                                        | 2018-12-27                                  | 360                                         | 220                                         | 2019-02-13                                  | 43                                          | 354                                         | Pennsylvania                                | 0                                           | 1                                           | 0                                           |\n",
       "|  Yeezy                                      | adidas-Yeezy-Boost-350-V2-Static            | 11.5                                        | 2018-12-27                                  | 360                                         | 220                                         | 2019-02-13                                  | 43                                          | 300                                         | New York                                    | 0                                           | 1                                           | 0                                           |\n",
       "|  Yeezy                                      | adidas-Yeezy-Boost-350-V2-Static            |  6.0                                        | 2018-12-27                                  | 360                                         | 220                                         | 2019-02-13                                  | 43                                          | 360                                         | California                                  | 0                                           | 1                                           | 0                                           |\n",
       "|  Yeezy                                      | adidas-Yeezy-Boost-350-V2-Static            |  4.0                                        | 2018-12-27                                  | 360                                         | 220                                         | 2019-02-13                                  | 43                                          | 339                                         | Oregon                                      | 0                                           | 1                                           | 0                                           |\n",
       "|  Yeezy                                      | adidas-Yeezy-Boost-350-V2-Static            |  8.5                                        | 2018-12-27                                  | 360                                         | 220                                         | 2019-02-13                                  | 43                                          | 344                                         | Oregon                                      | 0                                           | 1                                           | 0                                           |\n",
       "|  Yeezy                                      | adidas-Yeezy-Boost-350-V2-Static            |  7.5                                        | 2018-12-27                                  | 360                                         | 220                                         | 2019-02-13                                  | 43                                          | 340                                         | Oregon                                      | 0                                           | 1                                           | 0                                           |\n",
       "|  Yeezy                                      | adidas-Yeezy-Boost-350-V2-Static            | 10.0                                        | 2018-12-27                                  | 360                                         | 220                                         | 2019-02-13                                  | 43                                          | 325                                         | Oregon                                      | 0                                           | 1                                           | 0                                           |\n",
       "|  Yeezy                                      | adidas-Yeezy-Boost-350-V2-Static            |  9.5                                        | 2018-12-27                                  | 360                                         | 220                                         | 2019-02-13                                  | 43                                          | 350                                         | California                                  | 0                                           | 1                                           | 0                                           |\n",
       "|  Yeezy                                      | adidas-Yeezy-Boost-350-V2-Static            | 13.0                                        | 2018-12-27                                  | 360                                         | 220                                         | 2019-02-13                                  | 43                                          | 259                                         | Illinois                                    | 0                                           | 1                                           | 0                                           |\n",
       "|  Yeezy                                      | adidas-Yeezy-Boost-350-V2-Static            | 12.0                                        | 2018-12-27                                  | 360                                         | 220                                         | 2019-02-13                                  | 43                                          | 284                                         | New York                                    | 0                                           | 1                                           | 0                                           |\n",
       "|  Yeezy                                      | adidas-Yeezy-Boost-350-V2-Static            |  9.0                                        | 2018-12-27                                  | 360                                         | 220                                         | 2019-02-13                                  | 43                                          | 345                                         | Oregon                                      | 0                                           | 1                                           | 0                                           |\n",
       "|  Yeezy                                      | adidas-Yeezy-Boost-350-V2-Static            |  5.0                                        | 2018-12-27                                  | 360                                         | 220                                         | 2019-02-13                                  | 43                                          | 350                                         | California                                  | 0                                           | 1                                           | 0                                           |\n",
       "|  Yeezy                                      | adidas-Yeezy-Boost-350-V2-Static-Reflective | 11.0                                        | 2018-12-26                                  | 359                                         | 220                                         | 2019-02-13                                  | 43                                          | 700                                         | California                                  | 0                                           | 1                                           | 0                                           |\n",
       "|  Yeezy                                      | adidas-Yeezy-Boost-350-V2-Static-Reflective |  6.5                                        | 2018-12-26                                  | 359                                         | 220                                         | 2019-02-13                                  | 43                                          | 676                                         | California                                  | 0                                           | 1                                           | 0                                           |\n",
       "|  Yeezy                                      | adidas-Yeezy-Boost-350-V2-Static-Reflective |  8.5                                        | 2018-12-26                                  | 359                                         | 220                                         | 2019-02-13                                  | 43                                          | 573                                         | Oregon                                      | 0                                           | 1                                           | 0                                           |\n",
       "|  Yeezy                                      | adidas-Yeezy-Boost-350-V2-Static-Reflective | 12.0                                        | 2018-12-26                                  | 359                                         | 220                                         | 2019-02-13                                  | 43                                          | 480                                         | Alabama                                     | 0                                           | 1                                           | 0                                           |\n",
       "|  Yeezy                                      | adidas-Yeezy-Boost-350-V2-Static-Reflective |  5.5                                        | 2018-12-26                                  | 359                                         | 220                                         | 2019-02-13                                  | 43                                          | 600                                         | Oregon                                      | 0                                           | 1                                           | 0                                           |\n",
       "|  Yeezy                                      | adidas-Yeezy-Boost-350-V2-Static-Reflective | 14.0                                        | 2018-12-26                                  | 359                                         | 220                                         | 2019-02-13                                  | 43                                          | 335                                         | California                                  | 0                                           | 1                                           | 0                                           |\n",
       "|  Yeezy                                      | adidas-Yeezy-Boost-350-V2-Static-Reflective | 11.0                                        | 2018-12-26                                  | 359                                         | 220                                         | 2019-02-13                                  | 43                                          | 699                                         | California                                  | 0                                           | 1                                           | 0                                           |\n",
       "|  Yeezy                                      | adidas-Yeezy-Boost-350-V2-Static-Reflective | 11.0                                        | 2018-12-26                                  | 359                                         | 220                                         | 2019-02-13                                  | 43                                          | 699                                         | New Jersey                                  | 0                                           | 1                                           | 0                                           |\n",
       "|  Yeezy                                      | adidas-Yeezy-Boost-350-V2-Static-Reflective |  9.5                                        | 2018-12-26                                  | 359                                         | 220                                         | 2019-02-13                                  | 43                                          | 618                                         | California                                  | 0                                           | 1                                           | 0                                           |\n",
       "|  Yeezy                                      | adidas-Yeezy-Boost-350-V2-Static-Reflective |  9.0                                        | 2018-12-26                                  | 359                                         | 220                                         | 2019-02-13                                  | 43                                          | 581                                         | Oregon                                      | 0                                           | 1                                           | 0                                           |\n",
       "|  Yeezy                                      | adidas-Yeezy-Boost-350-V2-Static-Reflective |  8.5                                        | 2018-12-26                                  | 359                                         | 220                                         | 2019-02-13                                  | 43                                          | 594                                         | Oregon                                      | 0                                           | 1                                           | 0                                           |\n",
       "|  Yeezy                                      | adidas-Yeezy-Boost-350-V2-Static-Reflective | 10.0                                        | 2018-12-26                                  | 359                                         | 220                                         | 2019-02-13                                  | 43                                          | 582                                         | New Jersey                                  | 0                                           | 1                                           | 0                                           |\n",
       "|  Yeezy                                      | adidas-Yeezy-Boost-350-V2-Static-Reflective |  8.0                                        | 2018-12-26                                  | 359                                         | 220                                         | 2019-02-13                                  | 43                                          | 565                                         | Oregon                                      | 0                                           | 1                                           | 0                                           |\n",
       "|  Yeezy                                      | adidas-Yeezy-Boost-350-V2-Static-Reflective |  8.5                                        | 2018-12-26                                  | 359                                         | 220                                         | 2019-02-13                                  | 43                                          | 598                                         | California                                  | 0                                           | 1                                           | 0                                           |\n",
       "|  Yeezy                                      | adidas-Yeezy-Boost-350-V2-Static-Reflective |  5.5                                        | 2018-12-26                                  | 359                                         | 220                                         | 2019-02-13                                  | 43                                          | 605                                         | New York                                    | 0                                           | 1                                           | 0                                           |\n",
       "|  Yeezy                                      | adidas-Yeezy-Boost-350-V2-Static-Reflective | 11.0                                        | 2018-12-26                                  | 359                                         | 220                                         | 2019-02-13                                  | 43                                          | 650                                         | California                                  | 0                                           | 1                                           | 0                                           |\n",
       "|  Yeezy                                      | adidas-Yeezy-Boost-350-V2-Static-Reflective | 11.5                                        | 2018-12-26                                  | 359                                         | 220                                         | 2019-02-13                                  | 43                                          | 640                                         | Texas                                       | 0                                           | 1                                           | 0                                           |\n",
       "\n"
      ],
      "text/plain": [
       "      Brand  Sneaker_Name                                  Shoe_Size\n",
       "1      Yeezy Adidas-Yeezy-Boost-350-Low-V2-Beluga          11.0     \n",
       "2      Yeezy Adidas-Yeezy-Boost-350-V2-Core-Black-Copper   11.0     \n",
       "3      Yeezy Adidas-Yeezy-Boost-350-V2-Core-Black-Green    11.0     \n",
       "4      Yeezy Adidas-Yeezy-Boost-350-V2-Core-Black-Red      11.5     \n",
       "5      Yeezy Adidas-Yeezy-Boost-350-V2-Core-Black-Red-2017 11.0     \n",
       "6      Yeezy Adidas-Yeezy-Boost-350-V2-Core-Black-Red-2017  8.5     \n",
       "7      Yeezy Adidas-Yeezy-Boost-350-V2-Core-Black-White    11.0     \n",
       "8      Yeezy Adidas-Yeezy-Boost-350-V2-Cream-White         10.0     \n",
       "9      Yeezy Adidas-Yeezy-Boost-350-V2-Cream-White         11.0     \n",
       "10     Yeezy Adidas-Yeezy-Boost-350-V2-Cream-White         11.0     \n",
       "11     Yeezy Adidas-Yeezy-Boost-350-V2-Cream-White         11.5     \n",
       "12     Yeezy Adidas-Yeezy-Boost-350-V2-Cream-White         10.0     \n",
       "13     Yeezy Adidas-Yeezy-Boost-350-V2-Cream-White          9.0     \n",
       "14     Yeezy Adidas-Yeezy-Boost-350-V2-Zebra               14.0     \n",
       "15     Yeezy Adidas-Yeezy-Boost-350-V2-Zebra                8.0     \n",
       "16     Yeezy Adidas-Yeezy-Boost-350-V2-Zebra               11.0     \n",
       "17     Yeezy Adidas-Yeezy-Boost-350-V2-Zebra               11.0     \n",
       "18     Yeezy Adidas-Yeezy-Boost-350-V2-Zebra               10.0     \n",
       "19     Yeezy Adidas-Yeezy-Boost-350-V2-Zebra                9.0     \n",
       "20     Yeezy Adidas-Yeezy-Boost-350-V2-Zebra                5.5     \n",
       "21     Yeezy Adidas-Yeezy-Boost-350-V2-Zebra                9.0     \n",
       "22     Yeezy Adidas-Yeezy-Boost-350-V2-Zebra                9.5     \n",
       "23     Yeezy Adidas-Yeezy-Boost-350-V2-Zebra               14.0     \n",
       "24     Yeezy Adidas-Yeezy-Boost-350-Low-V2-Beluga           8.0     \n",
       "25     Yeezy Adidas-Yeezy-Boost-350-V2-Core-Black-Red      11.0     \n",
       "26     Yeezy Adidas-Yeezy-Boost-350-V2-Core-Black-Red-2017  9.0     \n",
       "27     Yeezy Adidas-Yeezy-Boost-350-V2-Core-Black-Red-2017  8.0     \n",
       "28     Yeezy Adidas-Yeezy-Boost-350-V2-Core-Black-White    11.5     \n",
       "29     Yeezy Adidas-Yeezy-Boost-350-V2-Cream-White         10.5     \n",
       "30     Yeezy Adidas-Yeezy-Boost-350-V2-Cream-White          8.5     \n",
       "...   ...    ...                                           ...      \n",
       "99927  Yeezy adidas-Yeezy-Boost-350-V2-Static              10.0     \n",
       "99928  Yeezy adidas-Yeezy-Boost-350-V2-Static               5.0     \n",
       "99929  Yeezy adidas-Yeezy-Boost-350-V2-Static              11.5     \n",
       "99930  Yeezy adidas-Yeezy-Boost-350-V2-Static               6.0     \n",
       "99931  Yeezy adidas-Yeezy-Boost-350-V2-Static               4.0     \n",
       "99932  Yeezy adidas-Yeezy-Boost-350-V2-Static               8.5     \n",
       "99933  Yeezy adidas-Yeezy-Boost-350-V2-Static               7.5     \n",
       "99934  Yeezy adidas-Yeezy-Boost-350-V2-Static              10.0     \n",
       "99935  Yeezy adidas-Yeezy-Boost-350-V2-Static               9.5     \n",
       "99936  Yeezy adidas-Yeezy-Boost-350-V2-Static              13.0     \n",
       "99937  Yeezy adidas-Yeezy-Boost-350-V2-Static              12.0     \n",
       "99938  Yeezy adidas-Yeezy-Boost-350-V2-Static               9.0     \n",
       "99939  Yeezy adidas-Yeezy-Boost-350-V2-Static               5.0     \n",
       "99940  Yeezy adidas-Yeezy-Boost-350-V2-Static-Reflective   11.0     \n",
       "99941  Yeezy adidas-Yeezy-Boost-350-V2-Static-Reflective    6.5     \n",
       "99942  Yeezy adidas-Yeezy-Boost-350-V2-Static-Reflective    8.5     \n",
       "99943  Yeezy adidas-Yeezy-Boost-350-V2-Static-Reflective   12.0     \n",
       "99944  Yeezy adidas-Yeezy-Boost-350-V2-Static-Reflective    5.5     \n",
       "99945  Yeezy adidas-Yeezy-Boost-350-V2-Static-Reflective   14.0     \n",
       "99946  Yeezy adidas-Yeezy-Boost-350-V2-Static-Reflective   11.0     \n",
       "99947  Yeezy adidas-Yeezy-Boost-350-V2-Static-Reflective   11.0     \n",
       "99948  Yeezy adidas-Yeezy-Boost-350-V2-Static-Reflective    9.5     \n",
       "99949  Yeezy adidas-Yeezy-Boost-350-V2-Static-Reflective    9.0     \n",
       "99950  Yeezy adidas-Yeezy-Boost-350-V2-Static-Reflective    8.5     \n",
       "99951  Yeezy adidas-Yeezy-Boost-350-V2-Static-Reflective   10.0     \n",
       "99952  Yeezy adidas-Yeezy-Boost-350-V2-Static-Reflective    8.0     \n",
       "99953  Yeezy adidas-Yeezy-Boost-350-V2-Static-Reflective    8.5     \n",
       "99954  Yeezy adidas-Yeezy-Boost-350-V2-Static-Reflective    5.5     \n",
       "99955  Yeezy adidas-Yeezy-Boost-350-V2-Static-Reflective   11.0     \n",
       "99956  Yeezy adidas-Yeezy-Boost-350-V2-Static-Reflective   11.5     \n",
       "      Release_Date day_Release Retail_Price Order_Date day_Order Sale_Price\n",
       "1     2016-09-24   267         220          2017-09-01 243       1097      \n",
       "2     2016-11-23   327         220          2017-09-01 243        685      \n",
       "3     2016-11-23   327         220          2017-09-01 243        690      \n",
       "4     2016-11-23   327         220          2017-09-01 243       1075      \n",
       "5     2017-02-11    41         220          2017-09-01 243        828      \n",
       "6     2017-02-11    41         220          2017-09-01 243        798      \n",
       "7     2016-12-17   351         220          2017-09-01 243        784      \n",
       "8     2017-04-29   118         220          2017-09-01 243        460      \n",
       "9     2017-04-29   118         220          2017-09-01 243        465      \n",
       "10    2017-04-29   118         220          2017-09-01 243        465      \n",
       "11    2017-04-29   118         220          2017-09-01 243        515      \n",
       "12    2017-04-29   118         220          2017-09-01 243        473      \n",
       "13    2017-04-29   118         220          2017-09-01 243        460      \n",
       "14    2017-02-25    55         220          2017-09-01 243        570      \n",
       "15    2017-02-25    55         220          2017-09-01 243        525      \n",
       "16    2017-02-25    55         220          2017-09-01 243        658      \n",
       "17    2017-02-25    55         220          2017-09-01 243        650      \n",
       "18    2017-02-25    55         220          2017-09-01 243        610      \n",
       "19    2017-02-25    55         220          2017-09-01 243        589      \n",
       "20    2017-02-25    55         220          2017-09-01 243        850      \n",
       "21    2017-02-25    55         220          2017-09-01 243        546      \n",
       "22    2017-02-25    55         220          2017-09-01 243        586      \n",
       "23    2017-02-25    55         220          2017-09-01 243        640      \n",
       "24    2016-09-24   267         220          2017-09-02 244        850      \n",
       "25    2016-11-23   327         220          2017-09-02 244        999      \n",
       "26    2017-02-11    41         220          2017-09-02 244        740      \n",
       "27    2017-02-11    41         220          2017-09-02 244        765      \n",
       "28    2016-12-17   351         220          2017-09-02 244        800      \n",
       "29    2017-04-29   118         220          2017-09-02 244        470      \n",
       "30    2017-04-29   118         220          2017-09-02 244        455      \n",
       "...   ...          ...         ...          ...        ...       ...       \n",
       "99927 2018-12-27   360         220          2019-02-13 43        330       \n",
       "99928 2018-12-27   360         220          2019-02-13 43        354       \n",
       "99929 2018-12-27   360         220          2019-02-13 43        300       \n",
       "99930 2018-12-27   360         220          2019-02-13 43        360       \n",
       "99931 2018-12-27   360         220          2019-02-13 43        339       \n",
       "99932 2018-12-27   360         220          2019-02-13 43        344       \n",
       "99933 2018-12-27   360         220          2019-02-13 43        340       \n",
       "99934 2018-12-27   360         220          2019-02-13 43        325       \n",
       "99935 2018-12-27   360         220          2019-02-13 43        350       \n",
       "99936 2018-12-27   360         220          2019-02-13 43        259       \n",
       "99937 2018-12-27   360         220          2019-02-13 43        284       \n",
       "99938 2018-12-27   360         220          2019-02-13 43        345       \n",
       "99939 2018-12-27   360         220          2019-02-13 43        350       \n",
       "99940 2018-12-26   359         220          2019-02-13 43        700       \n",
       "99941 2018-12-26   359         220          2019-02-13 43        676       \n",
       "99942 2018-12-26   359         220          2019-02-13 43        573       \n",
       "99943 2018-12-26   359         220          2019-02-13 43        480       \n",
       "99944 2018-12-26   359         220          2019-02-13 43        600       \n",
       "99945 2018-12-26   359         220          2019-02-13 43        335       \n",
       "99946 2018-12-26   359         220          2019-02-13 43        699       \n",
       "99947 2018-12-26   359         220          2019-02-13 43        699       \n",
       "99948 2018-12-26   359         220          2019-02-13 43        618       \n",
       "99949 2018-12-26   359         220          2019-02-13 43        581       \n",
       "99950 2018-12-26   359         220          2019-02-13 43        594       \n",
       "99951 2018-12-26   359         220          2019-02-13 43        582       \n",
       "99952 2018-12-26   359         220          2019-02-13 43        565       \n",
       "99953 2018-12-26   359         220          2019-02-13 43        598       \n",
       "99954 2018-12-26   359         220          2019-02-13 43        605       \n",
       "99955 2018-12-26   359         220          2019-02-13 43        650       \n",
       "99956 2018-12-26   359         220          2019-02-13 43        640       \n",
       "      Buyer_Region   Bought_for_Less_Than_Retail Bought_more_Than_Retail\n",
       "1     California     0                           1                      \n",
       "2     California     0                           1                      \n",
       "3     California     0                           1                      \n",
       "4     Kentucky       0                           1                      \n",
       "5     Rhode Island   0                           1                      \n",
       "6     Michigan       0                           1                      \n",
       "7     California     0                           1                      \n",
       "8     New York       0                           1                      \n",
       "9     Kansas         0                           1                      \n",
       "10    Florida        0                           1                      \n",
       "11    New Jersey     0                           1                      \n",
       "12    Texas          0                           1                      \n",
       "13    Florida        0                           1                      \n",
       "14    Michigan       0                           1                      \n",
       "15    New York       0                           1                      \n",
       "16    California     0                           1                      \n",
       "17    North Carolina 0                           1                      \n",
       "18    New Jersey     0                           1                      \n",
       "19    New York       0                           1                      \n",
       "20    Michigan       0                           1                      \n",
       "21    Florida        0                           1                      \n",
       "22    Oregon         0                           1                      \n",
       "23    California     0                           1                      \n",
       "24    Alabama        0                           1                      \n",
       "25    Kentucky       0                           1                      \n",
       "26    New York       0                           1                      \n",
       "27    New York       0                           1                      \n",
       "28    Kentucky       0                           1                      \n",
       "29    California     0                           1                      \n",
       "30    Oregon         0                           1                      \n",
       "...   ...            ...                         ...                    \n",
       "99927 Oregon         0                           1                      \n",
       "99928 Pennsylvania   0                           1                      \n",
       "99929 New York       0                           1                      \n",
       "99930 California     0                           1                      \n",
       "99931 Oregon         0                           1                      \n",
       "99932 Oregon         0                           1                      \n",
       "99933 Oregon         0                           1                      \n",
       "99934 Oregon         0                           1                      \n",
       "99935 California     0                           1                      \n",
       "99936 Illinois       0                           1                      \n",
       "99937 New York       0                           1                      \n",
       "99938 Oregon         0                           1                      \n",
       "99939 California     0                           1                      \n",
       "99940 California     0                           1                      \n",
       "99941 California     0                           1                      \n",
       "99942 Oregon         0                           1                      \n",
       "99943 Alabama        0                           1                      \n",
       "99944 Oregon         0                           1                      \n",
       "99945 California     0                           1                      \n",
       "99946 California     0                           1                      \n",
       "99947 New Jersey     0                           1                      \n",
       "99948 California     0                           1                      \n",
       "99949 Oregon         0                           1                      \n",
       "99950 Oregon         0                           1                      \n",
       "99951 New Jersey     0                           1                      \n",
       "99952 Oregon         0                           1                      \n",
       "99953 California     0                           1                      \n",
       "99954 New York       0                           1                      \n",
       "99955 California     0                           1                      \n",
       "99956 Texas          0                           1                      \n",
       "      Bought_at_Retail\n",
       "1     0               \n",
       "2     0               \n",
       "3     0               \n",
       "4     0               \n",
       "5     0               \n",
       "6     0               \n",
       "7     0               \n",
       "8     0               \n",
       "9     0               \n",
       "10    0               \n",
       "11    0               \n",
       "12    0               \n",
       "13    0               \n",
       "14    0               \n",
       "15    0               \n",
       "16    0               \n",
       "17    0               \n",
       "18    0               \n",
       "19    0               \n",
       "20    0               \n",
       "21    0               \n",
       "22    0               \n",
       "23    0               \n",
       "24    0               \n",
       "25    0               \n",
       "26    0               \n",
       "27    0               \n",
       "28    0               \n",
       "29    0               \n",
       "30    0               \n",
       "...   ...             \n",
       "99927 0               \n",
       "99928 0               \n",
       "99929 0               \n",
       "99930 0               \n",
       "99931 0               \n",
       "99932 0               \n",
       "99933 0               \n",
       "99934 0               \n",
       "99935 0               \n",
       "99936 0               \n",
       "99937 0               \n",
       "99938 0               \n",
       "99939 0               \n",
       "99940 0               \n",
       "99941 0               \n",
       "99942 0               \n",
       "99943 0               \n",
       "99944 0               \n",
       "99945 0               \n",
       "99946 0               \n",
       "99947 0               \n",
       "99948 0               \n",
       "99949 0               \n",
       "99950 0               \n",
       "99951 0               \n",
       "99952 0               \n",
       "99953 0               \n",
       "99954 0               \n",
       "99955 0               \n",
       "99956 0               "
      ]
     },
     "metadata": {},
     "output_type": "display_data"
    }
   ],
   "source": [
    "#Make a new data set from old modified data set\n",
    "NewSneaker <- data.frame(Brand,Sneaker_Name, Shoe_Size, Release_Date,day_Release, Retail_Price, Order_Date, day_Order, Sale_Price, Buyer_Region, Bought_for_Less_Than_Retail, Bought_more_Than_Retail, Bought_at_Retail)\n",
    "NewSneaker"
   ]
  },
  {
   "cell_type": "code",
   "execution_count": 7,
   "id": "2d31361e",
   "metadata": {},
   "outputs": [
    {
     "data": {
      "text/plain": [
       "       Brand                                      Sneaker_Name  \n",
       "  Yeezy   :72162   adidas-Yeezy-Boost-350-V2-Butter     :11423  \n",
       " Off-White:27794   Adidas-Yeezy-Boost-350-V2-Beluga-2pt0:10395  \n",
       "                   Adidas-Yeezy-Boost-350-V2-Zebra      :10110  \n",
       "                   Adidas-Yeezy-Boost-350-V2-Blue-Tint  : 9297  \n",
       "                   Adidas-Yeezy-Boost-350-V2-Cream-White: 9097  \n",
       "                   Adidas-Yeezy-Boost-350-V2-Sesame     : 5553  \n",
       "                   (Other)                              :44081  \n",
       "   Shoe_Size       Release_Date         day_Release     Retail_Price  \n",
       " Min.   : 3.500   Min.   :2015-06-27   Min.   : 37.0   Min.   :130.0  \n",
       " 1st Qu.: 8.000   1st Qu.:2017-09-09   1st Qu.:164.0   1st Qu.:220.0  \n",
       " Median : 9.500   Median :2017-12-16   Median :267.0   Median :220.0  \n",
       " Mean   : 9.344   Mean   :2018-02-10   Mean   :234.7   Mean   :208.6  \n",
       " 3rd Qu.:11.000   3rd Qu.:2018-08-03   3rd Qu.:328.0   3rd Qu.:220.0  \n",
       " Max.   :17.000   Max.   :2019-02-07   Max.   :362.0   Max.   :250.0  \n",
       "                                                                      \n",
       "   Order_Date           day_Order       Sale_Price         Buyer_Region  \n",
       " Min.   :2017-09-01   Min.   :  0.0   Min.   : 186.0   California:19349  \n",
       " 1st Qu.:2018-05-02   1st Qu.: 89.0   1st Qu.: 275.0   New York  :16525  \n",
       " Median :2018-09-24   Median :241.0   Median : 370.0   Oregon    : 7681  \n",
       " Mean   :2018-08-12   Mean   :213.3   Mean   : 446.6   Florida   : 6376  \n",
       " 3rd Qu.:2018-12-15   3rd Qu.:331.0   3rd Qu.: 540.0   Texas     : 5876  \n",
       " Max.   :2019-02-13   Max.   :364.0   Max.   :4050.0   New Jersey: 4720  \n",
       "                                                       (Other)   :39429  \n",
       " Bought_for_Less_Than_Retail Bought_more_Than_Retail Bought_at_Retail  \n",
       " Min.   :0.000000            Min.   :0.0000          Min.   :0.000000  \n",
       " 1st Qu.:0.000000            1st Qu.:1.0000          1st Qu.:0.000000  \n",
       " Median :0.000000            Median :1.0000          Median :0.000000  \n",
       " Mean   :0.005573            Mean   :0.9911          Mean   :0.003302  \n",
       " 3rd Qu.:0.000000            3rd Qu.:1.0000          3rd Qu.:0.000000  \n",
       " Max.   :1.000000            Max.   :1.0000          Max.   :1.000000  \n",
       "                                                                       "
      ]
     },
     "metadata": {},
     "output_type": "display_data"
    }
   ],
   "source": [
    "summary(NewSneaker) #summary of the new dataFrame"
   ]
  },
  {
   "cell_type": "markdown",
   "id": "0ac986d4",
   "metadata": {},
   "source": [
    "## visualizing "
   ]
  },
  {
   "cell_type": "code",
   "execution_count": 8,
   "id": "103f8a64",
   "metadata": {
    "scrolled": false
   },
   "outputs": [],
   "source": [
    "#pairs(NewSneaker)"
   ]
  },
  {
   "cell_type": "code",
   "execution_count": 9,
   "id": "5f217694",
   "metadata": {},
   "outputs": [
    {
     "data": {
      "image/png": "iVBORw0KGgoAAAANSUhEUgAAA0gAAANICAMAAADKOT/pAAAARVBMVEUAAAAAAP8qKio5OTlG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",
      "text/plain": [
       "Plot with title \"Region vs Sale Price\""
      ]
     },
     "metadata": {},
     "output_type": "display_data"
    }
   ],
   "source": [
    "\n",
    "plot(Sneaker_Name, Sale_Price, bg = \"red\", col = \"blue\", main = \"Region vs Sale Price\", las = 3, cex=0.5)"
   ]
  },
  {
   "cell_type": "code",
   "execution_count": 10,
   "id": "4ce83a46",
   "metadata": {},
   "outputs": [
    {
     "data": {
      "image/png": "iVBORw0KGgoAAAANSUhEUgAAA0gAAANICAMAAADKOT/pAAAAOVBMVEUAAAAAAP9CQkJNTU1o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\ngg==",
      "text/plain": [
       "Plot with title \"Region vs Sale Price\""
      ]
     },
     "metadata": {},
     "output_type": "display_data"
    }
   ],
   "source": [
    "plot(Buyer_Region, Sale_Price, pch = 21,\n",
    "     bg = \"red\",   # Fill color\n",
    "     col = \"blue\", main = \"Region vs Sale Price\", las = 3, font.axis = 2, font.lab  = .5, cex=0.5)"
   ]
  },
  {
   "cell_type": "markdown",
   "id": "092a8278",
   "metadata": {},
   "source": [
    "## split the data set"
   ]
  },
  {
   "cell_type": "code",
   "execution_count": 11,
   "id": "7f99cff6",
   "metadata": {},
   "outputs": [],
   "source": [
    "NewSneaker_02 <- data.frame(NewSneaker) #another new data frame cration to avoid misuse our old data set\n",
    "#each time a new model we would create we will make another data frame from NewSneaker data set and name it NewSneaker_n\n",
    "smp_size <- floor(0.8 * nrow(NewSneaker_02))\n",
    "set.seed(123)\n",
    "train_ind <- sample(seq_len(nrow(NewSneaker_02)), size = smp_size)\n",
    "\n",
    "train <- NewSneaker_02[train_ind, ]\n",
    "test <- NewSneaker_02[-train_ind, ]"
   ]
  },
  {
   "cell_type": "code",
   "execution_count": 12,
   "id": "d300e0a6",
   "metadata": {},
   "outputs": [],
   "source": [
    "library(rpart)\n",
    "library(rpart.plot)"
   ]
  },
  {
   "cell_type": "markdown",
   "id": "5077efc9",
   "metadata": {},
   "source": [
    "## Model#1: Make a Decision tree"
   ]
  },
  {
   "cell_type": "code",
   "execution_count": 13,
   "id": "424e3861",
   "metadata": {},
   "outputs": [
    {
     "data": {
      "text/html": [
       "<ol class=list-inline>\n",
       "\t<li>'Brand'</li>\n",
       "\t<li>'Sneaker_Name'</li>\n",
       "\t<li>'Shoe_Size'</li>\n",
       "\t<li>'Release_Date'</li>\n",
       "\t<li>'day_Release'</li>\n",
       "\t<li>'Retail_Price'</li>\n",
       "\t<li>'Order_Date'</li>\n",
       "\t<li>'day_Order'</li>\n",
       "\t<li>'Sale_Price'</li>\n",
       "\t<li>'Buyer_Region'</li>\n",
       "\t<li>'Bought_for_Less_Than_Retail'</li>\n",
       "\t<li>'Bought_more_Than_Retail'</li>\n",
       "\t<li>'Bought_at_Retail'</li>\n",
       "</ol>\n"
      ],
      "text/latex": [
       "\\begin{enumerate*}\n",
       "\\item 'Brand'\n",
       "\\item 'Sneaker\\_Name'\n",
       "\\item 'Shoe\\_Size'\n",
       "\\item 'Release\\_Date'\n",
       "\\item 'day\\_Release'\n",
       "\\item 'Retail\\_Price'\n",
       "\\item 'Order\\_Date'\n",
       "\\item 'day\\_Order'\n",
       "\\item 'Sale\\_Price'\n",
       "\\item 'Buyer\\_Region'\n",
       "\\item 'Bought\\_for\\_Less\\_Than\\_Retail'\n",
       "\\item 'Bought\\_more\\_Than\\_Retail'\n",
       "\\item 'Bought\\_at\\_Retail'\n",
       "\\end{enumerate*}\n"
      ],
      "text/markdown": [
       "1. 'Brand'\n",
       "2. 'Sneaker_Name'\n",
       "3. 'Shoe_Size'\n",
       "4. 'Release_Date'\n",
       "5. 'day_Release'\n",
       "6. 'Retail_Price'\n",
       "7. 'Order_Date'\n",
       "8. 'day_Order'\n",
       "9. 'Sale_Price'\n",
       "10. 'Buyer_Region'\n",
       "11. 'Bought_for_Less_Than_Retail'\n",
       "12. 'Bought_more_Than_Retail'\n",
       "13. 'Bought_at_Retail'\n",
       "\n",
       "\n"
      ],
      "text/plain": [
       " [1] \"Brand\"                       \"Sneaker_Name\"               \n",
       " [3] \"Shoe_Size\"                   \"Release_Date\"               \n",
       " [5] \"day_Release\"                 \"Retail_Price\"               \n",
       " [7] \"Order_Date\"                  \"day_Order\"                  \n",
       " [9] \"Sale_Price\"                  \"Buyer_Region\"               \n",
       "[11] \"Bought_for_Less_Than_Retail\" \"Bought_more_Than_Retail\"    \n",
       "[13] \"Bought_at_Retail\"           "
      ]
     },
     "metadata": {},
     "output_type": "display_data"
    }
   ],
   "source": [
    "names(NewSneaker_02)"
   ]
  },
  {
   "cell_type": "code",
   "execution_count": 14,
   "id": "517e9fc0",
   "metadata": {
    "scrolled": false
   },
   "outputs": [
    {
     "data": {
      "text/plain": [
       "n= 79964 \n",
       "\n",
       "node), split, n, deviance, yval\n",
       "      * denotes terminal node\n",
       "\n",
       "  1) root 79964 5269570000  447.0399  \n",
       "    2) Sneaker_Name=Adidas-Yeezy-Boost-350-V2-Beluga-2pt0,Adidas-Yeezy-Boost-350-V2-Blue-Tint,adidas-Yeezy-Boost-350-V2-Butter,Adidas-Yeezy-Boost-350-V2-Cream-White,Adidas-Yeezy-Boost-350-V2-Semi-Frozen-Yellow,Adidas-Yeezy-Boost-350-V2-Sesame,adidas-Yeezy-Boost-350-V2-Static,adidas-Yeezy-Boost-350-V2-Static-Reflective,Adidas-Yeezy-Boost-350-V2-Zebra,Nike-Air-Force-1-Low-Off-White-Black-White,Nike-Air-Force-1-Low-Off-White-Volt,Nike-Air-Max-90-Off-White-Black,Nike-Air-Max-90-Off-White-Desert-Ore,Nike-Blazer-Mid-Off-White-Grim-Reaper,Nike-React-Hyperdunk-2017-Flyknit-Off-White,Nike-Zoom-Fly-Mercurial-Off-White-Black,Nike-Zoom-Fly-Mercurial-Off-White-Total-Orange,Nike-Zoom-Fly-Off-White,Nike-Zoom-Fly-Off-White-Black-Silver,Nike-Zoom-Fly-Off-White-Pink 62677  711569600  348.5421  \n",
       "      4) Sneaker_Name=adidas-Yeezy-Boost-350-V2-Butter,Adidas-Yeezy-Boost-350-V2-Cream-White,Adidas-Yeezy-Boost-350-V2-Sesame,adidas-Yeezy-Boost-350-V2-Static,Nike-Zoom-Fly-Mercurial-Off-White-Total-Orange,Nike-Zoom-Fly-Off-White-Black-Silver,Nike-Zoom-Fly-Off-White-Pink 27351   70339680  278.5519 *\n",
       "      5) Sneaker_Name=Adidas-Yeezy-Boost-350-V2-Beluga-2pt0,Adidas-Yeezy-Boost-350-V2-Blue-Tint,Adidas-Yeezy-Boost-350-V2-Semi-Frozen-Yellow,adidas-Yeezy-Boost-350-V2-Static-Reflective,Adidas-Yeezy-Boost-350-V2-Zebra,Nike-Air-Force-1-Low-Off-White-Black-White,Nike-Air-Force-1-Low-Off-White-Volt,Nike-Air-Max-90-Off-White-Black,Nike-Air-Max-90-Off-White-Desert-Ore,Nike-Blazer-Mid-Off-White-Grim-Reaper,Nike-React-Hyperdunk-2017-Flyknit-Off-White,Nike-Zoom-Fly-Mercurial-Off-White-Black,Nike-Zoom-Fly-Off-White 35326  403511700  402.7318  \n",
       "       10) Sneaker_Name=Adidas-Yeezy-Boost-350-V2-Beluga-2pt0,Adidas-Yeezy-Boost-350-V2-Blue-Tint,Adidas-Yeezy-Boost-350-V2-Semi-Frozen-Yellow,Adidas-Yeezy-Boost-350-V2-Zebra,Nike-Air-Force-1-Low-Off-White-Volt,Nike-Zoom-Fly-Mercurial-Off-White-Black 29054  273604100  381.2340  \n",
       "         20) day_Order>=300.5 15233  164969200  362.5577  \n",
       "           40) day_Release< 242.5 5459   29573960  314.1368 *\n",
       "           41) day_Release>=242.5 9774  115447600  389.6019  \n",
       "             82) day_Order>=331.5 7815   52923920  367.0672 *\n",
       "             83) day_Order< 331.5 1959   42723380  479.4992  \n",
       "              166) day_Release>=324.5 1586    5254917  428.0776 *\n",
       "              167) day_Release< 324.5 373   15443190  698.1448 *\n",
       "         21) day_Order< 300.5 13821   97465460  401.8182  \n",
       "           42) day_Order< 43.5 5505   34962660  360.4329 *\n",
       "           43) day_Order>=43.5 8316   46832550  429.2144  \n",
       "             86) Sneaker_Name=Adidas-Yeezy-Boost-350-V2-Beluga-2pt0,Adidas-Yeezy-Boost-350-V2-Blue-Tint,Nike-Zoom-Fly-Mercurial-Off-White-Black 5991    8421569  399.6565 *\n",
       "             87) Sneaker_Name=Adidas-Yeezy-Boost-350-V2-Semi-Frozen-Yellow,Adidas-Yeezy-Boost-350-V2-Zebra 2325   19689560  505.3785 *\n",
       "       11) Sneaker_Name=adidas-Yeezy-Boost-350-V2-Static-Reflective,Nike-Air-Force-1-Low-Off-White-Black-White,Nike-Air-Max-90-Off-White-Black,Nike-Air-Max-90-Off-White-Desert-Ore,Nike-Blazer-Mid-Off-White-Grim-Reaper,Nike-React-Hyperdunk-2017-Flyknit-Off-White,Nike-Zoom-Fly-Off-White 6272   54279420  502.3170  \n",
       "         22) day_Order< 14.5 1526    7138944  446.2896 *\n",
       "         23) day_Order>=14.5 4746   40810050  520.3316 *\n",
       "    3) Sneaker_Name=Adidas-Yeezy-Boost-350-Low-Moonrock,Adidas-Yeezy-Boost-350-Low-Oxford-Tan,Adidas-Yeezy-Boost-350-Low-Pirate-Black-2015,Adidas-Yeezy-Boost-350-Low-Pirate-Black-2016,Adidas-Yeezy-Boost-350-Low-Turtledove,Adidas-Yeezy-Boost-350-Low-V2-Beluga,Adidas-Yeezy-Boost-350-V2-Core-Black-Copper,Adidas-Yeezy-Boost-350-V2-Core-Black-Green,Adidas-Yeezy-Boost-350-V2-Core-Black-Red,Adidas-Yeezy-Boost-350-V2-Core-Black-Red-2017,Adidas-Yeezy-Boost-350-V2-Core-Black-White,Air-Jordan-1-Retro-High-Off-White-Chicago,Air-Jordan-1-Retro-High-Off-White-University-Blue,Air-Jordan-1-Retro-High-Off-White-White,Nike-Air-Force-1-Low-Off-White,Nike-Air-Force-1-Low-Virgil-Abloh-Off-White-AF100,Nike-Air-Max-90-Off-White,Nike-Air-Max-97-Off-White,Nike-Air-Max-97-Off-White-Black,Nike-Air-Max-97-Off-White-Elemental-Rose-Queen,Nike-Air-Max-97-Off-White-Menta,Nike-Air-Presto-Off-White,Nike-Air-Presto-Off-White-Black-2018,Nike-Air-Presto-Off-White-White-2018,Nike-Air-VaporMax-Off-White,Nike-Air-VaporMax-Off-White-2018,Nike-Air-VaporMax-Off-White-Black,Nike-Blazer-Mid-Off-White,Nike-Blazer-Mid-Off-White-All-Hallows-Eve,Nike-Blazer-Mid-Off-White-Wolf-Grey 17287 1745222000  804.1604  \n",
       "      6) Sneaker_Name=Adidas-Yeezy-Boost-350-Low-Moonrock,Adidas-Yeezy-Boost-350-Low-Oxford-Tan,Adidas-Yeezy-Boost-350-Low-Pirate-Black-2015,Adidas-Yeezy-Boost-350-Low-Pirate-Black-2016,Adidas-Yeezy-Boost-350-Low-V2-Beluga,Adidas-Yeezy-Boost-350-V2-Core-Black-Copper,Adidas-Yeezy-Boost-350-V2-Core-Black-Green,Adidas-Yeezy-Boost-350-V2-Core-Black-Red,Adidas-Yeezy-Boost-350-V2-Core-Black-Red-2017,Adidas-Yeezy-Boost-350-V2-Core-Black-White,Air-Jordan-1-Retro-High-Off-White-University-Blue,Nike-Air-Force-1-Low-Off-White,Nike-Air-Force-1-Low-Virgil-Abloh-Off-White-AF100,Nike-Air-Max-90-Off-White,Nike-Air-Max-97-Off-White,Nike-Air-Max-97-Off-White-Black,Nike-Air-Max-97-Off-White-Elemental-Rose-Queen,Nike-Air-Max-97-Off-White-Menta,Nike-Air-Presto-Off-White-Black-2018,Nike-Air-Presto-Off-White-White-2018,Nike-Air-VaporMax-Off-White,Nike-Air-VaporMax-Off-White-2018,Nike-Air-VaporMax-Off-White-Black,Nike-Blazer-Mid-Off-White,Nike-Blazer-Mid-Off-White-All-Hallows-Eve,Nike-Blazer-Mid-Off-White-Wolf-Grey 15900  487177500  735.5542  \n",
       "       12) Sneaker_Name=Adidas-Yeezy-Boost-350-V2-Core-Black-Copper,Adidas-Yeezy-Boost-350-V2-Core-Black-Green,Adidas-Yeezy-Boost-350-V2-Core-Black-White,Nike-Air-Force-1-Low-Off-White,Nike-Air-Max-90-Off-White,Nike-Air-Max-97-Off-White,Nike-Air-Max-97-Off-White-Black,Nike-Air-Max-97-Off-White-Menta,Nike-Air-Presto-Off-White-Black-2018,Nike-Air-Presto-Off-White-White-2018,Nike-Air-VaporMax-Off-White-2018,Nike-Air-VaporMax-Off-White-Black,Nike-Blazer-Mid-Off-White,Nike-Blazer-Mid-Off-White-All-Hallows-Eve 9617  160366800  660.4100  \n",
       "         24) Sneaker_Name=Adidas-Yeezy-Boost-350-V2-Core-Black-Copper,Adidas-Yeezy-Boost-350-V2-Core-Black-Green,Nike-Air-Presto-Off-White-White-2018,Nike-Air-VaporMax-Off-White-2018,Nike-Air-VaporMax-Off-White-Black,Nike-Blazer-Mid-Off-White-All-Hallows-Eve 5353   43414970  617.7797 *\n",
       "         25) Sneaker_Name=Adidas-Yeezy-Boost-350-V2-Core-Black-White,Nike-Air-Force-1-Low-Off-White,Nike-Air-Max-90-Off-White,Nike-Air-Max-97-Off-White,Nike-Air-Max-97-Off-White-Black,Nike-Air-Max-97-Off-White-Menta,Nike-Air-Presto-Off-White-Black-2018,Nike-Blazer-Mid-Off-White 4264   95010850  713.9278  \n",
       "           50) day_Order>=311.5 1299   25757980  614.4219 *\n",
       "           51) day_Order< 311.5 2965   50755950  757.5224  \n",
       "            102) Sneaker_Name=Adidas-Yeezy-Boost-350-V2-Core-Black-White,Nike-Air-Max-97-Off-White,Nike-Air-Max-97-Off-White-Black,Nike-Air-Max-97-Off-White-Menta,Nike-Air-Presto-Off-White-Black-2018 2322   19774840  733.0603 *\n",
       "            103) Sneaker_Name=Nike-Air-Force-1-Low-Off-White,Nike-Air-Max-90-Off-White,Nike-Blazer-Mid-Off-White 643   24573970  845.8600 *\n",
       "       13) Sneaker_Name=Adidas-Yeezy-Boost-350-Low-Moonrock,Adidas-Yeezy-Boost-350-Low-Oxford-Tan,Adidas-Yeezy-Boost-350-Low-Pirate-Black-2015,Adidas-Yeezy-Boost-350-Low-Pirate-Black-2016,Adidas-Yeezy-Boost-350-Low-V2-Beluga,Adidas-Yeezy-Boost-350-V2-Core-Black-Red,Adidas-Yeezy-Boost-350-V2-Core-Black-Red-2017,Air-Jordan-1-Retro-High-Off-White-University-Blue,Nike-Air-Force-1-Low-Virgil-Abloh-Off-White-AF100,Nike-Air-Max-97-Off-White-Elemental-Rose-Queen,Nike-Air-VaporMax-Off-White,Nike-Blazer-Mid-Off-White-Wolf-Grey 6283  189387300  850.5728  \n",
       "         26) day_Order>=148.5 4804  106675700  819.8383  \n",
       "           52) Sneaker_Name=Adidas-Yeezy-Boost-350-Low-V2-Beluga,Adidas-Yeezy-Boost-350-V2-Core-Black-Red-2017,Air-Jordan-1-Retro-High-Off-White-University-Blue,Nike-Air-Force-1-Low-Virgil-Abloh-Off-White-AF100,Nike-Air-VaporMax-Off-White,Nike-Blazer-Mid-Off-White-Wolf-Grey 4289   90003520  806.4458 *\n",
       "           53) Sneaker_Name=Adidas-Yeezy-Boost-350-Low-Moonrock,Adidas-Yeezy-Boost-350-Low-Oxford-Tan,Adidas-Yeezy-Boost-350-Low-Pirate-Black-2015,Adidas-Yeezy-Boost-350-Low-Pirate-Black-2016,Adidas-Yeezy-Boost-350-V2-Core-Black-Red,Nike-Air-Max-97-Off-White-Elemental-Rose-Queen 515    9496360  931.3728 *\n",
       "         27) day_Order< 148.5 1479   63433850  950.4030  \n",
       "           54) Sneaker_Name=Adidas-Yeezy-Boost-350-Low-Pirate-Black-2015,Adidas-Yeezy-Boost-350-Low-V2-Beluga,Adidas-Yeezy-Boost-350-V2-Core-Black-Red-2017,Nike-Air-Max-97-Off-White-Elemental-Rose-Queen,Nike-Air-VaporMax-Off-White,Nike-Blazer-Mid-Off-White-Wolf-Grey 587    9010033  842.1465 *\n",
       "           55) Sneaker_Name=Adidas-Yeezy-Boost-350-Low-Moonrock,Adidas-Yeezy-Boost-350-Low-Oxford-Tan,Adidas-Yeezy-Boost-350-Low-Pirate-Black-2016,Adidas-Yeezy-Boost-350-V2-Core-Black-Red,Air-Jordan-1-Retro-High-Off-White-University-Blue,Nike-Air-Force-1-Low-Virgil-Abloh-Off-White-AF100 892   43017400 1021.6430  \n",
       "            110) day_Order< 44 293    4965591  920.8498 *\n",
       "            111) day_Order>=44 599   33619070 1070.9470  \n",
       "              222) day_Order>=144.5 320    5526226  968.5031 *\n",
       "              223) day_Order< 144.5 279   20882750 1188.4440 *\n",
       "      7) Sneaker_Name=Adidas-Yeezy-Boost-350-Low-Turtledove,Air-Jordan-1-Retro-High-Off-White-Chicago,Air-Jordan-1-Retro-High-Off-White-White,Nike-Air-Presto-Off-White 1387  325290300 1590.6340  \n",
       "       14) Sneaker_Name=Nike-Air-Presto-Off-White 473   41143540 1239.9260  \n",
       "         28) day_Order>=311.5 209    8676633 1031.1000 *\n",
       "         29) day_Order< 311.5 264   16137490 1405.2460 *\n",
       "       15) Sneaker_Name=Adidas-Yeezy-Boost-350-Low-Turtledove,Air-Jordan-1-Retro-High-Off-White-Chicago,Air-Jordan-1-Retro-High-Off-White-White 914  195862800 1772.1270  \n",
       "         30) day_Order>=311.5 277   49358520 1428.3100 *\n",
       "         31) day_Order< 311.5 637   99521360 1921.6360  \n",
       "           62) Sneaker_Name=Adidas-Yeezy-Boost-350-Low-Turtledove,Air-Jordan-1-Retro-High-Off-White-White 284   22059500 1780.5810 *\n",
       "           63) Sneaker_Name=Air-Jordan-1-Retro-High-Off-White-Chicago 353   67265180 2035.1190  \n",
       "            126) day_Order< 84.5 154   31920230 1873.1950 *\n",
       "            127) day_Order>=84.5 199   28182430 2160.4270 *"
      ]
     },
     "metadata": {},
     "output_type": "display_data"
    }
   ],
   "source": [
    "res <- rpart(Sale_Price~Sneaker_Name+day_Release+Bought_for_Less_Than_Retail+\n",
    "             Bought_more_Than_Retail+Bought_at_Retail+Buyer_Region+day_Order , data = train ,\n",
    "             control = rpart.control(minsplit = 1, minbucket = 1,cp = 0.001))\n",
    "res"
   ]
  },
  {
   "cell_type": "code",
   "execution_count": 15,
   "id": "beceb3ce",
   "metadata": {},
   "outputs": [
    {
     "name": "stderr",
     "output_type": "stream",
     "text": [
      "Warning message:\n",
      "\"labs do not fit even at cex 0.15, there may be some overplotting\""
     ]
    },
    {
     "data": {
      "image/png": "iVBORw0KGgoAAAANSUhEUgAAA0gAAANICAMAAADKOT/pAAAAIVBMVEUAAABrrtaEvNueyuGy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\nSUVORK5CYII=",
      "text/plain": [
       "plot without title"
      ]
     },
     "metadata": {},
     "output_type": "display_data"
    }
   ],
   "source": [
    "rpart.plot(res,type =4, fallen.leaves = T, cex =0.5)"
   ]
  },
  {
   "cell_type": "markdown",
   "id": "9b2f3427",
   "metadata": {},
   "source": [
    "## Run a prediction data set to test our model"
   ]
  },
  {
   "cell_type": "markdown",
   "id": "a3b73e6d",
   "metadata": {},
   "source": [
    "#### let's say,  based on given three factors such as sneaker name, place of buying state, and the retail price, can we predict the Sneaker sale's price? \n",
    "Here are all the value are in numric form, becuase we convert those into number from text."
   ]
  },
  {
   "cell_type": "code",
   "execution_count": 16,
   "id": "0d2db566",
   "metadata": {},
   "outputs": [
    {
     "data": {
      "text/html": [
       "<table>\n",
       "<thead><tr><th scope=col>Sneaker_Name</th><th scope=col>day_Release</th><th scope=col>Bought_for_Less_Than_Retail</th><th scope=col>Bought_more_Than_Retail</th><th scope=col>Bought_at_Retail</th><th scope=col>Buyer_Region</th><th scope=col>day_Order</th></tr></thead>\n",
       "<tbody>\n",
       "\t<tr><td>Adidas-Yeezy-Boost-350-Low-Moonrock</td><td>200                                </td><td>0                                  </td><td>1                                  </td><td>0                                  </td><td>New York                           </td><td>100                                </td></tr>\n",
       "</tbody>\n",
       "</table>\n"
      ],
      "text/latex": [
       "\\begin{tabular}{r|lllllll}\n",
       " Sneaker\\_Name & day\\_Release & Bought\\_for\\_Less\\_Than\\_Retail & Bought\\_more\\_Than\\_Retail & Bought\\_at\\_Retail & Buyer\\_Region & day\\_Order\\\\\n",
       "\\hline\n",
       "\t Adidas-Yeezy-Boost-350-Low-Moonrock & 200                                 & 0                                   & 1                                   & 0                                   & New York                            & 100                                \\\\\n",
       "\\end{tabular}\n"
      ],
      "text/markdown": [
       "\n",
       "| Sneaker_Name | day_Release | Bought_for_Less_Than_Retail | Bought_more_Than_Retail | Bought_at_Retail | Buyer_Region | day_Order |\n",
       "|---|---|---|---|---|---|---|\n",
       "| Adidas-Yeezy-Boost-350-Low-Moonrock | 200                                 | 0                                   | 1                                   | 0                                   | New York                            | 100                                 |\n",
       "\n"
      ],
      "text/plain": [
       "  Sneaker_Name                        day_Release Bought_for_Less_Than_Retail\n",
       "1 Adidas-Yeezy-Boost-350-Low-Moonrock 200         0                          \n",
       "  Bought_more_Than_Retail Bought_at_Retail Buyer_Region day_Order\n",
       "1 1                       0                New York     100      "
      ]
     },
     "metadata": {},
     "output_type": "display_data"
    }
   ],
   "source": [
    "test_set = data.frame(Sneaker_Name=\"Adidas-Yeezy-Boost-350-Low-Moonrock\",day_Release=200, Bought_for_Less_Than_Retail=0,\n",
    "                      Bought_more_Than_Retail=1, Bought_at_Retail=0,Buyer_Region= \"New York\", day_Order=100)\n",
    "test_set"
   ]
  },
  {
   "cell_type": "code",
   "execution_count": 17,
   "id": "29bf0ffa",
   "metadata": {},
   "outputs": [
    {
     "data": {
      "text/html": [
       "'$ 1188'"
      ],
      "text/latex": [
       "'\\$ 1188'"
      ],
      "text/markdown": [
       "'$ 1188'"
      ],
      "text/plain": [
       "[1] \"$ 1188\""
      ]
     },
     "metadata": {},
     "output_type": "display_data"
    }
   ],
   "source": [
    "prediction = predict(res, newdata = test_set, type = \"vector\")\n",
    "prediction= round(prediction, digits=2)\n",
    "paste('$',formatC(prediction))"
   ]
  },
  {
   "cell_type": "markdown",
   "id": "c244f525",
   "metadata": {},
   "source": [
    "\n",
    "## Model#2: Multiple Linear regression"
   ]
  },
  {
   "cell_type": "code",
   "execution_count": 18,
   "id": "68695408",
   "metadata": {},
   "outputs": [],
   "source": [
    "#clean the data set for Multiple linear regression\n",
    "Sale_Price <- as.numeric(gsub('[$,]', '', Sale.Price)) #remove $ and comma from sale price value and convert it into nemuric value\n",
    "Retail_Price <- as.numeric(gsub('[$,]', '', Retail.Price)) #same as sales price\n",
    "Release_Date = mdy(Release.Date) #mdy is a function of lubridate library, which is use convert chr value to date value\n",
    "Order_Date= mdy(ï..Order.Date) #same as release date\n",
    "Shoe_Size = Shoe.Size\n",
    "Sneaker_Code = unclass(Sneaker.Name) #unclass function use for grouping items and convert value to a numric data set of data\n",
    "Buyer_Region_Code = unclass(Buyer.Region) # same as Sneaker name, here we convert state name to a numric value"
   ]
  },
  {
   "cell_type": "code",
   "execution_count": 19,
   "id": "66fc473c",
   "metadata": {},
   "outputs": [
    {
     "data": {
      "text/html": [
       "<table>\n",
       "<thead><tr><th scope=col>Brand</th><th scope=col>Sneaker_Code</th><th scope=col>Shoe_Size</th><th scope=col>Release_Date</th><th scope=col>Retail_Price</th><th scope=col>Order_Date</th><th scope=col>Sale_Price</th><th scope=col>Buyer_Region_Code</th></tr></thead>\n",
       "<tbody>\n",
       "\t<tr><td> Yeezy    </td><td> 6        </td><td>11.0      </td><td>2016-09-24</td><td>220       </td><td>2017-09-01</td><td>1097      </td><td> 5        </td></tr>\n",
       "\t<tr><td> Yeezy    </td><td>10        </td><td>11.0      </td><td>2016-11-23</td><td>220       </td><td>2017-09-01</td><td> 685      </td><td> 5        </td></tr>\n",
       "\t<tr><td> Yeezy    </td><td>11        </td><td>11.0      </td><td>2016-11-23</td><td>220       </td><td>2017-09-01</td><td> 690      </td><td> 5        </td></tr>\n",
       "\t<tr><td> Yeezy    </td><td>12        </td><td>11.5      </td><td>2016-11-23</td><td>220       </td><td>2017-09-01</td><td>1075      </td><td>18        </td></tr>\n",
       "\t<tr><td> Yeezy    </td><td>13        </td><td>11.0      </td><td>2017-02-11</td><td>220       </td><td>2017-09-01</td><td> 828      </td><td>40        </td></tr>\n",
       "\t<tr><td> Yeezy    </td><td>13        </td><td> 8.5      </td><td>2017-02-11</td><td>220       </td><td>2017-09-01</td><td> 798      </td><td>23        </td></tr>\n",
       "</tbody>\n",
       "</table>\n"
      ],
      "text/latex": [
       "\\begin{tabular}{r|llllllll}\n",
       " Brand & Sneaker\\_Code & Shoe\\_Size & Release\\_Date & Retail\\_Price & Order\\_Date & Sale\\_Price & Buyer\\_Region\\_Code\\\\\n",
       "\\hline\n",
       "\t  Yeezy     &  6         & 11.0       & 2016-09-24 & 220        & 2017-09-01 & 1097       &  5        \\\\\n",
       "\t  Yeezy     & 10         & 11.0       & 2016-11-23 & 220        & 2017-09-01 &  685       &  5        \\\\\n",
       "\t  Yeezy     & 11         & 11.0       & 2016-11-23 & 220        & 2017-09-01 &  690       &  5        \\\\\n",
       "\t  Yeezy     & 12         & 11.5       & 2016-11-23 & 220        & 2017-09-01 & 1075       & 18        \\\\\n",
       "\t  Yeezy     & 13         & 11.0       & 2017-02-11 & 220        & 2017-09-01 &  828       & 40        \\\\\n",
       "\t  Yeezy     & 13         &  8.5       & 2017-02-11 & 220        & 2017-09-01 &  798       & 23        \\\\\n",
       "\\end{tabular}\n"
      ],
      "text/markdown": [
       "\n",
       "| Brand | Sneaker_Code | Shoe_Size | Release_Date | Retail_Price | Order_Date | Sale_Price | Buyer_Region_Code |\n",
       "|---|---|---|---|---|---|---|---|\n",
       "|  Yeezy     |  6         | 11.0       | 2016-09-24 | 220        | 2017-09-01 | 1097       |  5         |\n",
       "|  Yeezy     | 10         | 11.0       | 2016-11-23 | 220        | 2017-09-01 |  685       |  5         |\n",
       "|  Yeezy     | 11         | 11.0       | 2016-11-23 | 220        | 2017-09-01 |  690       |  5         |\n",
       "|  Yeezy     | 12         | 11.5       | 2016-11-23 | 220        | 2017-09-01 | 1075       | 18         |\n",
       "|  Yeezy     | 13         | 11.0       | 2017-02-11 | 220        | 2017-09-01 |  828       | 40         |\n",
       "|  Yeezy     | 13         |  8.5       | 2017-02-11 | 220        | 2017-09-01 |  798       | 23         |\n",
       "\n"
      ],
      "text/plain": [
       "  Brand  Sneaker_Code Shoe_Size Release_Date Retail_Price Order_Date Sale_Price\n",
       "1  Yeezy  6           11.0      2016-09-24   220          2017-09-01 1097      \n",
       "2  Yeezy 10           11.0      2016-11-23   220          2017-09-01  685      \n",
       "3  Yeezy 11           11.0      2016-11-23   220          2017-09-01  690      \n",
       "4  Yeezy 12           11.5      2016-11-23   220          2017-09-01 1075      \n",
       "5  Yeezy 13           11.0      2017-02-11   220          2017-09-01  828      \n",
       "6  Yeezy 13            8.5      2017-02-11   220          2017-09-01  798      \n",
       "  Buyer_Region_Code\n",
       "1  5               \n",
       "2  5               \n",
       "3  5               \n",
       "4 18               \n",
       "5 40               \n",
       "6 23               "
      ]
     },
     "metadata": {},
     "output_type": "display_data"
    }
   ],
   "source": [
    "#Make a new data set from old modified data set\n",
    "NewSneaker03 <- data.frame(Brand,Sneaker_Code, Shoe_Size, Release_Date, Retail_Price, Order_Date, Sale_Price, Buyer_Region_Code)\n",
    "head(NewSneaker03)"
   ]
  },
  {
   "cell_type": "code",
   "execution_count": 20,
   "id": "09cceeac",
   "metadata": {},
   "outputs": [
    {
     "data": {
      "text/plain": [
       "       Brand        Sneaker_Code     Shoe_Size       Release_Date       \n",
       "  Yeezy   :72162   Min.   : 1.00   Min.   : 3.500   Min.   :2015-06-27  \n",
       " Off-White:27794   1st Qu.: 9.00   1st Qu.: 8.000   1st Qu.:2017-09-09  \n",
       "                   Median :17.00   Median : 9.500   Median :2017-12-16  \n",
       "                   Mean   :19.13   Mean   : 9.344   Mean   :2018-02-10  \n",
       "                   3rd Qu.:22.00   3rd Qu.:11.000   3rd Qu.:2018-08-03  \n",
       "                   Max.   :50.00   Max.   :17.000   Max.   :2019-02-07  \n",
       "  Retail_Price     Order_Date           Sale_Price     Buyer_Region_Code\n",
       " Min.   :130.0   Min.   :2017-09-01   Min.   : 186.0   Min.   : 1.00    \n",
       " 1st Qu.:220.0   1st Qu.:2018-05-02   1st Qu.: 275.0   1st Qu.: 9.00    \n",
       " Median :220.0   Median :2018-09-24   Median : 370.0   Median :29.00    \n",
       " Mean   :208.6   Mean   :2018-08-12   Mean   : 446.6   Mean   :24.01    \n",
       " 3rd Qu.:220.0   3rd Qu.:2018-12-15   3rd Qu.: 540.0   3rd Qu.:36.00    \n",
       " Max.   :250.0   Max.   :2019-02-13   Max.   :4050.0   Max.   :51.00    "
      ]
     },
     "metadata": {},
     "output_type": "display_data"
    }
   ],
   "source": [
    "summary(NewSneaker03)"
   ]
  },
  {
   "cell_type": "markdown",
   "id": "b5461249",
   "metadata": {},
   "source": [
    " "
   ]
  },
  {
   "cell_type": "markdown",
   "id": "ab20b72d",
   "metadata": {},
   "source": [
    "### spliting the data set"
   ]
  },
  {
   "cell_type": "code",
   "execution_count": 21,
   "id": "b5257e43",
   "metadata": {},
   "outputs": [],
   "source": [
    "NewSneaker03 <- data.frame(NewSneaker03) #another new data frame cration to avoid misuse our old data set\n",
    "#each time a new model we would create we will make another data frame from NewSneaker data set and name it NewSneaker_n\n",
    "smp_size <- floor(0.8 * nrow(NewSneaker03))\n",
    "set.seed(123)\n",
    "train_ind <- sample(seq_len(nrow(NewSneaker03)), size = smp_size)\n",
    "\n",
    "train <- NewSneaker03[train_ind, ]\n",
    "test <- NewSneaker03[-train_ind, ]"
   ]
  },
  {
   "cell_type": "code",
   "execution_count": 22,
   "id": "dccac160",
   "metadata": {},
   "outputs": [
    {
     "data": {
      "text/html": [
       "<ol class=list-inline>\n",
       "\t<li>'Brand'</li>\n",
       "\t<li>'Sneaker_Code'</li>\n",
       "\t<li>'Shoe_Size'</li>\n",
       "\t<li>'Release_Date'</li>\n",
       "\t<li>'Retail_Price'</li>\n",
       "\t<li>'Order_Date'</li>\n",
       "\t<li>'Sale_Price'</li>\n",
       "\t<li>'Buyer_Region_Code'</li>\n",
       "</ol>\n"
      ],
      "text/latex": [
       "\\begin{enumerate*}\n",
       "\\item 'Brand'\n",
       "\\item 'Sneaker\\_Code'\n",
       "\\item 'Shoe\\_Size'\n",
       "\\item 'Release\\_Date'\n",
       "\\item 'Retail\\_Price'\n",
       "\\item 'Order\\_Date'\n",
       "\\item 'Sale\\_Price'\n",
       "\\item 'Buyer\\_Region\\_Code'\n",
       "\\end{enumerate*}\n"
      ],
      "text/markdown": [
       "1. 'Brand'\n",
       "2. 'Sneaker_Code'\n",
       "3. 'Shoe_Size'\n",
       "4. 'Release_Date'\n",
       "5. 'Retail_Price'\n",
       "6. 'Order_Date'\n",
       "7. 'Sale_Price'\n",
       "8. 'Buyer_Region_Code'\n",
       "\n",
       "\n"
      ],
      "text/plain": [
       "[1] \"Brand\"             \"Sneaker_Code\"      \"Shoe_Size\"        \n",
       "[4] \"Release_Date\"      \"Retail_Price\"      \"Order_Date\"       \n",
       "[7] \"Sale_Price\"        \"Buyer_Region_Code\""
      ]
     },
     "metadata": {},
     "output_type": "display_data"
    }
   ],
   "source": [
    "names(NewSneaker03)"
   ]
  },
  {
   "cell_type": "code",
   "execution_count": 23,
   "id": "295040c5",
   "metadata": {},
   "outputs": [
    {
     "data": {
      "text/plain": [
       "\n",
       "Call:\n",
       "lm(formula = Sale_Price ~ ., data = train)\n",
       "\n",
       "Residuals:\n",
       "    Min      1Q  Median      3Q     Max \n",
       "-526.32  -92.03  -49.58   66.02 3137.49 \n",
       "\n",
       "Coefficients:\n",
       "                    Estimate Std. Error  t value Pr(>|t|)    \n",
       "(Intercept)        8.024e+03  9.244e+01   86.803  < 2e-16 ***\n",
       "BrandOff-White     6.096e+02  3.267e+00  186.572  < 2e-16 ***\n",
       "Sneaker_Code      -1.151e+01  1.108e-01 -103.909  < 2e-16 ***\n",
       "Shoe_Size          1.933e+00  2.824e-01    6.846 7.66e-12 ***\n",
       "Release_Date      -2.929e-01  3.195e-03  -91.673  < 2e-16 ***\n",
       "Retail_Price      -1.534e-01  3.773e-02   -4.066 4.78e-05 ***\n",
       "Order_Date        -1.330e-01  5.306e-03  -25.070  < 2e-16 ***\n",
       "Buyer_Region_Code -1.791e-01  4.479e-02   -3.999 6.38e-05 ***\n",
       "---\n",
       "Signif. codes:  0 '***' 0.001 '**' 0.01 '*' 0.05 '.' 0.1 ' ' 1\n",
       "\n",
       "Residual standard error: 185.1 on 79956 degrees of freedom\n",
       "Multiple R-squared:  0.4801,\tAdjusted R-squared:  0.4801 \n",
       "F-statistic: 1.055e+04 on 7 and 79956 DF,  p-value: < 2.2e-16\n"
      ]
     },
     "metadata": {},
     "output_type": "display_data"
    }
   ],
   "source": [
    "model <- lm(Sale_Price~., data = train)\n",
    "summary(model)"
   ]
  },
  {
   "cell_type": "markdown",
   "id": "e4a95c35",
   "metadata": {},
   "source": [
    "### This model has 48% accuracy rate and has a less than 0.05 of p-value. However it has a higher standard error, that means it has too many outliear. So we could conclud, this model is not statasitically significant. "
   ]
  },
  {
   "cell_type": "code",
   "execution_count": null,
   "id": "75447e8a",
   "metadata": {},
   "outputs": [],
   "source": []
  }
 ],
 "metadata": {
  "kernelspec": {
   "display_name": "R",
   "language": "R",
   "name": "ir"
  },
  "language_info": {
   "codemirror_mode": "r",
   "file_extension": ".r",
   "mimetype": "text/x-r-source",
   "name": "R",
   "pygments_lexer": "r",
   "version": "3.6.1"
  }
 },
 "nbformat": 4,
 "nbformat_minor": 5
}
head(NewSneaker)

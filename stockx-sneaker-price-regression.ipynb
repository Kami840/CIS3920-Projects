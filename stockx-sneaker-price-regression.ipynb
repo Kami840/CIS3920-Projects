{
 "cells": [
  {
   "cell_type": "code",
   "execution_count": 1,
   "metadata": {
    "_cell_guid": "b1076dfc-b9ad-4769-8c92-a6c4dae69d19",
    "_uuid": "8f2839f25d086af736a60e9eeb907d3b93b6e0e5",
    "execution": {
     "iopub.execute_input": "2020-09-06T05:33:43.248586Z",
     "iopub.status.busy": "2020-09-06T05:33:43.247907Z",
     "iopub.status.idle": "2020-09-06T05:33:43.255679Z",
     "shell.execute_reply": "2020-09-06T05:33:43.256216Z"
    },
    "papermill": {
     "duration": 0.02784,
     "end_time": "2020-09-06T05:33:43.256381",
     "exception": false,
     "start_time": "2020-09-06T05:33:43.228541",
     "status": "completed"
    },
    "tags": []
   },
   "outputs": [
    {
     "name": "stdout",
     "output_type": "stream",
     "text": [
      "/kaggle/input/stockx-data-contest/StockX-Data-Contest-2019-3.csv\n",
      "/kaggle/input/stockx/StockX-Data-Contest-2019-3.csv\n"
     ]
    }
   ],
   "source": [
    "# This Python 3 environment comes with many helpful analytics libraries installed\n",
    "# It is defined by the kaggle/python Docker image: https://github.com/kaggle/docker-python\n",
    "# For example, here's several helpful packages to load\n",
    "\n",
    "import numpy as np # linear algebra\n",
    "import pandas as pd # data processing, CSV file I/O (e.g. pd.read_csv)\n",
    "\n",
    "# Input data files are available in the read-only \"../input/\" directory\n",
    "# For example, running this (by clicking run or pressing Shift+Enter) will list all files under the input directory\n",
    "\n",
    "import os\n",
    "for dirname, _, filenames in os.walk('/kaggle/input'):\n",
    "    for filename in filenames:\n",
    "        print(os.path.join(dirname, filename))\n",
    "\n",
    "# You can write up to 5GB to the current directory (/kaggle/working/) that gets preserved as output when you create a version using \"Save & Run All\" \n",
    "# You can also write temporary files to /kaggle/temp/, but they won't be saved outside of the current session"
   ]
  },
  {
   "cell_type": "markdown",
   "execution_count": null,
   "metadata": {
    "papermill": {
     "duration": 0.010317,
     "end_time": "2020-09-06T05:33:43.278042",
     "exception": false,
     "start_time": "2020-09-06T05:33:43.267725",
     "status": "completed"
    },
    "tags": []
   },
   "source": [
    "# StockX Sneaker Price Regression\n",
    "\n",
    "In this notebook, I will perform regression to predict the price of a given sneaker based on several factors such as order date, brand, sneaker name, sale price, and several others. This dataset is directly from StockX and was used for their 2019 data competition. \n",
    "\n",
    "### Description from StockX:\n",
    "\n",
    "The data we’re giving you consists of a random sample of all Off-White x Nike and Yeezy 350 sales from between 9/1/2017 (the month that Off-White first debuted “The Ten” collection) and the present. There are 99,956 total sales in the data set; 27,794 Off-White sales, and 72,162 Yeezy sales. The sample consists of U.S. sales only.\n",
    "\n",
    "To create this sample, we took a random, fixed percentage of StockX sales (X%) for each colorway, on each day, since September 2017. So, for each day the Off-White Jordan 1 was on the market, we randomly selected X% of its sale from each day. (It’s not important to know what X is; all that matters is that it’s a random sample, and that the same fixed X% of sales was selected from every day, for every sneaker).\n",
    "\n",
    "To create this sample, we took a random, fixed percentage of StockX sales (X%) for each colorway, on each day, since September 2017. So, for each day the Off-White Jordan 1 was on the market, we randomly selected X% of its sale from each day. (It’s not important to know what X is; all that matters is that it’s a random sample, and that the same fixed X% of sales was selected from every day, for every sneaker).\n",
    "\n",
    "We’ve included 8 variables for you to work with: Order Date, Brand, Sneaker Name, Sale Price ($), Retail Price ($), Release Date, Shoe Size, and Buyer State (the U.S. state the buyer shipped to). You can use whatever variables you want in the analysis; you can use 1 variable, or you can use all 8. And remember, every row in the spreadsheet represents an individual StockX sale. There are no averages or order counts; this is just a random sample of daily sales data.\n"
   ]
  },
  {
   "cell_type": "markdown",
   "execution_count": null,
   "metadata": {
    "papermill": {
     "duration": 0.010318,
     "end_time": "2020-09-06T05:33:43.299214",
     "exception": false,
     "start_time": "2020-09-06T05:33:43.288896",
     "status": "completed"
    },
    "tags": []
   },
   "source": [
    "# Data Cleaning"
   ]
  },
  {
   "cell_type": "code",
   "execution_count": 2,
   "metadata": {
    "_cell_guid": "79c7e3d0-c299-4dcb-8224-4455121ee9b0",
    "_uuid": "d629ff2d2480ee46fbb7e2d37f6b5fab8052498a",
    "execution": {
     "iopub.execute_input": "2020-09-06T05:33:43.326216Z",
     "iopub.status.busy": "2020-09-06T05:33:43.325563Z",
     "iopub.status.idle": "2020-09-06T05:33:44.165041Z",
     "shell.execute_reply": "2020-09-06T05:33:44.164340Z"
    },
    "papermill": {
     "duration": 0.855428,
     "end_time": "2020-09-06T05:33:44.165166",
     "exception": false,
     "start_time": "2020-09-06T05:33:43.309738",
     "status": "completed"
    },
    "tags": []
   },
   "outputs": [],
   "source": [
    "import pandas as pd\n",
    "import numpy as np\n",
    "import seaborn as sns\n",
    "import matplotlib.pyplot as plt\n",
    "import matplotlib.ticker as plticker\n",
    "%matplotlib inline"
   ]
  },
  {
   "cell_type": "code",
   "execution_count": 3,
   "metadata": {
    "execution": {
     "iopub.execute_input": "2020-09-06T05:33:44.195695Z",
     "iopub.status.busy": "2020-09-06T05:33:44.194935Z",
     "iopub.status.idle": "2020-09-06T05:33:44.377405Z",
     "shell.execute_reply": "2020-09-06T05:33:44.376832Z"
    },
    "papermill": {
     "duration": 0.201083,
     "end_time": "2020-09-06T05:33:44.377520",
     "exception": false,
     "start_time": "2020-09-06T05:33:44.176437",
     "status": "completed"
    },
    "tags": []
   },
   "outputs": [
    {
     "data": {
      "text/html": [
       "<div>\n",
       "<style scoped>\n",
       "    .dataframe tbody tr th:only-of-type {\n",
       "        vertical-align: middle;\n",
       "    }\n",
       "\n",
       "    .dataframe tbody tr th {\n",
       "        vertical-align: top;\n",
       "    }\n",
       "\n",
       "    .dataframe thead th {\n",
       "        text-align: right;\n",
       "    }\n",
       "</style>\n",
       "<table border=\"1\" class=\"dataframe\">\n",
       "  <thead>\n",
       "    <tr style=\"text-align: right;\">\n",
       "      <th></th>\n",
       "      <th>Order Date</th>\n",
       "      <th>Brand</th>\n",
       "      <th>Sneaker Name</th>\n",
       "      <th>Sale Price</th>\n",
       "      <th>Retail Price</th>\n",
       "      <th>Release Date</th>\n",
       "      <th>Shoe Size</th>\n",
       "      <th>Buyer Region</th>\n",
       "    </tr>\n",
       "  </thead>\n",
       "  <tbody>\n",
       "    <tr>\n",
       "      <th>0</th>\n",
       "      <td>9/1/2017</td>\n",
       "      <td>Yeezy</td>\n",
       "      <td>Adidas-Yeezy-Boost-350-Low-V2-Beluga</td>\n",
       "      <td>$1,097</td>\n",
       "      <td>$220</td>\n",
       "      <td>9/24/2016</td>\n",
       "      <td>11.0</td>\n",
       "      <td>California</td>\n",
       "    </tr>\n",
       "    <tr>\n",
       "      <th>1</th>\n",
       "      <td>9/1/2017</td>\n",
       "      <td>Yeezy</td>\n",
       "      <td>Adidas-Yeezy-Boost-350-V2-Core-Black-Copper</td>\n",
       "      <td>$685</td>\n",
       "      <td>$220</td>\n",
       "      <td>11/23/2016</td>\n",
       "      <td>11.0</td>\n",
       "      <td>California</td>\n",
       "    </tr>\n",
       "    <tr>\n",
       "      <th>2</th>\n",
       "      <td>9/1/2017</td>\n",
       "      <td>Yeezy</td>\n",
       "      <td>Adidas-Yeezy-Boost-350-V2-Core-Black-Green</td>\n",
       "      <td>$690</td>\n",
       "      <td>$220</td>\n",
       "      <td>11/23/2016</td>\n",
       "      <td>11.0</td>\n",
       "      <td>California</td>\n",
       "    </tr>\n",
       "    <tr>\n",
       "      <th>3</th>\n",
       "      <td>9/1/2017</td>\n",
       "      <td>Yeezy</td>\n",
       "      <td>Adidas-Yeezy-Boost-350-V2-Core-Black-Red</td>\n",
       "      <td>$1,075</td>\n",
       "      <td>$220</td>\n",
       "      <td>11/23/2016</td>\n",
       "      <td>11.5</td>\n",
       "      <td>Kentucky</td>\n",
       "    </tr>\n",
       "    <tr>\n",
       "      <th>4</th>\n",
       "      <td>9/1/2017</td>\n",
       "      <td>Yeezy</td>\n",
       "      <td>Adidas-Yeezy-Boost-350-V2-Core-Black-Red-2017</td>\n",
       "      <td>$828</td>\n",
       "      <td>$220</td>\n",
       "      <td>2/11/2017</td>\n",
       "      <td>11.0</td>\n",
       "      <td>Rhode Island</td>\n",
       "    </tr>\n",
       "  </tbody>\n",
       "</table>\n",
       "</div>"
      ],
      "text/plain": [
       "  Order Date   Brand                                   Sneaker Name  \\\n",
       "0   9/1/2017   Yeezy           Adidas-Yeezy-Boost-350-Low-V2-Beluga   \n",
       "1   9/1/2017   Yeezy    Adidas-Yeezy-Boost-350-V2-Core-Black-Copper   \n",
       "2   9/1/2017   Yeezy     Adidas-Yeezy-Boost-350-V2-Core-Black-Green   \n",
       "3   9/1/2017   Yeezy       Adidas-Yeezy-Boost-350-V2-Core-Black-Red   \n",
       "4   9/1/2017   Yeezy  Adidas-Yeezy-Boost-350-V2-Core-Black-Red-2017   \n",
       "\n",
       "  Sale Price Retail Price Release Date  Shoe Size  Buyer Region  \n",
       "0     $1,097         $220    9/24/2016       11.0    California  \n",
       "1       $685         $220   11/23/2016       11.0    California  \n",
       "2       $690         $220   11/23/2016       11.0    California  \n",
       "3     $1,075         $220   11/23/2016       11.5      Kentucky  \n",
       "4       $828         $220    2/11/2017       11.0  Rhode Island  "
      ]
     },
     "execution_count": 3,
     "metadata": {},
     "output_type": "execute_result"
    }
   ],
   "source": [
    "# Reading in the data\n",
    "original_data = pd.read_csv('../input/stockx/StockX-Data-Contest-2019-3.csv', header = 2)\n",
    "df = original_data.copy()\n",
    "df.head()"
   ]
  },
  {
   "cell_type": "code",
   "execution_count": 4,
   "metadata": {
    "execution": {
     "iopub.execute_input": "2020-09-06T05:33:44.404413Z",
     "iopub.status.busy": "2020-09-06T05:33:44.403654Z",
     "iopub.status.idle": "2020-09-06T05:33:44.407502Z",
     "shell.execute_reply": "2020-09-06T05:33:44.407039Z"
    },
    "papermill": {
     "duration": 0.018909,
     "end_time": "2020-09-06T05:33:44.407639",
     "exception": false,
     "start_time": "2020-09-06T05:33:44.388730",
     "status": "completed"
    },
    "tags": []
   },
   "outputs": [
    {
     "data": {
      "text/plain": [
       "(99956, 8)"
      ]
     },
     "execution_count": 4,
     "metadata": {},
     "output_type": "execute_result"
    }
   ],
   "source": [
    "df.shape"
   ]
  },
  {
   "cell_type": "code",
   "execution_count": 5,
   "metadata": {
    "execution": {
     "iopub.execute_input": "2020-09-06T05:33:44.435139Z",
     "iopub.status.busy": "2020-09-06T05:33:44.434403Z",
     "iopub.status.idle": "2020-09-06T05:33:44.438054Z",
     "shell.execute_reply": "2020-09-06T05:33:44.438481Z"
    },
    "papermill": {
     "duration": 0.020072,
     "end_time": "2020-09-06T05:33:44.438607",
     "exception": false,
     "start_time": "2020-09-06T05:33:44.418535",
     "status": "completed"
    },
    "tags": []
   },
   "outputs": [
    {
     "data": {
      "text/plain": [
       "Order Date       object\n",
       "Brand            object\n",
       "Sneaker Name     object\n",
       "Sale Price       object\n",
       "Retail Price     object\n",
       "Release Date     object\n",
       "Shoe Size       float64\n",
       "Buyer Region     object\n",
       "dtype: object"
      ]
     },
     "execution_count": 5,
     "metadata": {},
     "output_type": "execute_result"
    }
   ],
   "source": [
    "df.dtypes"
   ]
  },
  {
   "cell_type": "code",
   "execution_count": 6,
   "metadata": {
    "execution": {
     "iopub.execute_input": "2020-09-06T05:33:44.472403Z",
     "iopub.status.busy": "2020-09-06T05:33:44.471760Z",
     "iopub.status.idle": "2020-09-06T05:33:44.486308Z",
     "shell.execute_reply": "2020-09-06T05:33:44.485691Z"
    },
    "papermill": {
     "duration": 0.036874,
     "end_time": "2020-09-06T05:33:44.486409",
     "exception": false,
     "start_time": "2020-09-06T05:33:44.449535",
     "status": "completed"
    },
    "tags": []
   },
   "outputs": [
    {
     "data": {
      "text/html": [
       "<div>\n",
       "<style scoped>\n",
       "    .dataframe tbody tr th:only-of-type {\n",
       "        vertical-align: middle;\n",
       "    }\n",
       "\n",
       "    .dataframe tbody tr th {\n",
       "        vertical-align: top;\n",
       "    }\n",
       "\n",
       "    .dataframe thead th {\n",
       "        text-align: right;\n",
       "    }\n",
       "</style>\n",
       "<table border=\"1\" class=\"dataframe\">\n",
       "  <thead>\n",
       "    <tr style=\"text-align: right;\">\n",
       "      <th></th>\n",
       "      <th>Shoe Size</th>\n",
       "    </tr>\n",
       "  </thead>\n",
       "  <tbody>\n",
       "    <tr>\n",
       "      <th>count</th>\n",
       "      <td>99956.000000</td>\n",
       "    </tr>\n",
       "    <tr>\n",
       "      <th>mean</th>\n",
       "      <td>9.344181</td>\n",
       "    </tr>\n",
       "    <tr>\n",
       "      <th>std</th>\n",
       "      <td>2.329588</td>\n",
       "    </tr>\n",
       "    <tr>\n",
       "      <th>min</th>\n",
       "      <td>3.500000</td>\n",
       "    </tr>\n",
       "    <tr>\n",
       "      <th>25%</th>\n",
       "      <td>8.000000</td>\n",
       "    </tr>\n",
       "    <tr>\n",
       "      <th>50%</th>\n",
       "      <td>9.500000</td>\n",
       "    </tr>\n",
       "    <tr>\n",
       "      <th>75%</th>\n",
       "      <td>11.000000</td>\n",
       "    </tr>\n",
       "    <tr>\n",
       "      <th>max</th>\n",
       "      <td>17.000000</td>\n",
       "    </tr>\n",
       "  </tbody>\n",
       "</table>\n",
       "</div>"
      ],
      "text/plain": [
       "          Shoe Size\n",
       "count  99956.000000\n",
       "mean       9.344181\n",
       "std        2.329588\n",
       "min        3.500000\n",
       "25%        8.000000\n",
       "50%        9.500000\n",
       "75%       11.000000\n",
       "max       17.000000"
      ]
     },
     "execution_count": 6,
     "metadata": {},
     "output_type": "execute_result"
    }
   ],
   "source": [
    "df.describe()"
   ]
  },
  {
   "cell_type": "code",
   "execution_count": 7,
   "metadata": {
    "execution": {
     "iopub.execute_input": "2020-09-06T05:33:44.540552Z",
     "iopub.status.busy": "2020-09-06T05:33:44.512502Z",
     "iopub.status.idle": "2020-09-06T05:33:44.567545Z",
     "shell.execute_reply": "2020-09-06T05:33:44.566866Z"
    },
    "papermill": {
     "duration": 0.070111,
     "end_time": "2020-09-06T05:33:44.567660",
     "exception": false,
     "start_time": "2020-09-06T05:33:44.497549",
     "status": "completed"
    },
    "tags": []
   },
   "outputs": [
    {
     "data": {
      "text/html": [
       "<div>\n",
       "<style scoped>\n",
       "    .dataframe tbody tr th:only-of-type {\n",
       "        vertical-align: middle;\n",
       "    }\n",
       "\n",
       "    .dataframe tbody tr th {\n",
       "        vertical-align: top;\n",
       "    }\n",
       "\n",
       "    .dataframe thead th {\n",
       "        text-align: right;\n",
       "    }\n",
       "</style>\n",
       "<table border=\"1\" class=\"dataframe\">\n",
       "  <thead>\n",
       "    <tr style=\"text-align: right;\">\n",
       "      <th></th>\n",
       "      <th>0</th>\n",
       "    </tr>\n",
       "  </thead>\n",
       "  <tbody>\n",
       "  </tbody>\n",
       "</table>\n",
       "</div>"
      ],
      "text/plain": [
       "Empty DataFrame\n",
       "Columns: [0]\n",
       "Index: []"
      ]
     },
     "execution_count": 7,
     "metadata": {},
     "output_type": "execute_result"
    }
   ],
   "source": [
    "# Checking for null values\n",
    "nulls = pd.concat([df.isnull().sum()], axis=1)\n",
    "nulls[nulls.sum(axis=1) > 0]"
   ]
  },
  {
   "cell_type": "code",
   "execution_count": 8,
   "metadata": {
    "execution": {
     "iopub.execute_input": "2020-09-06T05:33:44.600687Z",
     "iopub.status.busy": "2020-09-06T05:33:44.599907Z",
     "iopub.status.idle": "2020-09-06T05:33:44.633579Z",
     "shell.execute_reply": "2020-09-06T05:33:44.632991Z"
    },
    "papermill": {
     "duration": 0.054547,
     "end_time": "2020-09-06T05:33:44.633685",
     "exception": false,
     "start_time": "2020-09-06T05:33:44.579138",
     "status": "completed"
    },
    "tags": []
   },
   "outputs": [
    {
     "data": {
      "text/html": [
       "<div>\n",
       "<style scoped>\n",
       "    .dataframe tbody tr th:only-of-type {\n",
       "        vertical-align: middle;\n",
       "    }\n",
       "\n",
       "    .dataframe tbody tr th {\n",
       "        vertical-align: top;\n",
       "    }\n",
       "\n",
       "    .dataframe thead th {\n",
       "        text-align: right;\n",
       "    }\n",
       "</style>\n",
       "<table border=\"1\" class=\"dataframe\">\n",
       "  <thead>\n",
       "    <tr style=\"text-align: right;\">\n",
       "      <th></th>\n",
       "      <th>Order Date</th>\n",
       "      <th>Brand</th>\n",
       "      <th>Sneaker Name</th>\n",
       "      <th>Sale Price</th>\n",
       "      <th>Retail Price</th>\n",
       "      <th>Release Date</th>\n",
       "      <th>Shoe Size</th>\n",
       "      <th>Buyer Region</th>\n",
       "    </tr>\n",
       "  </thead>\n",
       "  <tbody>\n",
       "    <tr>\n",
       "      <th>0</th>\n",
       "      <td>2017-09-01</td>\n",
       "      <td>Yeezy</td>\n",
       "      <td>Adidas-Yeezy-Boost-350-Low-V2-Beluga</td>\n",
       "      <td>$1,097</td>\n",
       "      <td>$220</td>\n",
       "      <td>9/24/2016</td>\n",
       "      <td>11.0</td>\n",
       "      <td>California</td>\n",
       "    </tr>\n",
       "    <tr>\n",
       "      <th>1</th>\n",
       "      <td>2017-09-01</td>\n",
       "      <td>Yeezy</td>\n",
       "      <td>Adidas-Yeezy-Boost-350-V2-Core-Black-Copper</td>\n",
       "      <td>$685</td>\n",
       "      <td>$220</td>\n",
       "      <td>11/23/2016</td>\n",
       "      <td>11.0</td>\n",
       "      <td>California</td>\n",
       "    </tr>\n",
       "    <tr>\n",
       "      <th>2</th>\n",
       "      <td>2017-09-01</td>\n",
       "      <td>Yeezy</td>\n",
       "      <td>Adidas-Yeezy-Boost-350-V2-Core-Black-Green</td>\n",
       "      <td>$690</td>\n",
       "      <td>$220</td>\n",
       "      <td>11/23/2016</td>\n",
       "      <td>11.0</td>\n",
       "      <td>California</td>\n",
       "    </tr>\n",
       "    <tr>\n",
       "      <th>3</th>\n",
       "      <td>2017-09-01</td>\n",
       "      <td>Yeezy</td>\n",
       "      <td>Adidas-Yeezy-Boost-350-V2-Core-Black-Red</td>\n",
       "      <td>$1,075</td>\n",
       "      <td>$220</td>\n",
       "      <td>11/23/2016</td>\n",
       "      <td>11.5</td>\n",
       "      <td>Kentucky</td>\n",
       "    </tr>\n",
       "    <tr>\n",
       "      <th>4</th>\n",
       "      <td>2017-09-01</td>\n",
       "      <td>Yeezy</td>\n",
       "      <td>Adidas-Yeezy-Boost-350-V2-Core-Black-Red-2017</td>\n",
       "      <td>$828</td>\n",
       "      <td>$220</td>\n",
       "      <td>2/11/2017</td>\n",
       "      <td>11.0</td>\n",
       "      <td>Rhode Island</td>\n",
       "    </tr>\n",
       "  </tbody>\n",
       "</table>\n",
       "</div>"
      ],
      "text/plain": [
       "  Order Date   Brand                                   Sneaker Name  \\\n",
       "0 2017-09-01   Yeezy           Adidas-Yeezy-Boost-350-Low-V2-Beluga   \n",
       "1 2017-09-01   Yeezy    Adidas-Yeezy-Boost-350-V2-Core-Black-Copper   \n",
       "2 2017-09-01   Yeezy     Adidas-Yeezy-Boost-350-V2-Core-Black-Green   \n",
       "3 2017-09-01   Yeezy       Adidas-Yeezy-Boost-350-V2-Core-Black-Red   \n",
       "4 2017-09-01   Yeezy  Adidas-Yeezy-Boost-350-V2-Core-Black-Red-2017   \n",
       "\n",
       "  Sale Price Retail Price Release Date  Shoe Size  Buyer Region  \n",
       "0     $1,097         $220    9/24/2016       11.0    California  \n",
       "1       $685         $220   11/23/2016       11.0    California  \n",
       "2       $690         $220   11/23/2016       11.0    California  \n",
       "3     $1,075         $220   11/23/2016       11.5      Kentucky  \n",
       "4       $828         $220    2/11/2017       11.0  Rhode Island  "
      ]
     },
     "execution_count": 8,
     "metadata": {},
     "output_type": "execute_result"
    }
   ],
   "source": [
    "# Change 'order date' dtype\n",
    "df['Order Date'] = pd.to_datetime(df['Order Date'], format='%m/%d/%Y')\n",
    "df.head()"
   ]
  },
  {
   "cell_type": "code",
   "execution_count": 9,
   "metadata": {
    "execution": {
     "iopub.execute_input": "2020-09-06T05:33:44.668009Z",
     "iopub.status.busy": "2020-09-06T05:33:44.667385Z",
     "iopub.status.idle": "2020-09-06T05:33:44.696660Z",
     "shell.execute_reply": "2020-09-06T05:33:44.696101Z"
    },
    "papermill": {
     "duration": 0.051221,
     "end_time": "2020-09-06T05:33:44.696769",
     "exception": false,
     "start_time": "2020-09-06T05:33:44.645548",
     "status": "completed"
    },
    "tags": []
   },
   "outputs": [
    {
     "data": {
      "text/html": [
       "<div>\n",
       "<style scoped>\n",
       "    .dataframe tbody tr th:only-of-type {\n",
       "        vertical-align: middle;\n",
       "    }\n",
       "\n",
       "    .dataframe tbody tr th {\n",
       "        vertical-align: top;\n",
       "    }\n",
       "\n",
       "    .dataframe thead th {\n",
       "        text-align: right;\n",
       "    }\n",
       "</style>\n",
       "<table border=\"1\" class=\"dataframe\">\n",
       "  <thead>\n",
       "    <tr style=\"text-align: right;\">\n",
       "      <th></th>\n",
       "      <th>Order Date</th>\n",
       "      <th>Brand</th>\n",
       "      <th>Sneaker Name</th>\n",
       "      <th>Sale Price</th>\n",
       "      <th>Retail Price</th>\n",
       "      <th>Release Date</th>\n",
       "      <th>Shoe Size</th>\n",
       "      <th>Buyer Region</th>\n",
       "    </tr>\n",
       "  </thead>\n",
       "  <tbody>\n",
       "    <tr>\n",
       "      <th>0</th>\n",
       "      <td>2017-09-01</td>\n",
       "      <td>Yeezy</td>\n",
       "      <td>Adidas-Yeezy-Boost-350-Low-V2-Beluga</td>\n",
       "      <td>$1,097</td>\n",
       "      <td>$220</td>\n",
       "      <td>2016-09-24</td>\n",
       "      <td>11.0</td>\n",
       "      <td>California</td>\n",
       "    </tr>\n",
       "    <tr>\n",
       "      <th>1</th>\n",
       "      <td>2017-09-01</td>\n",
       "      <td>Yeezy</td>\n",
       "      <td>Adidas-Yeezy-Boost-350-V2-Core-Black-Copper</td>\n",
       "      <td>$685</td>\n",
       "      <td>$220</td>\n",
       "      <td>2016-11-23</td>\n",
       "      <td>11.0</td>\n",
       "      <td>California</td>\n",
       "    </tr>\n",
       "    <tr>\n",
       "      <th>2</th>\n",
       "      <td>2017-09-01</td>\n",
       "      <td>Yeezy</td>\n",
       "      <td>Adidas-Yeezy-Boost-350-V2-Core-Black-Green</td>\n",
       "      <td>$690</td>\n",
       "      <td>$220</td>\n",
       "      <td>2016-11-23</td>\n",
       "      <td>11.0</td>\n",
       "      <td>California</td>\n",
       "    </tr>\n",
       "    <tr>\n",
       "      <th>3</th>\n",
       "      <td>2017-09-01</td>\n",
       "      <td>Yeezy</td>\n",
       "      <td>Adidas-Yeezy-Boost-350-V2-Core-Black-Red</td>\n",
       "      <td>$1,075</td>\n",
       "      <td>$220</td>\n",
       "      <td>2016-11-23</td>\n",
       "      <td>11.5</td>\n",
       "      <td>Kentucky</td>\n",
       "    </tr>\n",
       "    <tr>\n",
       "      <th>4</th>\n",
       "      <td>2017-09-01</td>\n",
       "      <td>Yeezy</td>\n",
       "      <td>Adidas-Yeezy-Boost-350-V2-Core-Black-Red-2017</td>\n",
       "      <td>$828</td>\n",
       "      <td>$220</td>\n",
       "      <td>2017-02-11</td>\n",
       "      <td>11.0</td>\n",
       "      <td>Rhode Island</td>\n",
       "    </tr>\n",
       "  </tbody>\n",
       "</table>\n",
       "</div>"
      ],
      "text/plain": [
       "  Order Date   Brand                                   Sneaker Name  \\\n",
       "0 2017-09-01   Yeezy           Adidas-Yeezy-Boost-350-Low-V2-Beluga   \n",
       "1 2017-09-01   Yeezy    Adidas-Yeezy-Boost-350-V2-Core-Black-Copper   \n",
       "2 2017-09-01   Yeezy     Adidas-Yeezy-Boost-350-V2-Core-Black-Green   \n",
       "3 2017-09-01   Yeezy       Adidas-Yeezy-Boost-350-V2-Core-Black-Red   \n",
       "4 2017-09-01   Yeezy  Adidas-Yeezy-Boost-350-V2-Core-Black-Red-2017   \n",
       "\n",
       "  Sale Price Retail Price Release Date  Shoe Size  Buyer Region  \n",
       "0     $1,097         $220   2016-09-24       11.0    California  \n",
       "1       $685         $220   2016-11-23       11.0    California  \n",
       "2       $690         $220   2016-11-23       11.0    California  \n",
       "3     $1,075         $220   2016-11-23       11.5      Kentucky  \n",
       "4       $828         $220   2017-02-11       11.0  Rhode Island  "
      ]
     },
     "execution_count": 9,
     "metadata": {},
     "output_type": "execute_result"
    }
   ],
   "source": [
    "# Change 'release date' dtype\n",
    "df['Release Date'] = pd.to_datetime(df['Release Date'], format='%m/%d/%Y')\n",
    "df.head()"
   ]
  },
  {
   "cell_type": "code",
   "execution_count": 10,
   "metadata": {
    "execution": {
     "iopub.execute_input": "2020-09-06T05:33:44.725589Z",
     "iopub.status.busy": "2020-09-06T05:33:44.724928Z",
     "iopub.status.idle": "2020-09-06T05:33:44.778583Z",
     "shell.execute_reply": "2020-09-06T05:33:44.778038Z"
    },
    "papermill": {
     "duration": 0.069885,
     "end_time": "2020-09-06T05:33:44.778690",
     "exception": false,
     "start_time": "2020-09-06T05:33:44.708805",
     "status": "completed"
    },
    "tags": []
   },
   "outputs": [
    {
     "data": {
      "text/html": [
       "<div>\n",
       "<style scoped>\n",
       "    .dataframe tbody tr th:only-of-type {\n",
       "        vertical-align: middle;\n",
       "    }\n",
       "\n",
       "    .dataframe tbody tr th {\n",
       "        vertical-align: top;\n",
       "    }\n",
       "\n",
       "    .dataframe thead th {\n",
       "        text-align: right;\n",
       "    }\n",
       "</style>\n",
       "<table border=\"1\" class=\"dataframe\">\n",
       "  <thead>\n",
       "    <tr style=\"text-align: right;\">\n",
       "      <th></th>\n",
       "      <th>Order Date</th>\n",
       "      <th>Brand</th>\n",
       "      <th>Sneaker Name</th>\n",
       "      <th>Sale Price</th>\n",
       "      <th>Retail Price</th>\n",
       "      <th>Release Date</th>\n",
       "      <th>Shoe Size</th>\n",
       "      <th>Buyer Region</th>\n",
       "    </tr>\n",
       "  </thead>\n",
       "  <tbody>\n",
       "    <tr>\n",
       "      <th>0</th>\n",
       "      <td>2017-09-01</td>\n",
       "      <td>Yeezy</td>\n",
       "      <td>Adidas Yeezy Boost 350 Low V2 Beluga</td>\n",
       "      <td>$1,097</td>\n",
       "      <td>$220</td>\n",
       "      <td>2016-09-24</td>\n",
       "      <td>11.0</td>\n",
       "      <td>California</td>\n",
       "    </tr>\n",
       "    <tr>\n",
       "      <th>1</th>\n",
       "      <td>2017-09-01</td>\n",
       "      <td>Yeezy</td>\n",
       "      <td>Adidas Yeezy Boost 350 V2 Core Black Copper</td>\n",
       "      <td>$685</td>\n",
       "      <td>$220</td>\n",
       "      <td>2016-11-23</td>\n",
       "      <td>11.0</td>\n",
       "      <td>California</td>\n",
       "    </tr>\n",
       "    <tr>\n",
       "      <th>2</th>\n",
       "      <td>2017-09-01</td>\n",
       "      <td>Yeezy</td>\n",
       "      <td>Adidas Yeezy Boost 350 V2 Core Black Green</td>\n",
       "      <td>$690</td>\n",
       "      <td>$220</td>\n",
       "      <td>2016-11-23</td>\n",
       "      <td>11.0</td>\n",
       "      <td>California</td>\n",
       "    </tr>\n",
       "    <tr>\n",
       "      <th>3</th>\n",
       "      <td>2017-09-01</td>\n",
       "      <td>Yeezy</td>\n",
       "      <td>Adidas Yeezy Boost 350 V2 Core Black Red</td>\n",
       "      <td>$1,075</td>\n",
       "      <td>$220</td>\n",
       "      <td>2016-11-23</td>\n",
       "      <td>11.5</td>\n",
       "      <td>Kentucky</td>\n",
       "    </tr>\n",
       "    <tr>\n",
       "      <th>4</th>\n",
       "      <td>2017-09-01</td>\n",
       "      <td>Yeezy</td>\n",
       "      <td>Adidas Yeezy Boost 350 V2 Core Black Red 2017</td>\n",
       "      <td>$828</td>\n",
       "      <td>$220</td>\n",
       "      <td>2017-02-11</td>\n",
       "      <td>11.0</td>\n",
       "      <td>Rhode Island</td>\n",
       "    </tr>\n",
       "  </tbody>\n",
       "</table>\n",
       "</div>"
      ],
      "text/plain": [
       "  Order Date   Brand                                   Sneaker Name  \\\n",
       "0 2017-09-01   Yeezy           Adidas Yeezy Boost 350 Low V2 Beluga   \n",
       "1 2017-09-01   Yeezy    Adidas Yeezy Boost 350 V2 Core Black Copper   \n",
       "2 2017-09-01   Yeezy     Adidas Yeezy Boost 350 V2 Core Black Green   \n",
       "3 2017-09-01   Yeezy       Adidas Yeezy Boost 350 V2 Core Black Red   \n",
       "4 2017-09-01   Yeezy  Adidas Yeezy Boost 350 V2 Core Black Red 2017   \n",
       "\n",
       "  Sale Price Retail Price Release Date  Shoe Size  Buyer Region  \n",
       "0     $1,097         $220   2016-09-24       11.0    California  \n",
       "1       $685         $220   2016-11-23       11.0    California  \n",
       "2       $690         $220   2016-11-23       11.0    California  \n",
       "3     $1,075         $220   2016-11-23       11.5      Kentucky  \n",
       "4       $828         $220   2017-02-11       11.0  Rhode Island  "
      ]
     },
     "execution_count": 10,
     "metadata": {},
     "output_type": "execute_result"
    }
   ],
   "source": [
    "# Remove - from sneaker name\n",
    "df['Sneaker Name'] = df['Sneaker Name'].apply(lambda x: x.replace('-', ' '))\n",
    "df.head()"
   ]
  },
  {
   "cell_type": "code",
   "execution_count": 11,
   "metadata": {
    "execution": {
     "iopub.execute_input": "2020-09-06T05:33:44.834330Z",
     "iopub.status.busy": "2020-09-06T05:33:44.808569Z",
     "iopub.status.idle": "2020-09-06T05:33:44.884416Z",
     "shell.execute_reply": "2020-09-06T05:33:44.884854Z"
    },
    "papermill": {
     "duration": 0.094004,
     "end_time": "2020-09-06T05:33:44.885024",
     "exception": false,
     "start_time": "2020-09-06T05:33:44.791020",
     "status": "completed"
    },
    "tags": []
   },
   "outputs": [
    {
     "data": {
      "text/html": [
       "<div>\n",
       "<style scoped>\n",
       "    .dataframe tbody tr th:only-of-type {\n",
       "        vertical-align: middle;\n",
       "    }\n",
       "\n",
       "    .dataframe tbody tr th {\n",
       "        vertical-align: top;\n",
       "    }\n",
       "\n",
       "    .dataframe thead th {\n",
       "        text-align: right;\n",
       "    }\n",
       "</style>\n",
       "<table border=\"1\" class=\"dataframe\">\n",
       "  <thead>\n",
       "    <tr style=\"text-align: right;\">\n",
       "      <th></th>\n",
       "      <th>Order Date</th>\n",
       "      <th>Brand</th>\n",
       "      <th>Sneaker Name</th>\n",
       "      <th>Sale Price</th>\n",
       "      <th>Retail Price</th>\n",
       "      <th>Release Date</th>\n",
       "      <th>Shoe Size</th>\n",
       "      <th>Buyer Region</th>\n",
       "    </tr>\n",
       "  </thead>\n",
       "  <tbody>\n",
       "    <tr>\n",
       "      <th>0</th>\n",
       "      <td>2017-09-01</td>\n",
       "      <td>Yeezy</td>\n",
       "      <td>Adidas Yeezy Boost 350 Low V2 Beluga</td>\n",
       "      <td>1097</td>\n",
       "      <td>$220</td>\n",
       "      <td>2016-09-24</td>\n",
       "      <td>11.0</td>\n",
       "      <td>California</td>\n",
       "    </tr>\n",
       "    <tr>\n",
       "      <th>1</th>\n",
       "      <td>2017-09-01</td>\n",
       "      <td>Yeezy</td>\n",
       "      <td>Adidas Yeezy Boost 350 V2 Core Black Copper</td>\n",
       "      <td>685</td>\n",
       "      <td>$220</td>\n",
       "      <td>2016-11-23</td>\n",
       "      <td>11.0</td>\n",
       "      <td>California</td>\n",
       "    </tr>\n",
       "    <tr>\n",
       "      <th>2</th>\n",
       "      <td>2017-09-01</td>\n",
       "      <td>Yeezy</td>\n",
       "      <td>Adidas Yeezy Boost 350 V2 Core Black Green</td>\n",
       "      <td>690</td>\n",
       "      <td>$220</td>\n",
       "      <td>2016-11-23</td>\n",
       "      <td>11.0</td>\n",
       "      <td>California</td>\n",
       "    </tr>\n",
       "    <tr>\n",
       "      <th>3</th>\n",
       "      <td>2017-09-01</td>\n",
       "      <td>Yeezy</td>\n",
       "      <td>Adidas Yeezy Boost 350 V2 Core Black Red</td>\n",
       "      <td>1075</td>\n",
       "      <td>$220</td>\n",
       "      <td>2016-11-23</td>\n",
       "      <td>11.5</td>\n",
       "      <td>Kentucky</td>\n",
       "    </tr>\n",
       "    <tr>\n",
       "      <th>4</th>\n",
       "      <td>2017-09-01</td>\n",
       "      <td>Yeezy</td>\n",
       "      <td>Adidas Yeezy Boost 350 V2 Core Black Red 2017</td>\n",
       "      <td>828</td>\n",
       "      <td>$220</td>\n",
       "      <td>2017-02-11</td>\n",
       "      <td>11.0</td>\n",
       "      <td>Rhode Island</td>\n",
       "    </tr>\n",
       "  </tbody>\n",
       "</table>\n",
       "</div>"
      ],
      "text/plain": [
       "  Order Date   Brand                                   Sneaker Name  \\\n",
       "0 2017-09-01   Yeezy           Adidas Yeezy Boost 350 Low V2 Beluga   \n",
       "1 2017-09-01   Yeezy    Adidas Yeezy Boost 350 V2 Core Black Copper   \n",
       "2 2017-09-01   Yeezy     Adidas Yeezy Boost 350 V2 Core Black Green   \n",
       "3 2017-09-01   Yeezy       Adidas Yeezy Boost 350 V2 Core Black Red   \n",
       "4 2017-09-01   Yeezy  Adidas Yeezy Boost 350 V2 Core Black Red 2017   \n",
       "\n",
       "  Sale Price Retail Price Release Date  Shoe Size  Buyer Region  \n",
       "0       1097         $220   2016-09-24       11.0    California  \n",
       "1        685         $220   2016-11-23       11.0    California  \n",
       "2        690         $220   2016-11-23       11.0    California  \n",
       "3       1075         $220   2016-11-23       11.5      Kentucky  \n",
       "4        828         $220   2017-02-11       11.0  Rhode Island  "
      ]
     },
     "execution_count": 11,
     "metadata": {},
     "output_type": "execute_result"
    }
   ],
   "source": [
    "# Remove $ and comma from sale price\n",
    "df['Sale Price'] = df['Sale Price'].apply(lambda x: x.replace('$', ''))\n",
    "df['Sale Price'] = df['Sale Price'].apply(lambda x: x.replace(',', ''))\n",
    "df.head()"
   ]
  },
  {
   "cell_type": "code",
   "execution_count": 12,
   "metadata": {
    "execution": {
     "iopub.execute_input": "2020-09-06T05:33:44.925167Z",
     "iopub.status.busy": "2020-09-06T05:33:44.914631Z",
     "iopub.status.idle": "2020-09-06T05:33:44.962713Z",
     "shell.execute_reply": "2020-09-06T05:33:44.962253Z"
    },
    "papermill": {
     "duration": 0.065007,
     "end_time": "2020-09-06T05:33:44.962818",
     "exception": false,
     "start_time": "2020-09-06T05:33:44.897811",
     "status": "completed"
    },
    "tags": []
   },
   "outputs": [
    {
     "data": {
      "text/html": [
       "<div>\n",
       "<style scoped>\n",
       "    .dataframe tbody tr th:only-of-type {\n",
       "        vertical-align: middle;\n",
       "    }\n",
       "\n",
       "    .dataframe tbody tr th {\n",
       "        vertical-align: top;\n",
       "    }\n",
       "\n",
       "    .dataframe thead th {\n",
       "        text-align: right;\n",
       "    }\n",
       "</style>\n",
       "<table border=\"1\" class=\"dataframe\">\n",
       "  <thead>\n",
       "    <tr style=\"text-align: right;\">\n",
       "      <th></th>\n",
       "      <th>Order Date</th>\n",
       "      <th>Brand</th>\n",
       "      <th>Sneaker Name</th>\n",
       "      <th>Sale Price</th>\n",
       "      <th>Retail Price</th>\n",
       "      <th>Release Date</th>\n",
       "      <th>Shoe Size</th>\n",
       "      <th>Buyer Region</th>\n",
       "    </tr>\n",
       "  </thead>\n",
       "  <tbody>\n",
       "    <tr>\n",
       "      <th>0</th>\n",
       "      <td>2017-09-01</td>\n",
       "      <td>Yeezy</td>\n",
       "      <td>Adidas Yeezy Boost 350 Low V2 Beluga</td>\n",
       "      <td>1097</td>\n",
       "      <td>220</td>\n",
       "      <td>2016-09-24</td>\n",
       "      <td>11.0</td>\n",
       "      <td>California</td>\n",
       "    </tr>\n",
       "    <tr>\n",
       "      <th>1</th>\n",
       "      <td>2017-09-01</td>\n",
       "      <td>Yeezy</td>\n",
       "      <td>Adidas Yeezy Boost 350 V2 Core Black Copper</td>\n",
       "      <td>685</td>\n",
       "      <td>220</td>\n",
       "      <td>2016-11-23</td>\n",
       "      <td>11.0</td>\n",
       "      <td>California</td>\n",
       "    </tr>\n",
       "    <tr>\n",
       "      <th>2</th>\n",
       "      <td>2017-09-01</td>\n",
       "      <td>Yeezy</td>\n",
       "      <td>Adidas Yeezy Boost 350 V2 Core Black Green</td>\n",
       "      <td>690</td>\n",
       "      <td>220</td>\n",
       "      <td>2016-11-23</td>\n",
       "      <td>11.0</td>\n",
       "      <td>California</td>\n",
       "    </tr>\n",
       "    <tr>\n",
       "      <th>3</th>\n",
       "      <td>2017-09-01</td>\n",
       "      <td>Yeezy</td>\n",
       "      <td>Adidas Yeezy Boost 350 V2 Core Black Red</td>\n",
       "      <td>1075</td>\n",
       "      <td>220</td>\n",
       "      <td>2016-11-23</td>\n",
       "      <td>11.5</td>\n",
       "      <td>Kentucky</td>\n",
       "    </tr>\n",
       "    <tr>\n",
       "      <th>4</th>\n",
       "      <td>2017-09-01</td>\n",
       "      <td>Yeezy</td>\n",
       "      <td>Adidas Yeezy Boost 350 V2 Core Black Red 2017</td>\n",
       "      <td>828</td>\n",
       "      <td>220</td>\n",
       "      <td>2017-02-11</td>\n",
       "      <td>11.0</td>\n",
       "      <td>Rhode Island</td>\n",
       "    </tr>\n",
       "  </tbody>\n",
       "</table>\n",
       "</div>"
      ],
      "text/plain": [
       "  Order Date   Brand                                   Sneaker Name  \\\n",
       "0 2017-09-01   Yeezy           Adidas Yeezy Boost 350 Low V2 Beluga   \n",
       "1 2017-09-01   Yeezy    Adidas Yeezy Boost 350 V2 Core Black Copper   \n",
       "2 2017-09-01   Yeezy     Adidas Yeezy Boost 350 V2 Core Black Green   \n",
       "3 2017-09-01   Yeezy       Adidas Yeezy Boost 350 V2 Core Black Red   \n",
       "4 2017-09-01   Yeezy  Adidas Yeezy Boost 350 V2 Core Black Red 2017   \n",
       "\n",
       "  Sale Price Retail Price Release Date  Shoe Size  Buyer Region  \n",
       "0       1097          220   2016-09-24       11.0    California  \n",
       "1        685          220   2016-11-23       11.0    California  \n",
       "2        690          220   2016-11-23       11.0    California  \n",
       "3       1075          220   2016-11-23       11.5      Kentucky  \n",
       "4        828          220   2017-02-11       11.0  Rhode Island  "
      ]
     },
     "execution_count": 12,
     "metadata": {},
     "output_type": "execute_result"
    }
   ],
   "source": [
    "# Remove $ from retail price\n",
    "df['Retail Price'] = df['Retail Price'].apply(lambda x: x.replace('$', ''))\n",
    "df.head()"
   ]
  },
  {
   "cell_type": "code",
   "execution_count": 13,
   "metadata": {
    "execution": {
     "iopub.execute_input": "2020-09-06T05:33:44.994218Z",
     "iopub.status.busy": "2020-09-06T05:33:44.993420Z",
     "iopub.status.idle": "2020-09-06T05:33:44.997314Z",
     "shell.execute_reply": "2020-09-06T05:33:44.996766Z"
    },
    "papermill": {
     "duration": 0.021915,
     "end_time": "2020-09-06T05:33:44.997422",
     "exception": false,
     "start_time": "2020-09-06T05:33:44.975507",
     "status": "completed"
    },
    "tags": []
   },
   "outputs": [
    {
     "data": {
      "text/plain": [
       "Order Date      datetime64[ns]\n",
       "Brand                   object\n",
       "Sneaker Name            object\n",
       "Sale Price              object\n",
       "Retail Price            object\n",
       "Release Date    datetime64[ns]\n",
       "Shoe Size              float64\n",
       "Buyer Region            object\n",
       "dtype: object"
      ]
     },
     "execution_count": 13,
     "metadata": {},
     "output_type": "execute_result"
    }
   ],
   "source": [
    "df.dtypes"
   ]
  },
  {
   "cell_type": "code",
   "execution_count": 14,
   "metadata": {
    "execution": {
     "iopub.execute_input": "2020-09-06T05:33:45.156763Z",
     "iopub.status.busy": "2020-09-06T05:33:45.082894Z",
     "iopub.status.idle": "2020-09-06T05:33:45.167223Z",
     "shell.execute_reply": "2020-09-06T05:33:45.166636Z"
    },
    "papermill": {
     "duration": 0.157298,
     "end_time": "2020-09-06T05:33:45.167349",
     "exception": false,
     "start_time": "2020-09-06T05:33:45.010051",
     "status": "completed"
    },
    "tags": []
   },
   "outputs": [],
   "source": [
    "# Converting some object columns into numerical columns\n",
    "obj_cols = ['Sale Price','Retail Price']\n",
    "for col in obj_cols:\n",
    "    df[str(col)] = pd.to_numeric(df[str(col)])"
   ]
  },
  {
   "cell_type": "code",
   "execution_count": 15,
   "metadata": {
    "execution": {
     "iopub.execute_input": "2020-09-06T05:33:45.202378Z",
     "iopub.status.busy": "2020-09-06T05:33:45.201417Z",
     "iopub.status.idle": "2020-09-06T05:33:45.205184Z",
     "shell.execute_reply": "2020-09-06T05:33:45.205622Z"
    },
    "papermill": {
     "duration": 0.025228,
     "end_time": "2020-09-06T05:33:45.205805",
     "exception": false,
     "start_time": "2020-09-06T05:33:45.180577",
     "status": "completed"
    },
    "tags": []
   },
   "outputs": [
    {
     "data": {
      "text/plain": [
       "Order Date      datetime64[ns]\n",
       "Brand                   object\n",
       "Sneaker Name            object\n",
       "Sale Price               int64\n",
       "Retail Price             int64\n",
       "Release Date    datetime64[ns]\n",
       "Shoe Size              float64\n",
       "Buyer Region            object\n",
       "dtype: object"
      ]
     },
     "execution_count": 15,
     "metadata": {},
     "output_type": "execute_result"
    }
   ],
   "source": [
    "df.dtypes"
   ]
  },
  {
   "cell_type": "markdown",
   "execution_count": null,
   "metadata": {
    "papermill": {
     "duration": 0.012814,
     "end_time": "2020-09-06T05:33:45.236374",
     "exception": false,
     "start_time": "2020-09-06T05:33:45.223560",
     "status": "completed"
    },
    "tags": []
   },
   "source": [
    "# EDA"
   ]
  },
  {
   "cell_type": "code",
   "execution_count": 16,
   "metadata": {
    "execution": {
     "iopub.execute_input": "2020-09-06T05:33:45.267747Z",
     "iopub.status.busy": "2020-09-06T05:33:45.266895Z",
     "iopub.status.idle": "2020-09-06T05:33:45.271668Z",
     "shell.execute_reply": "2020-09-06T05:33:45.270811Z"
    },
    "papermill": {
     "duration": 0.02237,
     "end_time": "2020-09-06T05:33:45.271818",
     "exception": false,
     "start_time": "2020-09-06T05:33:45.249448",
     "status": "completed"
    },
    "tags": []
   },
   "outputs": [
    {
     "data": {
      "text/plain": [
       "Index(['Order Date', 'Brand', 'Sneaker Name', 'Sale Price', 'Retail Price',\n",
       "       'Release Date', 'Shoe Size', 'Buyer Region'],\n",
       "      dtype='object')"
      ]
     },
     "execution_count": 16,
     "metadata": {},
     "output_type": "execute_result"
    }
   ],
   "source": [
    "df.columns"
   ]
  },
  {
   "cell_type": "code",
   "execution_count": 17,
   "metadata": {
    "execution": {
     "iopub.execute_input": "2020-09-06T05:33:45.315811Z",
     "iopub.status.busy": "2020-09-06T05:33:45.315237Z",
     "iopub.status.idle": "2020-09-06T05:33:45.330576Z",
     "shell.execute_reply": "2020-09-06T05:33:45.329978Z"
    },
    "papermill": {
     "duration": 0.039552,
     "end_time": "2020-09-06T05:33:45.330683",
     "exception": false,
     "start_time": "2020-09-06T05:33:45.291131",
     "status": "completed"
    },
    "tags": []
   },
   "outputs": [
    {
     "data": {
      "text/html": [
       "<div>\n",
       "<style scoped>\n",
       "    .dataframe tbody tr th:only-of-type {\n",
       "        vertical-align: middle;\n",
       "    }\n",
       "\n",
       "    .dataframe tbody tr th {\n",
       "        vertical-align: top;\n",
       "    }\n",
       "\n",
       "    .dataframe thead th {\n",
       "        text-align: right;\n",
       "    }\n",
       "</style>\n",
       "<table border=\"1\" class=\"dataframe\">\n",
       "  <thead>\n",
       "    <tr style=\"text-align: right;\">\n",
       "      <th></th>\n",
       "      <th>Order Date</th>\n",
       "      <th>Brand</th>\n",
       "      <th>Sneaker Name</th>\n",
       "      <th>Sale Price</th>\n",
       "      <th>Retail Price</th>\n",
       "      <th>Release Date</th>\n",
       "      <th>Shoe Size</th>\n",
       "      <th>Buyer Region</th>\n",
       "      <th>Bought for Less Than Retail</th>\n",
       "    </tr>\n",
       "  </thead>\n",
       "  <tbody>\n",
       "    <tr>\n",
       "      <th>0</th>\n",
       "      <td>2017-09-01</td>\n",
       "      <td>Yeezy</td>\n",
       "      <td>Adidas Yeezy Boost 350 Low V2 Beluga</td>\n",
       "      <td>1097</td>\n",
       "      <td>220</td>\n",
       "      <td>2016-09-24</td>\n",
       "      <td>11.0</td>\n",
       "      <td>California</td>\n",
       "      <td>False</td>\n",
       "    </tr>\n",
       "    <tr>\n",
       "      <th>1</th>\n",
       "      <td>2017-09-01</td>\n",
       "      <td>Yeezy</td>\n",
       "      <td>Adidas Yeezy Boost 350 V2 Core Black Copper</td>\n",
       "      <td>685</td>\n",
       "      <td>220</td>\n",
       "      <td>2016-11-23</td>\n",
       "      <td>11.0</td>\n",
       "      <td>California</td>\n",
       "      <td>False</td>\n",
       "    </tr>\n",
       "    <tr>\n",
       "      <th>2</th>\n",
       "      <td>2017-09-01</td>\n",
       "      <td>Yeezy</td>\n",
       "      <td>Adidas Yeezy Boost 350 V2 Core Black Green</td>\n",
       "      <td>690</td>\n",
       "      <td>220</td>\n",
       "      <td>2016-11-23</td>\n",
       "      <td>11.0</td>\n",
       "      <td>California</td>\n",
       "      <td>False</td>\n",
       "    </tr>\n",
       "    <tr>\n",
       "      <th>3</th>\n",
       "      <td>2017-09-01</td>\n",
       "      <td>Yeezy</td>\n",
       "      <td>Adidas Yeezy Boost 350 V2 Core Black Red</td>\n",
       "      <td>1075</td>\n",
       "      <td>220</td>\n",
       "      <td>2016-11-23</td>\n",
       "      <td>11.5</td>\n",
       "      <td>Kentucky</td>\n",
       "      <td>False</td>\n",
       "    </tr>\n",
       "    <tr>\n",
       "      <th>4</th>\n",
       "      <td>2017-09-01</td>\n",
       "      <td>Yeezy</td>\n",
       "      <td>Adidas Yeezy Boost 350 V2 Core Black Red 2017</td>\n",
       "      <td>828</td>\n",
       "      <td>220</td>\n",
       "      <td>2017-02-11</td>\n",
       "      <td>11.0</td>\n",
       "      <td>Rhode Island</td>\n",
       "      <td>False</td>\n",
       "    </tr>\n",
       "  </tbody>\n",
       "</table>\n",
       "</div>"
      ],
      "text/plain": [
       "  Order Date   Brand                                   Sneaker Name  \\\n",
       "0 2017-09-01   Yeezy           Adidas Yeezy Boost 350 Low V2 Beluga   \n",
       "1 2017-09-01   Yeezy    Adidas Yeezy Boost 350 V2 Core Black Copper   \n",
       "2 2017-09-01   Yeezy     Adidas Yeezy Boost 350 V2 Core Black Green   \n",
       "3 2017-09-01   Yeezy       Adidas Yeezy Boost 350 V2 Core Black Red   \n",
       "4 2017-09-01   Yeezy  Adidas Yeezy Boost 350 V2 Core Black Red 2017   \n",
       "\n",
       "   Sale Price  Retail Price Release Date  Shoe Size  Buyer Region  \\\n",
       "0        1097           220   2016-09-24       11.0    California   \n",
       "1         685           220   2016-11-23       11.0    California   \n",
       "2         690           220   2016-11-23       11.0    California   \n",
       "3        1075           220   2016-11-23       11.5      Kentucky   \n",
       "4         828           220   2017-02-11       11.0  Rhode Island   \n",
       "\n",
       "   Bought for Less Than Retail  \n",
       "0                        False  \n",
       "1                        False  \n",
       "2                        False  \n",
       "3                        False  \n",
       "4                        False  "
      ]
     },
     "execution_count": 17,
     "metadata": {},
     "output_type": "execute_result"
    }
   ],
   "source": [
    "# Make Bought For Less Than Retail column\n",
    "df['Bought for Less Than Retail'] = df['Sale Price'] < df['Retail Price']\n",
    "df.head()"
   ]
  },
  {
   "cell_type": "code",
   "execution_count": 18,
   "metadata": {
    "execution": {
     "iopub.execute_input": "2020-09-06T05:33:45.363400Z",
     "iopub.status.busy": "2020-09-06T05:33:45.362709Z",
     "iopub.status.idle": "2020-09-06T05:33:45.378517Z",
     "shell.execute_reply": "2020-09-06T05:33:45.378973Z"
    },
    "papermill": {
     "duration": 0.034708,
     "end_time": "2020-09-06T05:33:45.379115",
     "exception": false,
     "start_time": "2020-09-06T05:33:45.344407",
     "status": "completed"
    },
    "tags": []
   },
   "outputs": [
    {
     "data": {
      "text/html": [
       "<div>\n",
       "<style scoped>\n",
       "    .dataframe tbody tr th:only-of-type {\n",
       "        vertical-align: middle;\n",
       "    }\n",
       "\n",
       "    .dataframe tbody tr th {\n",
       "        vertical-align: top;\n",
       "    }\n",
       "\n",
       "    .dataframe thead th {\n",
       "        text-align: right;\n",
       "    }\n",
       "</style>\n",
       "<table border=\"1\" class=\"dataframe\">\n",
       "  <thead>\n",
       "    <tr style=\"text-align: right;\">\n",
       "      <th></th>\n",
       "      <th>Order Date</th>\n",
       "      <th>Brand</th>\n",
       "      <th>Sneaker Name</th>\n",
       "      <th>Sale Price</th>\n",
       "      <th>Retail Price</th>\n",
       "      <th>Release Date</th>\n",
       "      <th>Shoe Size</th>\n",
       "      <th>Buyer Region</th>\n",
       "      <th>Bought for Less Than Retail</th>\n",
       "      <th>Bought for Retail</th>\n",
       "    </tr>\n",
       "  </thead>\n",
       "  <tbody>\n",
       "    <tr>\n",
       "      <th>0</th>\n",
       "      <td>2017-09-01</td>\n",
       "      <td>Yeezy</td>\n",
       "      <td>Adidas Yeezy Boost 350 Low V2 Beluga</td>\n",
       "      <td>1097</td>\n",
       "      <td>220</td>\n",
       "      <td>2016-09-24</td>\n",
       "      <td>11.0</td>\n",
       "      <td>California</td>\n",
       "      <td>False</td>\n",
       "      <td>False</td>\n",
       "    </tr>\n",
       "    <tr>\n",
       "      <th>1</th>\n",
       "      <td>2017-09-01</td>\n",
       "      <td>Yeezy</td>\n",
       "      <td>Adidas Yeezy Boost 350 V2 Core Black Copper</td>\n",
       "      <td>685</td>\n",
       "      <td>220</td>\n",
       "      <td>2016-11-23</td>\n",
       "      <td>11.0</td>\n",
       "      <td>California</td>\n",
       "      <td>False</td>\n",
       "      <td>False</td>\n",
       "    </tr>\n",
       "    <tr>\n",
       "      <th>2</th>\n",
       "      <td>2017-09-01</td>\n",
       "      <td>Yeezy</td>\n",
       "      <td>Adidas Yeezy Boost 350 V2 Core Black Green</td>\n",
       "      <td>690</td>\n",
       "      <td>220</td>\n",
       "      <td>2016-11-23</td>\n",
       "      <td>11.0</td>\n",
       "      <td>California</td>\n",
       "      <td>False</td>\n",
       "      <td>False</td>\n",
       "    </tr>\n",
       "    <tr>\n",
       "      <th>3</th>\n",
       "      <td>2017-09-01</td>\n",
       "      <td>Yeezy</td>\n",
       "      <td>Adidas Yeezy Boost 350 V2 Core Black Red</td>\n",
       "      <td>1075</td>\n",
       "      <td>220</td>\n",
       "      <td>2016-11-23</td>\n",
       "      <td>11.5</td>\n",
       "      <td>Kentucky</td>\n",
       "      <td>False</td>\n",
       "      <td>False</td>\n",
       "    </tr>\n",
       "    <tr>\n",
       "      <th>4</th>\n",
       "      <td>2017-09-01</td>\n",
       "      <td>Yeezy</td>\n",
       "      <td>Adidas Yeezy Boost 350 V2 Core Black Red 2017</td>\n",
       "      <td>828</td>\n",
       "      <td>220</td>\n",
       "      <td>2017-02-11</td>\n",
       "      <td>11.0</td>\n",
       "      <td>Rhode Island</td>\n",
       "      <td>False</td>\n",
       "      <td>False</td>\n",
       "    </tr>\n",
       "  </tbody>\n",
       "</table>\n",
       "</div>"
      ],
      "text/plain": [
       "  Order Date   Brand                                   Sneaker Name  \\\n",
       "0 2017-09-01   Yeezy           Adidas Yeezy Boost 350 Low V2 Beluga   \n",
       "1 2017-09-01   Yeezy    Adidas Yeezy Boost 350 V2 Core Black Copper   \n",
       "2 2017-09-01   Yeezy     Adidas Yeezy Boost 350 V2 Core Black Green   \n",
       "3 2017-09-01   Yeezy       Adidas Yeezy Boost 350 V2 Core Black Red   \n",
       "4 2017-09-01   Yeezy  Adidas Yeezy Boost 350 V2 Core Black Red 2017   \n",
       "\n",
       "   Sale Price  Retail Price Release Date  Shoe Size  Buyer Region  \\\n",
       "0        1097           220   2016-09-24       11.0    California   \n",
       "1         685           220   2016-11-23       11.0    California   \n",
       "2         690           220   2016-11-23       11.0    California   \n",
       "3        1075           220   2016-11-23       11.5      Kentucky   \n",
       "4         828           220   2017-02-11       11.0  Rhode Island   \n",
       "\n",
       "   Bought for Less Than Retail  Bought for Retail  \n",
       "0                        False              False  \n",
       "1                        False              False  \n",
       "2                        False              False  \n",
       "3                        False              False  \n",
       "4                        False              False  "
      ]
     },
     "execution_count": 18,
     "metadata": {},
     "output_type": "execute_result"
    }
   ],
   "source": [
    "# Make Bought For Retail column\n",
    "df['Bought for Retail'] = df['Sale Price'] == df['Retail Price']\n",
    "df.head()"
   ]
  },
  {
   "cell_type": "code",
   "execution_count": 19,
   "metadata": {
    "execution": {
     "iopub.execute_input": "2020-09-06T05:33:45.412210Z",
     "iopub.status.busy": "2020-09-06T05:33:45.411338Z",
     "iopub.status.idle": "2020-09-06T05:33:45.427733Z",
     "shell.execute_reply": "2020-09-06T05:33:45.427231Z"
    },
    "papermill": {
     "duration": 0.035041,
     "end_time": "2020-09-06T05:33:45.427836",
     "exception": false,
     "start_time": "2020-09-06T05:33:45.392795",
     "status": "completed"
    },
    "tags": []
   },
   "outputs": [
    {
     "data": {
      "text/html": [
       "<div>\n",
       "<style scoped>\n",
       "    .dataframe tbody tr th:only-of-type {\n",
       "        vertical-align: middle;\n",
       "    }\n",
       "\n",
       "    .dataframe tbody tr th {\n",
       "        vertical-align: top;\n",
       "    }\n",
       "\n",
       "    .dataframe thead th {\n",
       "        text-align: right;\n",
       "    }\n",
       "</style>\n",
       "<table border=\"1\" class=\"dataframe\">\n",
       "  <thead>\n",
       "    <tr style=\"text-align: right;\">\n",
       "      <th></th>\n",
       "      <th>Order Date</th>\n",
       "      <th>Brand</th>\n",
       "      <th>Sneaker Name</th>\n",
       "      <th>Sale Price</th>\n",
       "      <th>Retail Price</th>\n",
       "      <th>Release Date</th>\n",
       "      <th>Shoe Size</th>\n",
       "      <th>Buyer Region</th>\n",
       "      <th>Bought for Less Than Retail</th>\n",
       "      <th>Bought for Retail</th>\n",
       "      <th>Bought for More Than Retail</th>\n",
       "    </tr>\n",
       "  </thead>\n",
       "  <tbody>\n",
       "    <tr>\n",
       "      <th>0</th>\n",
       "      <td>2017-09-01</td>\n",
       "      <td>Yeezy</td>\n",
       "      <td>Adidas Yeezy Boost 350 Low V2 Beluga</td>\n",
       "      <td>1097</td>\n",
       "      <td>220</td>\n",
       "      <td>2016-09-24</td>\n",
       "      <td>11.0</td>\n",
       "      <td>California</td>\n",
       "      <td>False</td>\n",
       "      <td>False</td>\n",
       "      <td>True</td>\n",
       "    </tr>\n",
       "    <tr>\n",
       "      <th>1</th>\n",
       "      <td>2017-09-01</td>\n",
       "      <td>Yeezy</td>\n",
       "      <td>Adidas Yeezy Boost 350 V2 Core Black Copper</td>\n",
       "      <td>685</td>\n",
       "      <td>220</td>\n",
       "      <td>2016-11-23</td>\n",
       "      <td>11.0</td>\n",
       "      <td>California</td>\n",
       "      <td>False</td>\n",
       "      <td>False</td>\n",
       "      <td>True</td>\n",
       "    </tr>\n",
       "    <tr>\n",
       "      <th>2</th>\n",
       "      <td>2017-09-01</td>\n",
       "      <td>Yeezy</td>\n",
       "      <td>Adidas Yeezy Boost 350 V2 Core Black Green</td>\n",
       "      <td>690</td>\n",
       "      <td>220</td>\n",
       "      <td>2016-11-23</td>\n",
       "      <td>11.0</td>\n",
       "      <td>California</td>\n",
       "      <td>False</td>\n",
       "      <td>False</td>\n",
       "      <td>True</td>\n",
       "    </tr>\n",
       "    <tr>\n",
       "      <th>3</th>\n",
       "      <td>2017-09-01</td>\n",
       "      <td>Yeezy</td>\n",
       "      <td>Adidas Yeezy Boost 350 V2 Core Black Red</td>\n",
       "      <td>1075</td>\n",
       "      <td>220</td>\n",
       "      <td>2016-11-23</td>\n",
       "      <td>11.5</td>\n",
       "      <td>Kentucky</td>\n",
       "      <td>False</td>\n",
       "      <td>False</td>\n",
       "      <td>True</td>\n",
       "    </tr>\n",
       "    <tr>\n",
       "      <th>4</th>\n",
       "      <td>2017-09-01</td>\n",
       "      <td>Yeezy</td>\n",
       "      <td>Adidas Yeezy Boost 350 V2 Core Black Red 2017</td>\n",
       "      <td>828</td>\n",
       "      <td>220</td>\n",
       "      <td>2017-02-11</td>\n",
       "      <td>11.0</td>\n",
       "      <td>Rhode Island</td>\n",
       "      <td>False</td>\n",
       "      <td>False</td>\n",
       "      <td>True</td>\n",
       "    </tr>\n",
       "  </tbody>\n",
       "</table>\n",
       "</div>"
      ],
      "text/plain": [
       "  Order Date   Brand                                   Sneaker Name  \\\n",
       "0 2017-09-01   Yeezy           Adidas Yeezy Boost 350 Low V2 Beluga   \n",
       "1 2017-09-01   Yeezy    Adidas Yeezy Boost 350 V2 Core Black Copper   \n",
       "2 2017-09-01   Yeezy     Adidas Yeezy Boost 350 V2 Core Black Green   \n",
       "3 2017-09-01   Yeezy       Adidas Yeezy Boost 350 V2 Core Black Red   \n",
       "4 2017-09-01   Yeezy  Adidas Yeezy Boost 350 V2 Core Black Red 2017   \n",
       "\n",
       "   Sale Price  Retail Price Release Date  Shoe Size  Buyer Region  \\\n",
       "0        1097           220   2016-09-24       11.0    California   \n",
       "1         685           220   2016-11-23       11.0    California   \n",
       "2         690           220   2016-11-23       11.0    California   \n",
       "3        1075           220   2016-11-23       11.5      Kentucky   \n",
       "4         828           220   2017-02-11       11.0  Rhode Island   \n",
       "\n",
       "   Bought for Less Than Retail  Bought for Retail  Bought for More Than Retail  \n",
       "0                        False              False                         True  \n",
       "1                        False              False                         True  \n",
       "2                        False              False                         True  \n",
       "3                        False              False                         True  \n",
       "4                        False              False                         True  "
      ]
     },
     "execution_count": 19,
     "metadata": {},
     "output_type": "execute_result"
    }
   ],
   "source": [
    "# Make Bought For More Than Retail column\n",
    "df['Bought for More Than Retail'] = df['Sale Price'] > df['Retail Price']\n",
    "df.head()"
   ]
  },
  {
   "cell_type": "code",
   "execution_count": 20,
   "metadata": {
    "execution": {
     "iopub.execute_input": "2020-09-06T05:33:45.459613Z",
     "iopub.status.busy": "2020-09-06T05:33:45.459042Z",
     "iopub.status.idle": "2020-09-06T05:33:45.738031Z",
     "shell.execute_reply": "2020-09-06T05:33:45.737414Z"
    },
    "papermill": {
     "duration": 0.296586,
     "end_time": "2020-09-06T05:33:45.738158",
     "exception": false,
     "start_time": "2020-09-06T05:33:45.441572",
     "status": "completed"
    },
    "tags": []
   },
   "outputs": [
    {
     "data": {
      "text/plain": [
       "<matplotlib.axes._subplots.AxesSubplot at 0x7f83e0d10dd0>"
      ]
     },
     "execution_count": 20,
     "metadata": {},
     "output_type": "execute_result"
    },
    {
     "data": {
      "image/png": "[encoded data removed]",
      "text/plain": [
       "<Figure size 432x288 with 2 Axes>"
      ]
     },
     "metadata": {
      "needs_background": "light"
     },
     "output_type": "display_data"
    }
   ],
   "source": [
    "# Genereal numeric correlations\n",
    "# Analyze trend between shoe size and sale price\n",
    "# Analyze trend between sale price and retail price\n",
    "correlations = df.corr()\n",
    "sns.heatmap(correlations)"
   ]
  },
  {
   "cell_type": "code",
   "execution_count": 21,
   "metadata": {
    "execution": {
     "iopub.execute_input": "2020-09-06T05:33:45.774286Z",
     "iopub.status.busy": "2020-09-06T05:33:45.773679Z",
     "iopub.status.idle": "2020-09-06T05:33:48.316661Z",
     "shell.execute_reply": "2020-09-06T05:33:48.316066Z"
    },
    "papermill": {
     "duration": 2.563759,
     "end_time": "2020-09-06T05:33:48.316776",
     "exception": false,
     "start_time": "2020-09-06T05:33:45.753017",
     "status": "completed"
    },
    "tags": []
   },
   "outputs": [
    {
     "data": {
      "image/png": "[encoded data removed]",
      "text/plain": [
       "<Figure size 1080x432 with 1 Axes>"
      ]
     },
     "metadata": {
      "needs_background": "light"
     },
     "output_type": "display_data"
    },
    {
     "data": {
      "image/png": "[encoded data removed]",
      "text/plain": [
       "<Figure size 1080x432 with 1 Axes>"
      ]
     },
     "metadata": {
      "needs_background": "light"
     },
     "output_type": "display_data"
    },
    {
     "data": {
      "image/png": "[encoded data removed]",
      "text/plain": [
       "<Figure size 1080x432 with 1 Axes>"
      ]
     },
     "metadata": {
      "needs_background": "light"
     },
     "output_type": "display_data"
    },
    {
     "data": {
      "image/png": "[encoded data removed]",
      "text/plain": [
       "<Figure size 1080x432 with 1 Axes>"
      ]
     },
     "metadata": {
      "needs_background": "light"
     },
     "output_type": "display_data"
    },
    {
     "data": {
      "image/png": "[encoded data removed]",
      "text/plain": [
       "<Figure size 1080x432 with 1 Axes>"
      ]
     },
     "metadata": {
      "needs_background": "light"
     },
     "output_type": "display_data"
    },
    {
     "data": {
      "image/png": "[encoded data removed]",
      "text/plain": [
       "<Figure size 1080x432 with 1 Axes>"
      ]
     },
     "metadata": {
      "needs_background": "light"
     },
     "output_type": "display_data"
    },
    {
     "data": {
      "image/png": "[encoded data removed]",
      "text/plain": [
       "<Figure size 1080x432 with 1 Axes>"
      ]
     },
     "metadata": {
      "needs_background": "light"
     },
     "output_type": "display_data"
    },
    {
     "data": {
      "image/png": "[encoded data removed]",
      "text/plain": [
       "<Figure size 1080x432 with 1 Axes>"
      ]
     },
     "metadata": {
      "needs_background": "light"
     },
     "output_type": "display_data"
    },
    {
     "data": {
      "image/png": "[encoded data removed]",
      "text/plain": [
       "<Figure size 1080x432 with 1 Axes>"
      ]
     },
     "metadata": {
      "needs_background": "light"
     },
     "output_type": "display_data"
    }
   ],
   "source": [
    "# Release date, buyer region, and sneaker name, retail price, shoe size, and brand distribution analysis\n",
    "df_cat = ['Release Date', 'Buyer Region', 'Sneaker Name', 'Retail Price', 'Shoe Size', 'Brand', 'Bought for Retail', 'Bought for Less Than Retail', 'Bought for More Than Retail' ]\n",
    "for cat in df_cat:\n",
    "    cat_num = df[str(cat)].value_counts()\n",
    "    plt.figure(figsize=(15,6))\n",
    "    chart = sns.barplot(x = cat_num.index, y= cat_num)\n",
    "    chart.set_title(\"Sneakers Sales by %s\" % (cat))\n",
    "    plt.ylabel(\"Sneaker Sales\")\n",
    "    chart.set_xticklabels(chart.get_xticklabels(), rotation = 90)\n",
    "    plt.gca().xaxis.set_major_locator(plt.MultipleLocator(1))\n",
    "    plt.show(15)"
   ]
  },
  {
   "cell_type": "code",
   "execution_count": 22,
   "metadata": {
    "execution": {
     "iopub.execute_input": "2020-09-06T05:33:48.366151Z",
     "iopub.status.busy": "2020-09-06T05:33:48.365450Z",
     "iopub.status.idle": "2020-09-06T05:33:49.938024Z",
     "shell.execute_reply": "2020-09-06T05:33:49.938509Z"
    },
    "papermill": {
     "duration": 1.603678,
     "end_time": "2020-09-06T05:33:49.938651",
     "exception": false,
     "start_time": "2020-09-06T05:33:48.334973",
     "status": "completed"
    },
    "tags": []
   },
   "outputs": [
    {
     "data": {
      "image/png": "[encoded data removed]",
      "text/plain": [
       "<Figure size 1080x288 with 1 Axes>"
      ]
     },
     "metadata": {
      "needs_background": "light"
     },
     "output_type": "display_data"
    }
   ],
   "source": [
    "# Analyze trend between Sneaker Name & Sale price\n",
    "# Create average retail price df\n",
    "bruh = df[['Sneaker Name', 'Sale Price']]\n",
    "\n",
    "# Clean up this list\n",
    "sneakernames = ['adidas Yeezy Boost 350 V2 Butter',\n",
    "       'Adidas Yeezy Boost 350 V2 Beluga 2pt0',\n",
    "       'Adidas Yeezy Boost 350 V2 Zebra',\n",
    "       'Adidas Yeezy Boost 350 V2 Blue Tint',\n",
    "       'Adidas Yeezy Boost 350 V2 Cream White',\n",
    "       'Adidas Yeezy Boost 350 V2 Sesame', 'adidas Yeezy Boost 350 V2 Static',\n",
    "       'Adidas Yeezy Boost 350 V2 Semi Frozen Yellow',\n",
    "       'Air Jordan 1 Retro High Off White University Blue',\n",
    "       'adidas Yeezy Boost 350 V2 Static Reflective',\n",
    "       'Nike Air Presto Off White Black 2018',\n",
    "       'Nike Air Presto Off White White 2018',\n",
    "       'Nike Air VaporMax Off White 2018',\n",
    "       'Nike Blazer Mid Off White All Hallows Eve',\n",
    "       'Nike Blazer Mid Off White Grim Reaper', 'Nike Zoom Fly Off White Pink',\n",
    "       'Nike Air VaporMax Off White Black',\n",
    "       'Nike Zoom Fly Off White Black Silver',\n",
    "       'Nike Air Force 1 Low Off White Volt',\n",
    "       'Adidas Yeezy Boost 350 V2 Core Black Red 2017',\n",
    "       'Nike Air Force 1 Low Off White Black White',\n",
    "       'Air Jordan 1 Retro High Off White Chicago',\n",
    "       'Nike Air Max 90 Off White Black',\n",
    "       'Nike Zoom Fly Mercurial Off White Total Orange',\n",
    "       'Nike Air Max 90 Off White Desert Ore',\n",
    "       'Nike Zoom Fly Mercurial Off White Black', 'Nike Air Max 90 Off White',\n",
    "       'Adidas Yeezy Boost 350 V2 Core Black White',\n",
    "       'Nike Air Presto Off White', 'Nike Air Max 97 Off White',\n",
    "       'Nike Air VaporMax Off White', 'Nike Blazer Mid Off White',\n",
    "       'Adidas Yeezy Boost 350 Low V2 Beluga',\n",
    "       'Nike React Hyperdunk 2017 Flyknit Off White',\n",
    "       'Nike Air Force 1 Low Off White', 'Nike Zoom Fly Off White',\n",
    "       'Nike Air Max 97 Off White Menta',\n",
    "       'Air Jordan 1 Retro High Off White White',\n",
    "       'Adidas Yeezy Boost 350 V2 Core Black Red',\n",
    "       'Nike Air Max 97 Off White Black',\n",
    "       'Nike Blazer Mid Off White Wolf Grey',\n",
    "       'Adidas Yeezy Boost 350 V2 Core Black Copper',\n",
    "       'Nike Air Max 97 Off White Elemental Rose Queen',\n",
    "       'Adidas Yeezy Boost 350 V2 Core Black Green',\n",
    "       'Adidas Yeezy Boost 350 Low Pirate Black 2016',\n",
    "       'Adidas Yeezy Boost 350 Low Moonrock',\n",
    "       'Adidas Yeezy Boost 350 Low Pirate Black 2015',\n",
    "       'Adidas Yeezy Boost 350 Low Oxford Tan',\n",
    "       'Adidas Yeezy Boost 350 Low Turtledove',\n",
    "       'Nike Air Force 1 Low Virgil Abloh Off White AF100'\n",
    "       ]\n",
    "avgs = []\n",
    "for name in sneakernames:\n",
    "    shoerow = bruh.loc[bruh['Sneaker Name'] == name]\n",
    "    avgs.append(shoerow.mean()[0])\n",
    "AvgPrice = pd.Series(avgs)\n",
    "SneakerName = pd.Series(sneakernames)\n",
    "avgprice_df = pd.DataFrame(columns = ['Sneaker_Name', 'Average_Price'])\n",
    "avgprice_df['Sneaker_Name'] = SneakerName\n",
    "avgprice_df['Average_Price'] = AvgPrice\n",
    "\n",
    "# Crerating visual of average shoe price\n",
    "fig_dims = (15, 4)\n",
    "fig, ax = plt.subplots(figsize=fig_dims)\n",
    "chart = sns.barplot(x = avgprice_df['Sneaker_Name'] , y= avgprice_df['Average_Price'])\n",
    "chart.set_xticklabels(chart.get_xticklabels(), rotation = 90)\n",
    "plt.gca().xaxis.set_major_locator(plt.MultipleLocator(1))"
   ]
  },
  {
   "cell_type": "code",
   "execution_count": 23,
   "metadata": {
    "execution": {
     "iopub.execute_input": "2020-09-06T05:33:49.992031Z",
     "iopub.status.busy": "2020-09-06T05:33:49.991366Z",
     "iopub.status.idle": "2020-09-06T05:33:50.007228Z",
     "shell.execute_reply": "2020-09-06T05:33:50.006503Z"
    },
    "papermill": {
     "duration": 0.04961,
     "end_time": "2020-09-06T05:33:50.007373",
     "exception": false,
     "start_time": "2020-09-06T05:33:49.957763",
     "status": "completed"
    },
    "tags": []
   },
   "outputs": [
    {
     "name": "stdout",
     "output_type": "stream",
     "text": [
      "Yeezy average price: $360.03255175854326\n",
      "Off-White average price: $671.4812909260992\n"
     ]
    }
   ],
   "source": [
    "# Find average sale price by brand\n",
    "avgs_2 = []\n",
    "bds = df[['Brand', 'Sale Price']]\n",
    "brands = [' Yeezy', 'Off-White']\n",
    "for brand in brands:\n",
    "    brandrow = bds.loc[bds['Brand'] == str(brand)]\n",
    "    avgs_2.append(brandrow['Sale Price'].mean())\n",
    "print('Yeezy average price: $' + str(avgs_2[0]))\n",
    "print('Off-White average price: $' + str(avgs_2[1]))"
   ]
  },
  {
   "cell_type": "code",
   "execution_count": 24,
   "metadata": {
    "execution": {
     "iopub.execute_input": "2020-09-06T05:33:50.058504Z",
     "iopub.status.busy": "2020-09-06T05:33:50.057902Z",
     "iopub.status.idle": "2020-09-06T05:33:50.291159Z",
     "shell.execute_reply": "2020-09-06T05:33:50.290521Z"
    },
    "papermill": {
     "duration": 0.263767,
     "end_time": "2020-09-06T05:33:50.291286",
     "exception": false,
     "start_time": "2020-09-06T05:33:50.027519",
     "status": "completed"
    },
    "tags": []
   },
   "outputs": [
    {
     "data": {
      "image/png": "[encoded data removed]",
      "text/plain": [
       "<Figure size 432x288 with 1 Axes>"
      ]
     },
     "metadata": {
      "needs_background": "light"
     },
     "output_type": "display_data"
    },
    {
     "data": {
      "image/png": "[encoded data removed]",
      "text/plain": [
       "<Figure size 432x288 with 1 Axes>"
      ]
     },
     "metadata": {
      "needs_background": "light"
     },
     "output_type": "display_data"
    }
   ],
   "source": [
    "# Create boxplot distribution of sales price by brand\n",
    "for brand in brands:\n",
    "    brandrow = bds.loc[bds['Brand'] == str(brand)]\n",
    "    chart = sns.boxplot(y=brandrow[\"Sale Price\"], showfliers = False)\n",
    "    chart.set_title(\"Sale Price Distribution of %s sneakers\" % (brand))\n",
    "    plt.show()"
   ]
  },
  {
   "cell_type": "code",
   "execution_count": 25,
   "metadata": {
    "execution": {
     "iopub.execute_input": "2020-09-06T05:33:50.351715Z",
     "iopub.status.busy": "2020-09-06T05:33:50.350756Z",
     "iopub.status.idle": "2020-09-06T05:33:50.795454Z",
     "shell.execute_reply": "2020-09-06T05:33:50.794831Z"
    },
    "papermill": {
     "duration": 0.483395,
     "end_time": "2020-09-06T05:33:50.795566",
     "exception": false,
     "start_time": "2020-09-06T05:33:50.312171",
     "status": "completed"
    },
    "tags": []
   },
   "outputs": [
    {
     "data": {
      "text/html": [
       "<div>\n",
       "<style scoped>\n",
       "    .dataframe tbody tr th:only-of-type {\n",
       "        vertical-align: middle;\n",
       "    }\n",
       "\n",
       "    .dataframe tbody tr th {\n",
       "        vertical-align: top;\n",
       "    }\n",
       "\n",
       "    .dataframe thead th {\n",
       "        text-align: right;\n",
       "    }\n",
       "</style>\n",
       "<table border=\"1\" class=\"dataframe\">\n",
       "  <thead>\n",
       "    <tr style=\"text-align: right;\">\n",
       "      <th></th>\n",
       "      <th>Order_date</th>\n",
       "      <th>Average_Price</th>\n",
       "    </tr>\n",
       "  </thead>\n",
       "  <tbody>\n",
       "    <tr>\n",
       "      <th>482</th>\n",
       "      <td>2017-09-01</td>\n",
       "      <td>653.000000</td>\n",
       "    </tr>\n",
       "    <tr>\n",
       "      <th>514</th>\n",
       "      <td>2017-09-02</td>\n",
       "      <td>649.600000</td>\n",
       "    </tr>\n",
       "    <tr>\n",
       "      <th>505</th>\n",
       "      <td>2017-09-03</td>\n",
       "      <td>672.437500</td>\n",
       "    </tr>\n",
       "    <tr>\n",
       "      <th>501</th>\n",
       "      <td>2017-09-04</td>\n",
       "      <td>623.764706</td>\n",
       "    </tr>\n",
       "    <tr>\n",
       "      <th>486</th>\n",
       "      <td>2017-09-05</td>\n",
       "      <td>648.772727</td>\n",
       "    </tr>\n",
       "  </tbody>\n",
       "</table>\n",
       "</div>"
      ],
      "text/plain": [
       "    Order_date  Average_Price\n",
       "482 2017-09-01     653.000000\n",
       "514 2017-09-02     649.600000\n",
       "505 2017-09-03     672.437500\n",
       "501 2017-09-04     623.764706\n",
       "486 2017-09-05     648.772727"
      ]
     },
     "execution_count": 25,
     "metadata": {},
     "output_type": "execute_result"
    }
   ],
   "source": [
    "# Analyze trend between Sales Price and Order Date\n",
    "# Find average sale price per day\n",
    "dts = df[['Order Date', 'Sale Price']]\n",
    "uniq_ord_dates = df['Order Date'].value_counts().index.tolist()\n",
    "avg_3 = []\n",
    "\n",
    "for date in uniq_ord_dates:\n",
    "    daterow = dts.loc[dts['Order Date'] == str(date)]\n",
    "    avg_3.append(daterow['Sale Price'].mean())\n",
    "\n",
    "unq_dates = pd.Series(uniq_ord_dates)\n",
    "date_avgs = pd.Series(avg_3)\n",
    "dateprice_df = pd.DataFrame(columns = ['Order_date', 'Average_Price'])\n",
    "dateprice_df['Order_date'] = unq_dates.sort_values(ascending = True)\n",
    "dateprice_df['Average_Price'] = date_avgs\n",
    "dateprice_df.head()"
   ]
  },
  {
   "cell_type": "code",
   "execution_count": 26,
   "metadata": {
    "execution": {
     "iopub.execute_input": "2020-09-06T05:33:50.840638Z",
     "iopub.status.busy": "2020-09-06T05:33:50.839992Z",
     "iopub.status.idle": "2020-09-06T05:33:52.485773Z",
     "shell.execute_reply": "2020-09-06T05:33:52.485197Z"
    },
    "papermill": {
     "duration": 1.670635,
     "end_time": "2020-09-06T05:33:52.485882",
     "exception": false,
     "start_time": "2020-09-06T05:33:50.815247",
     "status": "completed"
    },
    "tags": []
   },
   "outputs": [
    {
     "data": {
      "text/plain": [
       "Text(0.5, 1.0, 'Average Daily Sale Price Over time')"
      ]
     },
     "execution_count": 26,
     "metadata": {},
     "output_type": "execute_result"
    },
    {
     "data": {
      "image/png": "[encoded data removed]",
      "text/plain": [
       "<Figure size 1440x360 with 1 Axes>"
      ]
     },
     "metadata": {
      "needs_background": "light"
     },
     "output_type": "display_data"
    }
   ],
   "source": [
    "# Create visualization of Average Sale Price Over time\n",
    "fig_dims = (20, 5)\n",
    "fig, ax = plt.subplots(figsize=fig_dims)\n",
    "chart = sns.scatterplot(x=\"Order_date\", y=\"Average_Price\", data=dateprice_df)\n",
    "plt.gca().xaxis.set_major_locator(plt.MultipleLocator(40))\n",
    "chart.set_title(\"Average Daily Sale Price Over time\")"
   ]
  },
  {
   "cell_type": "code",
   "execution_count": 27,
   "metadata": {
    "execution": {
     "iopub.execute_input": "2020-09-06T05:33:52.534346Z",
     "iopub.status.busy": "2020-09-06T05:33:52.533730Z",
     "iopub.status.idle": "2020-09-06T05:33:52.579381Z",
     "shell.execute_reply": "2020-09-06T05:33:52.578891Z"
    },
    "papermill": {
     "duration": 0.07349,
     "end_time": "2020-09-06T05:33:52.579490",
     "exception": false,
     "start_time": "2020-09-06T05:33:52.506000",
     "status": "completed"
    },
    "tags": []
   },
   "outputs": [
    {
     "data": {
      "text/html": [
       "<div>\n",
       "<style scoped>\n",
       "    .dataframe tbody tr th:only-of-type {\n",
       "        vertical-align: middle;\n",
       "    }\n",
       "\n",
       "    .dataframe tbody tr th {\n",
       "        vertical-align: top;\n",
       "    }\n",
       "\n",
       "    .dataframe thead th {\n",
       "        text-align: right;\n",
       "    }\n",
       "</style>\n",
       "<table border=\"1\" class=\"dataframe\">\n",
       "  <thead>\n",
       "    <tr style=\"text-align: right;\">\n",
       "      <th></th>\n",
       "      <th>Release_date</th>\n",
       "      <th>Average_Price</th>\n",
       "    </tr>\n",
       "  </thead>\n",
       "  <tbody>\n",
       "    <tr>\n",
       "      <th>33</th>\n",
       "      <td>2015-06-27</td>\n",
       "      <td>1531.661765</td>\n",
       "    </tr>\n",
       "    <tr>\n",
       "      <th>31</th>\n",
       "      <td>2015-08-22</td>\n",
       "      <td>895.094737</td>\n",
       "    </tr>\n",
       "    <tr>\n",
       "      <th>30</th>\n",
       "      <td>2015-11-14</td>\n",
       "      <td>996.710000</td>\n",
       "    </tr>\n",
       "    <tr>\n",
       "      <th>32</th>\n",
       "      <td>2015-12-29</td>\n",
       "      <td>1011.514286</td>\n",
       "    </tr>\n",
       "    <tr>\n",
       "      <th>29</th>\n",
       "      <td>2016-02-19</td>\n",
       "      <td>984.237705</td>\n",
       "    </tr>\n",
       "  </tbody>\n",
       "</table>\n",
       "</div>"
      ],
      "text/plain": [
       "   Release_date  Average_Price\n",
       "33   2015-06-27    1531.661765\n",
       "31   2015-08-22     895.094737\n",
       "30   2015-11-14     996.710000\n",
       "32   2015-12-29    1011.514286\n",
       "29   2016-02-19     984.237705"
      ]
     },
     "execution_count": 27,
     "metadata": {},
     "output_type": "execute_result"
    }
   ],
   "source": [
    "# Finding Average Sale Price on Release Dates Over Time\n",
    "dts = df[['Release Date', 'Sale Price']]\n",
    "uniq_rel_dates = df['Release Date'].value_counts().index.tolist()\n",
    "avg_4 = []\n",
    "\n",
    "for date in uniq_rel_dates:\n",
    "    daterow = dts.loc[dts['Release Date'] == str(date)]\n",
    "    avg_4.append(daterow['Sale Price'].mean())\n",
    "\n",
    "unq_dates = pd.Series(uniq_rel_dates)\n",
    "date_avgs = pd.Series(avg_4)\n",
    "dateprice_df_2 = pd.DataFrame(columns = ['Release_date', 'Average_Price'])\n",
    "dateprice_df_2['Release_date'] = unq_dates.sort_values(ascending = True)\n",
    "dateprice_df_2['Average_Price'] = date_avgs\n",
    "dateprice_df_2.head()"
   ]
  },
  {
   "cell_type": "code",
   "execution_count": 28,
   "metadata": {
    "execution": {
     "iopub.execute_input": "2020-09-06T05:33:52.628516Z",
     "iopub.status.busy": "2020-09-06T05:33:52.627889Z",
     "iopub.status.idle": "2020-09-06T05:33:53.655178Z",
     "shell.execute_reply": "2020-09-06T05:33:53.655660Z"
    },
    "papermill": {
     "duration": 1.056205,
     "end_time": "2020-09-06T05:33:53.655807",
     "exception": false,
     "start_time": "2020-09-06T05:33:52.599602",
     "status": "completed"
    },
    "tags": []
   },
   "outputs": [
    {
     "data": {
      "text/plain": [
       "Text(0.5, 1.0, 'Average Sale Price by Buyer Region')"
      ]
     },
     "execution_count": 28,
     "metadata": {},
     "output_type": "execute_result"
    },
    {
     "data": {
      "image/png": "[encoded data removed]",
      "text/plain": [
       "<Figure size 792x720 with 1 Axes>"
      ]
     },
     "metadata": {
      "needs_background": "light"
     },
     "output_type": "display_data"
    }
   ],
   "source": [
    "# Analyze trend between buyer region and sale price\n",
    "\n",
    "brg = df[['Buyer Region', 'Sale Price']]\n",
    "unq_brgs = df['Buyer Region'].value_counts().index.tolist()\n",
    "avg_5 = []\n",
    "\n",
    "for region in unq_brgs:\n",
    "    regionrow = brg.loc[brg['Buyer Region'] == str(region)]\n",
    "    avg_5.append(regionrow['Sale Price'].mean())\n",
    "\n",
    "unq_regions = pd.Series(unq_brgs)\n",
    "region_avgs = pd.Series(avg_5)\n",
    "regionprice_df = pd.DataFrame(columns = ['Buyer Region', 'Average Price'])\n",
    "regionprice_df['Buyer Region'] = unq_regions.sort_values(ascending = True)\n",
    "regionprice_df['Average Price'] = region_avgs\n",
    "\n",
    "fig_dims = (11, 10)\n",
    "fig, ax = plt.subplots(figsize=fig_dims)\n",
    "chart = sns.barplot(x=\"Average Price\", y=\"Buyer Region\", data=regionprice_df, color=\"b\")\n",
    "plt.gca().xaxis.set_major_locator(plt.MultipleLocator(20))\n",
    "chart.set_title(\"Average Sale Price by Buyer Region\")"
   ]
  },
  {
   "cell_type": "markdown",
   "execution_count": null,
   "metadata": {
    "papermill": {
     "duration": 0.02145,
     "end_time": "2020-09-06T05:33:53.698726",
     "exception": false,
     "start_time": "2020-09-06T05:33:53.677276",
     "status": "completed"
    },
    "tags": []
   },
   "source": [
    "# Linear Regression"
   ]
  },
  {
   "cell_type": "markdown",
   "execution_count": null,
   "metadata": {
    "papermill": {
     "duration": 0.020103,
     "end_time": "2020-09-06T05:33:53.739346",
     "exception": false,
     "start_time": "2020-09-06T05:33:53.719243",
     "status": "completed"
    },
    "tags": []
   },
   "source": [
    "### Quick Data Cleaning"
   ]
  },
  {
   "cell_type": "code",
   "execution_count": 29,
   "metadata": {
    "execution": {
     "iopub.execute_input": "2020-09-06T05:33:53.785297Z",
     "iopub.status.busy": "2020-09-06T05:33:53.784684Z",
     "iopub.status.idle": "2020-09-06T05:33:53.795013Z",
     "shell.execute_reply": "2020-09-06T05:33:53.794363Z"
    },
    "papermill": {
     "duration": 0.035508,
     "end_time": "2020-09-06T05:33:53.795120",
     "exception": false,
     "start_time": "2020-09-06T05:33:53.759612",
     "status": "completed"
    },
    "tags": []
   },
   "outputs": [],
   "source": [
    "# Renaming columns to get rid of spaces \n",
    "df = df.rename(columns={\n",
    "    \"Order Date\": \"Order_date\",\n",
    "    \"Sneaker Name\": \"Sneaker_Name\",\n",
    "    \"Sale Price\": \"Sale_Price\",\n",
    "    \"Retail Price\": \"Retail_Price\",\n",
    "    \"Release Date\": \"Release_Date\",\n",
    "    \"Shoe Size\": \"Shoe_Size\",\n",
    "    \"Buyer Region\": \"Buyer_Region\"\n",
    "    })"
   ]
  },
  {
   "cell_type": "code",
   "execution_count": 30,
   "metadata": {
    "execution": {
     "iopub.execute_input": "2020-09-06T05:33:53.939747Z",
     "iopub.status.busy": "2020-09-06T05:33:53.938823Z",
     "iopub.status.idle": "2020-09-06T05:33:54.835628Z",
     "shell.execute_reply": "2020-09-06T05:33:54.835076Z"
    },
    "papermill": {
     "duration": 1.020321,
     "end_time": "2020-09-06T05:33:54.835744",
     "exception": false,
     "start_time": "2020-09-06T05:33:53.815423",
     "status": "completed"
    },
    "tags": []
   },
   "outputs": [],
   "source": [
    "# Converting dates into numericals\n",
    "import datetime as dt\n",
    "\n",
    "df['Order_date'] = pd.to_datetime(df['Order_date'])\n",
    "df['Order_date']=df['Order_date'].map(dt.datetime.toordinal)\n",
    "\n",
    "df['Release_Date'] = pd.to_datetime(df['Release_Date'])\n",
    "df['Release_Date']=df['Release_Date'].map(dt.datetime.toordinal)"
   ]
  },
  {
   "cell_type": "code",
   "execution_count": 31,
   "metadata": {
    "execution": {
     "iopub.execute_input": "2020-09-06T05:33:54.883095Z",
     "iopub.status.busy": "2020-09-06T05:33:54.882453Z",
     "iopub.status.idle": "2020-09-06T05:33:55.012825Z",
     "shell.execute_reply": "2020-09-06T05:33:55.013405Z"
    },
    "papermill": {
     "duration": 0.156912,
     "end_time": "2020-09-06T05:33:55.013566",
     "exception": false,
     "start_time": "2020-09-06T05:33:54.856654",
     "status": "completed"
    },
    "tags": []
   },
   "outputs": [],
   "source": [
    "# Getting spltis\n",
    "from sklearn import preprocessing, metrics\n",
    "from sklearn.model_selection import train_test_split\n",
    "\n",
    "X = df.drop(['Sale_Price', 'Bought for More Than Retail', 'Bought for Less Than Retail', 'Bought for Retail'], axis=1)\n",
    "y = df.Sale_Price\n",
    "X_train, X_valid, y_train, y_valid = train_test_split(X, y, test_size=0.2)"
   ]
  },
  {
   "cell_type": "code",
   "execution_count": 32,
   "metadata": {
    "execution": {
     "iopub.execute_input": "2020-09-06T05:33:55.065037Z",
     "iopub.status.busy": "2020-09-06T05:33:55.064379Z",
     "iopub.status.idle": "2020-09-06T05:33:55.408797Z",
     "shell.execute_reply": "2020-09-06T05:33:55.408088Z"
    },
    "papermill": {
     "duration": 0.374062,
     "end_time": "2020-09-06T05:33:55.408921",
     "exception": false,
     "start_time": "2020-09-06T05:33:55.034859",
     "status": "completed"
    },
    "tags": []
   },
   "outputs": [],
   "source": [
    "# Converting categorical data to numerical\n",
    "from sklearn.preprocessing import OneHotEncoder\n",
    "\n",
    "object_cols = ['Sneaker_Name', 'Buyer_Region', 'Brand']\n",
    "# Apply one-hot encoder to each column with categorical data\n",
    "OH_encoder = OneHotEncoder(handle_unknown='ignore', sparse=False)\n",
    "OH_cols_train = pd.DataFrame(OH_encoder.fit_transform(X_train[object_cols]))\n",
    "OH_cols_valid = pd.DataFrame(OH_encoder.transform(X_valid[object_cols]))\n",
    "\n",
    "# One-hot encoding removed index; put it back\n",
    "OH_cols_train.index = X_train.index\n",
    "OH_cols_valid.index = X_valid.index\n",
    "\n",
    "# Adding the column names after one hot encoding\n",
    "OH_cols_train.columns = OH_encoder.get_feature_names(object_cols)\n",
    "OH_cols_valid.columns = OH_encoder.get_feature_names(object_cols)\n",
    "\n",
    "# Remove categorical columns (will replace with one-hot encoding)\n",
    "num_X_train = X_train.drop(object_cols, axis=1)\n",
    "num_X_valid = X_valid.drop(object_cols, axis=1)\n",
    "\n",
    "# Add one-hot encoded columns to numerical features\n",
    "OH_X_train = pd.concat([num_X_train, OH_cols_train], axis=1)\n",
    "OH_X_valid = pd.concat([num_X_valid, OH_cols_valid], axis=1)"
   ]
  },
  {
   "cell_type": "markdown",
   "execution_count": null,
   "metadata": {
    "papermill": {
     "duration": 0.020549,
     "end_time": "2020-09-06T05:33:55.488987",
     "exception": false,
     "start_time": "2020-09-06T05:33:55.468438",
     "status": "completed"
    },
    "tags": []
   },
   "source": [
    "### Model 1"
   ]
  },
  {
   "cell_type": "code",
   "execution_count": 33,
   "metadata": {
    "execution": {
     "iopub.execute_input": "2020-09-06T05:33:55.534744Z",
     "iopub.status.busy": "2020-09-06T05:33:55.534044Z",
     "iopub.status.idle": "2020-09-06T05:33:55.958258Z",
     "shell.execute_reply": "2020-09-06T05:33:55.957511Z"
    },
    "papermill": {
     "duration": 0.448899,
     "end_time": "2020-09-06T05:33:55.958389",
     "exception": false,
     "start_time": "2020-09-06T05:33:55.509490",
     "status": "completed"
    },
    "tags": []
   },
   "outputs": [
    {
     "data": {
      "text/plain": [
       "LinearRegression()"
      ]
     },
     "execution_count": 33,
     "metadata": {},
     "output_type": "execute_result"
    }
   ],
   "source": [
    "# Starting linear regression\n",
    "from sklearn.linear_model import LinearRegression\n",
    "\n",
    "lm = LinearRegression()\n",
    "lm.fit(OH_X_train,y_train)"
   ]
  },
  {
   "cell_type": "code",
   "execution_count": 34,
   "metadata": {
    "execution": {
     "iopub.execute_input": "2020-09-06T05:33:56.011293Z",
     "iopub.status.busy": "2020-09-06T05:33:56.010492Z",
     "iopub.status.idle": "2020-09-06T05:33:56.014698Z",
     "shell.execute_reply": "2020-09-06T05:33:56.013522Z"
    },
    "papermill": {
     "duration": 0.029829,
     "end_time": "2020-09-06T05:33:56.014835",
     "exception": false,
     "start_time": "2020-09-06T05:33:55.985006",
     "status": "completed"
    },
    "tags": []
   },
   "outputs": [
    {
     "name": "stdout",
     "output_type": "stream",
     "text": [
      "12789891964398.3\n"
     ]
    }
   ],
   "source": [
    "# Looking at y-int\n",
    "print(lm.intercept_)"
   ]
  },
  {
   "cell_type": "code",
   "execution_count": 35,
   "metadata": {
    "execution": {
     "iopub.execute_input": "2020-09-06T05:33:56.070233Z",
     "iopub.status.busy": "2020-09-06T05:33:56.069329Z",
     "iopub.status.idle": "2020-09-06T05:33:56.073823Z",
     "shell.execute_reply": "2020-09-06T05:33:56.073361Z"
    },
    "papermill": {
     "duration": 0.037622,
     "end_time": "2020-09-06T05:33:56.073964",
     "exception": false,
     "start_time": "2020-09-06T05:33:56.036342",
     "status": "completed"
    },
    "tags": []
   },
   "outputs": [
    {
     "data": {
      "text/html": [
       "<div>\n",
       "<style scoped>\n",
       "    .dataframe tbody tr th:only-of-type {\n",
       "        vertical-align: middle;\n",
       "    }\n",
       "\n",
       "    .dataframe tbody tr th {\n",
       "        vertical-align: top;\n",
       "    }\n",
       "\n",
       "    .dataframe thead th {\n",
       "        text-align: right;\n",
       "    }\n",
       "</style>\n",
       "<table border=\"1\" class=\"dataframe\">\n",
       "  <thead>\n",
       "    <tr style=\"text-align: right;\">\n",
       "      <th></th>\n",
       "      <th>Coefficient</th>\n",
       "    </tr>\n",
       "  </thead>\n",
       "  <tbody>\n",
       "    <tr>\n",
       "      <th>Sneaker_Name_Nike Air VaporMax Off White 2018</th>\n",
       "      <td>2.250787e+10</td>\n",
       "    </tr>\n",
       "    <tr>\n",
       "      <th>Sneaker_Name_Nike Air VaporMax Off White Black</th>\n",
       "      <td>2.224883e+10</td>\n",
       "    </tr>\n",
       "    <tr>\n",
       "      <th>Sneaker_Name_Nike Air VaporMax Off White</th>\n",
       "      <td>1.876035e+10</td>\n",
       "    </tr>\n",
       "    <tr>\n",
       "      <th>Sneaker_Name_Nike Zoom Fly Mercurial Off White Black</th>\n",
       "      <td>7.353342e+09</td>\n",
       "    </tr>\n",
       "    <tr>\n",
       "      <th>Sneaker_Name_Nike Zoom Fly Mercurial Off White Total Orange</th>\n",
       "      <td>7.353342e+09</td>\n",
       "    </tr>\n",
       "    <tr>\n",
       "      <th>...</th>\n",
       "      <td>...</td>\n",
       "    </tr>\n",
       "    <tr>\n",
       "      <th>Sneaker_Name_Adidas Yeezy Boost 350 Low Pirate Black 2016</th>\n",
       "      <td>-2.106737e+10</td>\n",
       "    </tr>\n",
       "    <tr>\n",
       "      <th>Sneaker_Name_Adidas Yeezy Boost 350 Low Oxford Tan</th>\n",
       "      <td>-2.196539e+10</td>\n",
       "    </tr>\n",
       "    <tr>\n",
       "      <th>Sneaker_Name_Adidas Yeezy Boost 350 Low Moonrock</th>\n",
       "      <td>-2.274253e+10</td>\n",
       "    </tr>\n",
       "    <tr>\n",
       "      <th>Sneaker_Name_Adidas Yeezy Boost 350 Low Pirate Black 2015</th>\n",
       "      <td>-2.419318e+10</td>\n",
       "    </tr>\n",
       "    <tr>\n",
       "      <th>Sneaker_Name_Adidas Yeezy Boost 350 Low Turtledove</th>\n",
       "      <td>-2.516028e+10</td>\n",
       "    </tr>\n",
       "  </tbody>\n",
       "</table>\n",
       "<p>107 rows × 1 columns</p>\n",
       "</div>"
      ],
      "text/plain": [
       "                                                     Coefficient\n",
       "Sneaker_Name_Nike Air VaporMax Off White 2018       2.250787e+10\n",
       "Sneaker_Name_Nike Air VaporMax Off White Black      2.224883e+10\n",
       "Sneaker_Name_Nike Air VaporMax Off White            1.876035e+10\n",
       "Sneaker_Name_Nike Zoom Fly Mercurial Off White ...  7.353342e+09\n",
       "Sneaker_Name_Nike Zoom Fly Mercurial Off White ...  7.353342e+09\n",
       "...                                                          ...\n",
       "Sneaker_Name_Adidas Yeezy Boost 350 Low Pirate ... -2.106737e+10\n",
       "Sneaker_Name_Adidas Yeezy Boost 350 Low Oxford Tan -2.196539e+10\n",
       "Sneaker_Name_Adidas Yeezy Boost 350 Low Moonrock   -2.274253e+10\n",
       "Sneaker_Name_Adidas Yeezy Boost 350 Low Pirate ... -2.419318e+10\n",
       "Sneaker_Name_Adidas Yeezy Boost 350 Low Turtledove -2.516028e+10\n",
       "\n",
       "[107 rows x 1 columns]"
      ]
     },
     "execution_count": 35,
     "metadata": {},
     "output_type": "execute_result"
    }
   ],
   "source": [
    "# Looking at coefficient scores of each variable\n",
    "coeff_df = pd.DataFrame(lm.coef_, OH_X_train.columns,columns=['Coefficient'])\n",
    "ranked_coeff = coeff_df.sort_values(\"Coefficient\", ascending = False)\n",
    "ranked_coeff"
   ]
  },
  {
   "cell_type": "code",
   "execution_count": 36,
   "metadata": {
    "execution": {
     "iopub.execute_input": "2020-09-06T05:33:56.125653Z",
     "iopub.status.busy": "2020-09-06T05:33:56.125055Z",
     "iopub.status.idle": "2020-09-06T05:33:56.157574Z",
     "shell.execute_reply": "2020-09-06T05:33:56.158153Z"
    },
    "papermill": {
     "duration": 0.062926,
     "end_time": "2020-09-06T05:33:56.158327",
     "exception": false,
     "start_time": "2020-09-06T05:33:56.095401",
     "status": "completed"
    },
    "tags": []
   },
   "outputs": [
    {
     "name": "stdout",
     "output_type": "stream",
     "text": [
      "MAE: 60.50451948357468\n",
      "MSE: 10909.620647445112\n",
      "RMSE: 104.44912947193534\n"
     ]
    }
   ],
   "source": [
    "# Storing predictions and running evaluation metrics\n",
    "predictions = lm.predict(OH_X_valid)\n",
    "from sklearn import metrics\n",
    "print(\"MAE:\", metrics.mean_absolute_error(y_valid, predictions))\n",
    "print('MSE:', metrics.mean_squared_error(y_valid, predictions))\n",
    "print('RMSE:', np.sqrt(metrics.mean_squared_error(y_valid, predictions)))"
   ]
  },
  {
   "cell_type": "markdown",
   "execution_count": null,
   "metadata": {
    "papermill": {
     "duration": 0.021025,
     "end_time": "2020-09-06T05:33:56.204780",
     "exception": false,
     "start_time": "2020-09-06T05:33:56.183755",
     "status": "completed"
    },
    "tags": []
   },
   "source": [
    "### Model 2"
   ]
  },
  {
   "cell_type": "code",
   "execution_count": 37,
   "metadata": {
    "execution": {
     "iopub.execute_input": "2020-09-06T05:33:56.251840Z",
     "iopub.status.busy": "2020-09-06T05:33:56.251134Z",
     "iopub.status.idle": "2020-09-06T05:33:56.905445Z",
     "shell.execute_reply": "2020-09-06T05:33:56.904776Z"
    },
    "papermill": {
     "duration": 0.67967,
     "end_time": "2020-09-06T05:33:56.905561",
     "exception": false,
     "start_time": "2020-09-06T05:33:56.225891",
     "status": "completed"
    },
    "tags": []
   },
   "outputs": [],
   "source": [
    "from sklearn.feature_selection import RFE\n",
    "from sklearn.linear_model import LinearRegression\n",
    "import statsmodels.api as sm \n",
    "from statsmodels.stats.outliers_influence import variance_inflation_factor"
   ]
  },
  {
   "cell_type": "code",
   "execution_count": 38,
   "metadata": {
    "execution": {
     "iopub.execute_input": "2020-09-06T05:33:56.956291Z",
     "iopub.status.busy": "2020-09-06T05:33:56.955651Z",
     "iopub.status.idle": "2020-09-06T05:34:07.656779Z",
     "shell.execute_reply": "2020-09-06T05:34:07.656216Z"
    },
    "papermill": {
     "duration": 10.72953,
     "end_time": "2020-09-06T05:34:07.656898",
     "exception": false,
     "start_time": "2020-09-06T05:33:56.927368",
     "status": "completed"
    },
    "tags": []
   },
   "outputs": [
    {
     "name": "stderr",
     "output_type": "stream",
     "text": [
      "/opt/conda/lib/python3.7/site-packages/sklearn/utils/validation.py:70: FutureWarning: Pass n_features_to_select=10 as keyword args. From version 0.25 passing these as positional arguments will result in an error\n",
      "  FutureWarning)\n"
     ]
    }
   ],
   "source": [
    "lm = LinearRegression()\n",
    "lm.fit(OH_X_train,y_train)\n",
    "rfe = RFE(lm, 10)\n",
    "rfe = rfe.fit(OH_X_train, y_train)"
   ]
  },
  {
   "cell_type": "code",
   "execution_count": 39,
   "metadata": {
    "execution": {
     "iopub.execute_input": "2020-09-06T05:34:07.720771Z",
     "iopub.status.busy": "2020-09-06T05:34:07.712811Z",
     "iopub.status.idle": "2020-09-06T05:34:07.725296Z",
     "shell.execute_reply": "2020-09-06T05:34:07.725862Z"
    },
    "papermill": {
     "duration": 0.04266,
     "end_time": "2020-09-06T05:34:07.726068",
     "exception": false,
     "start_time": "2020-09-06T05:34:07.683408",
     "status": "completed"
    },
    "tags": []
   },
   "outputs": [
    {
     "data": {
      "text/plain": [
       "[('Order_date', False, 98),\n",
       " ('Retail_Price', False, 96),\n",
       " ('Release_Date', False, 95),\n",
       " ('Shoe_Size', False, 97),\n",
       " ('Sneaker_Name_Adidas Yeezy Boost 350 Low Moonrock', False, 92),\n",
       " ('Sneaker_Name_Adidas Yeezy Boost 350 Low Oxford Tan', False, 93),\n",
       " ('Sneaker_Name_Adidas Yeezy Boost 350 Low Pirate Black 2015', False, 89),\n",
       " ('Sneaker_Name_Adidas Yeezy Boost 350 Low Pirate Black 2016', False, 91),\n",
       " ('Sneaker_Name_Adidas Yeezy Boost 350 Low Turtledove', False, 94),\n",
       " ('Sneaker_Name_Adidas Yeezy Boost 350 Low V2 Beluga', False, 87),\n",
       " ('Sneaker_Name_Adidas Yeezy Boost 350 V2 Beluga 2pt0', False, 82),\n",
       " ('Sneaker_Name_Adidas Yeezy Boost 350 V2 Blue Tint', False, 80),\n",
       " ('Sneaker_Name_Adidas Yeezy Boost 350 V2 Core Black Copper', False, 85),\n",
       " ('Sneaker_Name_Adidas Yeezy Boost 350 V2 Core Black Green', False, 84),\n",
       " ('Sneaker_Name_Adidas Yeezy Boost 350 V2 Core Black Red', False, 90),\n",
       " ('Sneaker_Name_Adidas Yeezy Boost 350 V2 Core Black Red 2017', False, 88),\n",
       " ('Sneaker_Name_Adidas Yeezy Boost 350 V2 Core Black White', False, 86),\n",
       " ('Sneaker_Name_Adidas Yeezy Boost 350 V2 Cream White', False, 78),\n",
       " ('Sneaker_Name_Adidas Yeezy Boost 350 V2 Semi Frozen Yellow', False, 81),\n",
       " ('Sneaker_Name_Adidas Yeezy Boost 350 V2 Sesame', False, 75),\n",
       " ('Sneaker_Name_Adidas Yeezy Boost 350 V2 Zebra', False, 79),\n",
       " ('Sneaker_Name_Air Jordan 1 Retro High Off White Chicago', False, 44),\n",
       " ('Sneaker_Name_Air Jordan 1 Retro High Off White University Blue', False, 49),\n",
       " ('Sneaker_Name_Air Jordan 1 Retro High Off White White', False, 43),\n",
       " ('Sneaker_Name_Nike Air Force 1 Low Off White', False, 53),\n",
       " ('Sneaker_Name_Nike Air Force 1 Low Off White Black White', False, 68),\n",
       " ('Sneaker_Name_Nike Air Force 1 Low Off White Volt', False, 70),\n",
       " ('Sneaker_Name_Nike Air Force 1 Low Virgil Abloh Off White AF100', False, 46),\n",
       " ('Sneaker_Name_Nike Air Max 90 Off White', False, 54),\n",
       " ('Sneaker_Name_Nike Air Max 90 Off White Black', False, 64),\n",
       " ('Sneaker_Name_Nike Air Max 90 Off White Desert Ore', False, 66),\n",
       " ('Sneaker_Name_Nike Air Max 97 Off White', False, 57),\n",
       " ('Sneaker_Name_Nike Air Max 97 Off White Black', False, 56),\n",
       " ('Sneaker_Name_Nike Air Max 97 Off White Elemental Rose Queen', False, 47),\n",
       " ('Sneaker_Name_Nike Air Max 97 Off White Menta', False, 51),\n",
       " ('Sneaker_Name_Nike Air Presto Off White', False, 45),\n",
       " ('Sneaker_Name_Nike Air Presto Off White Black 2018', False, 52),\n",
       " ('Sneaker_Name_Nike Air Presto Off White White 2018', False, 60),\n",
       " ('Sneaker_Name_Nike Air VaporMax Off White', False, 48),\n",
       " ('Sneaker_Name_Nike Air VaporMax Off White 2018', False, 63),\n",
       " ('Sneaker_Name_Nike Air VaporMax Off White Black', False, 61),\n",
       " ('Sneaker_Name_Nike Blazer Mid Off White', False, 55),\n",
       " ('Sneaker_Name_Nike Blazer Mid Off White All Hallows Eve', False, 62),\n",
       " ('Sneaker_Name_Nike Blazer Mid Off White Grim Reaper', False, 67),\n",
       " ('Sneaker_Name_Nike Blazer Mid Off White Wolf Grey', False, 50),\n",
       " ('Sneaker_Name_Nike React Hyperdunk 2017 Flyknit Off White', False, 69),\n",
       " ('Sneaker_Name_Nike Zoom Fly Mercurial Off White Black', False, 71),\n",
       " ('Sneaker_Name_Nike Zoom Fly Mercurial Off White Total Orange', False, 73),\n",
       " ('Sneaker_Name_Nike Zoom Fly Off White', False, 65),\n",
       " ('Sneaker_Name_Nike Zoom Fly Off White Black Silver', False, 72),\n",
       " ('Sneaker_Name_Nike Zoom Fly Off White Pink', False, 74),\n",
       " ('Sneaker_Name_adidas Yeezy Boost 350 V2 Butter', False, 76),\n",
       " ('Sneaker_Name_adidas Yeezy Boost 350 V2 Static', False, 77),\n",
       " ('Sneaker_Name_adidas Yeezy Boost 350 V2 Static Reflective', False, 83),\n",
       " ('Buyer_Region_Alabama', True, 1),\n",
       " ('Buyer_Region_Alaska', False, 26),\n",
       " ('Buyer_Region_Arizona', False, 28),\n",
       " ('Buyer_Region_Arkansas', True, 1),\n",
       " ('Buyer_Region_California', False, 39),\n",
       " ('Buyer_Region_Colorado', False, 17),\n",
       " ('Buyer_Region_Connecticut', False, 3),\n",
       " ('Buyer_Region_Delaware', False, 42),\n",
       " ('Buyer_Region_District of Columbia', False, 35),\n",
       " ('Buyer_Region_Florida', False, 29),\n",
       " ('Buyer_Region_Georgia', False, 20),\n",
       " ('Buyer_Region_Hawaii', False, 41),\n",
       " ('Buyer_Region_Idaho', True, 1),\n",
       " ('Buyer_Region_Illinois', False, 21),\n",
       " ('Buyer_Region_Indiana', False, 6),\n",
       " ('Buyer_Region_Iowa', False, 34),\n",
       " ('Buyer_Region_Kansas', False, 7),\n",
       " ('Buyer_Region_Kentucky', False, 38),\n",
       " ('Buyer_Region_Louisiana', True, 1),\n",
       " ('Buyer_Region_Maine', True, 1),\n",
       " ('Buyer_Region_Maryland', False, 22),\n",
       " ('Buyer_Region_Massachusetts', False, 23),\n",
       " ('Buyer_Region_Michigan', False, 8),\n",
       " ('Buyer_Region_Minnesota', False, 24),\n",
       " ('Buyer_Region_Mississippi', True, 1),\n",
       " ('Buyer_Region_Missouri', False, 15),\n",
       " ('Buyer_Region_Montana', False, 5),\n",
       " ('Buyer_Region_Nebraska', False, 4),\n",
       " ('Buyer_Region_Nevada', False, 40),\n",
       " ('Buyer_Region_New Hampshire', False, 13),\n",
       " ('Buyer_Region_New Jersey', False, 32),\n",
       " ('Buyer_Region_New Mexico', True, 1),\n",
       " ('Buyer_Region_New York', False, 27),\n",
       " ('Buyer_Region_North Carolina', False, 12),\n",
       " ('Buyer_Region_North Dakota', False, 2),\n",
       " ('Buyer_Region_Ohio', False, 19),\n",
       " ('Buyer_Region_Oklahoma', False, 30),\n",
       " ('Buyer_Region_Oregon', False, 37),\n",
       " ('Buyer_Region_Pennsylvania', False, 11),\n",
       " ('Buyer_Region_Rhode Island', False, 14),\n",
       " ('Buyer_Region_South Carolina', False, 18),\n",
       " ('Buyer_Region_South Dakota', True, 1),\n",
       " ('Buyer_Region_Tennessee', False, 10),\n",
       " ('Buyer_Region_Texas', False, 9),\n",
       " ('Buyer_Region_Utah', False, 33),\n",
       " ('Buyer_Region_Vermont', False, 36),\n",
       " ('Buyer_Region_Virginia', False, 31),\n",
       " ('Buyer_Region_Washington', False, 25),\n",
       " ('Buyer_Region_West Virginia', True, 1),\n",
       " ('Buyer_Region_Wisconsin', False, 16),\n",
       " ('Buyer_Region_Wyoming', True, 1),\n",
       " ('Brand_ Yeezy', False, 58),\n",
       " ('Brand_Off-White', False, 59)]"
      ]
     },
     "execution_count": 39,
     "metadata": {},
     "output_type": "execute_result"
    }
   ],
   "source": [
    "list(zip(OH_X_train.columns,rfe.support_,rfe.ranking_))"
   ]
  },
  {
   "cell_type": "code",
   "execution_count": 40,
   "metadata": {
    "execution": {
     "iopub.execute_input": "2020-09-06T05:34:07.801913Z",
     "iopub.status.busy": "2020-09-06T05:34:07.801016Z",
     "iopub.status.idle": "2020-09-06T05:34:07.805561Z",
     "shell.execute_reply": "2020-09-06T05:34:07.805088Z"
    },
    "papermill": {
     "duration": 0.050595,
     "end_time": "2020-09-06T05:34:07.805674",
     "exception": false,
     "start_time": "2020-09-06T05:34:07.755079",
     "status": "completed"
    },
    "tags": []
   },
   "outputs": [
    {
     "data": {
      "text/html": [
       "<div>\n",
       "<style scoped>\n",
       "    .dataframe tbody tr th:only-of-type {\n",
       "        vertical-align: middle;\n",
       "    }\n",
       "\n",
       "    .dataframe tbody tr th {\n",
       "        vertical-align: top;\n",
       "    }\n",
       "\n",
       "    .dataframe thead th {\n",
       "        text-align: right;\n",
       "    }\n",
       "</style>\n",
       "<table border=\"1\" class=\"dataframe\">\n",
       "  <thead>\n",
       "    <tr style=\"text-align: right;\">\n",
       "      <th></th>\n",
       "      <th>Buyer_Region_Alabama</th>\n",
       "      <th>Buyer_Region_Arkansas</th>\n",
       "      <th>Buyer_Region_Idaho</th>\n",
       "      <th>Buyer_Region_Louisiana</th>\n",
       "      <th>Buyer_Region_Maine</th>\n",
       "      <th>Buyer_Region_Mississippi</th>\n",
       "      <th>Buyer_Region_New Mexico</th>\n",
       "      <th>Buyer_Region_South Dakota</th>\n",
       "      <th>Buyer_Region_West Virginia</th>\n",
       "      <th>Buyer_Region_Wyoming</th>\n",
       "    </tr>\n",
       "  </thead>\n",
       "  <tbody>\n",
       "    <tr>\n",
       "      <th>50136</th>\n",
       "      <td>0.0</td>\n",
       "      <td>0.0</td>\n",
       "      <td>0.0</td>\n",
       "      <td>0.0</td>\n",
       "      <td>0.0</td>\n",
       "      <td>0.0</td>\n",
       "      <td>0.0</td>\n",
       "      <td>0.0</td>\n",
       "      <td>0.0</td>\n",
       "      <td>0.0</td>\n",
       "    </tr>\n",
       "    <tr>\n",
       "      <th>5530</th>\n",
       "      <td>0.0</td>\n",
       "      <td>0.0</td>\n",
       "      <td>0.0</td>\n",
       "      <td>0.0</td>\n",
       "      <td>0.0</td>\n",
       "      <td>0.0</td>\n",
       "      <td>0.0</td>\n",
       "      <td>0.0</td>\n",
       "      <td>0.0</td>\n",
       "      <td>0.0</td>\n",
       "    </tr>\n",
       "    <tr>\n",
       "      <th>77280</th>\n",
       "      <td>0.0</td>\n",
       "      <td>0.0</td>\n",
       "      <td>0.0</td>\n",
       "      <td>0.0</td>\n",
       "      <td>0.0</td>\n",
       "      <td>0.0</td>\n",
       "      <td>0.0</td>\n",
       "      <td>0.0</td>\n",
       "      <td>0.0</td>\n",
       "      <td>0.0</td>\n",
       "    </tr>\n",
       "    <tr>\n",
       "      <th>92881</th>\n",
       "      <td>0.0</td>\n",
       "      <td>0.0</td>\n",
       "      <td>0.0</td>\n",
       "      <td>0.0</td>\n",
       "      <td>0.0</td>\n",
       "      <td>0.0</td>\n",
       "      <td>0.0</td>\n",
       "      <td>0.0</td>\n",
       "      <td>0.0</td>\n",
       "      <td>0.0</td>\n",
       "    </tr>\n",
       "    <tr>\n",
       "      <th>92843</th>\n",
       "      <td>0.0</td>\n",
       "      <td>0.0</td>\n",
       "      <td>0.0</td>\n",
       "      <td>0.0</td>\n",
       "      <td>0.0</td>\n",
       "      <td>0.0</td>\n",
       "      <td>0.0</td>\n",
       "      <td>0.0</td>\n",
       "      <td>0.0</td>\n",
       "      <td>0.0</td>\n",
       "    </tr>\n",
       "    <tr>\n",
       "      <th>...</th>\n",
       "      <td>...</td>\n",
       "      <td>...</td>\n",
       "      <td>...</td>\n",
       "      <td>...</td>\n",
       "      <td>...</td>\n",
       "      <td>...</td>\n",
       "      <td>...</td>\n",
       "      <td>...</td>\n",
       "      <td>...</td>\n",
       "      <td>...</td>\n",
       "    </tr>\n",
       "    <tr>\n",
       "      <th>80688</th>\n",
       "      <td>0.0</td>\n",
       "      <td>0.0</td>\n",
       "      <td>0.0</td>\n",
       "      <td>0.0</td>\n",
       "      <td>0.0</td>\n",
       "      <td>0.0</td>\n",
       "      <td>0.0</td>\n",
       "      <td>0.0</td>\n",
       "      <td>0.0</td>\n",
       "      <td>0.0</td>\n",
       "    </tr>\n",
       "    <tr>\n",
       "      <th>14742</th>\n",
       "      <td>1.0</td>\n",
       "      <td>0.0</td>\n",
       "      <td>0.0</td>\n",
       "      <td>0.0</td>\n",
       "      <td>0.0</td>\n",
       "      <td>0.0</td>\n",
       "      <td>0.0</td>\n",
       "      <td>0.0</td>\n",
       "      <td>0.0</td>\n",
       "      <td>0.0</td>\n",
       "    </tr>\n",
       "    <tr>\n",
       "      <th>31677</th>\n",
       "      <td>0.0</td>\n",
       "      <td>0.0</td>\n",
       "      <td>0.0</td>\n",
       "      <td>0.0</td>\n",
       "      <td>0.0</td>\n",
       "      <td>0.0</td>\n",
       "      <td>0.0</td>\n",
       "      <td>0.0</td>\n",
       "      <td>0.0</td>\n",
       "      <td>0.0</td>\n",
       "    </tr>\n",
       "    <tr>\n",
       "      <th>28116</th>\n",
       "      <td>0.0</td>\n",
       "      <td>0.0</td>\n",
       "      <td>0.0</td>\n",
       "      <td>0.0</td>\n",
       "      <td>0.0</td>\n",
       "      <td>0.0</td>\n",
       "      <td>0.0</td>\n",
       "      <td>0.0</td>\n",
       "      <td>0.0</td>\n",
       "      <td>0.0</td>\n",
       "    </tr>\n",
       "    <tr>\n",
       "      <th>69953</th>\n",
       "      <td>0.0</td>\n",
       "      <td>0.0</td>\n",
       "      <td>0.0</td>\n",
       "      <td>0.0</td>\n",
       "      <td>0.0</td>\n",
       "      <td>0.0</td>\n",
       "      <td>0.0</td>\n",
       "      <td>0.0</td>\n",
       "      <td>0.0</td>\n",
       "      <td>0.0</td>\n",
       "    </tr>\n",
       "  </tbody>\n",
       "</table>\n",
       "<p>79964 rows × 10 columns</p>\n",
       "</div>"
      ],
      "text/plain": [
       "       Buyer_Region_Alabama  Buyer_Region_Arkansas  Buyer_Region_Idaho  \\\n",
       "50136                   0.0                    0.0                 0.0   \n",
       "5530                    0.0                    0.0                 0.0   \n",
       "77280                   0.0                    0.0                 0.0   \n",
       "92881                   0.0                    0.0                 0.0   \n",
       "92843                   0.0                    0.0                 0.0   \n",
       "...                     ...                    ...                 ...   \n",
       "80688                   0.0                    0.0                 0.0   \n",
       "14742                   1.0                    0.0                 0.0   \n",
       "31677                   0.0                    0.0                 0.0   \n",
       "28116                   0.0                    0.0                 0.0   \n",
       "69953                   0.0                    0.0                 0.0   \n",
       "\n",
       "       Buyer_Region_Louisiana  Buyer_Region_Maine  Buyer_Region_Mississippi  \\\n",
       "50136                     0.0                 0.0                       0.0   \n",
       "5530                      0.0                 0.0                       0.0   \n",
       "77280                     0.0                 0.0                       0.0   \n",
       "92881                     0.0                 0.0                       0.0   \n",
       "92843                     0.0                 0.0                       0.0   \n",
       "...                       ...                 ...                       ...   \n",
       "80688                     0.0                 0.0                       0.0   \n",
       "14742                     0.0                 0.0                       0.0   \n",
       "31677                     0.0                 0.0                       0.0   \n",
       "28116                     0.0                 0.0                       0.0   \n",
       "69953                     0.0                 0.0                       0.0   \n",
       "\n",
       "       Buyer_Region_New Mexico  Buyer_Region_South Dakota  \\\n",
       "50136                      0.0                        0.0   \n",
       "5530                       0.0                        0.0   \n",
       "77280                      0.0                        0.0   \n",
       "92881                      0.0                        0.0   \n",
       "92843                      0.0                        0.0   \n",
       "...                        ...                        ...   \n",
       "80688                      0.0                        0.0   \n",
       "14742                      0.0                        0.0   \n",
       "31677                      0.0                        0.0   \n",
       "28116                      0.0                        0.0   \n",
       "69953                      0.0                        0.0   \n",
       "\n",
       "       Buyer_Region_West Virginia  Buyer_Region_Wyoming  \n",
       "50136                         0.0                   0.0  \n",
       "5530                          0.0                   0.0  \n",
       "77280                         0.0                   0.0  \n",
       "92881                         0.0                   0.0  \n",
       "92843                         0.0                   0.0  \n",
       "...                           ...                   ...  \n",
       "80688                         0.0                   0.0  \n",
       "14742                         0.0                   0.0  \n",
       "31677                         0.0                   0.0  \n",
       "28116                         0.0                   0.0  \n",
       "69953                         0.0                   0.0  \n",
       "\n",
       "[79964 rows x 10 columns]"
      ]
     },
     "execution_count": 40,
     "metadata": {},
     "output_type": "execute_result"
    }
   ],
   "source": [
    "X_train_rfe = OH_X_train[OH_X_train.columns[rfe.support_]]\n",
    "X_train_rfe"
   ]
  },
  {
   "cell_type": "code",
   "execution_count": 41,
   "metadata": {
    "execution": {
     "iopub.execute_input": "2020-09-06T05:34:07.857823Z",
     "iopub.status.busy": "2020-09-06T05:34:07.857219Z",
     "iopub.status.idle": "2020-09-06T05:34:07.859354Z",
     "shell.execute_reply": "2020-09-06T05:34:07.859817Z"
    },
    "papermill": {
     "duration": 0.03196,
     "end_time": "2020-09-06T05:34:07.859960",
     "exception": false,
     "start_time": "2020-09-06T05:34:07.828000",
     "status": "completed"
    },
    "tags": []
   },
   "outputs": [],
   "source": [
    "def build_model(X,y):\n",
    "    X = sm.add_constant(X) #Adding the constant\n",
    "    model = sm.OLS(y, X)\n",
    "    results = model.fit() # fitting the model\n",
    "    print(results.summary()) # model summary\n",
    "    return X\n",
    "    \n",
    "def checkVIF(X):\n",
    "    vif = pd.DataFrame()\n",
    "    vif['Features'] = X.columns\n",
    "    vif['VIF'] = [variance_inflation_factor(X.values, i) for i in range(X.shape[1])]\n",
    "    vif['VIF'] = round(vif['VIF'], 2)\n",
    "    vif = vif.sort_values(by = \"VIF\", ascending = False)\n",
    "    return(vif)"
   ]
  },
  {
   "cell_type": "code",
   "execution_count": 42,
   "metadata": {
    "execution": {
     "iopub.execute_input": "2020-09-06T05:34:07.908605Z",
     "iopub.status.busy": "2020-09-06T05:34:07.907981Z",
     "iopub.status.idle": "2020-09-06T05:34:08.595537Z",
     "shell.execute_reply": "2020-09-06T05:34:08.594988Z"
    },
    "papermill": {
     "duration": 0.713789,
     "end_time": "2020-09-06T05:34:08.595653",
     "exception": false,
     "start_time": "2020-09-06T05:34:07.881864",
     "status": "completed"
    },
    "tags": []
   },
   "outputs": [
    {
     "name": "stdout",
     "output_type": "stream",
     "text": [
      "                            OLS Regression Results                            \n",
      "==============================================================================\n",
      "Dep. Variable:             Sale_Price   R-squared:                       0.835\n",
      "Model:                            OLS   Adj. R-squared:                  0.835\n",
      "Method:                 Least Squares   F-statistic:                     3997.\n",
      "Date:                Sun, 06 Sep 2020   Prob (F-statistic):               0.00\n",
      "Time:                        05:34:08   Log-Likelihood:            -4.8461e+05\n",
      "No. Observations:               79964   AIC:                         9.694e+05\n",
      "Df Residuals:                   79862   BIC:                         9.704e+05\n",
      "Df Model:                         101                                         \n",
      "Covariance Type:            nonrobust                                         \n",
      "==================================================================================================================================\n",
      "                                                                     coef    std err          t      P>|t|      [0.025      0.975]\n",
      "----------------------------------------------------------------------------------------------------------------------------------\n",
      "const                                                              5.1652      0.027    193.850      0.000       5.113       5.217\n",
      "Order_date                                                        -0.2597      0.004    -68.835      0.000      -0.267      -0.252\n",
      "Retail_Price                                                      -1.0982      0.031    -34.873      0.000      -1.160      -1.037\n",
      "Release_Date                                                       0.2610      0.004     69.133      0.000       0.254       0.268\n",
      "Shoe_Size                                                          1.1550      0.163      7.100      0.000       0.836       1.474\n",
      "Sneaker_Name_Adidas Yeezy Boost 350 Low Moonrock                 451.9587     11.093     40.741      0.000     430.216     473.702\n",
      "Sneaker_Name_Adidas Yeezy Boost 350 Low Oxford Tan               456.4654     13.062     34.947      0.000     430.864     482.066\n",
      "Sneaker_Name_Adidas Yeezy Boost 350 Low Pirate Black 2015        365.5453     11.338     32.240      0.000     343.322     387.769\n",
      "Sneaker_Name_Adidas Yeezy Boost 350 Low Pirate Black 2016        417.3842     10.231     40.794      0.000     397.331     437.438\n",
      "Sneaker_Name_Adidas Yeezy Boost 350 Low Turtledove              1015.5623     13.884     73.149      0.000     988.351    1042.774\n",
      "Sneaker_Name_Adidas Yeezy Boost 350 Low V2 Beluga                172.0795      5.165     33.317      0.000     161.956     182.203\n",
      "Sneaker_Name_Adidas Yeezy Boost 350 V2 Beluga 2pt0              -347.5438      2.350   -147.889      0.000    -352.150    -342.938\n",
      "Sneaker_Name_Adidas Yeezy Boost 350 V2 Blue Tint                -366.2730      2.355   -155.521      0.000    -370.889    -361.657\n",
      "Sneaker_Name_Adidas Yeezy Boost 350 V2 Core Black Copper          29.4844      7.424      3.972      0.000      14.934      44.035\n",
      "Sneaker_Name_Adidas Yeezy Boost 350 V2 Core Black Green           -9.1726      7.963     -1.152      0.249     -24.779       6.434\n",
      "Sneaker_Name_Adidas Yeezy Boost 350 V2 Core Black Red            309.4162      6.722     46.028      0.000     296.240     322.592\n",
      "Sneaker_Name_Adidas Yeezy Boost 350 V2 Core Black Red 2017       152.3584      3.815     39.940      0.000     144.882     159.835\n",
      "Sneaker_Name_Adidas Yeezy Boost 350 V2 Core Black White           83.9311      4.714     17.805      0.000      74.692      93.170\n",
      "Sneaker_Name_Adidas Yeezy Boost 350 V2 Cream White              -351.6015      1.915   -183.631      0.000    -355.354    -347.849\n",
      "Sneaker_Name_Adidas Yeezy Boost 350 V2 Semi Frozen Yellow       -299.1468      2.292   -130.538      0.000    -303.638    -294.655\n",
      "Sneaker_Name_Adidas Yeezy Boost 350 V2 Sesame                   -502.6731      2.719   -184.891      0.000    -508.002    -497.344\n",
      "Sneaker_Name_Adidas Yeezy Boost 350 V2 Zebra                    -260.0807      1.920   -135.452      0.000    -263.844    -256.317\n",
      "Sneaker_Name_Air Jordan 1 Retro High Off White Chicago          1088.1667      4.236    256.901      0.000    1079.865    1096.469\n",
      "Sneaker_Name_Air Jordan 1 Retro High Off White University Blue   140.4970      1.937     72.540      0.000     136.701     144.293\n",
      "Sneaker_Name_Air Jordan 1 Retro High Off White White            1128.8069      6.397    176.471      0.000    1116.270    1141.344\n",
      "Sneaker_Name_Nike Air Force 1 Low Off White                        1.2098      5.150      0.235      0.814      -8.885      11.304\n",
      "Sneaker_Name_Nike Air Force 1 Low Off White Black White         -223.2411      3.810    -58.590      0.000    -230.709    -215.773\n",
      "Sneaker_Name_Nike Air Force 1 Low Off White Volt                -344.6803      3.678    -93.721      0.000    -351.889    -337.472\n",
      "Sneaker_Name_Nike Air Force 1 Low Virgil Abloh Off White AF100   247.3414     19.222     12.868      0.000     209.667     285.016\n",
      "Sneaker_Name_Nike Air Max 90 Off White                            -3.4069      4.684     -0.727      0.467     -12.587       5.773\n",
      "Sneaker_Name_Nike Air Max 90 Off White Black                    -200.2461      4.366    -45.868      0.000    -208.803    -191.689\n",
      "Sneaker_Name_Nike Air Max 90 Off White Desert Ore               -219.3451      4.636    -47.309      0.000    -228.433    -210.258\n",
      "Sneaker_Name_Nike Air Max 97 Off White                           -21.2006      4.909     -4.319      0.000     -30.822     -11.579\n",
      "Sneaker_Name_Nike Air Max 97 Off White Black                     -45.3573      6.664     -6.806      0.000     -58.418     -32.296\n",
      "Sneaker_Name_Nike Air Max 97 Off White Elemental Rose Queen      180.8995      7.794     23.209      0.000     165.623     196.177\n",
      "Sneaker_Name_Nike Air Max 97 Off White Menta                      48.5001      6.001      8.082      0.000      36.738      60.262\n",
      "Sneaker_Name_Nike Air Presto Off White                           519.1343      4.719    110.017      0.000     509.886     528.383\n",
      "Sneaker_Name_Nike Air Presto Off White Black 2018                -10.5179      2.916     -3.606      0.000     -16.234      -4.802\n",
      "Sneaker_Name_Nike Air Presto Off White White 2018               -102.1360      2.914    -35.051      0.000    -107.847     -96.425\n",
      "Sneaker_Name_Nike Air VaporMax Off White                         241.1912      4.491     53.702      0.000     232.388     249.994\n",
      "Sneaker_Name_Nike Air VaporMax Off White 2018                    -43.2000      3.139    -13.760      0.000     -49.353     -37.047\n",
      "Sneaker_Name_Nike Air VaporMax Off White Black                    -5.3042      3.302     -1.606      0.108     -11.776       1.167\n",
      "Sneaker_Name_Nike Blazer Mid Off White                           -50.0013      5.077     -9.849      0.000     -59.952     -40.051\n",
      "Sneaker_Name_Nike Blazer Mid Off White All Hallows Eve          -169.0254      3.465    -48.780      0.000    -175.817    -162.234\n",
      "Sneaker_Name_Nike Blazer Mid Off White Grim Reaper              -247.1131      3.538    -69.837      0.000    -254.048    -240.178\n",
      "Sneaker_Name_Nike Blazer Mid Off White Wolf Grey                  21.8649      6.424      3.404      0.001       9.275      34.455\n",
      "Sneaker_Name_Nike React Hyperdunk 2017 Flyknit Off White        -183.7394      5.102    -36.014      0.000    -193.739    -173.740\n",
      "Sneaker_Name_Nike Zoom Fly Mercurial Off White Black            -340.2500      4.443    -76.574      0.000    -348.959    -331.541\n",
      "Sneaker_Name_Nike Zoom Fly Mercurial Off White Total Orange     -405.3014      4.451    -91.053      0.000    -414.026    -396.577\n",
      "Sneaker_Name_Nike Zoom Fly Off White                            -177.2240      5.519    -32.112      0.000    -188.041    -166.407\n",
      "Sneaker_Name_Nike Zoom Fly Off White Black Silver               -404.8431      3.415   -118.553      0.000    -411.536    -398.150\n",
      "Sneaker_Name_Nike Zoom Fly Off White Pink                       -462.8596      3.283   -140.984      0.000    -469.294    -456.425\n",
      "Sneaker_Name_adidas Yeezy Boost 350 V2 Butter                   -489.9627      2.438   -201.000      0.000    -494.740    -485.185\n",
      "Sneaker_Name_adidas Yeezy Boost 350 V2 Static                   -482.3982      2.790   -172.901      0.000    -487.867    -476.930\n",
      "Sneaker_Name_adidas Yeezy Boost 350 V2 Static Reflective        -298.7870      3.023    -98.852      0.000    -304.711    -292.863\n",
      "Buyer_Region_Alabama                                              -5.0395      5.345     -0.943      0.346     -15.516       5.438\n",
      "Buyer_Region_Alaska                                               10.2819     14.011      0.734      0.463     -17.180      37.744\n",
      "Buyer_Region_Arizona                                               4.5869      3.200      1.433      0.152      -1.685      10.859\n",
      "Buyer_Region_Arkansas                                              4.8501      8.510      0.570      0.569     -11.830      21.530\n",
      "Buyer_Region_California                                            4.2084      1.317      3.196      0.001       1.628       6.789\n",
      "Buyer_Region_Colorado                                              2.7403      3.839      0.714      0.475      -4.784      10.265\n",
      "Buyer_Region_Connecticut                                          -8.4387      3.630     -2.324      0.020     -15.554      -1.323\n",
      "Buyer_Region_Delaware                                             -3.5258      3.469     -1.016      0.309     -10.325       3.274\n",
      "Buyer_Region_District of Columbia                                -17.4880      7.146     -2.447      0.014     -31.494      -3.482\n",
      "Buyer_Region_Florida                                               7.9074      1.750      4.518      0.000       4.477      11.338\n",
      "Buyer_Region_Georgia                                               0.0889      2.831      0.031      0.975      -5.459       5.637\n",
      "Buyer_Region_Hawaii                                                5.7256      5.772      0.992      0.321      -5.588      17.039\n",
      "Buyer_Region_Idaho                                                -3.7153     11.147     -0.333      0.739     -25.564      18.133\n",
      "Buyer_Region_Illinois                                              0.3810      2.117      0.180      0.857      -3.768       4.530\n",
      "Buyer_Region_Indiana                                               2.5731      3.709      0.694      0.488      -4.696       9.843\n",
      "Buyer_Region_Iowa                                                 -6.5806      5.438     -1.210      0.226     -17.240       4.079\n",
      "Buyer_Region_Kansas                                                8.7295      6.230      1.401      0.161      -3.482      20.941\n",
      "Buyer_Region_Kentucky                                             18.6768      5.236      3.567      0.000       8.414      28.940\n",
      "Buyer_Region_Louisiana                                             0.7543      4.989      0.151      0.880      -9.025      10.533\n",
      "Buyer_Region_Maine                                                -6.7194      9.889     -0.679      0.497     -26.103      12.664\n",
      "Buyer_Region_Maryland                                             -7.7061      2.813     -2.739      0.006     -13.220      -2.193\n",
      "Buyer_Region_Massachusetts                                         1.9615      2.345      0.836      0.403      -2.635       6.558\n",
      "Buyer_Region_Michigan                                              1.0193      2.396      0.425      0.670      -3.676       5.715\n",
      "Buyer_Region_Minnesota                                             3.2030      4.328      0.740      0.459      -5.280      11.686\n",
      "Buyer_Region_Mississippi                                          -2.2056      8.720     -0.253      0.800     -19.296      14.885\n",
      "Buyer_Region_Missouri                                             -7.2848      4.497     -1.620      0.105     -16.098       1.529\n",
      "Buyer_Region_Montana                                               0.4284     16.534      0.026      0.979     -31.979      32.835\n",
      "Buyer_Region_Nebraska                                             -7.4075      7.528     -0.984      0.325     -22.163       7.348\n",
      "Buyer_Region_Nevada                                                2.2531      4.159      0.542      0.588      -5.899      10.406\n",
      "Buyer_Region_New Hampshire                                         3.2581      7.320      0.445      0.656     -11.088      17.604\n",
      "Buyer_Region_New Jersey                                           -0.1414      1.945     -0.073      0.942      -3.954       3.671\n",
      "Buyer_Region_New Mexico                                            8.5592      7.609      1.125      0.261      -6.355      23.474\n",
      "Buyer_Region_New York                                             -0.5406      1.357     -0.398      0.690      -3.200       2.119\n",
      "Buyer_Region_North Carolina                                       -4.7300      3.274     -1.445      0.148     -11.146       1.686\n",
      "Buyer_Region_North Dakota                                          6.6291     14.142      0.469      0.639     -21.090      34.348\n",
      "Buyer_Region_Ohio                                                 -4.8335      2.795     -1.729      0.084     -10.312       0.645\n",
      "Buyer_Region_Oklahoma                                             -2.2113      5.753     -0.384      0.701     -13.488       9.065\n",
      "Buyer_Region_Oregon                                                6.1293      1.699      3.608      0.000       2.800       9.459\n",
      "Buyer_Region_Pennsylvania                                         -1.2511      2.274     -0.550      0.582      -5.708       3.206\n",
      "Buyer_Region_Rhode Island                                         -2.3470      6.165     -0.381      0.703     -14.431       9.737\n",
      "Buyer_Region_South Carolina                                        3.5402      4.909      0.721      0.471      -6.081      13.161\n",
      "Buyer_Region_South Dakota                                          2.2534     14.874      0.151      0.880     -26.900      31.407\n",
      "Buyer_Region_Tennessee                                             0.0439      4.360      0.010      0.992      -8.502       8.590\n",
      "Buyer_Region_Texas                                                 1.4572      1.801      0.809      0.418      -2.073       4.987\n",
      "Buyer_Region_Utah                                                  6.6256      5.518      1.201      0.230      -4.190      17.442\n",
      "Buyer_Region_Vermont                                             -28.5128     12.202     -2.337      0.019     -52.428      -4.597\n",
      "Buyer_Region_Virginia                                              5.1183      2.721      1.881      0.060      -0.214      10.451\n",
      "Buyer_Region_Washington                                            0.3708      2.831      0.131      0.896      -5.178       5.919\n",
      "Buyer_Region_West Virginia                                        -6.0813      8.880     -0.685      0.493     -23.485      11.323\n",
      "Buyer_Region_Wisconsin                                             8.0050      4.061      1.971      0.049       0.046      15.964\n",
      "Buyer_Region_Wyoming                                              -0.4343     19.976     -0.022      0.983     -39.586      38.718\n",
      "Brand_ Yeezy                                                      46.5463      1.385     33.600      0.000      43.831      49.261\n",
      "Brand_Off-White                                                  -41.3811      1.364    -30.347      0.000     -44.054     -38.708\n",
      "==============================================================================\n",
      "Omnibus:                    57400.710   Durbin-Watson:                   2.010\n",
      "Prob(Omnibus):                  0.000   Jarque-Bera (JB):          4554977.962\n",
      "Skew:                           2.768   Prob(JB):                         0.00\n",
      "Kurtosis:                      39.558   Cond. No.                     2.86e+22\n",
      "==============================================================================\n",
      "\n",
      "Warnings:\n",
      "[1] Standard Errors assume that the covariance matrix of the errors is correctly specified.\n",
      "[2] The smallest eigenvalue is 1.06e-28. This might indicate that there are\n",
      "strong multicollinearity problems or that the design matrix is singular.\n"
     ]
    }
   ],
   "source": [
    "X_train_new = build_model(OH_X_train,y_train)"
   ]
  },
  {
   "cell_type": "code",
   "execution_count": 43,
   "metadata": {
    "execution": {
     "iopub.execute_input": "2020-09-06T05:34:08.649050Z",
     "iopub.status.busy": "2020-09-06T05:34:08.647604Z",
     "iopub.status.idle": "2020-09-06T05:34:59.854804Z",
     "shell.execute_reply": "2020-09-06T05:34:59.855332Z"
    },
    "papermill": {
     "duration": 51.236599,
     "end_time": "2020-09-06T05:34:59.855476",
     "exception": false,
     "start_time": "2020-09-06T05:34:08.618877",
     "status": "completed"
    },
    "tags": []
   },
   "outputs": [
    {
     "name": "stderr",
     "output_type": "stream",
     "text": [
      "/opt/conda/lib/python3.7/site-packages/statsmodels/regression/linear_model.py:1685: RuntimeWarning: divide by zero encountered in double_scalars\n",
      "  return 1 - self.ssr/self.centered_tss\n",
      "/opt/conda/lib/python3.7/site-packages/statsmodels/stats/outliers_influence.py:193: RuntimeWarning: divide by zero encountered in double_scalars\n",
      "  vif = 1. / (1. - r_squared_i)\n"
     ]
    },
    {
     "data": {
      "text/html": [
       "<div>\n",
       "<style scoped>\n",
       "    .dataframe tbody tr th:only-of-type {\n",
       "        vertical-align: middle;\n",
       "    }\n",
       "\n",
       "    .dataframe tbody tr th {\n",
       "        vertical-align: top;\n",
       "    }\n",
       "\n",
       "    .dataframe thead th {\n",
       "        text-align: right;\n",
       "    }\n",
       "</style>\n",
       "<table border=\"1\" class=\"dataframe\">\n",
       "  <thead>\n",
       "    <tr style=\"text-align: right;\">\n",
       "      <th></th>\n",
       "      <th>Features</th>\n",
       "      <th>VIF</th>\n",
       "    </tr>\n",
       "  </thead>\n",
       "  <tbody>\n",
       "    <tr>\n",
       "      <th>54</th>\n",
       "      <td>Sneaker_Name_adidas Yeezy Boost 350 V2 Static ...</td>\n",
       "      <td>inf</td>\n",
       "    </tr>\n",
       "    <tr>\n",
       "      <th>81</th>\n",
       "      <td>Buyer_Region_Montana</td>\n",
       "      <td>inf</td>\n",
       "    </tr>\n",
       "    <tr>\n",
       "      <th>79</th>\n",
       "      <td>Buyer_Region_Mississippi</td>\n",
       "      <td>inf</td>\n",
       "    </tr>\n",
       "    <tr>\n",
       "      <th>78</th>\n",
       "      <td>Buyer_Region_Minnesota</td>\n",
       "      <td>inf</td>\n",
       "    </tr>\n",
       "    <tr>\n",
       "      <th>77</th>\n",
       "      <td>Buyer_Region_Michigan</td>\n",
       "      <td>inf</td>\n",
       "    </tr>\n",
       "    <tr>\n",
       "      <th>...</th>\n",
       "      <td>...</td>\n",
       "      <td>...</td>\n",
       "    </tr>\n",
       "    <tr>\n",
       "      <th>31</th>\n",
       "      <td>Sneaker_Name_Nike Air Max 90 Off White Desert Ore</td>\n",
       "      <td>inf</td>\n",
       "    </tr>\n",
       "    <tr>\n",
       "      <th>2</th>\n",
       "      <td>Retail_Price</td>\n",
       "      <td>inf</td>\n",
       "    </tr>\n",
       "    <tr>\n",
       "      <th>1</th>\n",
       "      <td>Order_date</td>\n",
       "      <td>2.19</td>\n",
       "    </tr>\n",
       "    <tr>\n",
       "      <th>4</th>\n",
       "      <td>Shoe_Size</td>\n",
       "      <td>1.06</td>\n",
       "    </tr>\n",
       "    <tr>\n",
       "      <th>0</th>\n",
       "      <td>const</td>\n",
       "      <td>0.00</td>\n",
       "    </tr>\n",
       "  </tbody>\n",
       "</table>\n",
       "<p>108 rows × 2 columns</p>\n",
       "</div>"
      ],
      "text/plain": [
       "                                             Features   VIF\n",
       "54  Sneaker_Name_adidas Yeezy Boost 350 V2 Static ...   inf\n",
       "81                               Buyer_Region_Montana   inf\n",
       "79                           Buyer_Region_Mississippi   inf\n",
       "78                             Buyer_Region_Minnesota   inf\n",
       "77                              Buyer_Region_Michigan   inf\n",
       "..                                                ...   ...\n",
       "31  Sneaker_Name_Nike Air Max 90 Off White Desert Ore   inf\n",
       "2                                        Retail_Price   inf\n",
       "1                                          Order_date  2.19\n",
       "4                                           Shoe_Size  1.06\n",
       "0                                               const  0.00\n",
       "\n",
       "[108 rows x 2 columns]"
      ]
     },
     "execution_count": 43,
     "metadata": {},
     "output_type": "execute_result"
    }
   ],
   "source": [
    "checkVIF(X_train_new)"
   ]
  },
  {
   "cell_type": "markdown",
   "execution_count": null,
   "metadata": {
    "papermill": {
     "duration": 0.022543,
     "end_time": "2020-09-06T05:34:59.900752",
     "exception": false,
     "start_time": "2020-09-06T05:34:59.878209",
     "status": "completed"
    },
    "tags": []
   },
   "source": [
    "### Model 2"
   ]
  },
  {
   "cell_type": "code",
   "execution_count": 44,
   "metadata": {
    "execution": {
     "iopub.execute_input": "2020-09-06T05:34:59.964331Z",
     "iopub.status.busy": "2020-09-06T05:34:59.963423Z",
     "iopub.status.idle": "2020-09-06T05:34:59.966154Z",
     "shell.execute_reply": "2020-09-06T05:34:59.966628Z"
    },
    "papermill": {
     "duration": 0.042757,
     "end_time": "2020-09-06T05:34:59.966766",
     "exception": false,
     "start_time": "2020-09-06T05:34:59.924009",
     "status": "completed"
    },
    "tags": []
   },
   "outputs": [],
   "source": [
    "X_train_new = X_train_new.drop(['Sneaker_Name_Adidas Yeezy Boost 350 V2 Core Black Green',\n",
    "       'Sneaker_Name_Nike Air Force 1 Low Off White',\n",
    "       'Sneaker_Name_Nike Air Max 90 Off White',\n",
    "       'Sneaker_Name_Nike Air VaporMax Off White Black',\n",
    "       'Buyer_Region_Alabama', 'Buyer_Region_Alaska', 'Buyer_Region_Arkansas',\n",
    "       'Buyer_Region_Colorado', 'Buyer_Region_Connecticut',\n",
    "       'Buyer_Region_Delaware', 'Buyer_Region_District of Columbia',\n",
    "       'Buyer_Region_Georgia', 'Buyer_Region_Hawaii', 'Buyer_Region_Idaho',\n",
    "       'Buyer_Region_Illinois', 'Buyer_Region_Indiana', 'Buyer_Region_Iowa',\n",
    "       'Buyer_Region_Kansas', 'Buyer_Region_Louisiana', 'Buyer_Region_Maine',\n",
    "       'Buyer_Region_Massachusetts', 'Buyer_Region_Michigan',\n",
    "       'Buyer_Region_Minnesota', 'Buyer_Region_Mississippi',\n",
    "       'Buyer_Region_Missouri', 'Buyer_Region_Montana',\n",
    "       'Buyer_Region_Nebraska', 'Buyer_Region_Nevada',\n",
    "       'Buyer_Region_New Hampshire', 'Buyer_Region_New Jersey',\n",
    "       'Buyer_Region_New Mexico', 'Buyer_Region_New York',\n",
    "       'Buyer_Region_North Carolina', 'Buyer_Region_North Dakota',\n",
    "       'Buyer_Region_Ohio', 'Buyer_Region_Oklahoma',\n",
    "       'Buyer_Region_Pennsylvania', 'Buyer_Region_Rhode Island',\n",
    "       'Buyer_Region_South Carolina', 'Buyer_Region_South Dakota',\n",
    "       'Buyer_Region_Tennessee', 'Buyer_Region_Texas', 'Buyer_Region_Utah',\n",
    "       'Buyer_Region_Vermont', 'Buyer_Region_Virginia',\n",
    "       'Buyer_Region_Washington', 'Buyer_Region_West Virginia',\n",
    "       'Buyer_Region_Wyoming'], axis=1)"
   ]
  },
  {
   "cell_type": "code",
   "execution_count": 45,
   "metadata": {
    "execution": {
     "iopub.execute_input": "2020-09-06T05:35:00.018073Z",
     "iopub.status.busy": "2020-09-06T05:35:00.017385Z",
     "iopub.status.idle": "2020-09-06T05:35:00.327165Z",
     "shell.execute_reply": "2020-09-06T05:35:00.326320Z"
    },
    "papermill": {
     "duration": 0.337201,
     "end_time": "2020-09-06T05:35:00.327347",
     "exception": false,
     "start_time": "2020-09-06T05:34:59.990146",
     "status": "completed"
    },
    "tags": []
   },
   "outputs": [
    {
     "name": "stdout",
     "output_type": "stream",
     "text": [
      "                            OLS Regression Results                            \n",
      "==============================================================================\n",
      "Dep. Variable:             Sale_Price   R-squared:                       0.835\n",
      "Model:                            OLS   Adj. R-squared:                  0.835\n",
      "Method:                 Least Squares   F-statistic:                     6958.\n",
      "Date:                Sun, 06 Sep 2020   Prob (F-statistic):               0.00\n",
      "Time:                        05:35:00   Log-Likelihood:            -4.8463e+05\n",
      "No. Observations:               79964   AIC:                         9.694e+05\n",
      "Df Residuals:                   79905   BIC:                         9.699e+05\n",
      "Df Model:                          58                                         \n",
      "Covariance Type:            nonrobust                                         \n",
      "==================================================================================================================================\n",
      "                                                                     coef    std err          t      P>|t|      [0.025      0.975]\n",
      "----------------------------------------------------------------------------------------------------------------------------------\n",
      "const                                                          -7.654e+04   1.07e+05     -0.715      0.474   -2.86e+05    1.33e+05\n",
      "Order_date                                                        -0.2596      0.004    -68.870      0.000      -0.267      -0.252\n",
      "Retail_Price                                                      -1.4688      0.462     -3.178      0.001      -2.375      -0.563\n",
      "Release_Date                                                       0.4169      0.218      1.912      0.056      -0.010       0.844\n",
      "Shoe_Size                                                          1.1651      0.161      7.226      0.000       0.849       1.481\n",
      "Sneaker_Name_Adidas Yeezy Boost 350 Low Moonrock                 512.2589     73.937      6.928      0.000     367.343     657.175\n",
      "Sneaker_Name_Adidas Yeezy Boost 350 Low Oxford Tan               510.0213     64.757      7.876      0.000     383.098     636.945\n",
      "Sneaker_Name_Adidas Yeezy Boost 350 Low Pirate Black 2015        439.1413     92.004      4.773      0.000     258.815     619.468\n",
      "Sneaker_Name_Adidas Yeezy Boost 350 Low Pirate Black 2016        462.7039     53.157      8.704      0.000     358.517     566.891\n",
      "Sneaker_Name_Adidas Yeezy Boost 350 Low Turtledove              1096.5801    104.419     10.502      0.000     891.920    1301.240\n",
      "Sneaker_Name_Adidas Yeezy Boost 350 Low V2 Beluga                190.5785     16.295     11.696      0.000     158.640     222.517\n",
      "Sneaker_Name_Adidas Yeezy Boost 350 V2 Beluga 2pt0              -395.4985     80.435     -4.917      0.000    -553.151    -237.846\n",
      "Sneaker_Name_Adidas Yeezy Boost 350 V2 Blue Tint                -417.5860     84.991     -4.913      0.000    -584.167    -251.005\n",
      "Sneaker_Name_Adidas Yeezy Boost 350 V2 Core Black Copper          38.9590     11.236      3.467      0.001      16.937      60.981\n",
      "Sneaker_Name_Adidas Yeezy Boost 350 V2 Core Black Red            318.6929     10.732     29.696      0.000     297.658     339.727\n",
      "Sneaker_Name_Adidas Yeezy Boost 350 V2 Core Black Red 2017       149.2108     19.634      7.600      0.000     110.728     187.694\n",
      "Sneaker_Name_Adidas Yeezy Boost 350 V2 Core Black White           89.5594     10.825      8.274      0.000      68.343     110.776\n",
      "Sneaker_Name_Adidas Yeezy Boost 350 V2 Cream White              -366.7486     35.228    -10.411      0.000    -435.795    -297.702\n",
      "Sneaker_Name_Adidas Yeezy Boost 350 V2 Semi Frozen Yellow       -346.0507     78.931     -4.384      0.000    -500.756    -191.346\n",
      "Sneaker_Name_Adidas Yeezy Boost 350 V2 Sesame                   -607.2750    159.362     -3.811      0.000    -919.624    -294.926\n",
      "Sneaker_Name_Adidas Yeezy Boost 350 V2 Zebra                    -265.5067     22.121    -12.002      0.000    -308.865    -222.149\n",
      "Sneaker_Name_Air Jordan 1 Retro High Off White Chicago          1102.4542     17.411     63.321      0.000    1068.329    1136.579\n",
      "Sneaker_Name_Air Jordan 1 Retro High Off White University Blue   109.9416     45.995      2.390      0.017      19.792     200.091\n",
      "Sneaker_Name_Air Jordan 1 Retro High Off White White            1115.8865     22.605     49.365      0.000    1071.581    1160.192\n",
      "Sneaker_Name_Nike Air Force 1 Low Off White Black White         -288.8476     94.222     -3.066      0.002    -473.523    -104.172\n",
      "Sneaker_Name_Nike Air Force 1 Low Off White Volt                -410.2460     94.218     -4.354      0.000    -594.913    -225.579\n",
      "Sneaker_Name_Nike Air Force 1 Low Virgil Abloh Off White AF100   237.9717     24.970      9.530      0.000     189.030     286.913\n",
      "Sneaker_Name_Nike Air Max 90 Off White Black                    -277.2978    109.727     -2.527      0.012    -492.363     -62.233\n",
      "Sneaker_Name_Nike Air Max 90 Off White Desert Ore               -296.3952    109.740     -2.701      0.007    -511.485     -81.305\n",
      "Sneaker_Name_Nike Air Max 97 Off White                           -15.0460      7.614     -1.976      0.048     -29.970      -0.122\n",
      "Sneaker_Name_Nike Air Max 97 Off White Black                     -94.1924     71.774     -1.312      0.189    -234.869      46.484\n",
      "Sneaker_Name_Nike Air Max 97 Off White Elemental Rose Queen      140.4651     60.219      2.333      0.020      22.436     258.495\n",
      "Sneaker_Name_Nike Air Max 97 Off White Menta                       0.0565     71.712      0.001      0.999    -140.499     140.612\n",
      "Sneaker_Name_Nike Air Presto Off White                           522.4967      6.636     78.736      0.000     509.490     535.503\n",
      "Sneaker_Name_Nike Air Presto Off White Black 2018                -57.3560     67.221     -0.853      0.394    -189.109      74.397\n",
      "Sneaker_Name_Nike Air Presto Off White White 2018               -150.0793     68.744     -2.183      0.029    -284.818     -15.341\n",
      "Sneaker_Name_Nike Air VaporMax Off White                         277.7330     44.605      6.227      0.000     190.308     365.159\n",
      "Sneaker_Name_Nike Air VaporMax Off White 2018                    -40.4783      5.329     -7.597      0.000     -50.922     -30.034\n",
      "Sneaker_Name_Nike Blazer Mid Off White                           -58.1230     13.031     -4.460      0.000     -83.664     -32.582\n",
      "Sneaker_Name_Nike Blazer Mid Off White All Hallows Eve          -237.5394     95.840     -2.479      0.013    -425.384     -49.694\n",
      "Sneaker_Name_Nike Blazer Mid Off White Grim Reaper              -315.3744     95.844     -3.291      0.001    -503.227    -127.521\n",
      "Sneaker_Name_Nike Blazer Mid Off White Wolf Grey                 -40.6624     87.566     -0.464      0.642    -212.291     130.966\n",
      "Sneaker_Name_Nike React Hyperdunk 2017 Flyknit Off White        -173.8674     11.302    -15.384      0.000    -196.019    -151.716\n",
      "Sneaker_Name_Nike Zoom Fly Mercurial Off White Black            -365.5039     39.675     -9.212      0.000    -443.267    -287.741\n",
      "Sneaker_Name_Nike Zoom Fly Mercurial Off White Total Orange     -430.4858     39.677    -10.850      0.000    -508.252    -352.719\n",
      "Sneaker_Name_Nike Zoom Fly Off White                            -178.6969      7.628    -23.425      0.000    -193.649    -163.745\n",
      "Sneaker_Name_Nike Zoom Fly Off White Black Silver               -460.0266     79.625     -5.777      0.000    -616.090    -303.963\n",
      "Sneaker_Name_Nike Zoom Fly Off White Pink                       -525.2726     89.631     -5.860      0.000    -700.949    -349.596\n",
      "Sneaker_Name_adidas Yeezy Boost 350 V2 Butter                   -571.8653    127.581     -4.482      0.000    -821.923    -321.807\n",
      "Sneaker_Name_adidas Yeezy Boost 350 V2 Static                   -592.3743    166.764     -3.552      0.000    -919.232    -265.517\n",
      "Sneaker_Name_adidas Yeezy Boost 350 V2 Static Reflective        -408.8262    166.549     -2.455      0.014    -735.261     -82.391\n",
      "Buyer_Region_Arizona                                               4.7653      3.129      1.523      0.128      -1.368      10.899\n",
      "Buyer_Region_California                                            4.3967      0.963      4.566      0.000       2.510       6.284\n",
      "Buyer_Region_Florida                                               8.0794      1.523      5.304      0.000       5.094      11.065\n",
      "Buyer_Region_Kentucky                                             18.8544      5.262      3.583      0.000       8.542      29.167\n",
      "Buyer_Region_Maryland                                             -7.5240      2.714     -2.772      0.006     -12.844      -2.204\n",
      "Buyer_Region_Oregon                                                6.3732      1.453      4.386      0.000       3.525       9.222\n",
      "Buyer_Region_Wisconsin                                             8.1763      4.038      2.025      0.043       0.262      16.091\n",
      "Brand_ Yeezy                                                   -3.819e+04   5.34e+04     -0.715      0.475   -1.43e+05    6.66e+04\n",
      "Brand_Off-White                                                -3.834e+04   5.35e+04     -0.716      0.474   -1.43e+05    6.66e+04\n",
      "==============================================================================\n",
      "Omnibus:                    57408.622   Durbin-Watson:                   2.010\n",
      "Prob(Omnibus):                  0.000   Jarque-Bera (JB):          4552050.687\n",
      "Skew:                           2.769   Prob(JB):                         0.00\n",
      "Kurtosis:                      39.545   Cond. No.                     2.76e+15\n",
      "==============================================================================\n",
      "\n",
      "Warnings:\n",
      "[1] Standard Errors assume that the covariance matrix of the errors is correctly specified.\n",
      "[2] The smallest eigenvalue is 1.14e-14. This might indicate that there are\n",
      "strong multicollinearity problems or that the design matrix is singular.\n"
     ]
    }
   ],
   "source": [
    "X_train_new = build_model(X_train_new,y_train)"
   ]
  },
  {
   "cell_type": "markdown",
   "execution_count": null,
   "metadata": {
    "papermill": {
     "duration": 0.023274,
     "end_time": "2020-09-06T05:35:00.375356",
     "exception": false,
     "start_time": "2020-09-06T05:35:00.352082",
     "status": "completed"
    },
    "tags": []
   },
   "source": [
    "### Model 4"
   ]
  },
  {
   "cell_type": "code",
   "execution_count": 46,
   "metadata": {
    "execution": {
     "iopub.execute_input": "2020-09-06T05:35:00.437617Z",
     "iopub.status.busy": "2020-09-06T05:35:00.436963Z",
     "iopub.status.idle": "2020-09-06T05:35:00.440119Z",
     "shell.execute_reply": "2020-09-06T05:35:00.439615Z"
    },
    "papermill": {
     "duration": 0.041553,
     "end_time": "2020-09-06T05:35:00.440239",
     "exception": false,
     "start_time": "2020-09-06T05:35:00.398686",
     "status": "completed"
    },
    "tags": []
   },
   "outputs": [],
   "source": [
    "# Dropping brand names because of collinearity\n",
    "X_train_new = X_train_new.drop(['Brand_Off-White', 'Brand_ Yeezy'], axis=1)"
   ]
  },
  {
   "cell_type": "code",
   "execution_count": 47,
   "metadata": {
    "execution": {
     "iopub.execute_input": "2020-09-06T05:35:00.491398Z",
     "iopub.status.busy": "2020-09-06T05:35:00.490791Z",
     "iopub.status.idle": "2020-09-06T05:35:00.790441Z",
     "shell.execute_reply": "2020-09-06T05:35:00.789875Z"
    },
    "papermill": {
     "duration": 0.326856,
     "end_time": "2020-09-06T05:35:00.790556",
     "exception": false,
     "start_time": "2020-09-06T05:35:00.463700",
     "status": "completed"
    },
    "tags": []
   },
   "outputs": [
    {
     "name": "stdout",
     "output_type": "stream",
     "text": [
      "                            OLS Regression Results                            \n",
      "==============================================================================\n",
      "Dep. Variable:             Sale_Price   R-squared:                       0.835\n",
      "Model:                            OLS   Adj. R-squared:                  0.835\n",
      "Method:                 Least Squares   F-statistic:                     7080.\n",
      "Date:                Sun, 06 Sep 2020   Prob (F-statistic):               0.00\n",
      "Time:                        05:35:00   Log-Likelihood:            -4.8463e+05\n",
      "No. Observations:               79964   AIC:                         9.694e+05\n",
      "Df Residuals:                   79906   BIC:                         9.699e+05\n",
      "Df Model:                          57                                         \n",
      "Covariance Type:            nonrobust                                         \n",
      "==================================================================================================================================\n",
      "                                                                     coef    std err          t      P>|t|      [0.025      0.975]\n",
      "----------------------------------------------------------------------------------------------------------------------------------\n",
      "const                                                           1.391e+05   1.49e+04      9.328      0.000     1.1e+05    1.68e+05\n",
      "Order_date                                                        -0.2596      0.004    -68.874      0.000      -0.267      -0.252\n",
      "Retail_Price                                                      -0.7423      0.067    -11.018      0.000      -0.874      -0.610\n",
      "Release_Date                                                       0.0720      0.020      3.622      0.000       0.033       0.111\n",
      "Shoe_Size                                                          1.1649      0.161      7.225      0.000       0.849       1.481\n",
      "Sneaker_Name_Adidas Yeezy Boost 350 Low Moonrock                 398.5921     18.671     21.348      0.000     361.997     435.187\n",
      "Sneaker_Name_Adidas Yeezy Boost 350 Low Oxford Tan               411.8748     19.433     21.195      0.000     373.786     449.963\n",
      "Sneaker_Name_Adidas Yeezy Boost 350 Low Pirate Black 2015        296.5012     20.122     14.735      0.000     257.063     335.940\n",
      "Sneaker_Name_Adidas Yeezy Boost 350 Low Pirate Black 2016        382.4924     16.643     22.982      0.000     349.872     415.113\n",
      "Sneaker_Name_Adidas Yeezy Boost 350 Low Turtledove               934.6252     22.650     41.265      0.000     890.232     979.018\n",
      "Sneaker_Name_Adidas Yeezy Boost 350 Low V2 Beluga                171.0283     10.683     16.010      0.000     150.090     191.966\n",
      "Sneaker_Name_Adidas Yeezy Boost 350 V2 Beluga 2pt0              -267.7694      2.654   -100.887      0.000    -272.971    -262.567\n",
      "Sneaker_Name_Adidas Yeezy Boost 350 V2 Blue Tint                -282.6132      2.615   -108.053      0.000    -287.740    -277.487\n",
      "Sneaker_Name_Adidas Yeezy Boost 350 V2 Core Black Copper          40.1034     11.213      3.577      0.000      18.127      62.080\n",
      "Sneaker_Name_Adidas Yeezy Boost 350 V2 Core Black Red            319.8356     10.708     29.869      0.000     298.848     340.823\n",
      "Sneaker_Name_Adidas Yeezy Boost 350 V2 Core Black Red 2017       177.9503      7.636     23.304      0.000     162.984     192.917\n",
      "Sneaker_Name_Adidas Yeezy Boost 350 V2 Core Black White           98.9832      9.055     10.931      0.000      81.235     116.731\n",
      "Sneaker_Name_Adidas Yeezy Boost 350 V2 Cream White              -311.4480      5.439    -57.264      0.000    -322.108    -300.788\n",
      "Sneaker_Name_Adidas Yeezy Boost 350 V2 Semi Frozen Yellow       -220.7314      2.988    -73.870      0.000    -226.588    -214.875\n",
      "Sneaker_Name_Adidas Yeezy Boost 350 V2 Sesame                   -354.3365      7.256    -48.831      0.000    -368.559    -340.114\n",
      "Sneaker_Name_Adidas Yeezy Boost 350 V2 Zebra                    -231.9358      6.551    -35.404      0.000    -244.776    -219.095\n",
      "Sneaker_Name_Air Jordan 1 Retro High Off White Chicago          1075.9811      5.051    213.027      0.000    1066.081    1085.881\n",
      "Sneaker_Name_Air Jordan 1 Retro High Off White University Blue   182.4585      5.691     32.063      0.000     171.305     193.612\n",
      "Sneaker_Name_Air Jordan 1 Retro High Off White White            1149.7741      7.488    153.544      0.000    1135.097    1164.451\n",
      "Sneaker_Name_Nike Air Force 1 Low Off White Black White         -140.0609     10.416    -13.446      0.000    -160.477    -119.645\n",
      "Sneaker_Name_Nike Air Force 1 Low Off White Volt                -261.4564     10.363    -25.231      0.000    -281.767    -241.146\n",
      "Sneaker_Name_Nike Air Force 1 Low Virgil Abloh Off White AF100   259.8698     20.822     12.480      0.000     219.059     300.681\n",
      "Sneaker_Name_Nike Air Max 90 Off White Black                    -104.0000     11.975     -8.685      0.000    -127.472     -80.529\n",
      "Sneaker_Name_Nike Air Max 90 Off White Desert Ore               -123.0960     12.084    -10.186      0.000    -146.782     -99.411\n",
      "Sneaker_Name_Nike Air Max 97 Off White                           -23.2378      5.603     -4.147      0.000     -34.220     -12.256\n",
      "Sneaker_Name_Nike Air Max 97 Off White Black                      18.6839     10.215      1.829      0.067      -1.337      38.705\n",
      "Sneaker_Name_Nike Air Max 97 Off White Elemental Rose Queen      234.7122     10.379     22.615      0.000     214.370     255.054\n",
      "Sneaker_Name_Nike Air Max 97 Off White Menta                     112.9334      9.771     11.558      0.000      93.782     132.085\n",
      "Sneaker_Name_Nike Air Presto Off White                           517.8161      5.946     87.081      0.000     506.161     529.471\n",
      "Sneaker_Name_Nike Air Presto Off White Black 2018                 48.6834      8.028      6.064      0.000      32.948      64.419\n",
      "Sneaker_Name_Nike Air Presto Off White White 2018                -41.6255      8.148     -5.109      0.000     -57.595     -25.656\n",
      "Sneaker_Name_Nike Air VaporMax Off White                         207.6750      6.734     30.842      0.000     194.477     220.873\n",
      "Sneaker_Name_Nike Air VaporMax Off White 2018                    -35.6868      4.393     -8.123      0.000     -44.297     -27.076\n",
      "Sneaker_Name_Nike Blazer Mid Off White                           -41.0114      7.337     -5.590      0.000     -55.391     -26.631\n",
      "Sneaker_Name_Nike Blazer Mid Off White All Hallows Eve           -86.2529     10.896     -7.916      0.000    -107.609     -64.897\n",
      "Sneaker_Name_Nike Blazer Mid Off White Grim Reaper              -164.0867     10.925    -15.019      0.000    -185.500    -142.674\n",
      "Sneaker_Name_Nike Blazer Mid Off White Wolf Grey                  97.1670     11.938      8.140      0.000      73.769     120.565\n",
      "Sneaker_Name_Nike React Hyperdunk 2017 Flyknit Off White        -189.3240      5.753    -32.910      0.000    -200.600    -178.048\n",
      "Sneaker_Name_Nike Zoom Fly Mercurial Off White Black            -303.3520      6.627    -45.777      0.000    -316.340    -290.364\n",
      "Sneaker_Name_Nike Zoom Fly Mercurial Off White Total Orange     -368.3337      6.636    -55.501      0.000    -381.341    -355.326\n",
      "Sneaker_Name_Nike Zoom Fly Off White                            -172.3616      6.503    -26.503      0.000    -185.108    -159.615\n",
      "Sneaker_Name_Nike Zoom Fly Off White Black Silver               -334.3452      9.103    -36.730      0.000    -352.187    -316.504\n",
      "Sneaker_Name_Nike Zoom Fly Off White Pink                       -383.7237      9.839    -39.002      0.000    -403.007    -364.440\n",
      "Sneaker_Name_adidas Yeezy Boost 350 V2 Butter                   -369.2888      4.555    -81.076      0.000    -378.216    -360.361\n",
      "Sneaker_Name_adidas Yeezy Boost 350 V2 Static                   -327.7108      7.915    -41.405      0.000    -343.224    -312.198\n",
      "Sneaker_Name_adidas Yeezy Boost 350 V2 Static Reflective        -144.5120      8.002    -18.061      0.000    -160.195    -128.829\n",
      "Buyer_Region_Arizona                                               4.7616      3.130      1.522      0.128      -1.372      10.895\n",
      "Buyer_Region_California                                            4.4062      0.963      4.576      0.000       2.519       6.293\n",
      "Buyer_Region_Florida                                               8.0754      1.523      5.302      0.000       5.090      11.061\n",
      "Buyer_Region_Kentucky                                             18.8564      5.262      3.584      0.000       8.544      29.169\n",
      "Buyer_Region_Maryland                                             -7.5248      2.714     -2.772      0.006     -12.845      -2.205\n",
      "Buyer_Region_Oregon                                                6.3980      1.453      4.403      0.000       3.550       9.246\n",
      "Buyer_Region_Wisconsin                                             8.1593      4.038      2.021      0.043       0.245      16.074\n",
      "==============================================================================\n",
      "Omnibus:                    57448.574   Durbin-Watson:                   2.010\n",
      "Prob(Omnibus):                  0.000   Jarque-Bera (JB):          4555130.556\n",
      "Skew:                           2.772   Prob(JB):                         0.00\n",
      "Kurtosis:                      39.557   Cond. No.                     4.23e+10\n",
      "==============================================================================\n",
      "\n",
      "Warnings:\n",
      "[1] Standard Errors assume that the covariance matrix of the errors is correctly specified.\n",
      "[2] The condition number is large, 4.23e+10. This might indicate that there are\n",
      "strong multicollinearity or other numerical problems.\n"
     ]
    }
   ],
   "source": [
    "best_X_train = build_model(X_train_new,y_train)"
   ]
  },
  {
   "cell_type": "code",
   "execution_count": 48,
   "metadata": {
    "execution": {
     "iopub.execute_input": "2020-09-06T05:35:00.844428Z",
     "iopub.status.busy": "2020-09-06T05:35:00.843644Z",
     "iopub.status.idle": "2020-09-06T05:35:12.643275Z",
     "shell.execute_reply": "2020-09-06T05:35:12.644020Z"
    },
    "papermill": {
     "duration": 11.829554,
     "end_time": "2020-09-06T05:35:12.644194",
     "exception": false,
     "start_time": "2020-09-06T05:35:00.814640",
     "status": "completed"
    },
    "tags": []
   },
   "outputs": [
    {
     "data": {
      "text/html": [
       "<div>\n",
       "<style scoped>\n",
       "    .dataframe tbody tr th:only-of-type {\n",
       "        vertical-align: middle;\n",
       "    }\n",
       "\n",
       "    .dataframe tbody tr th {\n",
       "        vertical-align: top;\n",
       "    }\n",
       "\n",
       "    .dataframe thead th {\n",
       "        text-align: right;\n",
       "    }\n",
       "</style>\n",
       "<table border=\"1\" class=\"dataframe\">\n",
       "  <thead>\n",
       "    <tr style=\"text-align: right;\">\n",
       "      <th></th>\n",
       "      <th>Features</th>\n",
       "      <th>VIF</th>\n",
       "    </tr>\n",
       "  </thead>\n",
       "  <tbody>\n",
       "    <tr>\n",
       "      <th>0</th>\n",
       "      <td>const</td>\n",
       "      <td>1.650963e+09</td>\n",
       "    </tr>\n",
       "    <tr>\n",
       "      <th>3</th>\n",
       "      <td>Release_Date</td>\n",
       "      <td>1.626700e+02</td>\n",
       "    </tr>\n",
       "    <tr>\n",
       "      <th>20</th>\n",
       "      <td>Sneaker_Name_Adidas Yeezy Boost 350 V2 Zebra</td>\n",
       "      <td>2.898000e+01</td>\n",
       "    </tr>\n",
       "    <tr>\n",
       "      <th>49</th>\n",
       "      <td>Sneaker_Name_adidas Yeezy Boost 350 V2 Static</td>\n",
       "      <td>2.175000e+01</td>\n",
       "    </tr>\n",
       "    <tr>\n",
       "      <th>2</th>\n",
       "      <td>Retail_Price</td>\n",
       "      <td>2.137000e+01</td>\n",
       "    </tr>\n",
       "    <tr>\n",
       "      <th>19</th>\n",
       "      <td>Sneaker_Name_Adidas Yeezy Boost 350 V2 Sesame</td>\n",
       "      <td>2.063000e+01</td>\n",
       "    </tr>\n",
       "    <tr>\n",
       "      <th>17</th>\n",
       "      <td>Sneaker_Name_Adidas Yeezy Boost 350 V2 Cream W...</td>\n",
       "      <td>1.836000e+01</td>\n",
       "    </tr>\n",
       "    <tr>\n",
       "      <th>48</th>\n",
       "      <td>Sneaker_Name_adidas Yeezy Boost 350 V2 Butter</td>\n",
       "      <td>1.554000e+01</td>\n",
       "    </tr>\n",
       "    <tr>\n",
       "      <th>50</th>\n",
       "      <td>Sneaker_Name_adidas Yeezy Boost 350 V2 Static ...</td>\n",
       "      <td>1.479000e+01</td>\n",
       "    </tr>\n",
       "    <tr>\n",
       "      <th>39</th>\n",
       "      <td>Sneaker_Name_Nike Blazer Mid Off White All Hal...</td>\n",
       "      <td>1.264000e+01</td>\n",
       "    </tr>\n",
       "    <tr>\n",
       "      <th>40</th>\n",
       "      <td>Sneaker_Name_Nike Blazer Mid Off White Grim Re...</td>\n",
       "      <td>1.189000e+01</td>\n",
       "    </tr>\n",
       "    <tr>\n",
       "      <th>22</th>\n",
       "      <td>Sneaker_Name_Air Jordan 1 Retro High Off White...</td>\n",
       "      <td>1.060000e+01</td>\n",
       "    </tr>\n",
       "    <tr>\n",
       "      <th>47</th>\n",
       "      <td>Sneaker_Name_Nike Zoom Fly Off White Pink</td>\n",
       "      <td>9.590000e+00</td>\n",
       "    </tr>\n",
       "    <tr>\n",
       "      <th>35</th>\n",
       "      <td>Sneaker_Name_Nike Air Presto Off White White 2018</td>\n",
       "      <td>9.080000e+00</td>\n",
       "    </tr>\n",
       "    <tr>\n",
       "      <th>34</th>\n",
       "      <td>Sneaker_Name_Nike Air Presto Off White Black 2018</td>\n",
       "      <td>8.810000e+00</td>\n",
       "    </tr>\n",
       "    <tr>\n",
       "      <th>25</th>\n",
       "      <td>Sneaker_Name_Nike Air Force 1 Low Off White Volt</td>\n",
       "      <td>8.210000e+00</td>\n",
       "    </tr>\n",
       "    <tr>\n",
       "      <th>24</th>\n",
       "      <td>Sneaker_Name_Nike Air Force 1 Low Off White Bl...</td>\n",
       "      <td>7.690000e+00</td>\n",
       "    </tr>\n",
       "    <tr>\n",
       "      <th>27</th>\n",
       "      <td>Sneaker_Name_Nike Air Max 90 Off White Black</td>\n",
       "      <td>7.660000e+00</td>\n",
       "    </tr>\n",
       "    <tr>\n",
       "      <th>46</th>\n",
       "      <td>Sneaker_Name_Nike Zoom Fly Off White Black Silver</td>\n",
       "      <td>7.440000e+00</td>\n",
       "    </tr>\n",
       "    <tr>\n",
       "      <th>28</th>\n",
       "      <td>Sneaker_Name_Nike Air Max 90 Off White Desert Ore</td>\n",
       "      <td>6.820000e+00</td>\n",
       "    </tr>\n",
       "    <tr>\n",
       "      <th>11</th>\n",
       "      <td>Sneaker_Name_Adidas Yeezy Boost 350 V2 Beluga ...</td>\n",
       "      <td>4.870000e+00</td>\n",
       "    </tr>\n",
       "    <tr>\n",
       "      <th>12</th>\n",
       "      <td>Sneaker_Name_Adidas Yeezy Boost 350 V2 Blue Tint</td>\n",
       "      <td>4.300000e+00</td>\n",
       "    </tr>\n",
       "    <tr>\n",
       "      <th>15</th>\n",
       "      <td>Sneaker_Name_Adidas Yeezy Boost 350 V2 Core Bl...</td>\n",
       "      <td>4.250000e+00</td>\n",
       "    </tr>\n",
       "    <tr>\n",
       "      <th>10</th>\n",
       "      <td>Sneaker_Name_Adidas Yeezy Boost 350 Low V2 Beluga</td>\n",
       "      <td>4.250000e+00</td>\n",
       "    </tr>\n",
       "    <tr>\n",
       "      <th>16</th>\n",
       "      <td>Sneaker_Name_Adidas Yeezy Boost 350 V2 Core Bl...</td>\n",
       "      <td>3.690000e+00</td>\n",
       "    </tr>\n",
       "    <tr>\n",
       "      <th>41</th>\n",
       "      <td>Sneaker_Name_Nike Blazer Mid Off White Wolf Grey</td>\n",
       "      <td>3.080000e+00</td>\n",
       "    </tr>\n",
       "    <tr>\n",
       "      <th>18</th>\n",
       "      <td>Sneaker_Name_Adidas Yeezy Boost 350 V2 Semi Fr...</td>\n",
       "      <td>3.040000e+00</td>\n",
       "    </tr>\n",
       "    <tr>\n",
       "      <th>7</th>\n",
       "      <td>Sneaker_Name_Adidas Yeezy Boost 350 Low Pirate...</td>\n",
       "      <td>2.970000e+00</td>\n",
       "    </tr>\n",
       "    <tr>\n",
       "      <th>5</th>\n",
       "      <td>Sneaker_Name_Adidas Yeezy Boost 350 Low Moonrock</td>\n",
       "      <td>2.650000e+00</td>\n",
       "    </tr>\n",
       "    <tr>\n",
       "      <th>32</th>\n",
       "      <td>Sneaker_Name_Nike Air Max 97 Off White Menta</td>\n",
       "      <td>2.520000e+00</td>\n",
       "    </tr>\n",
       "    <tr>\n",
       "      <th>9</th>\n",
       "      <td>Sneaker_Name_Adidas Yeezy Boost 350 Low Turtle...</td>\n",
       "      <td>2.480000e+00</td>\n",
       "    </tr>\n",
       "    <tr>\n",
       "      <th>8</th>\n",
       "      <td>Sneaker_Name_Adidas Yeezy Boost 350 Low Pirate...</td>\n",
       "      <td>2.470000e+00</td>\n",
       "    </tr>\n",
       "    <tr>\n",
       "      <th>14</th>\n",
       "      <td>Sneaker_Name_Adidas Yeezy Boost 350 V2 Core Bl...</td>\n",
       "      <td>2.410000e+00</td>\n",
       "    </tr>\n",
       "    <tr>\n",
       "      <th>30</th>\n",
       "      <td>Sneaker_Name_Nike Air Max 97 Off White Black</td>\n",
       "      <td>2.220000e+00</td>\n",
       "    </tr>\n",
       "    <tr>\n",
       "      <th>37</th>\n",
       "      <td>Sneaker_Name_Nike Air VaporMax Off White 2018</td>\n",
       "      <td>2.220000e+00</td>\n",
       "    </tr>\n",
       "    <tr>\n",
       "      <th>1</th>\n",
       "      <td>Order_date</td>\n",
       "      <td>2.190000e+00</td>\n",
       "    </tr>\n",
       "    <tr>\n",
       "      <th>13</th>\n",
       "      <td>Sneaker_Name_Adidas Yeezy Boost 350 V2 Core Bl...</td>\n",
       "      <td>2.140000e+00</td>\n",
       "    </tr>\n",
       "    <tr>\n",
       "      <th>43</th>\n",
       "      <td>Sneaker_Name_Nike Zoom Fly Mercurial Off White...</td>\n",
       "      <td>2.120000e+00</td>\n",
       "    </tr>\n",
       "    <tr>\n",
       "      <th>44</th>\n",
       "      <td>Sneaker_Name_Nike Zoom Fly Mercurial Off White...</td>\n",
       "      <td>2.120000e+00</td>\n",
       "    </tr>\n",
       "    <tr>\n",
       "      <th>6</th>\n",
       "      <td>Sneaker_Name_Adidas Yeezy Boost 350 Low Oxford...</td>\n",
       "      <td>2.030000e+00</td>\n",
       "    </tr>\n",
       "    <tr>\n",
       "      <th>38</th>\n",
       "      <td>Sneaker_Name_Nike Blazer Mid Off White</td>\n",
       "      <td>2.000000e+00</td>\n",
       "    </tr>\n",
       "    <tr>\n",
       "      <th>36</th>\n",
       "      <td>Sneaker_Name_Nike Air VaporMax Off White</td>\n",
       "      <td>1.810000e+00</td>\n",
       "    </tr>\n",
       "    <tr>\n",
       "      <th>31</th>\n",
       "      <td>Sneaker_Name_Nike Air Max 97 Off White Element...</td>\n",
       "      <td>1.670000e+00</td>\n",
       "    </tr>\n",
       "    <tr>\n",
       "      <th>33</th>\n",
       "      <td>Sneaker_Name_Nike Air Presto Off White</td>\n",
       "      <td>1.580000e+00</td>\n",
       "    </tr>\n",
       "    <tr>\n",
       "      <th>21</th>\n",
       "      <td>Sneaker_Name_Air Jordan 1 Retro High Off White...</td>\n",
       "      <td>1.400000e+00</td>\n",
       "    </tr>\n",
       "    <tr>\n",
       "      <th>45</th>\n",
       "      <td>Sneaker_Name_Nike Zoom Fly Off White</td>\n",
       "      <td>1.350000e+00</td>\n",
       "    </tr>\n",
       "    <tr>\n",
       "      <th>23</th>\n",
       "      <td>Sneaker_Name_Air Jordan 1 Retro High Off White...</td>\n",
       "      <td>1.300000e+00</td>\n",
       "    </tr>\n",
       "    <tr>\n",
       "      <th>29</th>\n",
       "      <td>Sneaker_Name_Nike Air Max 97 Off White</td>\n",
       "      <td>1.260000e+00</td>\n",
       "    </tr>\n",
       "    <tr>\n",
       "      <th>42</th>\n",
       "      <td>Sneaker_Name_Nike React Hyperdunk 2017 Flyknit...</td>\n",
       "      <td>1.200000e+00</td>\n",
       "    </tr>\n",
       "    <tr>\n",
       "      <th>56</th>\n",
       "      <td>Buyer_Region_Oregon</td>\n",
       "      <td>1.120000e+00</td>\n",
       "    </tr>\n",
       "    <tr>\n",
       "      <th>52</th>\n",
       "      <td>Buyer_Region_California</td>\n",
       "      <td>1.070000e+00</td>\n",
       "    </tr>\n",
       "    <tr>\n",
       "      <th>26</th>\n",
       "      <td>Sneaker_Name_Nike Air Force 1 Low Virgil Abloh...</td>\n",
       "      <td>1.050000e+00</td>\n",
       "    </tr>\n",
       "    <tr>\n",
       "      <th>4</th>\n",
       "      <td>Shoe_Size</td>\n",
       "      <td>1.050000e+00</td>\n",
       "    </tr>\n",
       "    <tr>\n",
       "      <th>53</th>\n",
       "      <td>Buyer_Region_Florida</td>\n",
       "      <td>1.040000e+00</td>\n",
       "    </tr>\n",
       "    <tr>\n",
       "      <th>51</th>\n",
       "      <td>Buyer_Region_Arizona</td>\n",
       "      <td>1.010000e+00</td>\n",
       "    </tr>\n",
       "    <tr>\n",
       "      <th>54</th>\n",
       "      <td>Buyer_Region_Kentucky</td>\n",
       "      <td>1.010000e+00</td>\n",
       "    </tr>\n",
       "    <tr>\n",
       "      <th>55</th>\n",
       "      <td>Buyer_Region_Maryland</td>\n",
       "      <td>1.010000e+00</td>\n",
       "    </tr>\n",
       "    <tr>\n",
       "      <th>57</th>\n",
       "      <td>Buyer_Region_Wisconsin</td>\n",
       "      <td>1.010000e+00</td>\n",
       "    </tr>\n",
       "  </tbody>\n",
       "</table>\n",
       "</div>"
      ],
      "text/plain": [
       "                                             Features           VIF\n",
       "0                                               const  1.650963e+09\n",
       "3                                        Release_Date  1.626700e+02\n",
       "20       Sneaker_Name_Adidas Yeezy Boost 350 V2 Zebra  2.898000e+01\n",
       "49      Sneaker_Name_adidas Yeezy Boost 350 V2 Static  2.175000e+01\n",
       "2                                        Retail_Price  2.137000e+01\n",
       "19      Sneaker_Name_Adidas Yeezy Boost 350 V2 Sesame  2.063000e+01\n",
       "17  Sneaker_Name_Adidas Yeezy Boost 350 V2 Cream W...  1.836000e+01\n",
       "48      Sneaker_Name_adidas Yeezy Boost 350 V2 Butter  1.554000e+01\n",
       "50  Sneaker_Name_adidas Yeezy Boost 350 V2 Static ...  1.479000e+01\n",
       "39  Sneaker_Name_Nike Blazer Mid Off White All Hal...  1.264000e+01\n",
       "40  Sneaker_Name_Nike Blazer Mid Off White Grim Re...  1.189000e+01\n",
       "22  Sneaker_Name_Air Jordan 1 Retro High Off White...  1.060000e+01\n",
       "47          Sneaker_Name_Nike Zoom Fly Off White Pink  9.590000e+00\n",
       "35  Sneaker_Name_Nike Air Presto Off White White 2018  9.080000e+00\n",
       "34  Sneaker_Name_Nike Air Presto Off White Black 2018  8.810000e+00\n",
       "25   Sneaker_Name_Nike Air Force 1 Low Off White Volt  8.210000e+00\n",
       "24  Sneaker_Name_Nike Air Force 1 Low Off White Bl...  7.690000e+00\n",
       "27       Sneaker_Name_Nike Air Max 90 Off White Black  7.660000e+00\n",
       "46  Sneaker_Name_Nike Zoom Fly Off White Black Silver  7.440000e+00\n",
       "28  Sneaker_Name_Nike Air Max 90 Off White Desert Ore  6.820000e+00\n",
       "11  Sneaker_Name_Adidas Yeezy Boost 350 V2 Beluga ...  4.870000e+00\n",
       "12   Sneaker_Name_Adidas Yeezy Boost 350 V2 Blue Tint  4.300000e+00\n",
       "15  Sneaker_Name_Adidas Yeezy Boost 350 V2 Core Bl...  4.250000e+00\n",
       "10  Sneaker_Name_Adidas Yeezy Boost 350 Low V2 Beluga  4.250000e+00\n",
       "16  Sneaker_Name_Adidas Yeezy Boost 350 V2 Core Bl...  3.690000e+00\n",
       "41   Sneaker_Name_Nike Blazer Mid Off White Wolf Grey  3.080000e+00\n",
       "18  Sneaker_Name_Adidas Yeezy Boost 350 V2 Semi Fr...  3.040000e+00\n",
       "7   Sneaker_Name_Adidas Yeezy Boost 350 Low Pirate...  2.970000e+00\n",
       "5    Sneaker_Name_Adidas Yeezy Boost 350 Low Moonrock  2.650000e+00\n",
       "32       Sneaker_Name_Nike Air Max 97 Off White Menta  2.520000e+00\n",
       "9   Sneaker_Name_Adidas Yeezy Boost 350 Low Turtle...  2.480000e+00\n",
       "8   Sneaker_Name_Adidas Yeezy Boost 350 Low Pirate...  2.470000e+00\n",
       "14  Sneaker_Name_Adidas Yeezy Boost 350 V2 Core Bl...  2.410000e+00\n",
       "30       Sneaker_Name_Nike Air Max 97 Off White Black  2.220000e+00\n",
       "37      Sneaker_Name_Nike Air VaporMax Off White 2018  2.220000e+00\n",
       "1                                          Order_date  2.190000e+00\n",
       "13  Sneaker_Name_Adidas Yeezy Boost 350 V2 Core Bl...  2.140000e+00\n",
       "43  Sneaker_Name_Nike Zoom Fly Mercurial Off White...  2.120000e+00\n",
       "44  Sneaker_Name_Nike Zoom Fly Mercurial Off White...  2.120000e+00\n",
       "6   Sneaker_Name_Adidas Yeezy Boost 350 Low Oxford...  2.030000e+00\n",
       "38             Sneaker_Name_Nike Blazer Mid Off White  2.000000e+00\n",
       "36           Sneaker_Name_Nike Air VaporMax Off White  1.810000e+00\n",
       "31  Sneaker_Name_Nike Air Max 97 Off White Element...  1.670000e+00\n",
       "33             Sneaker_Name_Nike Air Presto Off White  1.580000e+00\n",
       "21  Sneaker_Name_Air Jordan 1 Retro High Off White...  1.400000e+00\n",
       "45               Sneaker_Name_Nike Zoom Fly Off White  1.350000e+00\n",
       "23  Sneaker_Name_Air Jordan 1 Retro High Off White...  1.300000e+00\n",
       "29             Sneaker_Name_Nike Air Max 97 Off White  1.260000e+00\n",
       "42  Sneaker_Name_Nike React Hyperdunk 2017 Flyknit...  1.200000e+00\n",
       "56                                Buyer_Region_Oregon  1.120000e+00\n",
       "52                            Buyer_Region_California  1.070000e+00\n",
       "26  Sneaker_Name_Nike Air Force 1 Low Virgil Abloh...  1.050000e+00\n",
       "4                                           Shoe_Size  1.050000e+00\n",
       "53                               Buyer_Region_Florida  1.040000e+00\n",
       "51                               Buyer_Region_Arizona  1.010000e+00\n",
       "54                              Buyer_Region_Kentucky  1.010000e+00\n",
       "55                              Buyer_Region_Maryland  1.010000e+00\n",
       "57                             Buyer_Region_Wisconsin  1.010000e+00"
      ]
     },
     "execution_count": 48,
     "metadata": {},
     "output_type": "execute_result"
    }
   ],
   "source": [
    "bruv = checkVIF(best_X_train)\n",
    "bruv"
   ]
  },
  {
   "cell_type": "markdown",
   "execution_count": null,
   "metadata": {
    "papermill": {
     "duration": 0.023997,
     "end_time": "2020-09-06T05:35:12.697709",
     "exception": false,
     "start_time": "2020-09-06T05:35:12.673712",
     "status": "completed"
    },
    "tags": []
   },
   "source": [
    "I think that this is as accurate as I can get it. Now let's try it on the test data"
   ]
  },
  {
   "cell_type": "markdown",
   "execution_count": null,
   "metadata": {
    "papermill": {
     "duration": 0.023677,
     "end_time": "2020-09-06T05:35:12.745418",
     "exception": false,
     "start_time": "2020-09-06T05:35:12.721741",
     "status": "completed"
    },
    "tags": []
   },
   "source": [
    "# Evaluation"
   ]
  },
  {
   "cell_type": "code",
   "execution_count": 49,
   "metadata": {
    "execution": {
     "iopub.execute_input": "2020-09-06T05:35:12.806226Z",
     "iopub.status.busy": "2020-09-06T05:35:12.804674Z",
     "iopub.status.idle": "2020-09-06T05:35:13.012915Z",
     "shell.execute_reply": "2020-09-06T05:35:13.012387Z"
    },
    "papermill": {
     "duration": 0.243829,
     "end_time": "2020-09-06T05:35:13.013076",
     "exception": false,
     "start_time": "2020-09-06T05:35:12.769247",
     "status": "completed"
    },
    "tags": []
   },
   "outputs": [],
   "source": [
    "lm = sm.OLS(y_train, best_X_train).fit()\n",
    "y_train_price = lm.predict(best_X_train)"
   ]
  },
  {
   "cell_type": "code",
   "execution_count": 50,
   "metadata": {
    "execution": {
     "iopub.execute_input": "2020-09-06T05:35:13.069123Z",
     "iopub.status.busy": "2020-09-06T05:35:13.068175Z",
     "iopub.status.idle": "2020-09-06T05:35:13.305608Z",
     "shell.execute_reply": "2020-09-06T05:35:13.305004Z"
    },
    "papermill": {
     "duration": 0.267368,
     "end_time": "2020-09-06T05:35:13.305716",
     "exception": false,
     "start_time": "2020-09-06T05:35:13.038348",
     "status": "completed"
    },
    "tags": []
   },
   "outputs": [
    {
     "data": {
      "text/plain": [
       "Text(0.5, 0, 'Errors')"
      ]
     },
     "execution_count": 50,
     "metadata": {},
     "output_type": "execute_result"
    },
    {
     "data": {
      "image/png": "[encoded data removed]",
      "text/plain": [
       "<Figure size 432x288 with 1 Axes>"
      ]
     },
     "metadata": {
      "needs_background": "light"
     },
     "output_type": "display_data"
    }
   ],
   "source": [
    "# Plot the histogram of the error terms\n",
    "fig = plt.figure()\n",
    "sns.distplot((y_train - y_train_price), bins = 50)\n",
    "fig.suptitle('Error Terms', fontsize = 20)                  # Plot heading \n",
    "plt.xlabel('Errors', fontsize = 18)"
   ]
  },
  {
   "cell_type": "code",
   "execution_count": 51,
   "metadata": {
    "execution": {
     "iopub.execute_input": "2020-09-06T05:35:13.364341Z",
     "iopub.status.busy": "2020-09-06T05:35:13.363407Z",
     "iopub.status.idle": "2020-09-06T05:35:13.366278Z",
     "shell.execute_reply": "2020-09-06T05:35:13.365659Z"
    },
    "papermill": {
     "duration": 0.036142,
     "end_time": "2020-09-06T05:35:13.366387",
     "exception": false,
     "start_time": "2020-09-06T05:35:13.330245",
     "status": "completed"
    },
    "tags": []
   },
   "outputs": [],
   "source": [
    "#Dividing into X and y\n",
    "y_test = y_valid\n",
    "X_test = OH_X_valid"
   ]
  },
  {
   "cell_type": "code",
   "execution_count": 52,
   "metadata": {
    "execution": {
     "iopub.execute_input": "2020-09-06T05:35:13.436537Z",
     "iopub.status.busy": "2020-09-06T05:35:13.435844Z",
     "iopub.status.idle": "2020-09-06T05:35:13.450453Z",
     "shell.execute_reply": "2020-09-06T05:35:13.449798Z"
    },
    "papermill": {
     "duration": 0.059703,
     "end_time": "2020-09-06T05:35:13.450566",
     "exception": false,
     "start_time": "2020-09-06T05:35:13.390863",
     "status": "completed"
    },
    "tags": []
   },
   "outputs": [],
   "source": [
    "# Now let's use our model to make predictions.\n",
    "X_train_new = best_X_train.drop('const',axis=1)\n",
    "# Creating X_test_new dataframe by dropping variables from X_test\n",
    "X_test_new = X_test[X_train_new.columns]\n",
    "\n",
    "# Adding a constant variable \n",
    "X_test_new = sm.add_constant(X_test_new)"
   ]
  },
  {
   "cell_type": "code",
   "execution_count": 53,
   "metadata": {
    "execution": {
     "iopub.execute_input": "2020-09-06T05:35:13.504041Z",
     "iopub.status.busy": "2020-09-06T05:35:13.503361Z",
     "iopub.status.idle": "2020-09-06T05:35:13.513692Z",
     "shell.execute_reply": "2020-09-06T05:35:13.513183Z"
    },
    "papermill": {
     "duration": 0.038612,
     "end_time": "2020-09-06T05:35:13.513800",
     "exception": false,
     "start_time": "2020-09-06T05:35:13.475188",
     "status": "completed"
    },
    "tags": []
   },
   "outputs": [],
   "source": [
    "# Making predictions\n",
    "y_pred = lm.predict(X_test_new)"
   ]
  },
  {
   "cell_type": "code",
   "execution_count": 54,
   "metadata": {
    "execution": {
     "iopub.execute_input": "2020-09-06T05:35:13.567915Z",
     "iopub.status.busy": "2020-09-06T05:35:13.567333Z",
     "iopub.status.idle": "2020-09-06T05:35:13.573361Z",
     "shell.execute_reply": "2020-09-06T05:35:13.572720Z"
    },
    "papermill": {
     "duration": 0.034885,
     "end_time": "2020-09-06T05:35:13.573477",
     "exception": false,
     "start_time": "2020-09-06T05:35:13.538592",
     "status": "completed"
    },
    "tags": []
   },
   "outputs": [
    {
     "data": {
      "text/plain": [
       "0.8378729877480156"
      ]
     },
     "execution_count": 54,
     "metadata": {},
     "output_type": "execute_result"
    }
   ],
   "source": [
    "# Scoring the model\n",
    "from sklearn.metrics import r2_score \n",
    "r2_score(y_test, y_pred)"
   ]
  },
  {
   "cell_type": "code",
   "execution_count": 55,
   "metadata": {
    "execution": {
     "iopub.execute_input": "2020-09-06T05:35:13.636093Z",
     "iopub.status.busy": "2020-09-06T05:35:13.628695Z",
     "iopub.status.idle": "2020-09-06T05:35:13.818244Z",
     "shell.execute_reply": "2020-09-06T05:35:13.818828Z"
    },
    "papermill": {
     "duration": 0.22093,
     "end_time": "2020-09-06T05:35:13.818998",
     "exception": false,
     "start_time": "2020-09-06T05:35:13.598068",
     "status": "completed"
    },
    "tags": []
   },
   "outputs": [
    {
     "data": {
      "text/plain": [
       "Text(0, 0.5, 'y_pred')"
      ]
     },
     "execution_count": 55,
     "metadata": {},
     "output_type": "execute_result"
    },
    {
     "data": {
      "image/png": "[encoded data removed]",
      "text/plain": [
       "<Figure size 432x288 with 1 Axes>"
      ]
     },
     "metadata": {
      "needs_background": "light"
     },
     "output_type": "display_data"
    }
   ],
   "source": [
    "# Plotting y_test and y_pred to understand the spread.\n",
    "fig = plt.figure()\n",
    "plt.scatter(y_test,y_pred)\n",
    "fig.suptitle('y_test vs y_pred', fontsize=20)              # Plot heading \n",
    "plt.xlabel('y_test', fontsize=18)                          # X-label\n",
    "plt.ylabel('y_pred', fontsize=16)"
   ]
  },
  {
   "cell_type": "code",
   "execution_count": 56,
   "metadata": {
    "execution": {
     "iopub.execute_input": "2020-09-06T05:35:13.872868Z",
     "iopub.status.busy": "2020-09-06T05:35:13.872254Z",
     "iopub.status.idle": "2020-09-06T05:35:13.919151Z",
     "shell.execute_reply": "2020-09-06T05:35:13.918319Z"
    },
    "papermill": {
     "duration": 0.075273,
     "end_time": "2020-09-06T05:35:13.919294",
     "exception": false,
     "start_time": "2020-09-06T05:35:13.844021",
     "status": "completed"
    },
    "tags": []
   },
   "outputs": [
    {
     "name": "stdout",
     "output_type": "stream",
     "text": [
      "                            OLS Regression Results                            \n",
      "==============================================================================\n",
      "Dep. Variable:             Sale_Price   R-squared:                       0.835\n",
      "Model:                            OLS   Adj. R-squared:                  0.835\n",
      "Method:                 Least Squares   F-statistic:                     7080.\n",
      "Date:                Sun, 06 Sep 2020   Prob (F-statistic):               0.00\n",
      "Time:                        05:35:13   Log-Likelihood:            -4.8463e+05\n",
      "No. Observations:               79964   AIC:                         9.694e+05\n",
      "Df Residuals:                   79906   BIC:                         9.699e+05\n",
      "Df Model:                          57                                         \n",
      "Covariance Type:            nonrobust                                         \n",
      "==================================================================================================================================\n",
      "                                                                     coef    std err          t      P>|t|      [0.025      0.975]\n",
      "----------------------------------------------------------------------------------------------------------------------------------\n",
      "const                                                           1.391e+05   1.49e+04      9.328      0.000     1.1e+05    1.68e+05\n",
      "Order_date                                                        -0.2596      0.004    -68.874      0.000      -0.267      -0.252\n",
      "Retail_Price                                                      -0.7423      0.067    -11.018      0.000      -0.874      -0.610\n",
      "Release_Date                                                       0.0720      0.020      3.622      0.000       0.033       0.111\n",
      "Shoe_Size                                                          1.1649      0.161      7.225      0.000       0.849       1.481\n",
      "Sneaker_Name_Adidas Yeezy Boost 350 Low Moonrock                 398.5921     18.671     21.348      0.000     361.997     435.187\n",
      "Sneaker_Name_Adidas Yeezy Boost 350 Low Oxford Tan               411.8748     19.433     21.195      0.000     373.786     449.963\n",
      "Sneaker_Name_Adidas Yeezy Boost 350 Low Pirate Black 2015        296.5012     20.122     14.735      0.000     257.063     335.940\n",
      "Sneaker_Name_Adidas Yeezy Boost 350 Low Pirate Black 2016        382.4924     16.643     22.982      0.000     349.872     415.113\n",
      "Sneaker_Name_Adidas Yeezy Boost 350 Low Turtledove               934.6252     22.650     41.265      0.000     890.232     979.018\n",
      "Sneaker_Name_Adidas Yeezy Boost 350 Low V2 Beluga                171.0283     10.683     16.010      0.000     150.090     191.966\n",
      "Sneaker_Name_Adidas Yeezy Boost 350 V2 Beluga 2pt0              -267.7694      2.654   -100.887      0.000    -272.971    -262.567\n",
      "Sneaker_Name_Adidas Yeezy Boost 350 V2 Blue Tint                -282.6132      2.615   -108.053      0.000    -287.740    -277.487\n",
      "Sneaker_Name_Adidas Yeezy Boost 350 V2 Core Black Copper          40.1034     11.213      3.577      0.000      18.127      62.080\n",
      "Sneaker_Name_Adidas Yeezy Boost 350 V2 Core Black Red            319.8356     10.708     29.869      0.000     298.848     340.823\n",
      "Sneaker_Name_Adidas Yeezy Boost 350 V2 Core Black Red 2017       177.9503      7.636     23.304      0.000     162.984     192.917\n",
      "Sneaker_Name_Adidas Yeezy Boost 350 V2 Core Black White           98.9832      9.055     10.931      0.000      81.235     116.731\n",
      "Sneaker_Name_Adidas Yeezy Boost 350 V2 Cream White              -311.4480      5.439    -57.264      0.000    -322.108    -300.788\n",
      "Sneaker_Name_Adidas Yeezy Boost 350 V2 Semi Frozen Yellow       -220.7314      2.988    -73.870      0.000    -226.588    -214.875\n",
      "Sneaker_Name_Adidas Yeezy Boost 350 V2 Sesame                   -354.3365      7.256    -48.831      0.000    -368.559    -340.114\n",
      "Sneaker_Name_Adidas Yeezy Boost 350 V2 Zebra                    -231.9358      6.551    -35.404      0.000    -244.776    -219.095\n",
      "Sneaker_Name_Air Jordan 1 Retro High Off White Chicago          1075.9811      5.051    213.027      0.000    1066.081    1085.881\n",
      "Sneaker_Name_Air Jordan 1 Retro High Off White University Blue   182.4585      5.691     32.063      0.000     171.305     193.612\n",
      "Sneaker_Name_Air Jordan 1 Retro High Off White White            1149.7741      7.488    153.544      0.000    1135.097    1164.451\n",
      "Sneaker_Name_Nike Air Force 1 Low Off White Black White         -140.0609     10.416    -13.446      0.000    -160.477    -119.645\n",
      "Sneaker_Name_Nike Air Force 1 Low Off White Volt                -261.4564     10.363    -25.231      0.000    -281.767    -241.146\n",
      "Sneaker_Name_Nike Air Force 1 Low Virgil Abloh Off White AF100   259.8698     20.822     12.480      0.000     219.059     300.681\n",
      "Sneaker_Name_Nike Air Max 90 Off White Black                    -104.0000     11.975     -8.685      0.000    -127.472     -80.529\n",
      "Sneaker_Name_Nike Air Max 90 Off White Desert Ore               -123.0960     12.084    -10.186      0.000    -146.782     -99.411\n",
      "Sneaker_Name_Nike Air Max 97 Off White                           -23.2378      5.603     -4.147      0.000     -34.220     -12.256\n",
      "Sneaker_Name_Nike Air Max 97 Off White Black                      18.6839     10.215      1.829      0.067      -1.337      38.705\n",
      "Sneaker_Name_Nike Air Max 97 Off White Elemental Rose Queen      234.7122     10.379     22.615      0.000     214.370     255.054\n",
      "Sneaker_Name_Nike Air Max 97 Off White Menta                     112.9334      9.771     11.558      0.000      93.782     132.085\n",
      "Sneaker_Name_Nike Air Presto Off White                           517.8161      5.946     87.081      0.000     506.161     529.471\n",
      "Sneaker_Name_Nike Air Presto Off White Black 2018                 48.6834      8.028      6.064      0.000      32.948      64.419\n",
      "Sneaker_Name_Nike Air Presto Off White White 2018                -41.6255      8.148     -5.109      0.000     -57.595     -25.656\n",
      "Sneaker_Name_Nike Air VaporMax Off White                         207.6750      6.734     30.842      0.000     194.477     220.873\n",
      "Sneaker_Name_Nike Air VaporMax Off White 2018                    -35.6868      4.393     -8.123      0.000     -44.297     -27.076\n",
      "Sneaker_Name_Nike Blazer Mid Off White                           -41.0114      7.337     -5.590      0.000     -55.391     -26.631\n",
      "Sneaker_Name_Nike Blazer Mid Off White All Hallows Eve           -86.2529     10.896     -7.916      0.000    -107.609     -64.897\n",
      "Sneaker_Name_Nike Blazer Mid Off White Grim Reaper              -164.0867     10.925    -15.019      0.000    -185.500    -142.674\n",
      "Sneaker_Name_Nike Blazer Mid Off White Wolf Grey                  97.1670     11.938      8.140      0.000      73.769     120.565\n",
      "Sneaker_Name_Nike React Hyperdunk 2017 Flyknit Off White        -189.3240      5.753    -32.910      0.000    -200.600    -178.048\n",
      "Sneaker_Name_Nike Zoom Fly Mercurial Off White Black            -303.3520      6.627    -45.777      0.000    -316.340    -290.364\n",
      "Sneaker_Name_Nike Zoom Fly Mercurial Off White Total Orange     -368.3337      6.636    -55.501      0.000    -381.341    -355.326\n",
      "Sneaker_Name_Nike Zoom Fly Off White                            -172.3616      6.503    -26.503      0.000    -185.108    -159.615\n",
      "Sneaker_Name_Nike Zoom Fly Off White Black Silver               -334.3452      9.103    -36.730      0.000    -352.187    -316.504\n",
      "Sneaker_Name_Nike Zoom Fly Off White Pink                       -383.7237      9.839    -39.002      0.000    -403.007    -364.440\n",
      "Sneaker_Name_adidas Yeezy Boost 350 V2 Butter                   -369.2888      4.555    -81.076      0.000    -378.216    -360.361\n",
      "Sneaker_Name_adidas Yeezy Boost 350 V2 Static                   -327.7108      7.915    -41.405      0.000    -343.224    -312.198\n",
      "Sneaker_Name_adidas Yeezy Boost 350 V2 Static Reflective        -144.5120      8.002    -18.061      0.000    -160.195    -128.829\n",
      "Buyer_Region_Arizona                                               4.7616      3.130      1.522      0.128      -1.372      10.895\n",
      "Buyer_Region_California                                            4.4062      0.963      4.576      0.000       2.519       6.293\n",
      "Buyer_Region_Florida                                               8.0754      1.523      5.302      0.000       5.090      11.061\n",
      "Buyer_Region_Kentucky                                             18.8564      5.262      3.584      0.000       8.544      29.169\n",
      "Buyer_Region_Maryland                                             -7.5248      2.714     -2.772      0.006     -12.845      -2.205\n",
      "Buyer_Region_Oregon                                                6.3980      1.453      4.403      0.000       3.550       9.246\n",
      "Buyer_Region_Wisconsin                                             8.1593      4.038      2.021      0.043       0.245      16.074\n",
      "==============================================================================\n",
      "Omnibus:                    57448.574   Durbin-Watson:                   2.010\n",
      "Prob(Omnibus):                  0.000   Jarque-Bera (JB):          4555130.556\n",
      "Skew:                           2.772   Prob(JB):                         0.00\n",
      "Kurtosis:                      39.557   Cond. No.                     4.23e+10\n",
      "==============================================================================\n",
      "\n",
      "Warnings:\n",
      "[1] Standard Errors assume that the covariance matrix of the errors is correctly specified.\n",
      "[2] The condition number is large, 4.23e+10. This might indicate that there are\n",
      "strong multicollinearity or other numerical problems.\n"
     ]
    }
   ],
   "source": [
    "print(lm.summary())"
   ]
  }
 ],
 "metadata": {
  "kernelspec": {
   "display_name": "Python 3",
   "language": "python",
   "name": "python3"
  },
  "language_info": {
   "codemirror_mode": {
    "name": "ipython",
    "version": 3
   },
   "file_extension": ".py",
   "mimetype": "text/x-python",
   "name": "python",
   "nbconvert_exporter": "python",
   "pygments_lexer": "ipython3",
   "version": "3.7.6"
  },
  "papermill": {
   "duration": 95.810937,
   "end_time": "2020-09-06T05:35:15.037815",
   "environment_variables": {},
   "exception": null,
   "input_path": "__notebook__.ipynb",
   "output_path": "__notebook__.ipynb",
   "parameters": {},
   "start_time": "2020-09-06T05:33:39.226878",
   "version": "2.1.0"
  }
 },
 "nbformat": 4,
 "nbformat_minor": 4
}
